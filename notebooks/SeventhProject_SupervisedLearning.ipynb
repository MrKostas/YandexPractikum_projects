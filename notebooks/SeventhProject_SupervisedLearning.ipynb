{
 "cells": [
  {
   "cell_type": "markdown",
   "metadata": {},
   "source": [
    "# Учебный проект 7_Обучение с учителем: качество модели"
   ]
  },
  {
   "cell_type": "markdown",
   "metadata": {},
   "source": [
    "## Содержание\n",
    "\n",
    "* [Описание проекта](#описание-проекта)\n",
    "* [Импорт библиотек Python и загрузка данных](#импорт-библиотек-python-и-загрузка-данных)\n",
    "* [Предобработка данных](#предобработка-данных)\n",
    "* [Исследовательский анализ данных](#исследовательский-анализ-данных)\n",
    "* [Корреляционный анализ данных](#объединение-данных)\n",
    "* [Построение моделей линейной регрессии](#построение-моделей-линейной-регрессии)\n",
    "    * [Первая модель линейной регрессии](#первая-модель-линейной-регрессии)\n",
    "    * [Вторая модель линейной регрессии](#вторая-модель-линейной-регрессии)\n",
    "    * [Третья модель линейной регрессии](#третья-модель-линейной-регрессии)\n",
    "    * [Прогноз удоя коров](#прогноз-удоя-коров)\n",
    "* [Построение модели логистической регрессии](#построение-модели-лостической-регрессии)\n",
    "    * [Обучение модели и анализ ее качества]()\n",
    "    * [Прогноз вкуса молока](#прогноз-вкуса-молока)\n",
    "* [Подготовка финального свода покупки коров](#подготовка-финального-свода-покупки-коров)\n",
    "* [Общий вывод по исследованию](#общий-вывод-по-исследованию)"
   ]
  },
  {
   "cell_type": "markdown",
   "metadata": {},
   "source": [
    "## Описание проекта <a class = 'anchor' id = 'Описание'></a>"
   ]
  },
  {
   "cell_type": "markdown",
   "metadata": {},
   "source": [
    "На исследовании находятся данные `поведении покупателей на сайте интернет-магазина, выручке магазина с одного покупателя, времени посещения покупателями сайта интернет-магазина и таблица с данными о среднемесячной прибыли продавца за последние 3 месяца`, которые были предоставлены руководством компании \"В один клик\".\n",
    "\n",
    "---\n",
    "\n",
    "`Задача`\n",
    "\n",
    "**Разработать модели машинного обучения для персонализации предложений постоянным клиентам магазина**:\n",
    "\n",
    "---\n",
    "\n",
    "`Путь решения`\n",
    "\n",
    "1. Промаркировать уровень финансовой активности постоянных покупателей: `снизилась` - если клиент стал покупать меньше товаров; `прежний уровень`;\n",
    "2. Собрать данные по клиентам по следующим группам:\n",
    "    * Признаки, которые описывают коммуникацию сотрудников компании с клиентом;\n",
    "    * Признаки, которые описывают продуктовое поведение покупателя;\n",
    "    * Признаки, которые описывают покупательское поведение клиента;\n",
    "    * Признаки, которые описывают поведение покупателя на сайте.\n",
    "3. Построить модель, которая `предскажет вероятность снижения покупательской активности клиента в следующие 3 месяца`;\n",
    "4. Провести исследование прибыльности клиента - `какой доход каждый покупатель приносил компании за последние 3 месяца`;\n",
    "5. Выделить сегменты покупателей и разработать для них персонализированные предложения.\n",
    "\n",
    "---\n",
    "\n",
    "`Располагаемые данные`\n",
    "\n",
    "**Поведение покупателя на сайте - market_file**\n",
    "\n",
    "* id - номер покупателя в корпоративной базе данных;\n",
    "* Покупательская активность — рассчитанный класс покупательской активности (целевой признак): `снизилась` или `прежний уровень`;\n",
    "* Тип сервиса — уровень сервиса, например `премиум` и `стандарт`;\n",
    "* Разрешить сообщать — информация о том, можно ли присылать покупателю дополнительные предложения о товаре. Согласие на это даёт покупатель;\n",
    "* Маркет_актив_6_мес — среднемесячное значение маркетинговых коммуникаций компании, которое приходилось на покупателя за последние 6 месяцев. Это значение показывает, какое число рассылок, звонков, показов рекламы и прочего приходилось на клиента;\n",
    "* Маркет_актив_тек_мес — количество маркетинговых коммуникаций в текущем месяце;\n",
    "* Длительность — значение, которое показывает, сколько дней прошло с момента регистрации покупателя на сайте;\n",
    "* Акционные_покупки — среднемесячная доля покупок по акции от общего числа покупок за последние 6 месяцев;\n",
    "* Популярная_категория — самая популярная категория товаров у покупателя за последние 6 месяцев;\n",
    "* Средний_просмотр_категорий_за_визит — показывает, сколько в среднем категорий покупатель просмотрел за визит в течение последнего месяца;\n",
    "* Неоплаченные_продукты_штук_квартал — общее число неоплаченных товаров в корзине за последние 3 месяца;\n",
    "* Ошибка_сервиса — число сбоев, которые коснулись покупателя во время посещения сайта;\n",
    "* Страниц_за_визит - среднее количество страниц, которые просмотрел покупатель за один визит на сайт за последние 3 месяца.\n",
    "\n",
    "**Данные о выручке с покупателя - market_money**\n",
    "\n",
    "* id — номер покупателя в корпоративной базе данных;\n",
    "* Период — название периода, во время которого зафиксирована выручка. Например, `текущий_месяц` или `предыдущий_месяц`;\n",
    "* Выручка - сумма выручки за период.\n",
    "\n",
    "**Данные о времени, которое покупатель провел на сайте - market_time**\n",
    "\n",
    "* id — номер покупателя в корпоративной базе данных;\n",
    "* Период — название периода, во время которого зафиксировано общее время;\n",
    "* минут — значение времени, проведённого на сайте, в минутах.\n",
    "\n",
    "**Данные о среднемесячной прибыли продавца за последние 3 месяца - money**\n",
    "\n",
    "* id - номер покупателя в корпоративной базе данных;\n",
    "* Прибыль - значение прибыли."
   ]
  },
  {
   "cell_type": "markdown",
   "metadata": {},
   "source": [
    "## Импорт библиотек Python и загрузка данных <a class = 'anchor' id = 'Импорт'></a>"
   ]
  },
  {
   "cell_type": "markdown",
   "metadata": {},
   "source": [
    "Данный блок характеризуется следующими последовательными действиями:\n",
    "\n",
    "1. Импорт библиотек Python:\n",
    "    * для манипулирования данными;\n",
    "    * для визуализации данных;\n",
    "    * для решения задач машинного обучения.\n",
    "2. Загрузка данных в рабочую среду Jupyter Notebook. Инициализация переменных в соответствие с названиями загружаемых датасетов:\n",
    "    * **market_file**;\n",
    "    * **market_money**;\n",
    "    * **market_time**;\n",
    "    * **money**;\n",
    "3. Вывод на экран параметров датасетов:\n",
    "    * вывод общей структуры набора данных - демонстрация первых 5 строк;\n",
    "    * общей информации о наборе данных;\n",
    "    * визуализация распределения количественных показателей.\n",
    "4. Формирование вывода по итогам данного этапа."
   ]
  },
  {
   "cell_type": "code",
   "execution_count": 41,
   "metadata": {},
   "outputs": [],
   "source": [
    "# импорт библиотек python\n",
    "\n",
    "# для манипулирования данными\n",
    "import pandas as pd\n",
    "import numpy as np\n",
    "\n",
    "# для визуализации данных\n",
    "import matplotlib.pyplot as plt\n",
    "import seaborn as sns\n",
    "\n",
    "# модели классификации\n",
    "from sklearn.linear_model import LogisticRegression\n",
    "from sklearn.neighbors import KNeighborsClassifier\n",
    "from sklearn.svm import SVC\n",
    "from sklearn.tree import DecisionTreeClassifier, plot_tree\n",
    "\n",
    "# метрики оценки эффективности моделей\n",
    "from sklearn.metrics import (accuracy_score,\n",
    "                             recall_score,\n",
    "                             precision_score,\n",
    "                             confusion_matrix,\n",
    "                             f1_score,\n",
    "                             roc_auc_score)\n",
    "\n",
    "# механизмы отбора данных и подбора параметров моделей\n",
    "from sklearn.model_selection import train_test_split, GridSearchCV, RandomizedSearchCV, cross_val_score\n",
    "from optuna.integration import OptunaSearchCV\n",
    "from optuna import distributions, visualization\n",
    "\n",
    "# механизмы подготовки данных\n",
    "from sklearn.preprocessing import (StandardScaler,\n",
    "                                   MinMaxScaler,\n",
    "                                   OrdinalEncoder,\n",
    "                                   OneHotEncoder,\n",
    "                                   PolynomialFeatures)\n",
    "\n",
    "# механизмы устранения дисбаланса классов\n",
    "from imblearn.over_sampling import RandomOverSampler\n",
    "\n",
    "# механизмы построения пайплайнов\n",
    "from sklearn.pipeline import Pipeline"
   ]
  },
  {
   "cell_type": "code",
   "execution_count": 42,
   "metadata": {},
   "outputs": [],
   "source": [
    "# загрузка данных в рабочую среду\n",
    "try:\n",
    "    market_file = pd.read_csv('~/Desktop/YandexPraktikum_projects/datasets/market_file.csv', sep = ',') # поведение покупателя на сайте\n",
    "    market_money = pd.read_csv('~/Desktop/YandexPraktikum_projects/datasets/market_money.csv', sep = ',') # выручка с покупателя\n",
    "    market_time = pd.read_csv('~/Desktop/YandexPraktikum_projects/datasets/market_time.csv', sep = ',') # время, проведенное покупателем на сайте\n",
    "    money = pd.read_csv('~/Desktop/YandexPraktikum_projects/datasets/money.csv', sep = ';') # среднемесячная прибыль продавца за последние 3 месяца\n",
    "except:\n",
    "    market_file = pd.read_csv('/datasets/market_file.csv', sep = ',')\n",
    "    market_money = pd.read_csv('/datasets/market_money.csv', sep = ',')\n",
    "    market_time = pd.read_csv('/datasets/market_time.csv', sep = ';')\n",
    "    money = pd.read_csv('/datasets/money.csv', sep = ';')"
   ]
  },
  {
   "cell_type": "code",
   "execution_count": 43,
   "metadata": {},
   "outputs": [],
   "source": [
    "# инициализация пользовательской функции для первичного изучения содержимого наборов данных\n",
    "def  first_meeting (df : pd.DataFrame, df_name : str) -> None:\n",
    "    print(f'Структура набора данных {df_name}')\n",
    "    display(df.head())\n",
    "    print('Общая информация о наборе')\n",
    "    print(df.info())\n",
    "    print()"
   ]
  },
  {
   "cell_type": "code",
   "execution_count": 44,
   "metadata": {},
   "outputs": [],
   "source": [
    "# инициализация пользовательской функции построения распределений числовых признаков\n",
    "def num_distribution(df : pd.DataFrame, sizes: tuple, bins : int):\n",
    "    df.iloc[:, 1:].hist(figsize = sizes,\n",
    "                        grid = False,\n",
    "                        bins = bins) # исключаем столбец с id пользователей - по умолчанию у него всегда 1-ый номер\n",
    "    plt.grid(False)\n",
    "    plt.show()"
   ]
  },
  {
   "cell_type": "code",
   "execution_count": 45,
   "metadata": {},
   "outputs": [
    {
     "name": "stdout",
     "output_type": "stream",
     "text": [
      "Структура набора данных market_file\n"
     ]
    },
    {
     "data": {
      "text/html": [
       "<div>\n",
       "<style scoped>\n",
       "    .dataframe tbody tr th:only-of-type {\n",
       "        vertical-align: middle;\n",
       "    }\n",
       "\n",
       "    .dataframe tbody tr th {\n",
       "        vertical-align: top;\n",
       "    }\n",
       "\n",
       "    .dataframe thead th {\n",
       "        text-align: right;\n",
       "    }\n",
       "</style>\n",
       "<table border=\"1\" class=\"dataframe\">\n",
       "  <thead>\n",
       "    <tr style=\"text-align: right;\">\n",
       "      <th></th>\n",
       "      <th>id</th>\n",
       "      <th>Покупательская активность</th>\n",
       "      <th>Тип сервиса</th>\n",
       "      <th>Разрешить сообщать</th>\n",
       "      <th>Маркет_актив_6_мес</th>\n",
       "      <th>Маркет_актив_тек_мес</th>\n",
       "      <th>Длительность</th>\n",
       "      <th>Акционные_покупки</th>\n",
       "      <th>Популярная_категория</th>\n",
       "      <th>Средний_просмотр_категорий_за_визит</th>\n",
       "      <th>Неоплаченные_продукты_штук_квартал</th>\n",
       "      <th>Ошибка_сервиса</th>\n",
       "      <th>Страниц_за_визит</th>\n",
       "    </tr>\n",
       "  </thead>\n",
       "  <tbody>\n",
       "    <tr>\n",
       "      <th>0</th>\n",
       "      <td>215348</td>\n",
       "      <td>Снизилась</td>\n",
       "      <td>премиум</td>\n",
       "      <td>да</td>\n",
       "      <td>3.4</td>\n",
       "      <td>5</td>\n",
       "      <td>121</td>\n",
       "      <td>0.00</td>\n",
       "      <td>Товары для детей</td>\n",
       "      <td>6</td>\n",
       "      <td>2</td>\n",
       "      <td>1</td>\n",
       "      <td>5</td>\n",
       "    </tr>\n",
       "    <tr>\n",
       "      <th>1</th>\n",
       "      <td>215349</td>\n",
       "      <td>Снизилась</td>\n",
       "      <td>премиум</td>\n",
       "      <td>да</td>\n",
       "      <td>4.4</td>\n",
       "      <td>4</td>\n",
       "      <td>819</td>\n",
       "      <td>0.75</td>\n",
       "      <td>Товары для детей</td>\n",
       "      <td>4</td>\n",
       "      <td>4</td>\n",
       "      <td>2</td>\n",
       "      <td>5</td>\n",
       "    </tr>\n",
       "    <tr>\n",
       "      <th>2</th>\n",
       "      <td>215350</td>\n",
       "      <td>Снизилась</td>\n",
       "      <td>стандартт</td>\n",
       "      <td>нет</td>\n",
       "      <td>4.9</td>\n",
       "      <td>3</td>\n",
       "      <td>539</td>\n",
       "      <td>0.14</td>\n",
       "      <td>Домашний текстиль</td>\n",
       "      <td>5</td>\n",
       "      <td>2</td>\n",
       "      <td>1</td>\n",
       "      <td>5</td>\n",
       "    </tr>\n",
       "    <tr>\n",
       "      <th>3</th>\n",
       "      <td>215351</td>\n",
       "      <td>Снизилась</td>\n",
       "      <td>стандартт</td>\n",
       "      <td>да</td>\n",
       "      <td>3.2</td>\n",
       "      <td>5</td>\n",
       "      <td>896</td>\n",
       "      <td>0.99</td>\n",
       "      <td>Товары для детей</td>\n",
       "      <td>5</td>\n",
       "      <td>0</td>\n",
       "      <td>6</td>\n",
       "      <td>4</td>\n",
       "    </tr>\n",
       "    <tr>\n",
       "      <th>4</th>\n",
       "      <td>215352</td>\n",
       "      <td>Снизилась</td>\n",
       "      <td>стандартт</td>\n",
       "      <td>нет</td>\n",
       "      <td>5.1</td>\n",
       "      <td>3</td>\n",
       "      <td>1064</td>\n",
       "      <td>0.94</td>\n",
       "      <td>Товары для детей</td>\n",
       "      <td>3</td>\n",
       "      <td>2</td>\n",
       "      <td>3</td>\n",
       "      <td>2</td>\n",
       "    </tr>\n",
       "  </tbody>\n",
       "</table>\n",
       "</div>"
      ],
      "text/plain": [
       "       id Покупательская активность Тип сервиса Разрешить сообщать  \\\n",
       "0  215348                 Снизилась     премиум                 да   \n",
       "1  215349                 Снизилась     премиум                 да   \n",
       "2  215350                 Снизилась   стандартт                нет   \n",
       "3  215351                 Снизилась   стандартт                 да   \n",
       "4  215352                 Снизилась   стандартт                нет   \n",
       "\n",
       "   Маркет_актив_6_мес  Маркет_актив_тек_мес  Длительность  Акционные_покупки  \\\n",
       "0                 3.4                     5           121               0.00   \n",
       "1                 4.4                     4           819               0.75   \n",
       "2                 4.9                     3           539               0.14   \n",
       "3                 3.2                     5           896               0.99   \n",
       "4                 5.1                     3          1064               0.94   \n",
       "\n",
       "  Популярная_категория  Средний_просмотр_категорий_за_визит  \\\n",
       "0     Товары для детей                                    6   \n",
       "1     Товары для детей                                    4   \n",
       "2    Домашний текстиль                                    5   \n",
       "3     Товары для детей                                    5   \n",
       "4     Товары для детей                                    3   \n",
       "\n",
       "   Неоплаченные_продукты_штук_квартал  Ошибка_сервиса  Страниц_за_визит  \n",
       "0                                   2               1                 5  \n",
       "1                                   4               2                 5  \n",
       "2                                   2               1                 5  \n",
       "3                                   0               6                 4  \n",
       "4                                   2               3                 2  "
      ]
     },
     "metadata": {},
     "output_type": "display_data"
    },
    {
     "name": "stdout",
     "output_type": "stream",
     "text": [
      "Общая информация о наборе\n",
      "<class 'pandas.core.frame.DataFrame'>\n",
      "RangeIndex: 1300 entries, 0 to 1299\n",
      "Data columns (total 13 columns):\n",
      " #   Column                               Non-Null Count  Dtype  \n",
      "---  ------                               --------------  -----  \n",
      " 0   id                                   1300 non-null   int64  \n",
      " 1   Покупательская активность            1300 non-null   object \n",
      " 2   Тип сервиса                          1300 non-null   object \n",
      " 3   Разрешить сообщать                   1300 non-null   object \n",
      " 4   Маркет_актив_6_мес                   1300 non-null   float64\n",
      " 5   Маркет_актив_тек_мес                 1300 non-null   int64  \n",
      " 6   Длительность                         1300 non-null   int64  \n",
      " 7   Акционные_покупки                    1300 non-null   float64\n",
      " 8   Популярная_категория                 1300 non-null   object \n",
      " 9   Средний_просмотр_категорий_за_визит  1300 non-null   int64  \n",
      " 10  Неоплаченные_продукты_штук_квартал   1300 non-null   int64  \n",
      " 11  Ошибка_сервиса                       1300 non-null   int64  \n",
      " 12  Страниц_за_визит                     1300 non-null   int64  \n",
      "dtypes: float64(2), int64(7), object(4)\n",
      "memory usage: 132.2+ KB\n",
      "None\n",
      "\n"
     ]
    },
    {
     "data": {
      "image/png": "[encoded data removed]",
      "text/plain": [
       "<Figure size 1500x1000 with 9 Axes>"
      ]
     },
     "metadata": {},
     "output_type": "display_data"
    }
   ],
   "source": [
    "# вывод на экран параметров датасета 'market_file'\n",
    "first_meeting(market_file, 'market_file')\n",
    "num_distribution(market_file, (15, 10), 10)"
   ]
  },
  {
   "cell_type": "code",
   "execution_count": 46,
   "metadata": {},
   "outputs": [
    {
     "name": "stdout",
     "output_type": "stream",
     "text": [
      "Структура набора данных market_money\n"
     ]
    },
    {
     "data": {
      "text/html": [
       "<div>\n",
       "<style scoped>\n",
       "    .dataframe tbody tr th:only-of-type {\n",
       "        vertical-align: middle;\n",
       "    }\n",
       "\n",
       "    .dataframe tbody tr th {\n",
       "        vertical-align: top;\n",
       "    }\n",
       "\n",
       "    .dataframe thead th {\n",
       "        text-align: right;\n",
       "    }\n",
       "</style>\n",
       "<table border=\"1\" class=\"dataframe\">\n",
       "  <thead>\n",
       "    <tr style=\"text-align: right;\">\n",
       "      <th></th>\n",
       "      <th>id</th>\n",
       "      <th>Период</th>\n",
       "      <th>Выручка</th>\n",
       "    </tr>\n",
       "  </thead>\n",
       "  <tbody>\n",
       "    <tr>\n",
       "      <th>0</th>\n",
       "      <td>215348</td>\n",
       "      <td>препредыдущий_месяц</td>\n",
       "      <td>0.0</td>\n",
       "    </tr>\n",
       "    <tr>\n",
       "      <th>1</th>\n",
       "      <td>215348</td>\n",
       "      <td>текущий_месяц</td>\n",
       "      <td>3293.1</td>\n",
       "    </tr>\n",
       "    <tr>\n",
       "      <th>2</th>\n",
       "      <td>215348</td>\n",
       "      <td>предыдущий_месяц</td>\n",
       "      <td>0.0</td>\n",
       "    </tr>\n",
       "    <tr>\n",
       "      <th>3</th>\n",
       "      <td>215349</td>\n",
       "      <td>препредыдущий_месяц</td>\n",
       "      <td>4472.0</td>\n",
       "    </tr>\n",
       "    <tr>\n",
       "      <th>4</th>\n",
       "      <td>215349</td>\n",
       "      <td>текущий_месяц</td>\n",
       "      <td>4971.6</td>\n",
       "    </tr>\n",
       "  </tbody>\n",
       "</table>\n",
       "</div>"
      ],
      "text/plain": [
       "       id               Период  Выручка\n",
       "0  215348  препредыдущий_месяц      0.0\n",
       "1  215348        текущий_месяц   3293.1\n",
       "2  215348     предыдущий_месяц      0.0\n",
       "3  215349  препредыдущий_месяц   4472.0\n",
       "4  215349        текущий_месяц   4971.6"
      ]
     },
     "metadata": {},
     "output_type": "display_data"
    },
    {
     "name": "stdout",
     "output_type": "stream",
     "text": [
      "Общая информация о наборе\n",
      "<class 'pandas.core.frame.DataFrame'>\n",
      "RangeIndex: 3900 entries, 0 to 3899\n",
      "Data columns (total 3 columns):\n",
      " #   Column   Non-Null Count  Dtype  \n",
      "---  ------   --------------  -----  \n",
      " 0   id       3900 non-null   int64  \n",
      " 1   Период   3900 non-null   object \n",
      " 2   Выручка  3900 non-null   float64\n",
      "dtypes: float64(1), int64(1), object(1)\n",
      "memory usage: 91.5+ KB\n",
      "None\n",
      "\n"
     ]
    },
    {
     "data": {
      "image/png": "[encoded data removed]",
      "text/plain": [
       "<Figure size 700x700 with 1 Axes>"
      ]
     },
     "metadata": {},
     "output_type": "display_data"
    }
   ],
   "source": [
    "first_meeting(market_money, 'market_money')\n",
    "num_distribution(market_money, (7, 7), 50)"
   ]
  },
  {
   "cell_type": "code",
   "execution_count": 47,
   "metadata": {},
   "outputs": [
    {
     "name": "stdout",
     "output_type": "stream",
     "text": [
      "Структура набора данных market_time\n"
     ]
    },
    {
     "data": {
      "text/html": [
       "<div>\n",
       "<style scoped>\n",
       "    .dataframe tbody tr th:only-of-type {\n",
       "        vertical-align: middle;\n",
       "    }\n",
       "\n",
       "    .dataframe tbody tr th {\n",
       "        vertical-align: top;\n",
       "    }\n",
       "\n",
       "    .dataframe thead th {\n",
       "        text-align: right;\n",
       "    }\n",
       "</style>\n",
       "<table border=\"1\" class=\"dataframe\">\n",
       "  <thead>\n",
       "    <tr style=\"text-align: right;\">\n",
       "      <th></th>\n",
       "      <th>id</th>\n",
       "      <th>Период</th>\n",
       "      <th>минут</th>\n",
       "    </tr>\n",
       "  </thead>\n",
       "  <tbody>\n",
       "    <tr>\n",
       "      <th>0</th>\n",
       "      <td>215348</td>\n",
       "      <td>текущий_месяц</td>\n",
       "      <td>14</td>\n",
       "    </tr>\n",
       "    <tr>\n",
       "      <th>1</th>\n",
       "      <td>215348</td>\n",
       "      <td>предыдцщий_месяц</td>\n",
       "      <td>13</td>\n",
       "    </tr>\n",
       "    <tr>\n",
       "      <th>2</th>\n",
       "      <td>215349</td>\n",
       "      <td>текущий_месяц</td>\n",
       "      <td>10</td>\n",
       "    </tr>\n",
       "    <tr>\n",
       "      <th>3</th>\n",
       "      <td>215349</td>\n",
       "      <td>предыдцщий_месяц</td>\n",
       "      <td>12</td>\n",
       "    </tr>\n",
       "    <tr>\n",
       "      <th>4</th>\n",
       "      <td>215350</td>\n",
       "      <td>текущий_месяц</td>\n",
       "      <td>13</td>\n",
       "    </tr>\n",
       "  </tbody>\n",
       "</table>\n",
       "</div>"
      ],
      "text/plain": [
       "       id            Период  минут\n",
       "0  215348     текущий_месяц     14\n",
       "1  215348  предыдцщий_месяц     13\n",
       "2  215349     текущий_месяц     10\n",
       "3  215349  предыдцщий_месяц     12\n",
       "4  215350     текущий_месяц     13"
      ]
     },
     "metadata": {},
     "output_type": "display_data"
    },
    {
     "name": "stdout",
     "output_type": "stream",
     "text": [
      "Общая информация о наборе\n",
      "<class 'pandas.core.frame.DataFrame'>\n",
      "RangeIndex: 2600 entries, 0 to 2599\n",
      "Data columns (total 3 columns):\n",
      " #   Column  Non-Null Count  Dtype \n",
      "---  ------  --------------  ----- \n",
      " 0   id      2600 non-null   int64 \n",
      " 1   Период  2600 non-null   object\n",
      " 2   минут   2600 non-null   int64 \n",
      "dtypes: int64(2), object(1)\n",
      "memory usage: 61.1+ KB\n",
      "None\n",
      "\n"
     ]
    },
    {
     "data": {
      "image/png": "[encoded data removed]",
      "text/plain": [
       "<Figure size 700x700 with 1 Axes>"
      ]
     },
     "metadata": {},
     "output_type": "display_data"
    }
   ],
   "source": [
    "first_meeting(market_time, 'market_time')\n",
    "num_distribution(market_time, (7, 7), 10)"
   ]
  },
  {
   "cell_type": "code",
   "execution_count": 48,
   "metadata": {},
   "outputs": [
    {
     "name": "stdout",
     "output_type": "stream",
     "text": [
      "Структура набора данных money\n"
     ]
    },
    {
     "data": {
      "text/html": [
       "<div>\n",
       "<style scoped>\n",
       "    .dataframe tbody tr th:only-of-type {\n",
       "        vertical-align: middle;\n",
       "    }\n",
       "\n",
       "    .dataframe tbody tr th {\n",
       "        vertical-align: top;\n",
       "    }\n",
       "\n",
       "    .dataframe thead th {\n",
       "        text-align: right;\n",
       "    }\n",
       "</style>\n",
       "<table border=\"1\" class=\"dataframe\">\n",
       "  <thead>\n",
       "    <tr style=\"text-align: right;\">\n",
       "      <th></th>\n",
       "      <th>id</th>\n",
       "      <th>Прибыль</th>\n",
       "    </tr>\n",
       "  </thead>\n",
       "  <tbody>\n",
       "    <tr>\n",
       "      <th>0</th>\n",
       "      <td>215348</td>\n",
       "      <td>0.98</td>\n",
       "    </tr>\n",
       "    <tr>\n",
       "      <th>1</th>\n",
       "      <td>215349</td>\n",
       "      <td>4.16</td>\n",
       "    </tr>\n",
       "    <tr>\n",
       "      <th>2</th>\n",
       "      <td>215350</td>\n",
       "      <td>3.13</td>\n",
       "    </tr>\n",
       "    <tr>\n",
       "      <th>3</th>\n",
       "      <td>215351</td>\n",
       "      <td>4.87</td>\n",
       "    </tr>\n",
       "    <tr>\n",
       "      <th>4</th>\n",
       "      <td>215352</td>\n",
       "      <td>4.21</td>\n",
       "    </tr>\n",
       "  </tbody>\n",
       "</table>\n",
       "</div>"
      ],
      "text/plain": [
       "       id  Прибыль\n",
       "0  215348     0.98\n",
       "1  215349     4.16\n",
       "2  215350     3.13\n",
       "3  215351     4.87\n",
       "4  215352     4.21"
      ]
     },
     "metadata": {},
     "output_type": "display_data"
    },
    {
     "name": "stdout",
     "output_type": "stream",
     "text": [
      "Общая информация о наборе\n",
      "<class 'pandas.core.frame.DataFrame'>\n",
      "RangeIndex: 1300 entries, 0 to 1299\n",
      "Data columns (total 2 columns):\n",
      " #   Column   Non-Null Count  Dtype  \n",
      "---  ------   --------------  -----  \n",
      " 0   id       1300 non-null   int64  \n",
      " 1   Прибыль  1300 non-null   float64\n",
      "dtypes: float64(1), int64(1)\n",
      "memory usage: 20.4 KB\n",
      "None\n",
      "\n"
     ]
    },
    {
     "data": {
      "image/png": "[encoded data removed]",
      "text/plain": [
       "<Figure size 700x700 with 1 Axes>"
      ]
     },
     "metadata": {},
     "output_type": "display_data"
    }
   ],
   "source": [
    "# преобразование типа данных в столбце 'Прибыль'\n",
    "money['Прибыль'] = pd.to_numeric(money['Прибыль'].str.replace(',', '.'))\n",
    "\n",
    "first_meeting(money, 'money')\n",
    "num_distribution(money, (7, 7), 10)"
   ]
  },
  {
   "cell_type": "markdown",
   "metadata": {},
   "source": [
    "**Вывод**\n",
    "\n",
    "1. Импортированы библиотеки Python:\n",
    "    * для манипулирования данными:\n",
    "        * pandas;\n",
    "        * numpy.\n",
    "    * для визуализации данных:\n",
    "        * matplotlib.pyplot;\n",
    "        * seaborn.\n",
    "    * для решения задач машинного обучения:\n",
    "        * LogisticRegression - модель логистической регрессии;\n",
    "        * KNeighborsClassifier - модель k-ближайших соседей;\n",
    "        * SVC - машина опорных векторов;\n",
    "        * DecisionTreeClassifier - модель дерева принятия решений;\n",
    "        * plot_tree - визуализация дерева решений;\n",
    "        * метрики оценки эффективности моделей классификации;\n",
    "        * train_test_split - механизм разделения данных;\n",
    "        * GridSearchCV - механизм поиска гиперпараметров с перебором по \"сетке\";\n",
    "        * RandomizedSearchCV - механизм поиска гиперпараметров со случайным перебором;\n",
    "        * cross_val_score - механизм проверки модели на кросс-валидации;\n",
    "        * OptunaSearchCV - механизм поиска гиперпараметров с помощью библиотеки Optuna;\n",
    "        * distributions - распределения для Optuna;\n",
    "        * visualization - визуализация для Optuna;\n",
    "        * StandardScaler - стандартизация данных;\n",
    "        * MinMaxScaler - нормализация данных;\n",
    "        * OrdinalEncoder - порядковое кодирование категориальных признаков;\n",
    "        * OneHotEncoder - one-hot кодирование категориальных признаков;\n",
    "        * PolynomialFeatures - полиномиальные признаки;\n",
    "        * RandomOverSampler - механизм устранения дисбаланса классов;\n",
    "        * Pipeline - механизм построения пайплайнов.\n",
    "2. Произведена загрузка данных в рабочую среду Jupyter Notebook. Инициализированы переменные в соответствие с названиями загружаемых датасетов:\n",
    "    * `market_file`;\n",
    "    * `market_money`;\n",
    "    * `market_time`;\n",
    "    * `money`;\n",
    "3. Выведены на экран параметры датасетов:\n",
    "    * `market_file`\n",
    "        * В наборе данных **отсутствуют пустые значения**;\n",
    "        * Типы данных соответствуют сущностям значений, приведенным в столбцах;\n",
    "        * Наблюдаются неверные написания значений категориальных признаков (на примере **\"стандартт\"** в столбце **Тип сервиса**). Требуется проверка набора данных на неявные дубликаты.\n",
    "    * `market_money`\n",
    "        * В наборе данных **отсутствуют пустые значения**;\n",
    "        * Типы данных соответствуют сущностям значений, приведенным в столбцах.\n",
    "    * `market_time`\n",
    "        * В наборе данных **отсутствуют пустые значения**;\n",
    "        * Типы данных соответствуют сущностям значений, приведенным в столбцах;\n",
    "        * Наблюдаются неверные написания значений категориальных признаков (на примере **\"предыдцщий_месяц\"** в столбце **Период**). Требуется проверка набора данных на неявные дубликаты.\n",
    "    * `money`\n",
    "        * Произведена обработка числовых значений в столбце **Прибыль** - изменено форматирование дробной части. Тип данных - float;\n",
    "        * В наборе данных **отсутствуют пустые значения**."
   ]
  },
  {
   "cell_type": "markdown",
   "metadata": {},
   "source": [
    "## Предобработка данных <a class = 'anchor' id = 'Предобработка'></a>"
   ]
  },
  {
   "cell_type": "markdown",
   "metadata": {},
   "source": [
    "Данный блок характеризуется следующими последовательными действиями:\n",
    "\n",
    "1. Замена названий столбцов - для упрощения навигации по датасету и улучшения читабельности данных:\n",
    "    * Перевод названий столбцов на английский язык;\n",
    "    * Приведение столбцов к формату snake_case.\n",
    "2. Проверка датасетов на дубликаты:\n",
    "    * Явные дубликаты;\n",
    "    * Неявные дубликаты.\n",
    "3. Формирование вывода по итогам данного этапа."
   ]
  },
  {
   "cell_type": "code",
   "execution_count": 49,
   "metadata": {},
   "outputs": [],
   "source": [
    "# замена названий столбцов в датасете 'market_file'\n",
    "market_file = market_file.rename(columns={\n",
    "    'id' : 'user_id',\n",
    "    'Покупательская активность' : 'buyer_activity',\n",
    "    'Тип сервиса' : 'service_type',\n",
    "    'Разрешить сообщать' : 'allow_notifications',\n",
    "    'Маркет_актив_6_мес' : 'market_activity_6_months',\n",
    "    'Маркет_актив_тек_мес' : 'market_activity_current_month',\n",
    "    'Длительность' : 'duration',\n",
    "    'Акционные_покупки' : 'discount_purchases',\n",
    "    'Популярная_категория' : 'popular_category',\n",
    "    'Средний_просмотр_категорий_за_визит' : 'average_category_views',\n",
    "    'Неоплаченные_продукты_штук_квартал' : 'unpaid_products',\n",
    "    'Ошибка_сервиса' : 'service_error',\n",
    "    'Страниц_за_визит' : 'pages_per_visit'\n",
    "})\n",
    "\n",
    "# замена названий столбцов в датасете 'market_money'\n",
    "market_money = market_money.rename(columns = {\n",
    "    'id' : 'user_id',\n",
    "    'Период' : 'period',\n",
    "    'Выручка' : 'revenue'\n",
    "})\n",
    "\n",
    "# замена названий столбцов в датасете 'market_time'\n",
    "market_time = market_time.rename(columns = {\n",
    "    'id' : 'user_id',\n",
    "    'Период' : 'period',\n",
    "    'минут' : 'minutes'\n",
    "})\n",
    "\n",
    "# замена названий столбцов в датасете 'money'\n",
    "money = money.rename(columns = {\n",
    "    'id' : 'user_id',\n",
    "    'Прибыль' : 'profit'\n",
    "})"
   ]
  },
  {
   "cell_type": "code",
   "execution_count": 50,
   "metadata": {},
   "outputs": [],
   "source": [
    "# инициализация пользовательской функции проверки уникальных значений по столбцам датасета\n",
    "def unique_values(df : pd.DataFrame):\n",
    "    df = df.select_dtypes(exclude = 'number')\n",
    "    for column in df.columns:\n",
    "        print(f'Столбец {column}: {list(df[column].unique())}')"
   ]
  },
  {
   "cell_type": "code",
   "execution_count": 51,
   "metadata": {},
   "outputs": [
    {
     "name": "stdout",
     "output_type": "stream",
     "text": [
      "Уникальные значения по категориальным столбцам market_file\n",
      "Столбец buyer_activity: ['Снизилась', 'Прежний уровень']\n",
      "Столбец service_type: ['премиум', 'стандартт', 'стандарт']\n",
      "Столбец allow_notifications: ['да', 'нет']\n",
      "Столбец popular_category: ['Товары для детей', 'Домашний текстиль', 'Косметика и аксесуары', 'Техника для красоты и здоровья', 'Кухонная посуда', 'Мелкая бытовая техника и электроника']\n"
     ]
    }
   ],
   "source": [
    "# проверка набора 'market_file' на уникальные значения\n",
    "print('Уникальные значения по категориальным столбцам market_file')\n",
    "unique_values(market_file)"
   ]
  },
  {
   "cell_type": "code",
   "execution_count": 52,
   "metadata": {},
   "outputs": [
    {
     "name": "stdout",
     "output_type": "stream",
     "text": [
      "Уникальные значения по категориальным столбцам market_money\n",
      "Столбец period: ['препредыдущий_месяц', 'текущий_месяц', 'предыдущий_месяц']\n"
     ]
    }
   ],
   "source": [
    "# проверка набора 'market_money' на уникальные значения\n",
    "print('Уникальные значения по категориальным столбцам market_money')\n",
    "unique_values(market_money)"
   ]
  },
  {
   "cell_type": "code",
   "execution_count": 53,
   "metadata": {},
   "outputs": [
    {
     "name": "stdout",
     "output_type": "stream",
     "text": [
      "Уникальные значения по категориальным столбцам market_time\n",
      "Столбец period: ['текущий_месяц', 'предыдцщий_месяц']\n"
     ]
    }
   ],
   "source": [
    "# проверка набора 'market_time' на уникальные значения\n",
    "print('Уникальные значения по категориальным столбцам market_time')\n",
    "unique_values(market_time)"
   ]
  },
  {
   "cell_type": "code",
   "execution_count": 54,
   "metadata": {},
   "outputs": [],
   "source": [
    "# понижение регистра значений в категориальных признаках в каждом из наборов данных\n",
    "for data in [market_file, market_money, market_time]:\n",
    "    cols = list(data.select_dtypes(exclude='number').columns)\n",
    "    data[cols] = data[cols].apply(lambda x: x.str.lower())"
   ]
  },
  {
   "cell_type": "code",
   "execution_count": 55,
   "metadata": {},
   "outputs": [],
   "source": [
    "# инициализация пользовательской функции по замене значений в категориальных столбцах\n",
    "def replace_values(df : pd.DataFrame, column : str, old_value : str, new_value : str):\n",
    "    df.loc[df[column] == old_value, column] = new_value"
   ]
  },
  {
   "cell_type": "code",
   "execution_count": 56,
   "metadata": {},
   "outputs": [],
   "source": [
    "# замена значений в датасетах\n",
    "replace_values(market_file, 'service_type', 'стандартт', 'стандарт')\n",
    "replace_values(market_money, 'period', 'препредыдущий_месяц', 'предыдущий_месяц')\n",
    "replace_values(market_time, 'period', 'предыдцщий_месяц', 'предыдущий_месяц')"
   ]
  },
  {
   "cell_type": "code",
   "execution_count": 59,
   "metadata": {},
   "outputs": [
    {
     "name": "stdout",
     "output_type": "stream",
     "text": [
      "Проверка на наличие явных дубликатов\n",
      "Число явных дубликатов в market_file: 0\n",
      "Число явных дубликатов в market_money: 5\n",
      "Число явных дубликатов в market_time: 0\n",
      "Число явных дубликатов в money: 0\n"
     ]
    }
   ],
   "source": [
    "# проверка на наличие явных дубликатов\n",
    "counter = 0\n",
    "data_names_list = ['market_file', 'market_money', 'market_time', 'money']\n",
    "\n",
    "print('Проверка на наличие явных дубликатов')\n",
    "for df in [market_file, market_money, market_time, money]:\n",
    "    print(f'Число явных дубликатов в {data_names_list[counter]}: {df.duplicated().sum()}')\n",
    "    counter += 1"
   ]
  },
  {
   "cell_type": "code",
   "execution_count": 60,
   "metadata": {},
   "outputs": [
    {
     "data": {
      "text/html": [
       "<div>\n",
       "<style scoped>\n",
       "    .dataframe tbody tr th:only-of-type {\n",
       "        vertical-align: middle;\n",
       "    }\n",
       "\n",
       "    .dataframe tbody tr th {\n",
       "        vertical-align: top;\n",
       "    }\n",
       "\n",
       "    .dataframe thead th {\n",
       "        text-align: right;\n",
       "    }\n",
       "</style>\n",
       "<table border=\"1\" class=\"dataframe\">\n",
       "  <thead>\n",
       "    <tr style=\"text-align: right;\">\n",
       "      <th></th>\n",
       "      <th>user_id</th>\n",
       "      <th>period</th>\n",
       "      <th>revenue</th>\n",
       "    </tr>\n",
       "  </thead>\n",
       "  <tbody>\n",
       "    <tr>\n",
       "      <th>2</th>\n",
       "      <td>215348</td>\n",
       "      <td>предыдущий_месяц</td>\n",
       "      <td>0.0</td>\n",
       "    </tr>\n",
       "    <tr>\n",
       "      <th>29</th>\n",
       "      <td>215357</td>\n",
       "      <td>предыдущий_месяц</td>\n",
       "      <td>0.0</td>\n",
       "    </tr>\n",
       "    <tr>\n",
       "      <th>35</th>\n",
       "      <td>215359</td>\n",
       "      <td>предыдущий_месяц</td>\n",
       "      <td>0.0</td>\n",
       "    </tr>\n",
       "    <tr>\n",
       "      <th>1951</th>\n",
       "      <td>215998</td>\n",
       "      <td>предыдущий_месяц</td>\n",
       "      <td>4342.0</td>\n",
       "    </tr>\n",
       "    <tr>\n",
       "      <th>2117</th>\n",
       "      <td>216053</td>\n",
       "      <td>предыдущий_месяц</td>\n",
       "      <td>5145.0</td>\n",
       "    </tr>\n",
       "  </tbody>\n",
       "</table>\n",
       "</div>"
      ],
      "text/plain": [
       "      user_id            period  revenue\n",
       "2      215348  предыдущий_месяц      0.0\n",
       "29     215357  предыдущий_месяц      0.0\n",
       "35     215359  предыдущий_месяц      0.0\n",
       "1951   215998  предыдущий_месяц   4342.0\n",
       "2117   216053  предыдущий_месяц   5145.0"
      ]
     },
     "execution_count": 60,
     "metadata": {},
     "output_type": "execute_result"
    }
   ],
   "source": [
    "# вывод на экран задублированных строк в наборе 'market_money'\n",
    "market_money[market_money.duplicated()]"
   ]
  },
  {
   "cell_type": "markdown",
   "metadata": {},
   "source": [
    "**Вывод по промежуточному этапу**\n",
    "\n",
    "При визуальной проверке задублированных строк в наборе `market_money` **явные дубликаты не выявлены** - данные строки можно сохранить в наборе."
   ]
  },
  {
   "cell_type": "markdown",
   "metadata": {},
   "source": [
    "**Вывод**\n",
    "\n",
    "1. Выполнена замена названий столбцов в датасетах:\n",
    "    * Названия переведены на английский язык;\n",
    "    * Названия приведены к формату snake_case.\n",
    "2. Выполнена проверка наборов данных на дубликаты:\n",
    "    * **Явные дубликаты** - явные дубликаты **не обнаружены**; \n",
    "    * Неявные дубликаты:\n",
    "        * Столбец **service_type** в наборе `market_file` - преобразованы значения \"стандартт\" на \"стандарт\";\n",
    "        * Столбец **period** в наборе `market_money` - преобразованы значения \"препредыдущий_месяц\" на \"предыдущий_месяц\";\n",
    "        * Столбец **period** в наборе `market_time` - преобразованы значения \"предыдцщий_месяц\" на \"предыдущий_месяц\";\n",
    "3. Данные прошли этап предобработки и готовы к исследовательскому анализу."
   ]
  },
  {
   "cell_type": "markdown",
   "metadata": {},
   "source": []
  }
 ],
 "metadata": {
  "kernelspec": {
   "display_name": ".py_env",
   "language": "python",
   "name": "python3"
  },
  "language_info": {
   "codemirror_mode": {
    "name": "ipython",
    "version": 3
   },
   "file_extension": ".py",
   "mimetype": "text/x-python",
   "name": "python",
   "nbconvert_exporter": "python",
   "pygments_lexer": "ipython3",
   "version": "3.12.9"
  }
 },
 "nbformat": 4,
 "nbformat_minor": 2
}
