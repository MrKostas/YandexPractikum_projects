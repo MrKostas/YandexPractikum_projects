{
 "cells": [
  {
   "cell_type": "markdown",
   "metadata": {},
   "source": [
    "# Сборный проект_Анализ российского кинопроката"
   ]
  },
  {
   "cell_type": "markdown",
   "metadata": {},
   "source": [
    "## Содержание\n",
    "\n",
    "* [Описание проекта](#Описание)\n",
    "* [Импорт библиотек Python и загрузка данных](#Импорт)\n",
    "* [Предобработка данных](#Предобработка)\n",
    "    * [Преобразование типов данных в столбцах таблиц](#Предобработка_типы)\n",
    "    * [Обработка пустых значений](#Предобработка_пустоты)\n",
    "    * [Обработка дубликатов в наборах данных](#Предобработка_дубликаты)\n",
    "    * [Изучение состояния столбцов с количественными переменными](#изучение-состояния-столбцов-с-количественными-переменными)\n",
    "    * [Инициализация новых столбцов в наборе данных](#Предобработка_столбцы)\n",
    "* [Исследовательский анализ данных](#Исследование)\n",
    "    * [Анализ динамики кинопроката по количеству фильмов](#Исследование_динамика)\n",
    "    * [Анализ динамики кинопроката по суммарным кассовым сборам](#Исследование_сборы)\n",
    "    * [Анализ статистических показателей кассовых сборов в разрезе года](#Исследование_статистика)\n",
    "    * [Анализ динамики кассовых сборов в разрезе года и возрастной категории фильмов](#Исследование_возраст)\n",
    "* [Вывод](#Вывод)"
   ]
  },
  {
   "cell_type": "markdown",
   "metadata": {},
   "source": [
    "## Описание проекта <a class = 'anchor' id = 'Описание'></a>"
   ]
  },
  {
   "cell_type": "markdown",
   "metadata": {},
   "source": [
    "\n",
    "Заказчик исследования: `Министерство культуры Российской Федерации`.\n",
    "\n",
    "Цель исследования: `Анализ рынка российского кинопроката и выявление текущих трендов`.\n",
    "\n",
    "Задачи исследования:\n",
    "1. Проведение предварительной обработки данных;\n",
    "2. Проведение исследовательского анализа данных;\n",
    "3. Формирование портрета российского кинопроката;\n",
    "4. Подготовка выводов и формирование рекомендаций для принятия решений по развитию отечественного кинопроизводства.\n",
    "\n",
    "Располагаемые данные:\n",
    "* `mkrf_movies` - данные о прокатных удостоверениях;\n",
    "* `mkrf_shows` - данные о прокате в российских кинотеатрах.\n",
    "\n",
    "Датасет `mkrf_movies`:\n",
    "* **title** — название фильма;\n",
    "* **puNumber** — номер прокатного удостоверения;\n",
    "* **show_start_date** — дата премьеры фильма;\n",
    "* **type** — тип фильма;\n",
    "* **film_studio** — студия-производитель;\n",
    "* **production_country** — страна-производитель;\n",
    "* **director** — режиссёр;\n",
    "* **producer** — продюсер;\n",
    "* **age_restriction** — возрастная категория;\n",
    "* **refundable_support** — объём возвратных средств государственной поддержки;\n",
    "* **nonrefundable_support** — объём невозвратных средств государственной поддержки;\n",
    "* **financing_source** — источник государственного финансирования;\n",
    "* **budget** — общий бюджет фильма;\n",
    "* **ratings** — рейтинг фильма на КиноПоиске;\n",
    "* **genres** — жанр фильма.\n",
    "\n",
    "Датасет `mkrf_shows`:\n",
    "* **puNumber** — номер прокатного удостоверения;\n",
    "* **box_office** — сборы в рублях;\n"
   ]
  },
  {
   "cell_type": "markdown",
   "metadata": {},
   "source": [
    "## Импорт библиотек Python и загрузка данных <a class = 'anchor' id = 'Импорт'></a>"
   ]
  },
  {
   "cell_type": "markdown",
   "metadata": {},
   "source": [
    "Данный блок характеризуется следующими последовательными действиями:\n",
    "\n",
    "1. Импорт библиотек Python:\n",
    "    * для манипулирования данными;\n",
    "    * для визуализации данных;\n",
    "2. Загрузка данных в рабочую среду Jupyter Notebook. Инициализация переменных **mkrf_movies** и **mkrf_shows** для хранения загруженных датасетов;\n",
    "3. Вывод на экран параметров датасетов:\n",
    "    * вывод общей структуры набора данных - демонстрация первых 5 строк;\n",
    "    * общей информации о наборе данных;\n",
    "4. Формирование вывода по итогам данного этапа."
   ]
  },
  {
   "cell_type": "code",
   "execution_count": 4,
   "metadata": {},
   "outputs": [],
   "source": [
    "# импорт библиотек Python\n",
    "\n",
    "# для манипулирования данными\n",
    "import pandas as pd\n",
    "import numpy as np\n",
    "import datetime\n",
    "\n",
    "# для визуализации данных\n",
    "import matplotlib.pyplot as plt\n",
    "import seaborn as sns"
   ]
  },
  {
   "cell_type": "code",
   "execution_count": 6,
   "metadata": {},
   "outputs": [
    {
     "data": {
      "text/html": [
       "<div>\n",
       "<style scoped>\n",
       "    .dataframe tbody tr th:only-of-type {\n",
       "        vertical-align: middle;\n",
       "    }\n",
       "\n",
       "    .dataframe tbody tr th {\n",
       "        vertical-align: top;\n",
       "    }\n",
       "\n",
       "    .dataframe thead th {\n",
       "        text-align: right;\n",
       "    }\n",
       "</style>\n",
       "<table border=\"1\" class=\"dataframe\">\n",
       "  <thead>\n",
       "    <tr style=\"text-align: right;\">\n",
       "      <th></th>\n",
       "      <th>title</th>\n",
       "      <th>puNumber</th>\n",
       "      <th>show_start_date</th>\n",
       "      <th>type</th>\n",
       "      <th>film_studio</th>\n",
       "      <th>production_country</th>\n",
       "      <th>director</th>\n",
       "      <th>producer</th>\n",
       "      <th>age_restriction</th>\n",
       "      <th>refundable_support</th>\n",
       "      <th>nonrefundable_support</th>\n",
       "      <th>budget</th>\n",
       "      <th>financing_source</th>\n",
       "      <th>ratings</th>\n",
       "      <th>genres</th>\n",
       "    </tr>\n",
       "  </thead>\n",
       "  <tbody>\n",
       "    <tr>\n",
       "      <th>0</th>\n",
       "      <td>Открытый простор</td>\n",
       "      <td>221048915</td>\n",
       "      <td>2015-11-27T12:00:00.000Z</td>\n",
       "      <td>Художественный</td>\n",
       "      <td>Тачстоун Пикчерз, Кобальт Пикчерз, Бикон Пикче...</td>\n",
       "      <td>США</td>\n",
       "      <td>Кевин Костнер</td>\n",
       "      <td>Дэвид Валдес, Кевин Костнер, Джейк Эбертс</td>\n",
       "      <td>«18+» - запрещено для детей</td>\n",
       "      <td>NaN</td>\n",
       "      <td>NaN</td>\n",
       "      <td>NaN</td>\n",
       "      <td>NaN</td>\n",
       "      <td>7.2</td>\n",
       "      <td>боевик,драма,мелодрама</td>\n",
       "    </tr>\n",
       "    <tr>\n",
       "      <th>1</th>\n",
       "      <td>Особо важное задание</td>\n",
       "      <td>111013716</td>\n",
       "      <td>2016-09-13T12:00:00.000Z</td>\n",
       "      <td>Художественный</td>\n",
       "      <td>Киностудия \"Мосфильм\"</td>\n",
       "      <td>СССР</td>\n",
       "      <td>Е.Матвеев</td>\n",
       "      <td>NaN</td>\n",
       "      <td>«6+» - для детей старше 6 лет</td>\n",
       "      <td>NaN</td>\n",
       "      <td>NaN</td>\n",
       "      <td>NaN</td>\n",
       "      <td>NaN</td>\n",
       "      <td>6.6</td>\n",
       "      <td>драма,военный</td>\n",
       "    </tr>\n",
       "    <tr>\n",
       "      <th>2</th>\n",
       "      <td>Особо опасен</td>\n",
       "      <td>221038416</td>\n",
       "      <td>2016-10-10T12:00:00.000Z</td>\n",
       "      <td>Художественный</td>\n",
       "      <td>Юниверсал Пикчерз, Кикстарт Продакшнз, Марк Пл...</td>\n",
       "      <td>США</td>\n",
       "      <td>Тимур Бекмамбетов</td>\n",
       "      <td>Джим Лемли, Джейсон Нетер, Марк Е.Платт, Яйн Смит</td>\n",
       "      <td>«18+» - запрещено для детей</td>\n",
       "      <td>NaN</td>\n",
       "      <td>NaN</td>\n",
       "      <td>NaN</td>\n",
       "      <td>NaN</td>\n",
       "      <td>6.8</td>\n",
       "      <td>фантастика,боевик,триллер</td>\n",
       "    </tr>\n",
       "    <tr>\n",
       "      <th>3</th>\n",
       "      <td>Особо опасен</td>\n",
       "      <td>221026916</td>\n",
       "      <td>2016-06-10T12:00:00.000Z</td>\n",
       "      <td>Художественный</td>\n",
       "      <td>Юниверсал Пикчерз, Кикстарт Продакшнз, Марк Пл...</td>\n",
       "      <td>США</td>\n",
       "      <td>Тимур Бекмамбетов</td>\n",
       "      <td>Джим Лемли, Джейсон Нетер, Марк Е.Платт, Яйн Смит</td>\n",
       "      <td>«18+» - запрещено для детей</td>\n",
       "      <td>NaN</td>\n",
       "      <td>NaN</td>\n",
       "      <td>NaN</td>\n",
       "      <td>NaN</td>\n",
       "      <td>6.8</td>\n",
       "      <td>фантастика,боевик,триллер</td>\n",
       "    </tr>\n",
       "    <tr>\n",
       "      <th>4</th>\n",
       "      <td>Особо опасен</td>\n",
       "      <td>221030815</td>\n",
       "      <td>2015-07-29T12:00:00.000Z</td>\n",
       "      <td>Художественный</td>\n",
       "      <td>Юниверсал Пикчерз, Кикстарт Продакшнз, Марк Пл...</td>\n",
       "      <td>США</td>\n",
       "      <td>Тимур Бекмамбетов</td>\n",
       "      <td>Джим Лемли, Джейсон Нетер, Марк Е.Платт, Яйн Смит</td>\n",
       "      <td>«18+» - запрещено для детей</td>\n",
       "      <td>NaN</td>\n",
       "      <td>NaN</td>\n",
       "      <td>NaN</td>\n",
       "      <td>NaN</td>\n",
       "      <td>6.8</td>\n",
       "      <td>фантастика,боевик,триллер</td>\n",
       "    </tr>\n",
       "  </tbody>\n",
       "</table>\n",
       "</div>"
      ],
      "text/plain": [
       "                  title   puNumber           show_start_date            type  \\\n",
       "0      Открытый простор  221048915  2015-11-27T12:00:00.000Z  Художественный   \n",
       "1  Особо важное задание  111013716  2016-09-13T12:00:00.000Z  Художественный   \n",
       "2          Особо опасен  221038416  2016-10-10T12:00:00.000Z  Художественный   \n",
       "3          Особо опасен  221026916  2016-06-10T12:00:00.000Z  Художественный   \n",
       "4          Особо опасен  221030815  2015-07-29T12:00:00.000Z  Художественный   \n",
       "\n",
       "                                         film_studio production_country  \\\n",
       "0  Тачстоун Пикчерз, Кобальт Пикчерз, Бикон Пикче...                США   \n",
       "1                              Киностудия \"Мосфильм\"               СССР   \n",
       "2  Юниверсал Пикчерз, Кикстарт Продакшнз, Марк Пл...                США   \n",
       "3  Юниверсал Пикчерз, Кикстарт Продакшнз, Марк Пл...                США   \n",
       "4  Юниверсал Пикчерз, Кикстарт Продакшнз, Марк Пл...                США   \n",
       "\n",
       "            director                                           producer  \\\n",
       "0      Кевин Костнер          Дэвид Валдес, Кевин Костнер, Джейк Эбертс   \n",
       "1          Е.Матвеев                                                NaN   \n",
       "2  Тимур Бекмамбетов  Джим Лемли, Джейсон Нетер, Марк Е.Платт, Яйн Смит   \n",
       "3  Тимур Бекмамбетов  Джим Лемли, Джейсон Нетер, Марк Е.Платт, Яйн Смит   \n",
       "4  Тимур Бекмамбетов  Джим Лемли, Джейсон Нетер, Марк Е.Платт, Яйн Смит   \n",
       "\n",
       "                 age_restriction  refundable_support  nonrefundable_support  \\\n",
       "0    «18+» - запрещено для детей                 NaN                    NaN   \n",
       "1  «6+» - для детей старше 6 лет                 NaN                    NaN   \n",
       "2    «18+» - запрещено для детей                 NaN                    NaN   \n",
       "3    «18+» - запрещено для детей                 NaN                    NaN   \n",
       "4    «18+» - запрещено для детей                 NaN                    NaN   \n",
       "\n",
       "   budget financing_source ratings                     genres  \n",
       "0     NaN              NaN     7.2     боевик,драма,мелодрама  \n",
       "1     NaN              NaN     6.6              драма,военный  \n",
       "2     NaN              NaN     6.8  фантастика,боевик,триллер  \n",
       "3     NaN              NaN     6.8  фантастика,боевик,триллер  \n",
       "4     NaN              NaN     6.8  фантастика,боевик,триллер  "
      ]
     },
     "metadata": {},
     "output_type": "display_data"
    },
    {
     "name": "stdout",
     "output_type": "stream",
     "text": [
      "<class 'pandas.core.frame.DataFrame'>\n",
      "RangeIndex: 7486 entries, 0 to 7485\n",
      "Data columns (total 15 columns):\n",
      " #   Column                 Non-Null Count  Dtype  \n",
      "---  ------                 --------------  -----  \n",
      " 0   title                  7486 non-null   object \n",
      " 1   puNumber               7486 non-null   object \n",
      " 2   show_start_date        7486 non-null   object \n",
      " 3   type                   7486 non-null   object \n",
      " 4   film_studio            7468 non-null   object \n",
      " 5   production_country     7484 non-null   object \n",
      " 6   director               7477 non-null   object \n",
      " 7   producer               6918 non-null   object \n",
      " 8   age_restriction        7486 non-null   object \n",
      " 9   refundable_support     332 non-null    float64\n",
      " 10  nonrefundable_support  332 non-null    float64\n",
      " 11  budget                 332 non-null    float64\n",
      " 12  financing_source       332 non-null    object \n",
      " 13  ratings                6519 non-null   object \n",
      " 14  genres                 6510 non-null   object \n",
      "dtypes: float64(3), object(12)\n",
      "memory usage: 877.4+ KB\n"
     ]
    },
    {
     "data": {
      "text/plain": [
       "None"
      ]
     },
     "metadata": {},
     "output_type": "display_data"
    }
   ],
   "source": [
    "# инициализация переменной mkrf_movies - запись соответствующего набора данных\n",
    "try:\n",
    "    mkrf_movies = pd.read_csv('C:/Users/k.storozhuk/Desktop/YandexPraktikum_projects/datasets/mkrf_movies.csv')\n",
    "except:\n",
    "    mkrf_movies = pd.read_csv('/datasets/mkrf_movies.csv')\n",
    "\n",
    "#вывод структуры датасета на экран\n",
    "display(mkrf_movies.head())\n",
    "\n",
    "# вывод на экран общей информации о наборе данных\n",
    "display(mkrf_movies.info())"
   ]
  },
  {
   "cell_type": "code",
   "execution_count": 8,
   "metadata": {},
   "outputs": [
    {
     "data": {
      "text/html": [
       "<div>\n",
       "<style scoped>\n",
       "    .dataframe tbody tr th:only-of-type {\n",
       "        vertical-align: middle;\n",
       "    }\n",
       "\n",
       "    .dataframe tbody tr th {\n",
       "        vertical-align: top;\n",
       "    }\n",
       "\n",
       "    .dataframe thead th {\n",
       "        text-align: right;\n",
       "    }\n",
       "</style>\n",
       "<table border=\"1\" class=\"dataframe\">\n",
       "  <thead>\n",
       "    <tr style=\"text-align: right;\">\n",
       "      <th></th>\n",
       "      <th>puNumber</th>\n",
       "      <th>box_office</th>\n",
       "    </tr>\n",
       "  </thead>\n",
       "  <tbody>\n",
       "    <tr>\n",
       "      <th>0</th>\n",
       "      <td>111000113</td>\n",
       "      <td>2.450000e+03</td>\n",
       "    </tr>\n",
       "    <tr>\n",
       "      <th>1</th>\n",
       "      <td>111000115</td>\n",
       "      <td>6.104000e+04</td>\n",
       "    </tr>\n",
       "    <tr>\n",
       "      <th>2</th>\n",
       "      <td>111000116</td>\n",
       "      <td>1.530300e+08</td>\n",
       "    </tr>\n",
       "    <tr>\n",
       "      <th>3</th>\n",
       "      <td>111000117</td>\n",
       "      <td>1.226096e+07</td>\n",
       "    </tr>\n",
       "    <tr>\n",
       "      <th>4</th>\n",
       "      <td>111000118</td>\n",
       "      <td>1.636841e+08</td>\n",
       "    </tr>\n",
       "  </tbody>\n",
       "</table>\n",
       "</div>"
      ],
      "text/plain": [
       "    puNumber    box_office\n",
       "0  111000113  2.450000e+03\n",
       "1  111000115  6.104000e+04\n",
       "2  111000116  1.530300e+08\n",
       "3  111000117  1.226096e+07\n",
       "4  111000118  1.636841e+08"
      ]
     },
     "metadata": {},
     "output_type": "display_data"
    },
    {
     "name": "stdout",
     "output_type": "stream",
     "text": [
      "<class 'pandas.core.frame.DataFrame'>\n",
      "RangeIndex: 3158 entries, 0 to 3157\n",
      "Data columns (total 2 columns):\n",
      " #   Column      Non-Null Count  Dtype  \n",
      "---  ------      --------------  -----  \n",
      " 0   puNumber    3158 non-null   int64  \n",
      " 1   box_office  3158 non-null   float64\n",
      "dtypes: float64(1), int64(1)\n",
      "memory usage: 49.5 KB\n"
     ]
    },
    {
     "data": {
      "text/plain": [
       "None"
      ]
     },
     "metadata": {},
     "output_type": "display_data"
    }
   ],
   "source": [
    "# инициализация переменной mkrf_shows - запись соответствующего набора данных\n",
    "try:\n",
    "    mkrf_shows = pd.read_csv('C:/Users/k.storozhuk/Desktop/YandexPraktikum_projects/datasets/mkrf_shows.csv')\n",
    "except:\n",
    "    mkrf_shows = pd.read_csv('/datasets/mkrf_shows.csv')\n",
    "\n",
    "#вывод структуры датасета на экран\n",
    "display(mkrf_shows.head())\n",
    "\n",
    "# вывод общей информации на экран\n",
    "display(mkrf_shows.info())"
   ]
  },
  {
   "cell_type": "markdown",
   "metadata": {},
   "source": [
    "**Вывод**:\n",
    "\n",
    "1. Импортированы библиотеки Python:\n",
    "    * для манипулирования данными - **pandas** и **numpy**;\n",
    "    * для визуализации данных - **matplotlib.pyplot** и **seaborn**;\n",
    "2. Загружены данные в рабочую среду Jupyter Notebook. Инициализирована переменные **mkrf_shows** и **mkrf_movies** для хранения загруженных датасетов;\n",
    "3. Вывод на экран параметров датасетов:\n",
    "    * вывод общей структуры набора данных - демонстрация первых 5 строк;\n",
    "    * общей информации о наборе данных;\n",
    "4. Наборы данных характеризуется следующими показателями:\n",
    "    * `mkrf_movies`:\n",
    "        * 7 486 - количество строк в датасете;\n",
    "        * 15 - количество показателей, описывающих объект;\n",
    "        * 12 столбцов, имеющих явный тип 'object';\n",
    "        * 3 столбца, имеющих явный тип 'float';\n",
    "        * 332 - самое минимальное количество непустых значений в столбце (признаки 'refundable_support', 'nonrefundable_support', 'budget', 'financing_source');\n",
    "    * `mkrf_shows`:\n",
    "        * 3 158 - количество строк в датасете;\n",
    "        * 2 - количество показателей, описывающих объект;\n",
    "        * 1 столбец, имеющих явный тип 'int';\n",
    "        * 1 столбец, имеющих явный тип 'float';\n",
    "        * набор данных не содержит пустых значений;   "
   ]
  },
  {
   "cell_type": "markdown",
   "metadata": {},
   "source": [
    "## Предобработка данных <a class = 'anchor' id = 'Предобработка'></a>"
   ]
  },
  {
   "cell_type": "markdown",
   "metadata": {},
   "source": [
    "Данный блок характеризуется следующими последовательными действиями:\n",
    "\n",
    "1. Преобразование типов данных в столбцах таблицы;\n",
    "2. Обработка пустых значений в данных;\n",
    "3. Проверка датасета на дубликаты и очистка данных:\n",
    "    * Явные дубликаты;\n",
    "    * Неявные дубликаты;\n",
    "4. Изучение состояния столбцов с количественными значениями:\n",
    "    * Поиск и обработка аномалий в столбцах;\n",
    "    * Поиск и обработка ошибок;\n",
    "5. Инициализация новых столбцов в наборе данных:\n",
    "    * Год проката фильма;\n",
    "    * Имя и фамилия режиссера фильма;\n",
    "    * Основной жанр фильма;\n",
    "    * Доля государственной поддержки от общего бюджета фильма;\n",
    "6. Формирование вывода по итогам данного этапа."
   ]
  },
  {
   "cell_type": "markdown",
   "metadata": {},
   "source": [
    "### Преобразование типов данных в столбцах таблиц <a class = 'anchor' id = 'Предобработка_типы'></a>"
   ]
  },
  {
   "cell_type": "markdown",
   "metadata": {},
   "source": [
    "Необходимо преобразовать типы данных следующих показателей:\n",
    "\n",
    "`mkrf_movies`:\n",
    "* **show_start_date** - дата премьеры фильма;\n",
    "* **ratings** - рейтинг фильма на КиноПоиске;\n",
    "\n",
    "`mkrf_shows`:\n",
    "* **puNumbers** - номер прокатного удостоверения.\n"
   ]
  },
  {
   "cell_type": "code",
   "execution_count": 9,
   "metadata": {},
   "outputs": [],
   "source": [
    "# преобразование типов данных столбцов в датасете 'mkrf_movies'\n",
    "mkrf_movies['show_start_date'] = mkrf_movies['show_start_date'].str.slice(start=0, stop=10)\n",
    "mkrf_movies['show_start_date'] = pd.to_datetime(mkrf_movies['show_start_date'], format = '%Y-%m-%d')\n",
    "mkrf_movies['ratings'] = pd.to_numeric(mkrf_movies['ratings'], errors = 'coerce')\n",
    "\n",
    "# преобразование типов данных столбцов в датасете 'mkrf_shows'\n",
    "mkrf_shows['puNumber'] = mkrf_shows['puNumber'].astype('str')"
   ]
  },
  {
   "cell_type": "code",
   "execution_count": 10,
   "metadata": {},
   "outputs": [
    {
     "name": "stdout",
     "output_type": "stream",
     "text": [
      "Типы данных в датасете mkrf_movies после преобразования:\n"
     ]
    },
    {
     "data": {
      "text/plain": [
       "title                            object\n",
       "puNumber                         object\n",
       "show_start_date          datetime64[ns]\n",
       "type                             object\n",
       "film_studio                      object\n",
       "production_country               object\n",
       "director                         object\n",
       "producer                         object\n",
       "age_restriction                  object\n",
       "refundable_support              float64\n",
       "nonrefundable_support           float64\n",
       "budget                          float64\n",
       "financing_source                 object\n",
       "ratings                         float64\n",
       "genres                           object\n",
       "dtype: object"
      ]
     },
     "metadata": {},
     "output_type": "display_data"
    },
    {
     "name": "stdout",
     "output_type": "stream",
     "text": [
      "\n",
      "Типы данных в датасете mkrf_shows после преобразования:\n"
     ]
    },
    {
     "data": {
      "text/plain": [
       "puNumber       object\n",
       "box_office    float64\n",
       "dtype: object"
      ]
     },
     "metadata": {},
     "output_type": "display_data"
    }
   ],
   "source": [
    "# вывод на экран текущих типов данных в столбцах датасетов\n",
    "print('Типы данных в датасете mkrf_movies после преобразования:')\n",
    "display(mkrf_movies.dtypes)\n",
    "print()\n",
    "print('Типы данных в датасете mkrf_shows после преобразования:')\n",
    "display(mkrf_shows.dtypes)"
   ]
  },
  {
   "cell_type": "markdown",
   "metadata": {},
   "source": [
    "### Обработка пустых значений <a class = 'anchor' id = 'Предобработка_пустоты'></a>"
   ]
  },
  {
   "cell_type": "markdown",
   "metadata": {},
   "source": [
    "Пустые значения имеются в наборе `mkrf_movies`, в то время как в наборе `mkrf_shows` таковых не обнаружено.\n",
    "\n",
    "Работа в этом подразделе направлена на обработку пустот в `mkrf_movies`."
   ]
  },
  {
   "cell_type": "code",
   "execution_count": 11,
   "metadata": {},
   "outputs": [
    {
     "data": {
      "text/html": [
       "<div>\n",
       "<style scoped>\n",
       "    .dataframe tbody tr th:only-of-type {\n",
       "        vertical-align: middle;\n",
       "    }\n",
       "\n",
       "    .dataframe tbody tr th {\n",
       "        vertical-align: top;\n",
       "    }\n",
       "\n",
       "    .dataframe thead th {\n",
       "        text-align: right;\n",
       "    }\n",
       "</style>\n",
       "<table border=\"1\" class=\"dataframe\">\n",
       "  <thead>\n",
       "    <tr style=\"text-align: right;\">\n",
       "      <th></th>\n",
       "      <th>empty_values</th>\n",
       "      <th>%_empty</th>\n",
       "    </tr>\n",
       "  </thead>\n",
       "  <tbody>\n",
       "    <tr>\n",
       "      <th>refundable_support</th>\n",
       "      <td>7154</td>\n",
       "      <td>95.57</td>\n",
       "    </tr>\n",
       "    <tr>\n",
       "      <th>nonrefundable_support</th>\n",
       "      <td>7154</td>\n",
       "      <td>95.57</td>\n",
       "    </tr>\n",
       "    <tr>\n",
       "      <th>budget</th>\n",
       "      <td>7154</td>\n",
       "      <td>95.57</td>\n",
       "    </tr>\n",
       "    <tr>\n",
       "      <th>financing_source</th>\n",
       "      <td>7154</td>\n",
       "      <td>95.57</td>\n",
       "    </tr>\n",
       "    <tr>\n",
       "      <th>ratings</th>\n",
       "      <td>996</td>\n",
       "      <td>13.30</td>\n",
       "    </tr>\n",
       "    <tr>\n",
       "      <th>genres</th>\n",
       "      <td>976</td>\n",
       "      <td>13.04</td>\n",
       "    </tr>\n",
       "    <tr>\n",
       "      <th>producer</th>\n",
       "      <td>568</td>\n",
       "      <td>7.59</td>\n",
       "    </tr>\n",
       "    <tr>\n",
       "      <th>film_studio</th>\n",
       "      <td>18</td>\n",
       "      <td>0.24</td>\n",
       "    </tr>\n",
       "    <tr>\n",
       "      <th>director</th>\n",
       "      <td>9</td>\n",
       "      <td>0.12</td>\n",
       "    </tr>\n",
       "    <tr>\n",
       "      <th>production_country</th>\n",
       "      <td>2</td>\n",
       "      <td>0.03</td>\n",
       "    </tr>\n",
       "    <tr>\n",
       "      <th>title</th>\n",
       "      <td>0</td>\n",
       "      <td>0.00</td>\n",
       "    </tr>\n",
       "    <tr>\n",
       "      <th>puNumber</th>\n",
       "      <td>0</td>\n",
       "      <td>0.00</td>\n",
       "    </tr>\n",
       "    <tr>\n",
       "      <th>show_start_date</th>\n",
       "      <td>0</td>\n",
       "      <td>0.00</td>\n",
       "    </tr>\n",
       "    <tr>\n",
       "      <th>type</th>\n",
       "      <td>0</td>\n",
       "      <td>0.00</td>\n",
       "    </tr>\n",
       "    <tr>\n",
       "      <th>age_restriction</th>\n",
       "      <td>0</td>\n",
       "      <td>0.00</td>\n",
       "    </tr>\n",
       "  </tbody>\n",
       "</table>\n",
       "</div>"
      ],
      "text/plain": [
       "                       empty_values  %_empty\n",
       "refundable_support             7154    95.57\n",
       "nonrefundable_support          7154    95.57\n",
       "budget                         7154    95.57\n",
       "financing_source               7154    95.57\n",
       "ratings                         996    13.30\n",
       "genres                          976    13.04\n",
       "producer                        568     7.59\n",
       "film_studio                      18     0.24\n",
       "director                          9     0.12\n",
       "production_country                2     0.03\n",
       "title                             0     0.00\n",
       "puNumber                          0     0.00\n",
       "show_start_date                   0     0.00\n",
       "type                              0     0.00\n",
       "age_restriction                   0     0.00"
      ]
     },
     "metadata": {},
     "output_type": "display_data"
    },
    {
     "name": "stdout",
     "output_type": "stream",
     "text": [
      "Количество объектов в наборе данных ДО преобразования пустых значений: 7486\n"
     ]
    }
   ],
   "source": [
    "# вывод на экран информации о пропущенных значениях\n",
    "\n",
    "emptyValues_info = (mkrf_movies.isna().sum() # формирование свода о суммарном количестве пустых значений по столбцам\n",
    "                    .to_frame().rename(columns = ({0 : 'empty_values'}))) # преобразование к типу датафрейм и переименование столбца\n",
    "emptyValues_info['%_empty'] = round(emptyValues_info['empty_values'] / len(mkrf_movies) * 100, 2)\n",
    "display(emptyValues_info.sort_values(by = 'empty_values', ascending = False))\n",
    "\n",
    "print(f'Количество объектов в наборе данных ДО преобразования пустых значений:', mkrf_movies.shape[0])"
   ]
  },
  {
   "cell_type": "markdown",
   "metadata": {},
   "source": [
    "**Вывод по итогу построения свода**:\n",
    "\n",
    "1. Количество пустых значений в столбцах **director**, **film_studio**, **production_country**, **title** крайне мало. **Исключение таких объектов из общего набора не повлияет на общую картину**;\n",
    "2.  Пустые значения в категориальных параметрах **genres**, **producer**, **financing_source** можно заменить на значение \"Неизвестно\" - таким образом, мы можем в дальнейшем осуществлять группировку по данной категории;\n",
    "3. Для количественных параметров **refundable_support**, **nonrefundable_support** пустые значения можно заменить на 0.0, так как по вводной от заказчика указано: столбец **budget** уже включает в себя полный объём государственной поддержки. Данные в этом столбце указаны только для тех фильмов, которые получили государственную поддержку. А два других столбца являются производной информацией от данных в показателе **budget**.\n",
    "\n",
    "При этом, сам столбец **budget** заполнять нулевыми значениями неверно, так как отсутствие информации о бюджете не означает, что бюджета как такого у фильма нет."
   ]
  },
  {
   "cell_type": "code",
   "execution_count": 12,
   "metadata": {},
   "outputs": [],
   "source": [
    "# исключим пустые объекты из общего набора по параметрам 'production_country', 'film_studio' и 'director'\n",
    "for feature in ['production_country', 'film_studio', 'director', 'puNumber']:\n",
    "    mkrf_movies = mkrf_movies.dropna(subset = feature)\n",
    "\n",
    "# замена пустых значений в категориальных параметрах 'genres', 'producer', 'financing_source'\n",
    "mkrf_movies[['genres', 'producer', 'financing_source']] = mkrf_movies[['genres', 'producer', 'financing_source']].fillna('Неизвестно')\n",
    "\n",
    "# замена пустых значений в количественных параметрах 'refundable_support', 'nonrefundable_support'\n",
    "mkrf_movies[['refundable_support', 'nonrefundable_support']] = mkrf_movies[['refundable_support', 'nonrefundable_support']].fillna(0.0)"
   ]
  },
  {
   "cell_type": "code",
   "execution_count": 13,
   "metadata": {},
   "outputs": [
    {
     "data": {
      "text/html": [
       "<div>\n",
       "<style scoped>\n",
       "    .dataframe tbody tr th:only-of-type {\n",
       "        vertical-align: middle;\n",
       "    }\n",
       "\n",
       "    .dataframe tbody tr th {\n",
       "        vertical-align: top;\n",
       "    }\n",
       "\n",
       "    .dataframe thead th {\n",
       "        text-align: right;\n",
       "    }\n",
       "</style>\n",
       "<table border=\"1\" class=\"dataframe\">\n",
       "  <thead>\n",
       "    <tr style=\"text-align: right;\">\n",
       "      <th></th>\n",
       "      <th>empty_values</th>\n",
       "    </tr>\n",
       "  </thead>\n",
       "  <tbody>\n",
       "    <tr>\n",
       "      <th>budget</th>\n",
       "      <td>7127</td>\n",
       "    </tr>\n",
       "    <tr>\n",
       "      <th>ratings</th>\n",
       "      <td>977</td>\n",
       "    </tr>\n",
       "    <tr>\n",
       "      <th>title</th>\n",
       "      <td>0</td>\n",
       "    </tr>\n",
       "    <tr>\n",
       "      <th>puNumber</th>\n",
       "      <td>0</td>\n",
       "    </tr>\n",
       "    <tr>\n",
       "      <th>show_start_date</th>\n",
       "      <td>0</td>\n",
       "    </tr>\n",
       "    <tr>\n",
       "      <th>type</th>\n",
       "      <td>0</td>\n",
       "    </tr>\n",
       "    <tr>\n",
       "      <th>film_studio</th>\n",
       "      <td>0</td>\n",
       "    </tr>\n",
       "    <tr>\n",
       "      <th>production_country</th>\n",
       "      <td>0</td>\n",
       "    </tr>\n",
       "    <tr>\n",
       "      <th>director</th>\n",
       "      <td>0</td>\n",
       "    </tr>\n",
       "    <tr>\n",
       "      <th>producer</th>\n",
       "      <td>0</td>\n",
       "    </tr>\n",
       "    <tr>\n",
       "      <th>age_restriction</th>\n",
       "      <td>0</td>\n",
       "    </tr>\n",
       "    <tr>\n",
       "      <th>refundable_support</th>\n",
       "      <td>0</td>\n",
       "    </tr>\n",
       "    <tr>\n",
       "      <th>nonrefundable_support</th>\n",
       "      <td>0</td>\n",
       "    </tr>\n",
       "    <tr>\n",
       "      <th>financing_source</th>\n",
       "      <td>0</td>\n",
       "    </tr>\n",
       "    <tr>\n",
       "      <th>genres</th>\n",
       "      <td>0</td>\n",
       "    </tr>\n",
       "  </tbody>\n",
       "</table>\n",
       "</div>"
      ],
      "text/plain": [
       "                       empty_values\n",
       "budget                         7127\n",
       "ratings                         977\n",
       "title                             0\n",
       "puNumber                          0\n",
       "show_start_date                   0\n",
       "type                              0\n",
       "film_studio                       0\n",
       "production_country                0\n",
       "director                          0\n",
       "producer                          0\n",
       "age_restriction                   0\n",
       "refundable_support                0\n",
       "nonrefundable_support             0\n",
       "financing_source                  0\n",
       "genres                            0"
      ]
     },
     "metadata": {},
     "output_type": "display_data"
    },
    {
     "name": "stdout",
     "output_type": "stream",
     "text": [
      "Количество объектов в наборе данных ПОСЛЕ преобразования пустых значений: 7459\n"
     ]
    }
   ],
   "source": [
    "# вывод на экран статистики после внесения изменений в данные\n",
    "(display(mkrf_movies.isna().sum()\n",
    " .to_frame().rename(columns = ({0 : 'empty_values'})).sort_values(by = 'empty_values', ascending = False)))\n",
    "\n",
    "print(f'Количество объектов в наборе данных ПОСЛЕ преобразования пустых значений:', mkrf_movies.shape[0])"
   ]
  },
  {
   "cell_type": "markdown",
   "metadata": {},
   "source": [
    "### Обработка дубликатов в наборах данных <a class = 'anchor' id = 'Предобработка_дубликаты'></a>"
   ]
  },
  {
   "cell_type": "code",
   "execution_count": 14,
   "metadata": {},
   "outputs": [
    {
     "name": "stdout",
     "output_type": "stream",
     "text": [
      "Количество явных дубликатов в наборе данных mkrf_movies: 0\n",
      "Количество явных дубликатов в наборе данных mkrf_shows: 0\n"
     ]
    }
   ],
   "source": [
    "# вывод на экран информации по явным дубликатам в наборах данных\n",
    "print('Количество явных дубликатов в наборе данных mkrf_movies:', mkrf_movies.duplicated().sum())\n",
    "print('Количество явных дубликатов в наборе данных mkrf_shows:', mkrf_shows.duplicated().sum())"
   ]
  },
  {
   "cell_type": "markdown",
   "metadata": {},
   "source": [
    "**В наборах данных отсутствуют явные дубликаты**.\n",
    "\n",
    "В следующих шагах необходимо детально рассмотреть наборы данных на задвоение значений в столбцах, имеющих категориальные признаки."
   ]
  },
  {
   "cell_type": "code",
   "execution_count": 15,
   "metadata": {},
   "outputs": [
    {
     "name": "stdout",
     "output_type": "stream",
     "text": [
      "Количество дубликатов в столбце puNumber датасете mkrf_shows: 0\n"
     ]
    }
   ],
   "source": [
    "# вывод на экран количества дубликатов в поле с номером прокатного удостоверения - 'puNumber' - в датасете 'mkrf_shows'\n",
    "print('Количество дубликатов в столбце puNumber датасете mkrf_shows:', mkrf_shows['puNumber'].duplicated().sum())"
   ]
  },
  {
   "cell_type": "code",
   "execution_count": 16,
   "metadata": {},
   "outputs": [
    {
     "name": "stdout",
     "output_type": "stream",
     "text": [
      "Количество дубликатов в параметре puNumber: 2\n",
      "Количество дубликатов в параметре title: 713\n"
     ]
    }
   ],
   "source": [
    "# вывод на экран количества дубликатов в полях с номером прокатного удостоверения и названием фильма - 'puNumber' и 'title' - в датасеет 'mkrf_movies'\n",
    "for feature in ['puNumber', 'title']:\n",
    "    print(f'Количество дубликатов в параметре {feature}:', mkrf_movies[feature].duplicated().sum())"
   ]
  },
  {
   "cell_type": "code",
   "execution_count": 17,
   "metadata": {},
   "outputs": [
    {
     "data": {
      "text/html": [
       "<div>\n",
       "<style scoped>\n",
       "    .dataframe tbody tr th:only-of-type {\n",
       "        vertical-align: middle;\n",
       "    }\n",
       "\n",
       "    .dataframe tbody tr th {\n",
       "        vertical-align: top;\n",
       "    }\n",
       "\n",
       "    .dataframe thead th {\n",
       "        text-align: right;\n",
       "    }\n",
       "</style>\n",
       "<table border=\"1\" class=\"dataframe\">\n",
       "  <thead>\n",
       "    <tr style=\"text-align: right;\">\n",
       "      <th></th>\n",
       "      <th>title</th>\n",
       "      <th>puNumber</th>\n",
       "      <th>show_start_date</th>\n",
       "      <th>type</th>\n",
       "      <th>film_studio</th>\n",
       "      <th>production_country</th>\n",
       "      <th>director</th>\n",
       "      <th>producer</th>\n",
       "      <th>age_restriction</th>\n",
       "      <th>refundable_support</th>\n",
       "      <th>nonrefundable_support</th>\n",
       "      <th>budget</th>\n",
       "      <th>financing_source</th>\n",
       "      <th>ratings</th>\n",
       "      <th>genres</th>\n",
       "    </tr>\n",
       "  </thead>\n",
       "  <tbody>\n",
       "    <tr>\n",
       "      <th>4639</th>\n",
       "      <td>Иоанна - женщина на папском престоле /По роман...</td>\n",
       "      <td>221154310</td>\n",
       "      <td>2010-12-17</td>\n",
       "      <td>Художественный</td>\n",
       "      <td>Константин Фильм, А Эр Ди Дегето Фильм, Дюне ...</td>\n",
       "      <td>Германия - Великобритания - Италия - Испания</td>\n",
       "      <td>Зенке Вортманн</td>\n",
       "      <td>Оливер Бербен, Дорис Д.Хайнце, Фарук Элтан</td>\n",
       "      <td>«16+» - для детей старше 16 лет</td>\n",
       "      <td>0.0</td>\n",
       "      <td>0.0</td>\n",
       "      <td>NaN</td>\n",
       "      <td>Неизвестно</td>\n",
       "      <td>7.6</td>\n",
       "      <td>драма,мелодрама,история</td>\n",
       "    </tr>\n",
       "    <tr>\n",
       "      <th>5068</th>\n",
       "      <td>Анализируй то!</td>\n",
       "      <td>221054410</td>\n",
       "      <td>2010-05-25</td>\n",
       "      <td>Художественный</td>\n",
       "      <td>Уорнер Бразерс, Виллидж Роадшоу Пикчерз, Эн-Пи...</td>\n",
       "      <td>США</td>\n",
       "      <td>Гарольд Реймис</td>\n",
       "      <td>Джейн Розенталь, Паул Уэйнстейн</td>\n",
       "      <td>«12+» - для детей старше 12 лет</td>\n",
       "      <td>0.0</td>\n",
       "      <td>0.0</td>\n",
       "      <td>NaN</td>\n",
       "      <td>Неизвестно</td>\n",
       "      <td>6.8</td>\n",
       "      <td>комедия,криминал</td>\n",
       "    </tr>\n",
       "  </tbody>\n",
       "</table>\n",
       "</div>"
      ],
      "text/plain": [
       "                                                  title   puNumber  \\\n",
       "4639  Иоанна - женщина на папском престоле /По роман...  221154310   \n",
       "5068                                     Анализируй то!  221054410   \n",
       "\n",
       "     show_start_date            type  \\\n",
       "4639      2010-12-17  Художественный   \n",
       "5068      2010-05-25  Художественный   \n",
       "\n",
       "                                            film_studio  \\\n",
       "4639   Константин Фильм, А Эр Ди Дегето Фильм, Дюне ...   \n",
       "5068  Уорнер Бразерс, Виллидж Роадшоу Пикчерз, Эн-Пи...   \n",
       "\n",
       "                                production_country        director  \\\n",
       "4639  Германия - Великобритания - Италия - Испания  Зенке Вортманн   \n",
       "5068                                           США  Гарольд Реймис   \n",
       "\n",
       "                                        producer  \\\n",
       "4639  Оливер Бербен, Дорис Д.Хайнце, Фарук Элтан   \n",
       "5068             Джейн Розенталь, Паул Уэйнстейн   \n",
       "\n",
       "                      age_restriction  refundable_support  \\\n",
       "4639  «16+» - для детей старше 16 лет                 0.0   \n",
       "5068  «12+» - для детей старше 12 лет                 0.0   \n",
       "\n",
       "      nonrefundable_support  budget financing_source  ratings  \\\n",
       "4639                    0.0     NaN       Неизвестно      7.6   \n",
       "5068                    0.0     NaN       Неизвестно      6.8   \n",
       "\n",
       "                       genres  \n",
       "4639  драма,мелодрама,история  \n",
       "5068         комедия,криминал  "
      ]
     },
     "metadata": {},
     "output_type": "display_data"
    }
   ],
   "source": [
    "#вывод на экран информации по объектам с одинаковым номером прокатного удостоверения\n",
    "display(mkrf_movies[mkrf_movies['puNumber'].duplicated()])"
   ]
  },
  {
   "cell_type": "markdown",
   "metadata": {},
   "source": [
    "Не совсем понятно, почему разные значения прокатного удостоверения выявлены как дубликаты - возможно, здесь присутствует техническая ошибка в данных.\n",
    "\n",
    "**Исключение данных объектов из общего набора не повлияет на общую картину**.\n",
    "\n",
    "Дубликаты в столбце **title** не являются ошибкой - фильмы с одинаковым названием могут выходить в прокат в разное время в зависимости от выдачи удостоверения прокатчику."
   ]
  },
  {
   "cell_type": "code",
   "execution_count": 18,
   "metadata": {},
   "outputs": [],
   "source": [
    "# исключаем из датасета объекты с дубликатами прокатного удостоверения\n",
    "mkrf_movies = mkrf_movies.drop_duplicates(subset = 'puNumber', keep  = 'first')"
   ]
  },
  {
   "cell_type": "code",
   "execution_count": 19,
   "metadata": {},
   "outputs": [],
   "source": [
    "# инициализация пользовательской функции по формированию свода уникальных значений по столбцу таблицы\n",
    "def unique_values (df: pd.DataFrame, feature: str):\n",
    "    print(f'Уникальные значения столбца {feature}')\n",
    "    display(pd.Series(df[feature].unique()))"
   ]
  },
  {
   "cell_type": "code",
   "execution_count": 20,
   "metadata": {},
   "outputs": [
    {
     "name": "stdout",
     "output_type": "stream",
     "text": [
      "Уникальные значения столбца type\n"
     ]
    },
    {
     "data": {
      "text/plain": [
       "0                Художественный\n",
       "1                  Анимационный\n",
       "2                        Прочие\n",
       "3                Документальный\n",
       "4             Научно-популярный\n",
       "5                Художественный\n",
       "6                  Анимационный\n",
       "7    Музыкально-развлекательный\n",
       "dtype: object"
      ]
     },
     "metadata": {},
     "output_type": "display_data"
    }
   ],
   "source": [
    "# вывод на экран уникальных значений показателя 'type'\n",
    "unique_values(mkrf_movies, 'type')"
   ]
  },
  {
   "cell_type": "markdown",
   "metadata": {},
   "source": [
    "В столбце **type** задвоены значения \"Художественный\" и \"Анимационный\".\n",
    "\n",
    "Скорее всего перед основным значением категории есть невидимые знаки: пробелы или табуляция."
   ]
  },
  {
   "cell_type": "code",
   "execution_count": 21,
   "metadata": {},
   "outputs": [
    {
     "data": {
      "text/plain": [
       "array(['Художественный', 'Анимационный', 'Прочие', 'Документальный',\n",
       "       'Научно-популярный', ' Художественный', ' Анимационный',\n",
       "       'Музыкально-развлекательный'], dtype=object)"
      ]
     },
     "execution_count": 21,
     "metadata": {},
     "output_type": "execute_result"
    }
   ],
   "source": [
    "# вывод на экран уникальных значений столбца 'type' в формате списка\n",
    "mkrf_movies['type'].unique()"
   ]
  },
  {
   "cell_type": "code",
   "execution_count": 22,
   "metadata": {},
   "outputs": [
    {
     "name": "stdout",
     "output_type": "stream",
     "text": [
      "Уникальные значения столбца type\n"
     ]
    },
    {
     "data": {
      "text/plain": [
       "0                Художественный\n",
       "1                  Анимационный\n",
       "2                        Прочие\n",
       "3                Документальный\n",
       "4             Научно-популярный\n",
       "5    Музыкально-развлекательный\n",
       "dtype: object"
      ]
     },
     "metadata": {},
     "output_type": "display_data"
    }
   ],
   "source": [
    "# очистка значений столбца 'type' от невидимых знаков\n",
    "mkrf_movies['type'] = mkrf_movies['type'].str.strip()\n",
    "\n",
    "# вывод на экран уникальных значений показателя 'type'\n",
    "unique_values(mkrf_movies, 'type')"
   ]
  },
  {
   "cell_type": "code",
   "execution_count": 23,
   "metadata": {},
   "outputs": [
    {
     "name": "stdout",
     "output_type": "stream",
     "text": [
      "Уникальные значения столбца age_restriction\n"
     ]
    },
    {
     "data": {
      "text/plain": [
       "0               «18+» - запрещено для детей\n",
       "1             «6+» - для детей старше 6 лет\n",
       "2           «12+» - для детей старше 12 лет\n",
       "3           «16+» - для детей старше 16 лет\n",
       "4    «0+» - для любой зрительской аудитории\n",
       "dtype: object"
      ]
     },
     "metadata": {},
     "output_type": "display_data"
    }
   ],
   "source": [
    "# вывод на экран уникальных значений показателя 'age_restriction'\n",
    "unique_values(mkrf_movies, 'age_restriction')"
   ]
  },
  {
   "cell_type": "markdown",
   "metadata": {},
   "source": [
    "Для показателя **age_restriction** выполним небольшую обработку значений - **извлечем показатель возрастной категории, а остальное описание удалим**."
   ]
  },
  {
   "cell_type": "code",
   "execution_count": 24,
   "metadata": {},
   "outputs": [
    {
     "data": {
      "text/plain": [
       "array(['18+', '6+', '12+', '16+', '0+'], dtype=object)"
      ]
     },
     "execution_count": 24,
     "metadata": {},
     "output_type": "execute_result"
    }
   ],
   "source": [
    "# извлечение значений возрастной категории\n",
    "mkrf_movies['age_restriction'] = mkrf_movies['age_restriction'].str.slice(start = 0, stop = 4)\n",
    "# замена оставшихся символов\n",
    "for symb in ['«', '»']:\n",
    "    mkrf_movies['age_restriction'] = mkrf_movies['age_restriction'].str.replace(symb, '')\n",
    "# вывод на экран обновленных значений\n",
    "mkrf_movies['age_restriction'].unique()"
   ]
  },
  {
   "cell_type": "code",
   "execution_count": 25,
   "metadata": {},
   "outputs": [
    {
     "name": "stdout",
     "output_type": "stream",
     "text": [
      "Уникальные значения столбца financing_source\n"
     ]
    },
    {
     "data": {
      "text/plain": [
       "0                          Неизвестно\n",
       "1               Министерство культуры\n",
       "2                           Фонд кино\n",
       "3    Министерство культуры, Фонд кино\n",
       "dtype: object"
      ]
     },
     "metadata": {},
     "output_type": "display_data"
    }
   ],
   "source": [
    "# вывод на экран уникальных зачений показателя 'financing_source'\n",
    "unique_values(mkrf_movies, 'financing_source')"
   ]
  },
  {
   "cell_type": "markdown",
   "metadata": {},
   "source": [
    "В остальных категориальных столбцах сочетания значений жанров (**genres**), киностудии, выпустившей фильм (**film_studio**), страны производства (**production_country**), продюссеров фильма (**producer**) формируют большое количество уникальных значений и изучить информацию о них на данном шаге не представляется возможным.\n",
    "\n",
    "По столбцу с данными о режиссере фильма (**director**) тоже проблематично изучить уникальные значения имен, так как режиссеров слишком много для вывода их на экран.\n"
   ]
  },
  {
   "cell_type": "markdown",
   "metadata": {},
   "source": [
    "### Изучение состояния столбцов с количественными переменными <a class = 'anchor' id = 'Предобработка_количественные'></a>"
   ]
  },
  {
   "cell_type": "code",
   "execution_count": 26,
   "metadata": {},
   "outputs": [
    {
     "name": "stdout",
     "output_type": "stream",
     "text": [
      "['refundable_support', 'nonrefundable_support', 'budget', 'ratings']\n"
     ]
    }
   ],
   "source": [
    "# формирование списка названий столбцов, содержащих количественные значения\n",
    "num_values = mkrf_movies.select_dtypes(include = ['float', 'int']).columns.to_list()\n",
    "\n",
    "# вывод на экран значений списка\n",
    "print(num_values)"
   ]
  },
  {
   "cell_type": "code",
   "execution_count": 27,
   "metadata": {},
   "outputs": [],
   "source": [
    "# инициализация пользовательской функции по построению гистограмм по передаваемым метрикам\n",
    "def histogram_plotting(data: pd.DataFrame, feature : str, bins: int, x_size: int, y_size: int):\n",
    "    # вычисление статистических метрик для дальнейшей визуализации\n",
    "    q1 = data[feature].quantile(0.25)\n",
    "    q3 = data[feature].quantile(0.75)\n",
    "    upper_bound = q3 + 1.5 * (q3 - q1)\n",
    "    lower_bound = q1 - 1.5 * (q3 - q1)\n",
    "\n",
    "    # построение визуализации\n",
    "    plt.figure(figsize = (x_size, y_size))\n",
    "    plt.hist(data[feature], color = 'blue', edgecolor = 'white', bins = bins)\n",
    "    plt.axvline(upper_bound, c = 'red', ls = '-', label = 'верхняя граница допустимых значений')\n",
    "    plt.axvline(q3, c = 'red', ls = '--', label = '3 квартиль значений')\n",
    "    plt.axvline(q1, c = 'black', ls = '--', label = '1 квартиль значений')\n",
    "    plt.axvline(lower_bound, c = 'black', ls = '-', label = 'нижняя граница допустимых значений')\n",
    "    plt.title(f'Гистограмма распределения значений по метрике: {feature}', fontsize = 10)\n",
    "    plt.xlabel(feature)\n",
    "    plt.ylabel('Количество значений по метрике')\n",
    "    plt.legend()\n",
    "    plt.show()\n",
    "\n",
    "    # расчет доли аномальных значений по метрике\n",
    "    print('Доля значений, выходящих за верхнюю границу: {:.2%}'.format(data[data[feature] > upper_bound].shape[0] / data[feature].shape[0]))\n",
    "    print('Доля значений, выходящих за нижнюю границу: {:.2%}'.format(data[data[feature] < lower_bound].shape[0] / data[feature].shape[0]))\n",
    "\n",
    "    # вывод на экран объектов, с значениями, превышающими верхнюю границу\n",
    "    print('Названия фильмов, значения которых по метрике превышают верхнюю границу')\n",
    "    display(data[data[feature] > upper_bound]['title'].unique())"
   ]
  },
  {
   "cell_type": "markdown",
   "metadata": {},
   "source": [
    "Для построения гистограмм распределения значений финансовой поддержки со стороны государства сформируем отдельную переменную, где **показатели бюджета не будут равны 0**."
   ]
  },
  {
   "cell_type": "code",
   "execution_count": 28,
   "metadata": {},
   "outputs": [],
   "source": [
    "# инициализация переменной 'state_movies' для хранения фильмов получивших государственную поддержку\n",
    "state_movies = mkrf_movies[mkrf_movies['budget'].isna() != True]"
   ]
  },
  {
   "cell_type": "code",
   "execution_count": 29,
   "metadata": {},
   "outputs": [
    {
     "data": {
      "image/png": "[encoded data removed]",
      "text/plain": [
       "<Figure size 1000x500 with 1 Axes>"
      ]
     },
     "metadata": {},
     "output_type": "display_data"
    },
    {
     "name": "stdout",
     "output_type": "stream",
     "text": [
      "Доля значений, выходящих за верхнюю границу: 9.64%\n",
      "Доля значений, выходящих за нижнюю границу: 0.00%\n",
      "Названия фильмов, значения которых по метрике превышают верхнюю границу\n"
     ]
    },
    {
     "data": {
      "text/plain": [
       "array(['Батальонъ', 'Территория', 'Он - Дракон', 'Экипаж .',\n",
       "       'Крякнутые каникулы', 'Время первых (2017)', 'Дуэлянт', 'Ледокол',\n",
       "       'Защитники', 'БОЛЬШОЙ', 'Урфин Джюс и его деревянные солдаты',\n",
       "       'Матильда', 'Салют-7', 'Последний богатырь', 'Легенда о Коловрате',\n",
       "       'Движение вверх', 'Рубеж', 'Тренер', 'СОБИБОР (SOBIBOR)',\n",
       "       'Гурвинек. Волшебная игра', 'Т-34', 'Снежная Королева: Зазеркалье',\n",
       "       'Волки и Овцы: Ход Свиньей', 'Тобол', 'Девятая', 'Одесса',\n",
       "       'Тайна Печати Дракона', 'Грех', 'Урфин Джюс возвращается',\n",
       "       'Лев Яшин. Вратарь моей мечты', 'Союз спасения', 'Вторжение'],\n",
       "      dtype=object)"
      ]
     },
     "metadata": {},
     "output_type": "display_data"
    }
   ],
   "source": [
    "# построение гистограммы распределения значений бюджета\n",
    "histogram_plotting(state_movies, 'budget', 100, 10, 5)"
   ]
  },
  {
   "cell_type": "code",
   "execution_count": 30,
   "metadata": {},
   "outputs": [
    {
     "data": {
      "image/png": "[encoded data removed]",
      "text/plain": [
       "<Figure size 1000x500 with 1 Axes>"
      ]
     },
     "metadata": {},
     "output_type": "display_data"
    },
    {
     "name": "stdout",
     "output_type": "stream",
     "text": [
      "Доля значений, выходящих за верхнюю границу: 14.46%\n",
      "Доля значений, выходящих за нижнюю границу: 2.71%\n",
      "Названия фильмов, значения которых по метрике превышают верхнюю границу\n"
     ]
    },
    {
     "data": {
      "text/plain": [
       "array(['Невидимки', 'А зори здесь тихие..._', 'Призрак_.', 'Дуxless 2',\n",
       "       'Левиафан.', 'Воин (2015)', 'Однажды._',\n",
       "       'Смешарики. Легенда о золотом драконе', 'Савва. Сердце воина',\n",
       "       'Он - Дракон', 'Экипаж .', 'Дама Пик', 'Время первых (2017)',\n",
       "       'Дуэлянт', 'Ледокол', 'Защитники',\n",
       "       'СНЕЖНАЯ КОРОЛЕВА 3. ОГОНЬ И ЛЁД', 'Притяжение (2016)', 'Ёлки 5',\n",
       "       'БОЛЬШОЙ', 'Простая история .', 'Молот',\n",
       "       'Урфин Джюс и его деревянные солдаты', 'Матильда', 'Напарник',\n",
       "       'Салют-7', 'Легенда о Коловрате', 'Движение вверх', 'Рубеж',\n",
       "       'Тренер', 'Черновик', 'Вечная жизнь Александра Христофорова',\n",
       "       'Семь пар нечистых', 'Крымский мост. Сделано с любовью',\n",
       "       'СУПЕРБОБРОВЫ. НАРОДНЫЕ МСТИТЕЛИ', 'Баба Яга', 'Т-34', 'Тобол',\n",
       "       'Большое путешествие', 'Братство', 'Миллиард', 'Девятая', 'Одесса',\n",
       "       'Тайна Печати Дракона', 'Герой', 'Урфин Джюс возвращается',\n",
       "       'Союз спасения', 'Вторжение'], dtype=object)"
      ]
     },
     "metadata": {},
     "output_type": "display_data"
    }
   ],
   "source": [
    "# построение гистограммы распределения значений невозвратных средств\n",
    "histogram_plotting(state_movies, 'nonrefundable_support', 10, 10, 5)"
   ]
  },
  {
   "cell_type": "code",
   "execution_count": 31,
   "metadata": {},
   "outputs": [
    {
     "data": {
      "image/png": "[encoded data removed]",
      "text/plain": [
       "<Figure size 1000x500 with 1 Axes>"
      ]
     },
     "metadata": {},
     "output_type": "display_data"
    },
    {
     "name": "stdout",
     "output_type": "stream",
     "text": [
      "Доля значений, выходящих за верхнюю границу: 12.05%\n",
      "Доля значений, выходящих за нижнюю границу: 0.00%\n",
      "Названия фильмов, значения которых по метрике превышают верхнюю границу\n"
     ]
    },
    {
     "data": {
      "text/plain": [
       "array(['А зори здесь тихие..._', 'Смешарики. Легенда о золотом драконе',\n",
       "       'Савва. Сердце воина', 'Дабл трабл', 'Страна чудес',\n",
       "       'Супербобровы', 'Экипаж .', 'Крякнутые каникулы', 'Герой (2015)',\n",
       "       'Кухня. Последняя битва', 'Время первых (2017)', 'Дуэлянт',\n",
       "       'Вурдалаки', 'Ледокол', 'Защитники', 'Дед Мороз. Битва Магов',\n",
       "       'СНЕЖНАЯ КОРОЛЕВА 3. ОГОНЬ И ЛЁД', 'Ночные стражи', 'Молот',\n",
       "       'Матильда', 'Последний богатырь', 'Легенда о Коловрате',\n",
       "       'Ёлки Новые', 'Три богатыря и принцесса Египта',\n",
       "       'Ну, здравствуй, Оксана Соколова!', 'Черновик',\n",
       "       'Принцесса и дракон', 'СУПЕРБОБРОВЫ. НАРОДНЫЕ МСТИТЕЛИ',\n",
       "       'Три богатыря и наследница престола', 'Ёлки Последние', 'Т-34',\n",
       "       'Снежная Королева: Зазеркалье', 'Волки и Овцы: Ход Свиньей',\n",
       "       'Большое путешествие', 'Тайна Печати Дракона',\n",
       "       'Фиксики против кработов', 'Союз спасения',\n",
       "       'Иван Царевич и Серый Волк 4', 'Вторжение',\n",
       "       '(Не)идеальный мужчина'], dtype=object)"
      ]
     },
     "metadata": {},
     "output_type": "display_data"
    }
   ],
   "source": [
    "# построение гистограммы распределения значений возвратных средств\n",
    "histogram_plotting(state_movies, 'refundable_support', 10, 10, 5)"
   ]
  },
  {
   "cell_type": "code",
   "execution_count": 32,
   "metadata": {},
   "outputs": [
    {
     "data": {
      "image/png": "[encoded data removed]",
      "text/plain": [
       "<Figure size 1000x500 with 1 Axes>"
      ]
     },
     "metadata": {},
     "output_type": "display_data"
    },
    {
     "name": "stdout",
     "output_type": "stream",
     "text": [
      "Доля значений, выходящих за верхнюю границу: 0.01%\n",
      "Доля значений, выходящих за нижнюю границу: 2.39%\n",
      "Названия фильмов, значения которых по метрике превышают верхнюю границу\n"
     ]
    },
    {
     "data": {
      "text/plain": [
       "array(['Друзья друзей'], dtype=object)"
      ]
     },
     "metadata": {},
     "output_type": "display_data"
    }
   ],
   "source": [
    "# построение гистограммы распределения значений рейтинга фильма\n",
    "histogram_plotting(mkrf_movies, 'ratings', 10, 10, 5)"
   ]
  },
  {
   "cell_type": "code",
   "execution_count": 33,
   "metadata": {},
   "outputs": [
    {
     "name": "stdout",
     "output_type": "stream",
     "text": [
      "Максимальное значение рейтинга в наборе данных: 9.2\n",
      "Минимальное значение рейтинга в наборе данных: 1.0\n"
     ]
    }
   ],
   "source": [
    "# вывод на экран минимальных и максимальных значений по показателю 'rating'\n",
    "print('Максимальное значение рейтинга в наборе данных:', mkrf_movies['ratings'].max())\n",
    "print('Минимальное значение рейтинга в наборе данных:', mkrf_movies['ratings'].min())"
   ]
  },
  {
   "cell_type": "markdown",
   "metadata": {},
   "source": [
    "**Вывод по построенной визуализации**:"
   ]
  },
  {
   "cell_type": "markdown",
   "metadata": {},
   "source": [
    "1. Аномальных значений по показателям бюджета и объемам государственной поддержки не обнаружено. Большие дотации от государства получают либо военно-исторические картины (\"Т-34\", \"А зори здесь тихие\"), исторические картины (\"Матильда\", \"Движение вверх\", \"Время первых\", \"Легенда 17\"), либо картины отечественной анимации (\"Снежная королева\", \"Волки и овцы\");\n",
    "2. По показателю рейтинга фильма не обнаружены аномальные значения по критериям:\n",
    "    * Значения рейтинга не могут быть отрицательными;\n",
    "    * Значения рейтинга не могут превышать 10 баллов.\n",
    "\n",
    "Таким образом, количественные данные не требуют дальнейшей обработки от аномальных максимальных и минимальных значений."
   ]
  },
  {
   "cell_type": "markdown",
   "metadata": {},
   "source": [
    "### Инициализация новых столбцов в наборе данных <a class = 'anchor' id = 'Предобработка_столбцы'></a>"
   ]
  },
  {
   "cell_type": "code",
   "execution_count": 34,
   "metadata": {},
   "outputs": [],
   "source": [
    "# инициализация столбца 'year' для хранения значений года выхода в прокат\n",
    "mkrf_movies['year'] = mkrf_movies['show_start_date'].dt.year\n",
    "\n",
    "# инициализация столбца с именем и фамилией главного режиссера\n",
    "mkrf_movies['main_director'] = mkrf_movies['director'].str.split(',').str[0]\n",
    "\n",
    "# инициализация столбца с главным жанром фильма\n",
    "mkrf_movies['main_genre'] = mkrf_movies['genres'].str.split(',').str[0]\n",
    "\n",
    "# инициализация столбца с доле государственной поддержки фильма\n",
    "mkrf_movies['%_support'] = round((mkrf_movies['refundable_support'] + mkrf_movies['nonrefundable_support']) / mkrf_movies['budget'] * 100, 2).fillna(0.0)"
   ]
  },
  {
   "cell_type": "code",
   "execution_count": 35,
   "metadata": {},
   "outputs": [
    {
     "data": {
      "text/html": [
       "<div>\n",
       "<style scoped>\n",
       "    .dataframe tbody tr th:only-of-type {\n",
       "        vertical-align: middle;\n",
       "    }\n",
       "\n",
       "    .dataframe tbody tr th {\n",
       "        vertical-align: top;\n",
       "    }\n",
       "\n",
       "    .dataframe thead th {\n",
       "        text-align: right;\n",
       "    }\n",
       "</style>\n",
       "<table border=\"1\" class=\"dataframe\">\n",
       "  <thead>\n",
       "    <tr style=\"text-align: right;\">\n",
       "      <th></th>\n",
       "      <th>title</th>\n",
       "      <th>puNumber</th>\n",
       "      <th>show_start_date</th>\n",
       "      <th>type</th>\n",
       "      <th>film_studio</th>\n",
       "      <th>production_country</th>\n",
       "      <th>director</th>\n",
       "      <th>producer</th>\n",
       "      <th>age_restriction</th>\n",
       "      <th>refundable_support</th>\n",
       "      <th>nonrefundable_support</th>\n",
       "      <th>budget</th>\n",
       "      <th>financing_source</th>\n",
       "      <th>ratings</th>\n",
       "      <th>genres</th>\n",
       "      <th>year</th>\n",
       "      <th>main_director</th>\n",
       "      <th>main_genre</th>\n",
       "      <th>%_support</th>\n",
       "    </tr>\n",
       "  </thead>\n",
       "  <tbody>\n",
       "    <tr>\n",
       "      <th>0</th>\n",
       "      <td>Открытый простор</td>\n",
       "      <td>221048915</td>\n",
       "      <td>2015-11-27</td>\n",
       "      <td>Художественный</td>\n",
       "      <td>Тачстоун Пикчерз, Кобальт Пикчерз, Бикон Пикче...</td>\n",
       "      <td>США</td>\n",
       "      <td>Кевин Костнер</td>\n",
       "      <td>Дэвид Валдес, Кевин Костнер, Джейк Эбертс</td>\n",
       "      <td>18+</td>\n",
       "      <td>0.0</td>\n",
       "      <td>0.0</td>\n",
       "      <td>NaN</td>\n",
       "      <td>Неизвестно</td>\n",
       "      <td>7.2</td>\n",
       "      <td>боевик,драма,мелодрама</td>\n",
       "      <td>2015</td>\n",
       "      <td>Кевин Костнер</td>\n",
       "      <td>боевик</td>\n",
       "      <td>0.0</td>\n",
       "    </tr>\n",
       "    <tr>\n",
       "      <th>1</th>\n",
       "      <td>Особо важное задание</td>\n",
       "      <td>111013716</td>\n",
       "      <td>2016-09-13</td>\n",
       "      <td>Художественный</td>\n",
       "      <td>Киностудия \"Мосфильм\"</td>\n",
       "      <td>СССР</td>\n",
       "      <td>Е.Матвеев</td>\n",
       "      <td>Неизвестно</td>\n",
       "      <td>6+</td>\n",
       "      <td>0.0</td>\n",
       "      <td>0.0</td>\n",
       "      <td>NaN</td>\n",
       "      <td>Неизвестно</td>\n",
       "      <td>6.6</td>\n",
       "      <td>драма,военный</td>\n",
       "      <td>2016</td>\n",
       "      <td>Е.Матвеев</td>\n",
       "      <td>драма</td>\n",
       "      <td>0.0</td>\n",
       "    </tr>\n",
       "    <tr>\n",
       "      <th>2</th>\n",
       "      <td>Особо опасен</td>\n",
       "      <td>221038416</td>\n",
       "      <td>2016-10-10</td>\n",
       "      <td>Художественный</td>\n",
       "      <td>Юниверсал Пикчерз, Кикстарт Продакшнз, Марк Пл...</td>\n",
       "      <td>США</td>\n",
       "      <td>Тимур Бекмамбетов</td>\n",
       "      <td>Джим Лемли, Джейсон Нетер, Марк Е.Платт, Яйн Смит</td>\n",
       "      <td>18+</td>\n",
       "      <td>0.0</td>\n",
       "      <td>0.0</td>\n",
       "      <td>NaN</td>\n",
       "      <td>Неизвестно</td>\n",
       "      <td>6.8</td>\n",
       "      <td>фантастика,боевик,триллер</td>\n",
       "      <td>2016</td>\n",
       "      <td>Тимур Бекмамбетов</td>\n",
       "      <td>фантастика</td>\n",
       "      <td>0.0</td>\n",
       "    </tr>\n",
       "    <tr>\n",
       "      <th>3</th>\n",
       "      <td>Особо опасен</td>\n",
       "      <td>221026916</td>\n",
       "      <td>2016-06-10</td>\n",
       "      <td>Художественный</td>\n",
       "      <td>Юниверсал Пикчерз, Кикстарт Продакшнз, Марк Пл...</td>\n",
       "      <td>США</td>\n",
       "      <td>Тимур Бекмамбетов</td>\n",
       "      <td>Джим Лемли, Джейсон Нетер, Марк Е.Платт, Яйн Смит</td>\n",
       "      <td>18+</td>\n",
       "      <td>0.0</td>\n",
       "      <td>0.0</td>\n",
       "      <td>NaN</td>\n",
       "      <td>Неизвестно</td>\n",
       "      <td>6.8</td>\n",
       "      <td>фантастика,боевик,триллер</td>\n",
       "      <td>2016</td>\n",
       "      <td>Тимур Бекмамбетов</td>\n",
       "      <td>фантастика</td>\n",
       "      <td>0.0</td>\n",
       "    </tr>\n",
       "    <tr>\n",
       "      <th>4</th>\n",
       "      <td>Особо опасен</td>\n",
       "      <td>221030815</td>\n",
       "      <td>2015-07-29</td>\n",
       "      <td>Художественный</td>\n",
       "      <td>Юниверсал Пикчерз, Кикстарт Продакшнз, Марк Пл...</td>\n",
       "      <td>США</td>\n",
       "      <td>Тимур Бекмамбетов</td>\n",
       "      <td>Джим Лемли, Джейсон Нетер, Марк Е.Платт, Яйн Смит</td>\n",
       "      <td>18+</td>\n",
       "      <td>0.0</td>\n",
       "      <td>0.0</td>\n",
       "      <td>NaN</td>\n",
       "      <td>Неизвестно</td>\n",
       "      <td>6.8</td>\n",
       "      <td>фантастика,боевик,триллер</td>\n",
       "      <td>2015</td>\n",
       "      <td>Тимур Бекмамбетов</td>\n",
       "      <td>фантастика</td>\n",
       "      <td>0.0</td>\n",
       "    </tr>\n",
       "  </tbody>\n",
       "</table>\n",
       "</div>"
      ],
      "text/plain": [
       "                  title   puNumber show_start_date            type  \\\n",
       "0      Открытый простор  221048915      2015-11-27  Художественный   \n",
       "1  Особо важное задание  111013716      2016-09-13  Художественный   \n",
       "2          Особо опасен  221038416      2016-10-10  Художественный   \n",
       "3          Особо опасен  221026916      2016-06-10  Художественный   \n",
       "4          Особо опасен  221030815      2015-07-29  Художественный   \n",
       "\n",
       "                                         film_studio production_country  \\\n",
       "0  Тачстоун Пикчерз, Кобальт Пикчерз, Бикон Пикче...                США   \n",
       "1                              Киностудия \"Мосфильм\"               СССР   \n",
       "2  Юниверсал Пикчерз, Кикстарт Продакшнз, Марк Пл...                США   \n",
       "3  Юниверсал Пикчерз, Кикстарт Продакшнз, Марк Пл...                США   \n",
       "4  Юниверсал Пикчерз, Кикстарт Продакшнз, Марк Пл...                США   \n",
       "\n",
       "            director                                           producer  \\\n",
       "0      Кевин Костнер          Дэвид Валдес, Кевин Костнер, Джейк Эбертс   \n",
       "1          Е.Матвеев                                         Неизвестно   \n",
       "2  Тимур Бекмамбетов  Джим Лемли, Джейсон Нетер, Марк Е.Платт, Яйн Смит   \n",
       "3  Тимур Бекмамбетов  Джим Лемли, Джейсон Нетер, Марк Е.Платт, Яйн Смит   \n",
       "4  Тимур Бекмамбетов  Джим Лемли, Джейсон Нетер, Марк Е.Платт, Яйн Смит   \n",
       "\n",
       "  age_restriction  refundable_support  nonrefundable_support  budget  \\\n",
       "0             18+                 0.0                    0.0     NaN   \n",
       "1              6+                 0.0                    0.0     NaN   \n",
       "2             18+                 0.0                    0.0     NaN   \n",
       "3             18+                 0.0                    0.0     NaN   \n",
       "4             18+                 0.0                    0.0     NaN   \n",
       "\n",
       "  financing_source  ratings                     genres  year  \\\n",
       "0       Неизвестно      7.2     боевик,драма,мелодрама  2015   \n",
       "1       Неизвестно      6.6              драма,военный  2016   \n",
       "2       Неизвестно      6.8  фантастика,боевик,триллер  2016   \n",
       "3       Неизвестно      6.8  фантастика,боевик,триллер  2016   \n",
       "4       Неизвестно      6.8  фантастика,боевик,триллер  2015   \n",
       "\n",
       "       main_director  main_genre  %_support  \n",
       "0      Кевин Костнер      боевик        0.0  \n",
       "1          Е.Матвеев       драма        0.0  \n",
       "2  Тимур Бекмамбетов  фантастика        0.0  \n",
       "3  Тимур Бекмамбетов  фантастика        0.0  \n",
       "4  Тимур Бекмамбетов  фантастика        0.0  "
      ]
     },
     "metadata": {},
     "output_type": "display_data"
    }
   ],
   "source": [
    "# вывод на экран структуры обновленного датасета\n",
    "display(mkrf_movies.head())"
   ]
  },
  {
   "cell_type": "markdown",
   "metadata": {},
   "source": [
    "**Вывод:**\n",
    "\n",
    "1. Преобразованы типы данных в столбцах таблицы:\n",
    "    * `mkrf_movies`:\n",
    "        * **show_start_date** - дата премьеры фильма - значения преобразованы к типу datetime;\n",
    "        * **ratings** - рейтинг фильма на КиноПоиске - значения преобразованы к типу float;\n",
    "    * `mkrf_shows`:\n",
    "        * **puNumbers** - номер прокатного удостоверения - значения преобразованы к типу string.\n",
    "2. Проведена обработка пустых значений в данных:\n",
    "    * `mkrf_movies`:\n",
    "        * строки с пустыми значениями в столбцах **director**, **film_studio**, **production_country**, **title** исключены из общего набора;\n",
    "        * пустые значения в категориальных параметрах **genres**, **producer**, **financing_source** заменены на значение \"Неизвестно\";\n",
    "        * пустые значения в количественных параметрах **refundable_support**, **nonrefundable_support** заменены на 0.0;\n",
    "3. Датасеты проверены на дубликаты и произведена очистка данных:\n",
    "    * `mkrf_movies`:\n",
    "        * явные дубликаты отсутствуют;\n",
    "        * очищены неявные дубликаты в столбце **type**;\n",
    "        * исключены строки с дубликатами в столбце **puNumber**;\n",
    "        * обработаны значения в столбце **age_restriction** - извлечены значения возрастной категории;\n",
    "    * `mkrf_shows`:\n",
    "        * явные дубликаты отсутствуют;\n",
    "        * неявные дубликаты отсутствуют;\n",
    "4. Изучено состояние столбцов с количественными значениями:\n",
    "    * аномальные значения не обнаружены;\n",
    "5. Инициализированы новые столбцы в наборе данных:\n",
    "    * Год проката фильма;\n",
    "    * Имя и фамилия режиссера фильма;\n",
    "    * Основной жанр фильма;\n",
    "    * Доля государственной поддержки от общего бюджета фильма;"
   ]
  },
  {
   "cell_type": "markdown",
   "metadata": {},
   "source": [
    "## Исследовательский анализ данных <a class = 'anchor' id = 'Исследование'></a>"
   ]
  },
  {
   "cell_type": "markdown",
   "metadata": {},
   "source": [
    "Данный блок характеризуется следующими последовательными действиями:\n",
    "\n",
    "1. Объединение наборов данных в единый датасет - инициализация переменной **data**;\n",
    "2. Анализ динамики кинопроката по количеству фильмов;\n",
    "3. Анализ динамики кинопроката по суммарными кассовым сборам;\n",
    "4. Изучение медианного и среднего значений сборов за каждый год;\n",
    "5. Изучение влияния возрастной категории фильма на величину сборов. Изучение данного факта в разрезе 2015 - 2019 гг.\n",
    "6. Формирование вывода по итогам данного этапа."
   ]
  },
  {
   "cell_type": "code",
   "execution_count": 36,
   "metadata": {},
   "outputs": [],
   "source": [
    "# объединение наборов данных - инициализация переменной data\n",
    "data = mkrf_movies.merge(mkrf_shows, on = 'puNumber', how = 'left')"
   ]
  },
  {
   "cell_type": "markdown",
   "metadata": {},
   "source": [
    "### Анализ динамики кинопроката по количеству фильмов <a class = 'anchor' id = 'Исследование_динамика'></a>"
   ]
  },
  {
   "cell_type": "markdown",
   "metadata": {},
   "source": [
    "В данном подразделе необходимо ответить на вопрос о том, каким количеством информации о кассовых сборах располагаем в общем наборе данных.\n",
    "\n",
    "Так же необходимо изучить динамику по годам доли фильмов с известным кассовым сбором."
   ]
  },
  {
   "cell_type": "code",
   "execution_count": 37,
   "metadata": {},
   "outputs": [
    {
     "name": "stdout",
     "output_type": "stream",
     "text": [
      "Доля фильмов из набора данных с информацией о результатах проката: 57.69%\n"
     ]
    }
   ],
   "source": [
    "# вывод на экран доли фильмов от общего набора, для которых указан год проката\n",
    "print('Доля фильмов из набора данных с информацией о результатах проката: {:.2%}'.format(data[data['box_office'].isna()].shape[0] / data.shape[0]))"
   ]
  },
  {
   "cell_type": "code",
   "execution_count": 38,
   "metadata": {},
   "outputs": [
    {
     "data": {
      "text/html": [
       "<div>\n",
       "<style scoped>\n",
       "    .dataframe tbody tr th:only-of-type {\n",
       "        vertical-align: middle;\n",
       "    }\n",
       "\n",
       "    .dataframe tbody tr th {\n",
       "        vertical-align: top;\n",
       "    }\n",
       "\n",
       "    .dataframe thead th {\n",
       "        text-align: right;\n",
       "    }\n",
       "</style>\n",
       "<table border=\"1\" class=\"dataframe\">\n",
       "  <thead>\n",
       "    <tr style=\"text-align: right;\">\n",
       "      <th></th>\n",
       "      <th>movies_boxOffice</th>\n",
       "      <th>total_movies</th>\n",
       "      <th>%_boxOffice_movies</th>\n",
       "    </tr>\n",
       "    <tr>\n",
       "      <th>year</th>\n",
       "      <th></th>\n",
       "      <th></th>\n",
       "      <th></th>\n",
       "    </tr>\n",
       "  </thead>\n",
       "  <tbody>\n",
       "    <tr>\n",
       "      <th>2010</th>\n",
       "      <td>105</td>\n",
       "      <td>978</td>\n",
       "      <td>10.74</td>\n",
       "    </tr>\n",
       "    <tr>\n",
       "      <th>2011</th>\n",
       "      <td>109</td>\n",
       "      <td>620</td>\n",
       "      <td>17.58</td>\n",
       "    </tr>\n",
       "    <tr>\n",
       "      <th>2012</th>\n",
       "      <td>127</td>\n",
       "      <td>592</td>\n",
       "      <td>21.45</td>\n",
       "    </tr>\n",
       "    <tr>\n",
       "      <th>2013</th>\n",
       "      <td>184</td>\n",
       "      <td>629</td>\n",
       "      <td>29.25</td>\n",
       "    </tr>\n",
       "    <tr>\n",
       "      <th>2014</th>\n",
       "      <td>279</td>\n",
       "      <td>806</td>\n",
       "      <td>34.62</td>\n",
       "    </tr>\n",
       "    <tr>\n",
       "      <th>2015</th>\n",
       "      <td>465</td>\n",
       "      <td>705</td>\n",
       "      <td>65.96</td>\n",
       "    </tr>\n",
       "    <tr>\n",
       "      <th>2016</th>\n",
       "      <td>525</td>\n",
       "      <td>817</td>\n",
       "      <td>64.26</td>\n",
       "    </tr>\n",
       "    <tr>\n",
       "      <th>2017</th>\n",
       "      <td>357</td>\n",
       "      <td>505</td>\n",
       "      <td>70.69</td>\n",
       "    </tr>\n",
       "    <tr>\n",
       "      <th>2018</th>\n",
       "      <td>474</td>\n",
       "      <td>879</td>\n",
       "      <td>53.92</td>\n",
       "    </tr>\n",
       "    <tr>\n",
       "      <th>2019</th>\n",
       "      <td>530</td>\n",
       "      <td>926</td>\n",
       "      <td>57.24</td>\n",
       "    </tr>\n",
       "  </tbody>\n",
       "</table>\n",
       "</div>"
      ],
      "text/plain": [
       "      movies_boxOffice  total_movies  %_boxOffice_movies\n",
       "year                                                    \n",
       "2010               105           978               10.74\n",
       "2011               109           620               17.58\n",
       "2012               127           592               21.45\n",
       "2013               184           629               29.25\n",
       "2014               279           806               34.62\n",
       "2015               465           705               65.96\n",
       "2016               525           817               64.26\n",
       "2017               357           505               70.69\n",
       "2018               474           879               53.92\n",
       "2019               530           926               57.24"
      ]
     },
     "metadata": {},
     "output_type": "display_data"
    },
    {
     "data": {
      "image/png": "[encoded data removed]",
      "text/plain": [
       "<Figure size 640x480 with 1 Axes>"
      ]
     },
     "metadata": {},
     "output_type": "display_data"
    }
   ],
   "source": [
    "# формирование свода по изменению доли фильмов с информацией о результатах проката\n",
    "movies_per_year = (data.groupby('year').agg({'box_office' : 'count', 'title' : 'count'})\n",
    "                       .rename(columns = {'box_office' : 'movies_boxOffice', 'title' : 'total_movies'}))\n",
    "movies_per_year['%_boxOffice_movies'] = round(movies_per_year['movies_boxOffice'] / movies_per_year['total_movies'] * 100, 2)\n",
    "\n",
    "\n",
    "# вывод свода на экран\n",
    "display(movies_per_year)\n",
    "# формирование графика динамики фильмов с известными кассовыми сборами\n",
    "movies_per_year['%_boxOffice_movies'].plot(marker = 'o')\n",
    "plt.title('Динамика доли фильмов с известными данными сборов', fontsize = 12)\n",
    "plt.xlabel('Год проката фильма')\n",
    "plt.ylabel('Доля фильмов с известными данными сборов, %')\n",
    "plt.show()"
   ]
  },
  {
   "cell_type": "markdown",
   "metadata": {},
   "source": [
    "**Вывод по построенной визуализации**:\n",
    "\n",
    "Наиболее полно в имеющихся данных представлен период 2015 - 2019 гг. К моменту 2015 года доля фильмов с известными данными о кассовых сборов достигает порядка 66% и не опускается ниже 50% по ходу 4 последующих лет. "
   ]
  },
  {
   "cell_type": "markdown",
   "metadata": {},
   "source": [
    "### Анализ динамики кинопроката по суммарными кассовым сборам <a class = 'anchor' id = 'Исследование_сборы'></a>"
   ]
  },
  {
   "cell_type": "markdown",
   "metadata": {},
   "source": [
    "В данном разделе приводятся суммарные кассовые сборы за каждый год в период с 2010 по 2019 гг (10 лет)."
   ]
  },
  {
   "cell_type": "code",
   "execution_count": 39,
   "metadata": {},
   "outputs": [
    {
     "data": {
      "text/html": [
       "<div>\n",
       "<style scoped>\n",
       "    .dataframe tbody tr th:only-of-type {\n",
       "        vertical-align: middle;\n",
       "    }\n",
       "\n",
       "    .dataframe tbody tr th {\n",
       "        vertical-align: top;\n",
       "    }\n",
       "\n",
       "    .dataframe thead th {\n",
       "        text-align: right;\n",
       "    }\n",
       "</style>\n",
       "<table border=\"1\" class=\"dataframe\">\n",
       "  <thead>\n",
       "    <tr style=\"text-align: right;\">\n",
       "      <th></th>\n",
       "      <th>total_value</th>\n",
       "    </tr>\n",
       "    <tr>\n",
       "      <th>year</th>\n",
       "      <th></th>\n",
       "    </tr>\n",
       "  </thead>\n",
       "  <tbody>\n",
       "    <tr>\n",
       "      <th>2010</th>\n",
       "      <td>2.428654e+06</td>\n",
       "    </tr>\n",
       "    <tr>\n",
       "      <th>2011</th>\n",
       "      <td>1.410276e+07</td>\n",
       "    </tr>\n",
       "    <tr>\n",
       "      <th>2012</th>\n",
       "      <td>6.911073e+06</td>\n",
       "    </tr>\n",
       "    <tr>\n",
       "      <th>2013</th>\n",
       "      <td>2.979971e+07</td>\n",
       "    </tr>\n",
       "    <tr>\n",
       "      <th>2014</th>\n",
       "      <td>7.444952e+09</td>\n",
       "    </tr>\n",
       "    <tr>\n",
       "      <th>2015</th>\n",
       "      <td>3.949737e+10</td>\n",
       "    </tr>\n",
       "    <tr>\n",
       "      <th>2016</th>\n",
       "      <td>4.786611e+10</td>\n",
       "    </tr>\n",
       "    <tr>\n",
       "      <th>2017</th>\n",
       "      <td>4.856371e+10</td>\n",
       "    </tr>\n",
       "    <tr>\n",
       "      <th>2018</th>\n",
       "      <td>4.966836e+10</td>\n",
       "    </tr>\n",
       "    <tr>\n",
       "      <th>2019</th>\n",
       "      <td>4.842571e+10</td>\n",
       "    </tr>\n",
       "  </tbody>\n",
       "</table>\n",
       "</div>"
      ],
      "text/plain": [
       "       total_value\n",
       "year              \n",
       "2010  2.428654e+06\n",
       "2011  1.410276e+07\n",
       "2012  6.911073e+06\n",
       "2013  2.979971e+07\n",
       "2014  7.444952e+09\n",
       "2015  3.949737e+10\n",
       "2016  4.786611e+10\n",
       "2017  4.856371e+10\n",
       "2018  4.966836e+10\n",
       "2019  4.842571e+10"
      ]
     },
     "metadata": {},
     "output_type": "display_data"
    },
    {
     "data": {
      "image/png": "[encoded data removed]",
      "text/plain": [
       "<Figure size 640x480 with 1 Axes>"
      ]
     },
     "metadata": {},
     "output_type": "display_data"
    }
   ],
   "source": [
    "# формирование свода по изменению доли фильмов с информацией о результатах проката\n",
    "box_office_per_year = (data.groupby('year').agg({'box_office' : 'sum'})\n",
    "                       .rename(columns = {'box_office' : 'total_value'}))\n",
    "\n",
    "# вывод свода на экран\n",
    "display(box_office_per_year)\n",
    "\n",
    "# формирование графика динамики фильмов с известными кассовыми сборами\n",
    "box_office_per_year.plot(marker = 'o')\n",
    "plt.title('Динамика кассовых сборов фильмов', fontsize = 12)\n",
    "plt.xlabel('Год проката фильма')\n",
    "plt.ylabel('Величина кассовых сборов')\n",
    "plt.show()"
   ]
  },
  {
   "cell_type": "markdown",
   "metadata": {},
   "source": [
    "**Вывод по построенной визуализации**:"
   ]
  },
  {
   "cell_type": "markdown",
   "metadata": {},
   "source": [
    "Резкий рост динамики спровоцирован следующими факторами:\n",
    "1. Изменение политики сбора данных о кассовых сборах фильмов - более полный охват рынка;\n",
    "2. Рост популярности кинотеатров как вида досуга среди населения;\n",
    "3. Увеличение количества кинотеатров и кинозалов в стране;\n",
    "4. Рост качества отечественного кинопроизводства и, как следствие, интереса зрителей;\n",
    "5. Общий рост цен на билеты в кинотеатры, а также изменение курса доллара, что повляило на закупку прав показа зарубежного кино.\n",
    "\n",
    "Наиболее резкий рост наблюдается в период с 2014 по 2015 год. Далее наблюдается стабильный рост до 2018 года включительно. В 2019 году наблюдается небольшое снижение суммарных кассовых сборов."
   ]
  },
  {
   "cell_type": "markdown",
   "metadata": {},
   "source": [
    "### Анализ статистических показателей кассовых сборов в разрезе года <a class = 'anchor' id = 'Исследование_статистика'></a>"
   ]
  },
  {
   "cell_type": "markdown",
   "metadata": {},
   "source": [
    "На текущем шаге приводится основная описательная статистика по показателю \"кассовые сборы\"."
   ]
  },
  {
   "cell_type": "code",
   "execution_count": 42,
   "metadata": {},
   "outputs": [
    {
     "data": {
      "text/html": [
       "<div>\n",
       "<style scoped>\n",
       "    .dataframe tbody tr th:only-of-type {\n",
       "        vertical-align: middle;\n",
       "    }\n",
       "\n",
       "    .dataframe tbody tr th {\n",
       "        vertical-align: top;\n",
       "    }\n",
       "\n",
       "    .dataframe thead th {\n",
       "        text-align: right;\n",
       "    }\n",
       "</style>\n",
       "<table border=\"1\" class=\"dataframe\">\n",
       "  <thead>\n",
       "    <tr style=\"text-align: right;\">\n",
       "      <th></th>\n",
       "      <th>total_value</th>\n",
       "      <th>median</th>\n",
       "      <th>mean</th>\n",
       "      <th>min</th>\n",
       "      <th>max</th>\n",
       "    </tr>\n",
       "    <tr>\n",
       "      <th>year</th>\n",
       "      <th></th>\n",
       "      <th></th>\n",
       "      <th></th>\n",
       "      <th></th>\n",
       "      <th></th>\n",
       "    </tr>\n",
       "  </thead>\n",
       "  <tbody>\n",
       "    <tr>\n",
       "      <th>2010</th>\n",
       "      <td>2.428654e+06</td>\n",
       "      <td>1700.000</td>\n",
       "      <td>2.313004e+04</td>\n",
       "      <td>0.0</td>\n",
       "      <td>1.446400e+06</td>\n",
       "    </tr>\n",
       "    <tr>\n",
       "      <th>2011</th>\n",
       "      <td>1.410276e+07</td>\n",
       "      <td>3000.000</td>\n",
       "      <td>1.293832e+05</td>\n",
       "      <td>125.0</td>\n",
       "      <td>1.161808e+07</td>\n",
       "    </tr>\n",
       "    <tr>\n",
       "      <th>2012</th>\n",
       "      <td>6.911073e+06</td>\n",
       "      <td>5560.000</td>\n",
       "      <td>5.441790e+04</td>\n",
       "      <td>0.0</td>\n",
       "      <td>2.311220e+06</td>\n",
       "    </tr>\n",
       "    <tr>\n",
       "      <th>2013</th>\n",
       "      <td>2.979971e+07</td>\n",
       "      <td>3522.500</td>\n",
       "      <td>1.619549e+05</td>\n",
       "      <td>0.0</td>\n",
       "      <td>1.995703e+07</td>\n",
       "    </tr>\n",
       "    <tr>\n",
       "      <th>2014</th>\n",
       "      <td>7.444952e+09</td>\n",
       "      <td>18160.000</td>\n",
       "      <td>2.668442e+07</td>\n",
       "      <td>0.0</td>\n",
       "      <td>1.016411e+09</td>\n",
       "    </tr>\n",
       "    <tr>\n",
       "      <th>2015</th>\n",
       "      <td>3.949737e+10</td>\n",
       "      <td>4920933.000</td>\n",
       "      <td>8.494057e+07</td>\n",
       "      <td>0.0</td>\n",
       "      <td>1.658861e+09</td>\n",
       "    </tr>\n",
       "    <tr>\n",
       "      <th>2016</th>\n",
       "      <td>4.786611e+10</td>\n",
       "      <td>3915041.020</td>\n",
       "      <td>9.117353e+07</td>\n",
       "      <td>0.0</td>\n",
       "      <td>2.048126e+09</td>\n",
       "    </tr>\n",
       "    <tr>\n",
       "      <th>2017</th>\n",
       "      <td>4.856371e+10</td>\n",
       "      <td>9968340.000</td>\n",
       "      <td>1.360328e+08</td>\n",
       "      <td>7900.0</td>\n",
       "      <td>2.779686e+09</td>\n",
       "    </tr>\n",
       "    <tr>\n",
       "      <th>2018</th>\n",
       "      <td>4.966836e+10</td>\n",
       "      <td>8911533.935</td>\n",
       "      <td>1.047856e+08</td>\n",
       "      <td>42469.0</td>\n",
       "      <td>2.271754e+09</td>\n",
       "    </tr>\n",
       "    <tr>\n",
       "      <th>2019</th>\n",
       "      <td>4.842571e+10</td>\n",
       "      <td>4627798.345</td>\n",
       "      <td>9.136926e+07</td>\n",
       "      <td>4398.4</td>\n",
       "      <td>3.073569e+09</td>\n",
       "    </tr>\n",
       "  </tbody>\n",
       "</table>\n",
       "</div>"
      ],
      "text/plain": [
       "       total_value       median          mean      min           max\n",
       "year                                                                \n",
       "2010  2.428654e+06     1700.000  2.313004e+04      0.0  1.446400e+06\n",
       "2011  1.410276e+07     3000.000  1.293832e+05    125.0  1.161808e+07\n",
       "2012  6.911073e+06     5560.000  5.441790e+04      0.0  2.311220e+06\n",
       "2013  2.979971e+07     3522.500  1.619549e+05      0.0  1.995703e+07\n",
       "2014  7.444952e+09    18160.000  2.668442e+07      0.0  1.016411e+09\n",
       "2015  3.949737e+10  4920933.000  8.494057e+07      0.0  1.658861e+09\n",
       "2016  4.786611e+10  3915041.020  9.117353e+07      0.0  2.048126e+09\n",
       "2017  4.856371e+10  9968340.000  1.360328e+08   7900.0  2.779686e+09\n",
       "2018  4.966836e+10  8911533.935  1.047856e+08  42469.0  2.271754e+09\n",
       "2019  4.842571e+10  4627798.345  9.136926e+07   4398.4  3.073569e+09"
      ]
     },
     "execution_count": 42,
     "metadata": {},
     "output_type": "execute_result"
    }
   ],
   "source": [
    "# формирование свода с основными статистическими метриками по каждому году - инициализация переменной 'box_office_stat'\n",
    "box_office_stat = data.pivot_table(index = 'year',\n",
    "                                   values = 'box_office',\n",
    "                                   aggfunc = ['sum', 'median', 'mean', 'min', 'max'])\n",
    "box_office_stat.columns = ['total_value', 'median', 'mean', 'min', 'max']\n",
    "box_office_stat"
   ]
  },
  {
   "cell_type": "code",
   "execution_count": 54,
   "metadata": {},
   "outputs": [
    {
     "name": "stdout",
     "output_type": "stream",
     "text": [
      "Самый кассовый фильм за 2010 ['Морские динозавры 3D: Путешествие в доисторический мир']\n",
      "Самый кассовый фильм за 2011 ['Черные дыры: Обратная сторона Вселенной']\n",
      "Самый кассовый фильм за 2012 ['Мстители_']\n",
      "Самый кассовый фильм за 2013 ['Невидимки']\n",
      "Самый кассовый фильм за 2014 ['Седьмой сын']\n",
      "Самый кассовый фильм за 2015 ['Звёздные войны: Пробуждение силы']\n",
      "Самый кассовый фильм за 2016 ['Зверополис']\n",
      "Самый кассовый фильм за 2017 ['Движение вверх']\n",
      "Самый кассовый фильм за 2018 ['Т-34']\n",
      "Самый кассовый фильм за 2019 ['Холоп']\n"
     ]
    }
   ],
   "source": [
    "# формирование свода с фильмами с максимальными кассовыми сборами за каждый год\n",
    "for year in sorted(list(data['year'].unique())):\n",
    "    print(f'Самый кассовый фильм за {year}', data[data['year'] == year]\n",
    "                                             .sort_values(by = 'box_office', ascending = False)\n",
    "                                             .head(1)['title'].values)"
   ]
  },
  {
   "cell_type": "markdown",
   "metadata": {},
   "source": [
    "**Вывод по построенному своду**:\n",
    "\n"
   ]
  },
  {
   "cell_type": "markdown",
   "metadata": {},
   "source": [
    "1. Самые кассовые фильмы в основном представляют развлекательный жанр: мультфильмы, фентези, комедии;\n",
    "2. Кассовые сборы этих фильмов варьируются в порядке миллиардов у.е., что сильно сдвигает средние показатели сборов в сторону высоких значений;\n",
    "3. По той причине, что статистики о кассовых сборах фильмов за период с 2010 по 2013 гг. мало, то и средние показатели сборов за это время невелики по сравнению с суммами за 2014 - 2019 гг. (сотни тысяч у.е. против сотен миллионов у.е.);\n",
    "4. Медианные показатели варьируются в порядках сотен тысяч у.е., что говорит о том, что половина кинофильмов не собирают слишком большую кассу в силу элитарности либо самого произведения, либо по причине низкого рейтинга и качества фильма."
   ]
  },
  {
   "cell_type": "markdown",
   "metadata": {},
   "source": [
    "### Анализ динамики кассовых сборов в разрезе года и возрастной категории фильмов <a class = 'anchor' id = 'Исследование_возраст'></a>"
   ]
  },
  {
   "cell_type": "markdown",
   "metadata": {},
   "source": [
    "Необходимо изучить, какая возрастная категория фильмов собирает большую кассу.\n",
    "\n",
    "Ниже выведена визуализация соотношения сборов по возрастным категориям в динамике от 2015 до 2019 гг."
   ]
  },
  {
   "cell_type": "code",
   "execution_count": 55,
   "metadata": {},
   "outputs": [
    {
     "data": {
      "image/png": "[encoded data removed]",
      "text/plain": [
       "<Figure size 1000x500 with 1 Axes>"
      ]
     },
     "metadata": {},
     "output_type": "display_data"
    }
   ],
   "source": [
    "# построение визуализации по возрастным категориям за период 2015 - 2019 гг\n",
    "\n",
    "# формирование сводной информации - инициализация переменной 'age_report'\n",
    "age_report = data.query('year > 2014').groupby(['year', 'age_restriction']).agg({'box_office' : 'sum'}).unstack()\n",
    "age_report.columns = ['0+', '12+', '16+', '18+', '6+']\n",
    "age_report.plot(kind = 'bar', figsize = (10, 5), rot = 0)\n",
    "plt.title('Влияние возрастной категории фильма на величину сборов за 2015 - 2019 гг.', fontsize = 12)\n",
    "plt.xlabel('Год проката фильма')\n",
    "plt.ylabel('Величина кассовых сборов')\n",
    "plt.show()"
   ]
  },
  {
   "cell_type": "markdown",
   "metadata": {},
   "source": [
    "**Вывод по построенной визуализации**:\n",
    "\n",
    "1. Фильмы из категории \"0+\" обладают самыми низкими кассовыми сборами в виду своего контента. Это могут быть или обучающее кино для малышей, либо мультфильмы, которые могут подойти для детей данной возрастной группы;\n",
    "2. Фильмы из категории \"16+\" обладают наибольшими кассовыми сборами. Это объясняется тем, что данные категории включают в себя развлекательное подростковое кино, блокбастеры и более взрослую анимацию;\n",
    "3. Фильмы из категории \"6+\" и \"18+\" имеют средние показатели кассовых сборов. Это может быть связано с более узкой целевой аудиторией и содержимым контента;"
   ]
  },
  {
   "cell_type": "code",
   "execution_count": 62,
   "metadata": {},
   "outputs": [
    {
     "data": {
      "image/png": "[encoded data removed]",
      "text/plain": [
       "<Figure size 1000x500 with 1 Axes>"
      ]
     },
     "metadata": {},
     "output_type": "display_data"
    }
   ],
   "source": [
    "# построение визуализации кассовых сборов для категории \"16+\" в зависимости от типа фильма\n",
    "data[data['age_restriction'] == \"16+\"].groupby('type').agg({'box_office' : 'sum'}).sort_values(by = 'box_office', ascending = False).plot(kind = 'bar', figsize = (10, 5), rot = 45)\n",
    "plt.title('Влияние типа фильма на величину сборов для возрастной категории \"16+\"', fontsize = 12)\n",
    "plt.xlabel('Тип фильма')\n",
    "plt.ylabel('Величина кассовых сборов')\n",
    "plt.show()"
   ]
  },
  {
   "cell_type": "code",
   "execution_count": 64,
   "metadata": {},
   "outputs": [
    {
     "data": {
      "image/png": "[encoded data removed]",
      "text/plain": [
       "<Figure size 1000x500 with 1 Axes>"
      ]
     },
     "metadata": {},
     "output_type": "display_data"
    }
   ],
   "source": [
    "# построение визуализации кассовых сборов для категории \"16+\" в зависимости от жанра фильма\n",
    "data[data['age_restriction'] == \"16+\"].groupby('main_genre').agg({'box_office' : 'sum'}).sort_values(by = 'box_office', ascending = False).head(10).plot(kind = 'bar', figsize = (10, 5), rot = 45)\n",
    "plt.title('ТОП-10 популярных жанров фильмов категории \"16+\"', fontsize = 12)\n",
    "plt.xlabel('Жанр фильма')\n",
    "plt.ylabel('Величина кассовых сборов')\n",
    "plt.show()"
   ]
  },
  {
   "cell_type": "markdown",
   "metadata": {},
   "source": [
    "**Вывод по построенной визуализации**:\n",
    "\n",
    "1. Основной тип фильмов в категории \"16+\" - которая приносит самую большую кассу - \"художественный\". Таким образом, это развлекательное массовое кино;\n",
    "2. Самые популярные жанры фильмов в категории \"16+\" - \"фантастика\", \"боевик\", \"фэнтези\", \"комедия\" и пр.\n",
    "3. Жанр \"фантастика\" имеет самые большие сборы и по причине самого содержания развлекательного контента, и по причине сборов отдельно взятого фильма - \"Звездные войны: Пробуждение силы\", поставившего рекорд в 2017 году."
   ]
  },
  {
   "cell_type": "markdown",
   "metadata": {},
   "source": [
    "### Анализ качества фильмов в зависимости от режиссера <a class = 'anchor' id = 'Исследование_рейтингРежиссеры'></a>"
   ]
  },
  {
   "cell_type": "markdown",
   "metadata": {},
   "source": [
    "Необходимо проанализировать, как имя режиссера влияет на качество итогового произведения, а также на кассу, которые приносят его работы (идут ли зрители на фильм по причине режиссера, его снявшего).\n",
    "\n",
    "Для этого необходимо вывести на экран **топ-10 режиссеров, которые сняли не менее 5 фильмов, и имеют наилучший средний рейтинг**.\n",
    "\n",
    "А также **топ-10 режиссеров, которые сняли не менее 5 фильмов, и имеют наибольшие суммарные сборы**."
   ]
  },
  {
   "cell_type": "code",
   "execution_count": 72,
   "metadata": {},
   "outputs": [],
   "source": [
    "# инициализация пользовательской функции по построению свода для режиссеров\n",
    "def directors_report (df: pd.DataFrame, top_n : int, feature : str, metric : str, name_of_metric : str):\n",
    "    directors_report = (df.groupby('main_director')\n",
    "                    .agg({'title' : 'count', feature : metric})\n",
    "                    .sort_values(by = 'title', ascending = False)\n",
    "                    .rename(columns = {'title' : 'movies_count', feature : name_of_metric}))\n",
    "    \n",
    "    # фильтрация количества фильмов - режиссеры, которые сняли не менее 5 фильмов\n",
    "    directors_report = directors_report[directors_report['movies_count'] > 4]\n",
    "\n",
    "    # формирование топа режиссеров с лучшими средними рейтингами\n",
    "    top_directors = directors_report.sort_values(by = name_of_metric, ascending = False).head(top_n)\n",
    "    \n",
    "    # вывод на экран результатов\n",
    "    display(top_directors)"
   ]
  },
  {
   "cell_type": "code",
   "execution_count": 73,
   "metadata": {},
   "outputs": [
    {
     "data": {
      "text/html": [
       "<div>\n",
       "<style scoped>\n",
       "    .dataframe tbody tr th:only-of-type {\n",
       "        vertical-align: middle;\n",
       "    }\n",
       "\n",
       "    .dataframe tbody tr th {\n",
       "        vertical-align: top;\n",
       "    }\n",
       "\n",
       "    .dataframe thead th {\n",
       "        text-align: right;\n",
       "    }\n",
       "</style>\n",
       "<table border=\"1\" class=\"dataframe\">\n",
       "  <thead>\n",
       "    <tr style=\"text-align: right;\">\n",
       "      <th></th>\n",
       "      <th>movies_count</th>\n",
       "      <th>mean_rating</th>\n",
       "    </tr>\n",
       "    <tr>\n",
       "      <th>main_director</th>\n",
       "      <th></th>\n",
       "      <th></th>\n",
       "    </tr>\n",
       "  </thead>\n",
       "  <tbody>\n",
       "    <tr>\n",
       "      <th>М.Мошкова</th>\n",
       "      <td>7</td>\n",
       "      <td>9.000000</td>\n",
       "    </tr>\n",
       "    <tr>\n",
       "      <th>Кристофер Нолан</th>\n",
       "      <td>11</td>\n",
       "      <td>8.327273</td>\n",
       "    </tr>\n",
       "    <tr>\n",
       "      <th>Е.Чернова</th>\n",
       "      <td>5</td>\n",
       "      <td>8.300000</td>\n",
       "    </tr>\n",
       "    <tr>\n",
       "      <th>Хаяо Миядзаки</th>\n",
       "      <td>7</td>\n",
       "      <td>8.128571</td>\n",
       "    </tr>\n",
       "    <tr>\n",
       "      <th>Питер Джексон</th>\n",
       "      <td>13</td>\n",
       "      <td>8.069231</td>\n",
       "    </tr>\n",
       "    <tr>\n",
       "      <th>Роб Минкофф</th>\n",
       "      <td>5</td>\n",
       "      <td>8.000000</td>\n",
       "    </tr>\n",
       "    <tr>\n",
       "      <th>Гай Ричи</th>\n",
       "      <td>11</td>\n",
       "      <td>7.909091</td>\n",
       "    </tr>\n",
       "    <tr>\n",
       "      <th>Дэвид Финчер</th>\n",
       "      <td>12</td>\n",
       "      <td>7.908333</td>\n",
       "    </tr>\n",
       "    <tr>\n",
       "      <th>Д.Червяцов</th>\n",
       "      <td>17</td>\n",
       "      <td>7.900000</td>\n",
       "    </tr>\n",
       "    <tr>\n",
       "      <th>Дэвид Йетс</th>\n",
       "      <td>5</td>\n",
       "      <td>7.860000</td>\n",
       "    </tr>\n",
       "  </tbody>\n",
       "</table>\n",
       "</div>"
      ],
      "text/plain": [
       "                 movies_count  mean_rating\n",
       "main_director                             \n",
       "М.Мошкова                   7     9.000000\n",
       "Кристофер Нолан            11     8.327273\n",
       "Е.Чернова                   5     8.300000\n",
       "Хаяо Миядзаки               7     8.128571\n",
       "Питер Джексон              13     8.069231\n",
       "Роб Минкофф                 5     8.000000\n",
       "Гай Ричи                   11     7.909091\n",
       "Дэвид Финчер               12     7.908333\n",
       "Д.Червяцов                 17     7.900000\n",
       "Дэвид Йетс                  5     7.860000"
      ]
     },
     "metadata": {},
     "output_type": "display_data"
    }
   ],
   "source": [
    "# формирование свода лучших режиссеров со средними рейтингами фильмов\n",
    "directors_report(data, 10, 'ratings', 'mean', 'mean_rating')\n"
   ]
  },
  {
   "cell_type": "markdown",
   "metadata": {},
   "source": [
    "Среди известных мировых режиссеров присутствуют имена не известные широкой публике.\n",
    "\n",
    "Выведем возрастные категории произведений, снятых этими режиссерами, чтобы понимать, на какого зрителя, ориентированы их работы."
   ]
  },
  {
   "cell_type": "code",
   "execution_count": 75,
   "metadata": {},
   "outputs": [
    {
     "name": "stdout",
     "output_type": "stream",
     "text": [
      "Основная зрительская категория работ режиссера М.Мошкова: ['0+']\n",
      "Основная зрительская категория работ режиссера Е.Чернова: ['0+']\n",
      "Основная зрительская категория работ режиссера Д.Червяцов: ['0+']\n"
     ]
    }
   ],
   "source": [
    "# формирование цикла по выводу основных возрастных категорий работ выбранных режиссеров\n",
    "for director in ['М.Мошкова', 'Е.Чернова', 'Д.Червяцов']:\n",
    "    print(f'Основная зрительская категория работ режиссера {director}:', list(data[data['main_director'] == director]['age_restriction'].unique()))"
   ]
  },
  {
   "cell_type": "markdown",
   "metadata": {},
   "source": [
    "За счет поставки качественного детского контента работы данных режиссеров набирают высокие оценки"
   ]
  },
  {
   "cell_type": "code",
   "execution_count": 76,
   "metadata": {},
   "outputs": [
    {
     "data": {
      "text/html": [
       "<div>\n",
       "<style scoped>\n",
       "    .dataframe tbody tr th:only-of-type {\n",
       "        vertical-align: middle;\n",
       "    }\n",
       "\n",
       "    .dataframe tbody tr th {\n",
       "        vertical-align: top;\n",
       "    }\n",
       "\n",
       "    .dataframe thead th {\n",
       "        text-align: right;\n",
       "    }\n",
       "</style>\n",
       "<table border=\"1\" class=\"dataframe\">\n",
       "  <thead>\n",
       "    <tr style=\"text-align: right;\">\n",
       "      <th></th>\n",
       "      <th>movies_count</th>\n",
       "      <th>total_box_office</th>\n",
       "    </tr>\n",
       "    <tr>\n",
       "      <th>main_director</th>\n",
       "      <th></th>\n",
       "      <th></th>\n",
       "    </tr>\n",
       "  </thead>\n",
       "  <tbody>\n",
       "    <tr>\n",
       "      <th>К.Шипенко</th>\n",
       "      <td>6</td>\n",
       "      <td>4.207964e+09</td>\n",
       "    </tr>\n",
       "    <tr>\n",
       "      <th>Дэвид Йейтс</th>\n",
       "      <td>9</td>\n",
       "      <td>3.451440e+09</td>\n",
       "    </tr>\n",
       "    <tr>\n",
       "      <th>Крис Рено</th>\n",
       "      <td>6</td>\n",
       "      <td>3.450525e+09</td>\n",
       "    </tr>\n",
       "    <tr>\n",
       "      <th>Джеймс Ван</th>\n",
       "      <td>10</td>\n",
       "      <td>3.037062e+09</td>\n",
       "    </tr>\n",
       "    <tr>\n",
       "      <th>Д.Дьяченко</th>\n",
       "      <td>8</td>\n",
       "      <td>2.404921e+09</td>\n",
       "    </tr>\n",
       "    <tr>\n",
       "      <th>Тодд Филлипс</th>\n",
       "      <td>9</td>\n",
       "      <td>2.155345e+09</td>\n",
       "    </tr>\n",
       "    <tr>\n",
       "      <th>Ф.Гэри Грей</th>\n",
       "      <td>6</td>\n",
       "      <td>2.031447e+09</td>\n",
       "    </tr>\n",
       "    <tr>\n",
       "      <th>Брайан Сингер</th>\n",
       "      <td>7</td>\n",
       "      <td>1.662643e+09</td>\n",
       "    </tr>\n",
       "    <tr>\n",
       "      <th>Джей Джей Абрамс</th>\n",
       "      <td>5</td>\n",
       "      <td>1.658875e+09</td>\n",
       "    </tr>\n",
       "    <tr>\n",
       "      <th>Квентин Тарантино</th>\n",
       "      <td>8</td>\n",
       "      <td>1.520689e+09</td>\n",
       "    </tr>\n",
       "  </tbody>\n",
       "</table>\n",
       "</div>"
      ],
      "text/plain": [
       "                   movies_count  total_box_office\n",
       "main_director                                    \n",
       "К.Шипенко                     6      4.207964e+09\n",
       "Дэвид Йейтс                   9      3.451440e+09\n",
       "Крис Рено                     6      3.450525e+09\n",
       "Джеймс Ван                   10      3.037062e+09\n",
       "Д.Дьяченко                    8      2.404921e+09\n",
       "Тодд Филлипс                  9      2.155345e+09\n",
       "Ф.Гэри Грей                   6      2.031447e+09\n",
       "Брайан Сингер                 7      1.662643e+09\n",
       "Джей Джей Абрамс              5      1.658875e+09\n",
       "Квентин Тарантино             8      1.520689e+09"
      ]
     },
     "metadata": {},
     "output_type": "display_data"
    }
   ],
   "source": [
    "# формирование свода лучших режиссеров с самыми большими кассовыми сборами\n",
    "directors_report(data, 10, 'box_office', 'sum', 'total_box_office')"
   ]
  },
  {
   "cell_type": "markdown",
   "metadata": {},
   "source": [
    "Вполне возможно, что высокие сборы фильмов у данных режиссеров оправданы не столько именем режиссера, сколько франшизой/франшизами кино, в которых он работает.\n",
    "\n",
    "Выведем на экран список фильмов снятых каждым из этих режиссеров."
   ]
  },
  {
   "cell_type": "code",
   "execution_count": 80,
   "metadata": {},
   "outputs": [
    {
     "name": "stdout",
     "output_type": "stream",
     "text": [
      "Список картин с кассовым сбором режиссера К.Шипенко\n"
     ]
    },
    {
     "data": {
      "text/html": [
       "<div>\n",
       "<style scoped>\n",
       "    .dataframe tbody tr th:only-of-type {\n",
       "        vertical-align: middle;\n",
       "    }\n",
       "\n",
       "    .dataframe tbody tr th {\n",
       "        vertical-align: top;\n",
       "    }\n",
       "\n",
       "    .dataframe thead th {\n",
       "        text-align: right;\n",
       "    }\n",
       "</style>\n",
       "<table border=\"1\" class=\"dataframe\">\n",
       "  <thead>\n",
       "    <tr style=\"text-align: right;\">\n",
       "      <th></th>\n",
       "      <th>box_office</th>\n",
       "    </tr>\n",
       "    <tr>\n",
       "      <th>title</th>\n",
       "      <th></th>\n",
       "    </tr>\n",
       "  </thead>\n",
       "  <tbody>\n",
       "    <tr>\n",
       "      <th>Холоп</th>\n",
       "      <td>3.073569e+09</td>\n",
       "    </tr>\n",
       "    <tr>\n",
       "      <th>Салют-7</th>\n",
       "      <td>7.526798e+08</td>\n",
       "    </tr>\n",
       "    <tr>\n",
       "      <th>Текст</th>\n",
       "      <td>3.799543e+08</td>\n",
       "    </tr>\n",
       "    <tr>\n",
       "      <th>Исповедь Z@drota</th>\n",
       "      <td>1.523750e+06</td>\n",
       "    </tr>\n",
       "    <tr>\n",
       "      <th>Любит не любит</th>\n",
       "      <td>2.368450e+05</td>\n",
       "    </tr>\n",
       "    <tr>\n",
       "      <th>Кто Я?</th>\n",
       "      <td>6.800000e+02</td>\n",
       "    </tr>\n",
       "  </tbody>\n",
       "</table>\n",
       "</div>"
      ],
      "text/plain": [
       "                    box_office\n",
       "title                         \n",
       "Холоп             3.073569e+09\n",
       "Салют-7           7.526798e+08\n",
       "Текст             3.799543e+08\n",
       "Исповедь Z@drota  1.523750e+06\n",
       "Любит не любит    2.368450e+05\n",
       "Кто Я?            6.800000e+02"
      ]
     },
     "metadata": {},
     "output_type": "display_data"
    },
    {
     "name": "stdout",
     "output_type": "stream",
     "text": [
      "\n",
      "Список картин с кассовым сбором режиссера Дэвид Йейтс\n"
     ]
    },
    {
     "data": {
      "text/html": [
       "<div>\n",
       "<style scoped>\n",
       "    .dataframe tbody tr th:only-of-type {\n",
       "        vertical-align: middle;\n",
       "    }\n",
       "\n",
       "    .dataframe tbody tr th {\n",
       "        vertical-align: top;\n",
       "    }\n",
       "\n",
       "    .dataframe thead th {\n",
       "        text-align: right;\n",
       "    }\n",
       "</style>\n",
       "<table border=\"1\" class=\"dataframe\">\n",
       "  <thead>\n",
       "    <tr style=\"text-align: right;\">\n",
       "      <th></th>\n",
       "      <th>box_office</th>\n",
       "    </tr>\n",
       "    <tr>\n",
       "      <th>title</th>\n",
       "      <th></th>\n",
       "    </tr>\n",
       "  </thead>\n",
       "  <tbody>\n",
       "    <tr>\n",
       "      <th>Фантастические твари: Преступления Грин-де-Вальда</th>\n",
       "      <td>1.520627e+09</td>\n",
       "    </tr>\n",
       "    <tr>\n",
       "      <th>Фантастические твари и где они обитают</th>\n",
       "      <td>1.398265e+09</td>\n",
       "    </tr>\n",
       "    <tr>\n",
       "      <th>Тарзан. Легенда</th>\n",
       "      <td>5.309179e+08</td>\n",
       "    </tr>\n",
       "    <tr>\n",
       "      <th>Гарри Поттер и Принц-полукровка /По роману Дж.К.Ролинг/</th>\n",
       "      <td>8.836400e+05</td>\n",
       "    </tr>\n",
       "    <tr>\n",
       "      <th>Гарри Поттер и Дары Смерти - Часть 1/По роману Дж.К.Ролинг/</th>\n",
       "      <td>7.472100e+05</td>\n",
       "    </tr>\n",
       "  </tbody>\n",
       "</table>\n",
       "</div>"
      ],
      "text/plain": [
       "                                                      box_office\n",
       "title                                                           \n",
       "Фантастические твари: Преступления Грин-де-Вальда   1.520627e+09\n",
       "Фантастические твари и где они обитают              1.398265e+09\n",
       "Тарзан. Легенда                                     5.309179e+08\n",
       "Гарри Поттер и Принц-полукровка /По роману Дж.К...  8.836400e+05\n",
       "Гарри Поттер и Дары Смерти - Часть 1/По роману ...  7.472100e+05"
      ]
     },
     "metadata": {},
     "output_type": "display_data"
    },
    {
     "name": "stdout",
     "output_type": "stream",
     "text": [
      "\n",
      "Список картин с кассовым сбором режиссера Крис Рено\n"
     ]
    },
    {
     "data": {
      "text/html": [
       "<div>\n",
       "<style scoped>\n",
       "    .dataframe tbody tr th:only-of-type {\n",
       "        vertical-align: middle;\n",
       "    }\n",
       "\n",
       "    .dataframe tbody tr th {\n",
       "        vertical-align: top;\n",
       "    }\n",
       "\n",
       "    .dataframe thead th {\n",
       "        text-align: right;\n",
       "    }\n",
       "</style>\n",
       "<table border=\"1\" class=\"dataframe\">\n",
       "  <thead>\n",
       "    <tr style=\"text-align: right;\">\n",
       "      <th></th>\n",
       "      <th>box_office</th>\n",
       "    </tr>\n",
       "    <tr>\n",
       "      <th>title</th>\n",
       "      <th></th>\n",
       "    </tr>\n",
       "  </thead>\n",
       "  <tbody>\n",
       "    <tr>\n",
       "      <th>Тайная жизнь домашних животных. Миньоны против газона</th>\n",
       "      <td>1.971005e+09</td>\n",
       "    </tr>\n",
       "    <tr>\n",
       "      <th>Тайная жизнь домашних животных 2</th>\n",
       "      <td>1.478921e+09</td>\n",
       "    </tr>\n",
       "    <tr>\n",
       "      <th>Тайная жизнь домашних животных</th>\n",
       "      <td>5.856140e+05</td>\n",
       "    </tr>\n",
       "    <tr>\n",
       "      <th>Лоракс /По одноименной книге доктора Сьюсса (Теодора Гейзеля)/</th>\n",
       "      <td>1.270800e+04</td>\n",
       "    </tr>\n",
       "  </tbody>\n",
       "</table>\n",
       "</div>"
      ],
      "text/plain": [
       "                                                      box_office\n",
       "title                                                           \n",
       "Тайная жизнь домашних животных. Миньоны против ...  1.971005e+09\n",
       "Тайная жизнь домашних животных 2                    1.478921e+09\n",
       "Тайная жизнь домашних животных                      5.856140e+05\n",
       "Лоракс /По одноименной книге доктора Сьюсса (Те...  1.270800e+04"
      ]
     },
     "metadata": {},
     "output_type": "display_data"
    },
    {
     "name": "stdout",
     "output_type": "stream",
     "text": [
      "\n",
      "Список картин с кассовым сбором режиссера Джеймс Ван\n"
     ]
    },
    {
     "data": {
      "text/html": [
       "<div>\n",
       "<style scoped>\n",
       "    .dataframe tbody tr th:only-of-type {\n",
       "        vertical-align: middle;\n",
       "    }\n",
       "\n",
       "    .dataframe tbody tr th {\n",
       "        vertical-align: top;\n",
       "    }\n",
       "\n",
       "    .dataframe thead th {\n",
       "        text-align: right;\n",
       "    }\n",
       "</style>\n",
       "<table border=\"1\" class=\"dataframe\">\n",
       "  <thead>\n",
       "    <tr style=\"text-align: right;\">\n",
       "      <th></th>\n",
       "      <th>box_office</th>\n",
       "    </tr>\n",
       "    <tr>\n",
       "      <th>title</th>\n",
       "      <th></th>\n",
       "    </tr>\n",
       "  </thead>\n",
       "  <tbody>\n",
       "    <tr>\n",
       "      <th>Форсаж 7</th>\n",
       "      <td>1.486131e+09</td>\n",
       "    </tr>\n",
       "    <tr>\n",
       "      <th>Аквамен</th>\n",
       "      <td>1.278044e+09</td>\n",
       "    </tr>\n",
       "    <tr>\n",
       "      <th>Заклятие-2</th>\n",
       "      <td>2.728717e+08</td>\n",
       "    </tr>\n",
       "    <tr>\n",
       "      <th>Астрал</th>\n",
       "      <td>1.443000e+04</td>\n",
       "    </tr>\n",
       "    <tr>\n",
       "      <th>Астрал. Глава 2</th>\n",
       "      <td>3.400000e+02</td>\n",
       "    </tr>\n",
       "    <tr>\n",
       "      <th>Астрал. Глава вторая</th>\n",
       "      <td>0.000000e+00</td>\n",
       "    </tr>\n",
       "    <tr>\n",
       "      <th>Форсаж 7.</th>\n",
       "      <td>0.000000e+00</td>\n",
       "    </tr>\n",
       "  </tbody>\n",
       "</table>\n",
       "</div>"
      ],
      "text/plain": [
       "                        box_office\n",
       "title                             \n",
       "Форсаж 7              1.486131e+09\n",
       "Аквамен               1.278044e+09\n",
       "Заклятие-2            2.728717e+08\n",
       "Астрал                1.443000e+04\n",
       "Астрал. Глава 2       3.400000e+02\n",
       "Астрал. Глава вторая  0.000000e+00\n",
       "Форсаж 7.             0.000000e+00"
      ]
     },
     "metadata": {},
     "output_type": "display_data"
    },
    {
     "name": "stdout",
     "output_type": "stream",
     "text": [
      "\n",
      "Список картин с кассовым сбором режиссера Д.Дьяченко\n"
     ]
    },
    {
     "data": {
      "text/html": [
       "<div>\n",
       "<style scoped>\n",
       "    .dataframe tbody tr th:only-of-type {\n",
       "        vertical-align: middle;\n",
       "    }\n",
       "\n",
       "    .dataframe tbody tr th {\n",
       "        vertical-align: top;\n",
       "    }\n",
       "\n",
       "    .dataframe thead th {\n",
       "        text-align: right;\n",
       "    }\n",
       "</style>\n",
       "<table border=\"1\" class=\"dataframe\">\n",
       "  <thead>\n",
       "    <tr style=\"text-align: right;\">\n",
       "      <th></th>\n",
       "      <th>box_office</th>\n",
       "    </tr>\n",
       "    <tr>\n",
       "      <th>title</th>\n",
       "      <th></th>\n",
       "    </tr>\n",
       "  </thead>\n",
       "  <tbody>\n",
       "    <tr>\n",
       "      <th>Последний богатырь</th>\n",
       "      <td>1.655038e+09</td>\n",
       "    </tr>\n",
       "    <tr>\n",
       "      <th>Страна чудес</th>\n",
       "      <td>2.945908e+08</td>\n",
       "    </tr>\n",
       "    <tr>\n",
       "      <th>Супербобровы</th>\n",
       "      <td>2.705384e+08</td>\n",
       "    </tr>\n",
       "    <tr>\n",
       "      <th>СУПЕРБОБРОВЫ. НАРОДНЫЕ МСТИТЕЛИ</th>\n",
       "      <td>1.847318e+08</td>\n",
       "    </tr>\n",
       "    <tr>\n",
       "      <th>Кухня в Париже</th>\n",
       "      <td>1.291500e+04</td>\n",
       "    </tr>\n",
       "    <tr>\n",
       "      <th>Быстрее, чем кролики</th>\n",
       "      <td>4.960000e+03</td>\n",
       "    </tr>\n",
       "    <tr>\n",
       "      <th>О чем еще говорят мужчины</th>\n",
       "      <td>2.820000e+03</td>\n",
       "    </tr>\n",
       "    <tr>\n",
       "      <th>О чем говорят мужчины</th>\n",
       "      <td>1.657000e+03</td>\n",
       "    </tr>\n",
       "  </tbody>\n",
       "</table>\n",
       "</div>"
      ],
      "text/plain": [
       "                                   box_office\n",
       "title                                        \n",
       "Последний богатырь               1.655038e+09\n",
       "Страна чудес                     2.945908e+08\n",
       "Супербобровы                     2.705384e+08\n",
       "СУПЕРБОБРОВЫ. НАРОДНЫЕ МСТИТЕЛИ  1.847318e+08\n",
       "Кухня в Париже                   1.291500e+04\n",
       "Быстрее, чем кролики             4.960000e+03\n",
       "О чем еще говорят мужчины        2.820000e+03\n",
       "О чем говорят мужчины            1.657000e+03"
      ]
     },
     "metadata": {},
     "output_type": "display_data"
    },
    {
     "name": "stdout",
     "output_type": "stream",
     "text": [
      "\n",
      "Список картин с кассовым сбором режиссера Тодд Филлипс\n"
     ]
    },
    {
     "data": {
      "text/html": [
       "<div>\n",
       "<style scoped>\n",
       "    .dataframe tbody tr th:only-of-type {\n",
       "        vertical-align: middle;\n",
       "    }\n",
       "\n",
       "    .dataframe tbody tr th {\n",
       "        vertical-align: top;\n",
       "    }\n",
       "\n",
       "    .dataframe thead th {\n",
       "        text-align: right;\n",
       "    }\n",
       "</style>\n",
       "<table border=\"1\" class=\"dataframe\">\n",
       "  <thead>\n",
       "    <tr style=\"text-align: right;\">\n",
       "      <th></th>\n",
       "      <th>box_office</th>\n",
       "    </tr>\n",
       "    <tr>\n",
       "      <th>title</th>\n",
       "      <th></th>\n",
       "    </tr>\n",
       "  </thead>\n",
       "  <tbody>\n",
       "    <tr>\n",
       "      <th>Джокер</th>\n",
       "      <td>1.890368e+09</td>\n",
       "    </tr>\n",
       "    <tr>\n",
       "      <th>Парни со стволами</th>\n",
       "      <td>2.649774e+08</td>\n",
       "    </tr>\n",
       "    <tr>\n",
       "      <th>Впритык</th>\n",
       "      <td>0.000000e+00</td>\n",
       "    </tr>\n",
       "    <tr>\n",
       "      <th>Мальчишник - 2: Из Вегаса в Бангкок</th>\n",
       "      <td>0.000000e+00</td>\n",
       "    </tr>\n",
       "    <tr>\n",
       "      <th>Мальчишник - Часть III</th>\n",
       "      <td>0.000000e+00</td>\n",
       "    </tr>\n",
       "    <tr>\n",
       "      <th>Мальчишник в Вегасе</th>\n",
       "      <td>0.000000e+00</td>\n",
       "    </tr>\n",
       "  </tbody>\n",
       "</table>\n",
       "</div>"
      ],
      "text/plain": [
       "                                       box_office\n",
       "title                                            \n",
       "Джокер                               1.890368e+09\n",
       "Парни со стволами                    2.649774e+08\n",
       "Впритык                              0.000000e+00\n",
       "Мальчишник - 2: Из Вегаса в Бангкок  0.000000e+00\n",
       "Мальчишник - Часть III               0.000000e+00\n",
       "Мальчишник в Вегасе                  0.000000e+00"
      ]
     },
     "metadata": {},
     "output_type": "display_data"
    },
    {
     "name": "stdout",
     "output_type": "stream",
     "text": [
      "\n",
      "Список картин с кассовым сбором режиссера Ф.Гэри Грей\n"
     ]
    },
    {
     "data": {
      "text/html": [
       "<div>\n",
       "<style scoped>\n",
       "    .dataframe tbody tr th:only-of-type {\n",
       "        vertical-align: middle;\n",
       "    }\n",
       "\n",
       "    .dataframe tbody tr th {\n",
       "        vertical-align: top;\n",
       "    }\n",
       "\n",
       "    .dataframe thead th {\n",
       "        text-align: right;\n",
       "    }\n",
       "</style>\n",
       "<table border=\"1\" class=\"dataframe\">\n",
       "  <thead>\n",
       "    <tr style=\"text-align: right;\">\n",
       "      <th></th>\n",
       "      <th>box_office</th>\n",
       "    </tr>\n",
       "    <tr>\n",
       "      <th>title</th>\n",
       "      <th></th>\n",
       "    </tr>\n",
       "  </thead>\n",
       "  <tbody>\n",
       "    <tr>\n",
       "      <th>Форсаж 8</th>\n",
       "      <td>1.429977e+09</td>\n",
       "    </tr>\n",
       "    <tr>\n",
       "      <th>Люди в черном: Интернэшнл</th>\n",
       "      <td>5.932977e+08</td>\n",
       "    </tr>\n",
       "    <tr>\n",
       "      <th>Голос улиц</th>\n",
       "      <td>8.171960e+06</td>\n",
       "    </tr>\n",
       "    <tr>\n",
       "      <th>Одиночка.</th>\n",
       "      <td>0.000000e+00</td>\n",
       "    </tr>\n",
       "  </tbody>\n",
       "</table>\n",
       "</div>"
      ],
      "text/plain": [
       "                             box_office\n",
       "title                                  \n",
       "Форсаж 8                   1.429977e+09\n",
       "Люди в черном: Интернэшнл  5.932977e+08\n",
       "Голос улиц                 8.171960e+06\n",
       "Одиночка.                  0.000000e+00"
      ]
     },
     "metadata": {},
     "output_type": "display_data"
    },
    {
     "name": "stdout",
     "output_type": "stream",
     "text": [
      "\n",
      "Список картин с кассовым сбором режиссера Брайан Сингер\n"
     ]
    },
    {
     "data": {
      "text/html": [
       "<div>\n",
       "<style scoped>\n",
       "    .dataframe tbody tr th:only-of-type {\n",
       "        vertical-align: middle;\n",
       "    }\n",
       "\n",
       "    .dataframe tbody tr th {\n",
       "        vertical-align: top;\n",
       "    }\n",
       "\n",
       "    .dataframe thead th {\n",
       "        text-align: right;\n",
       "    }\n",
       "</style>\n",
       "<table border=\"1\" class=\"dataframe\">\n",
       "  <thead>\n",
       "    <tr style=\"text-align: right;\">\n",
       "      <th></th>\n",
       "      <th>box_office</th>\n",
       "    </tr>\n",
       "    <tr>\n",
       "      <th>title</th>\n",
       "      <th></th>\n",
       "    </tr>\n",
       "  </thead>\n",
       "  <tbody>\n",
       "    <tr>\n",
       "      <th>Богемская рапсодия</th>\n",
       "      <td>1.019186e+09</td>\n",
       "    </tr>\n",
       "    <tr>\n",
       "      <th>Люди Икс: Апокалипсис</th>\n",
       "      <td>6.433376e+08</td>\n",
       "    </tr>\n",
       "    <tr>\n",
       "      <th>Люди Икс: Дни минувшего будущего</th>\n",
       "      <td>1.186500e+05</td>\n",
       "    </tr>\n",
       "    <tr>\n",
       "      <th>Джек - покоритель великанов</th>\n",
       "      <td>1.900000e+02</td>\n",
       "    </tr>\n",
       "    <tr>\n",
       "      <th>Возвращение Супермена</th>\n",
       "      <td>0.000000e+00</td>\n",
       "    </tr>\n",
       "  </tbody>\n",
       "</table>\n",
       "</div>"
      ],
      "text/plain": [
       "                                    box_office\n",
       "title                                         \n",
       "Богемская рапсодия                1.019186e+09\n",
       "Люди Икс: Апокалипсис             6.433376e+08\n",
       "Люди Икс: Дни минувшего будущего  1.186500e+05\n",
       "Джек - покоритель великанов       1.900000e+02\n",
       "Возвращение Супермена             0.000000e+00"
      ]
     },
     "metadata": {},
     "output_type": "display_data"
    },
    {
     "name": "stdout",
     "output_type": "stream",
     "text": [
      "\n",
      "Список картин с кассовым сбором режиссера Джей Джей Абрамс\n"
     ]
    },
    {
     "data": {
      "text/html": [
       "<div>\n",
       "<style scoped>\n",
       "    .dataframe tbody tr th:only-of-type {\n",
       "        vertical-align: middle;\n",
       "    }\n",
       "\n",
       "    .dataframe tbody tr th {\n",
       "        vertical-align: top;\n",
       "    }\n",
       "\n",
       "    .dataframe thead th {\n",
       "        text-align: right;\n",
       "    }\n",
       "</style>\n",
       "<table border=\"1\" class=\"dataframe\">\n",
       "  <thead>\n",
       "    <tr style=\"text-align: right;\">\n",
       "      <th></th>\n",
       "      <th>box_office</th>\n",
       "    </tr>\n",
       "    <tr>\n",
       "      <th>title</th>\n",
       "      <th></th>\n",
       "    </tr>\n",
       "  </thead>\n",
       "  <tbody>\n",
       "    <tr>\n",
       "      <th>Звёздные войны: Пробуждение силы</th>\n",
       "      <td>1.658861e+09</td>\n",
       "    </tr>\n",
       "    <tr>\n",
       "      <th>Стартрек: Возмездие</th>\n",
       "      <td>1.293000e+04</td>\n",
       "    </tr>\n",
       "    <tr>\n",
       "      <th>Супер 8</th>\n",
       "      <td>4.500000e+02</td>\n",
       "    </tr>\n",
       "    <tr>\n",
       "      <th>Звёздные Войны: Скайуокер. Восход</th>\n",
       "      <td>0.000000e+00</td>\n",
       "    </tr>\n",
       "  </tbody>\n",
       "</table>\n",
       "</div>"
      ],
      "text/plain": [
       "                                     box_office\n",
       "title                                          \n",
       "Звёздные войны: Пробуждение силы   1.658861e+09\n",
       "Стартрек: Возмездие                1.293000e+04\n",
       "Супер 8                            4.500000e+02\n",
       "Звёздные Войны: Скайуокер. Восход  0.000000e+00"
      ]
     },
     "metadata": {},
     "output_type": "display_data"
    },
    {
     "name": "stdout",
     "output_type": "stream",
     "text": [
      "\n",
      "Список картин с кассовым сбором режиссера Квентин Тарантино\n"
     ]
    },
    {
     "data": {
      "text/html": [
       "<div>\n",
       "<style scoped>\n",
       "    .dataframe tbody tr th:only-of-type {\n",
       "        vertical-align: middle;\n",
       "    }\n",
       "\n",
       "    .dataframe tbody tr th {\n",
       "        vertical-align: top;\n",
       "    }\n",
       "\n",
       "    .dataframe thead th {\n",
       "        text-align: right;\n",
       "    }\n",
       "</style>\n",
       "<table border=\"1\" class=\"dataframe\">\n",
       "  <thead>\n",
       "    <tr style=\"text-align: right;\">\n",
       "      <th></th>\n",
       "      <th>box_office</th>\n",
       "    </tr>\n",
       "    <tr>\n",
       "      <th>title</th>\n",
       "      <th></th>\n",
       "    </tr>\n",
       "  </thead>\n",
       "  <tbody>\n",
       "    <tr>\n",
       "      <th>Однажды... в Голливуде</th>\n",
       "      <td>1.121949e+09</td>\n",
       "    </tr>\n",
       "    <tr>\n",
       "      <th>Омерзительная восьмерка (2015)</th>\n",
       "      <td>3.891444e+08</td>\n",
       "    </tr>\n",
       "    <tr>\n",
       "      <th>Омерзительная восьмерка</th>\n",
       "      <td>9.585014e+06</td>\n",
       "    </tr>\n",
       "    <tr>\n",
       "      <th>Криминальное чтиво /По рассказу Квентина Тарантино и Роджера Эвери/</th>\n",
       "      <td>1.110000e+04</td>\n",
       "    </tr>\n",
       "    <tr>\n",
       "      <th>Бесславные ублюдки</th>\n",
       "      <td>0.000000e+00</td>\n",
       "    </tr>\n",
       "    <tr>\n",
       "      <th>Джанго освобожденный</th>\n",
       "      <td>0.000000e+00</td>\n",
       "    </tr>\n",
       "    <tr>\n",
       "      <th>Доказательство смерти</th>\n",
       "      <td>0.000000e+00</td>\n",
       "    </tr>\n",
       "    <tr>\n",
       "      <th>Убить Билла. Часть 2</th>\n",
       "      <td>0.000000e+00</td>\n",
       "    </tr>\n",
       "  </tbody>\n",
       "</table>\n",
       "</div>"
      ],
      "text/plain": [
       "                                                      box_office\n",
       "title                                                           \n",
       "Однажды... в Голливуде                              1.121949e+09\n",
       "Омерзительная восьмерка (2015)                      3.891444e+08\n",
       "Омерзительная восьмерка                             9.585014e+06\n",
       "Криминальное чтиво /По рассказу Квентина Тарант...  1.110000e+04\n",
       "Бесславные ублюдки                                  0.000000e+00\n",
       "Джанго освобожденный                                0.000000e+00\n",
       "Доказательство смерти                               0.000000e+00\n",
       "Убить Билла. Часть 2                                0.000000e+00"
      ]
     },
     "metadata": {},
     "output_type": "display_data"
    },
    {
     "name": "stdout",
     "output_type": "stream",
     "text": [
      "\n"
     ]
    }
   ],
   "source": [
    "for director in ['К.Шипенко', 'Дэвид Йейтс', 'Крис Рено', 'Джеймс Ван', 'Д.Дьяченко',\n",
    "                 'Тодд Филлипс', 'Ф.Гэри Грей', 'Брайан Сингер', 'Джей Джей Абрамс', 'Квентин Тарантино']:\n",
    "     print(f'Список картин с кассовым сбором режиссера {director}')\n",
    "     display(data[data['main_director'] == director].groupby('title')['box_office'].sum().sort_values(ascending = False).to_frame())\n",
    "     print()"
   ]
  },
  {
   "cell_type": "markdown",
   "metadata": {},
   "source": [
    "**Вывод по построенному своду**:\n",
    "\n",
    "Во многом кассовый сбор фильмов, снятых тем или иным режиссером, объясняется не столько именем режиссера (хотя безусловно, имя Квентина Тарантино автоматически привлекает зрителей в кино), сколько **франшиза, в которой работает режиссер** или **жанр, в котором работает режиссер**;\n",
    "\n",
    "1. Джей Джей Абрамс зарекомендовал себя как специалист, который умеет снимать масштабные блокбастеры, хотя сами сборы фильмов скорее обоснованы франшизой фильма;\n",
    "2. Тодд Филлипс - большая часть кассовых сборов обеспечена жанром \"комедия\", в котором работает режиссер (за исключением фильма \"Джокер\") и франшизой \"Мальчишник\";\n",
    "3. Дэвид Йетс в основном работал с франшизой по мотивам мира Гарри Поттера;\n",
    "\n",
    "Для российских режиссеров ситуация похожая, так как К. Шипенко и Д. Дьяченко в основном работали над комедийными фильмами, которые в России традиционно имеют высокий кассовый потенциал.\n",
    "\n",
    "А также стоит отметить, что картины данных режиссеров выходили в период новогодних праздников, когда зритель массово ходит в кинотеатр: \"Холоп\", \"Страна чудес\", \"Супербобровы\" выходили именно в новогодние праздники."
   ]
  },
  {
   "cell_type": "markdown",
   "metadata": {},
   "source": [
    "### Анализ влияния рейтинга фильма на его кассовые сборы <a class = 'anchor' id = 'Исследование_рейтингКасса'></a>"
   ]
  },
  {
   "cell_type": "markdown",
   "metadata": {},
   "source": [
    "Необходимо изучить, как влияет оценка фильма на его сборы - на сколько убедителен для зрителя рейтинг на площадке КиноПоиск для похода на фильм в кино.\n",
    "\n",
    "На основании существующей системы оценивания и присвоения категорий кино на площадке составим пользовательскую функцию по присвоению фильмам категории на основании их рейтинга."
   ]
  },
  {
   "cell_type": "code",
   "execution_count": 81,
   "metadata": {},
   "outputs": [],
   "source": [
    "# инициализация пользовательской функции по присвоению категории фильму на основании его рейтинга\n",
    "def rate_category(rating):\n",
    "    if rating < 4:\n",
    "        return \"Плохо\"\n",
    "    elif rating < 7:\n",
    "        return \"Средне\"\n",
    "    elif rating < 8:\n",
    "        return \"Отлично\"\n",
    "    else:\n",
    "        return \"Превосходно\""
   ]
  },
  {
   "cell_type": "code",
   "execution_count": 82,
   "metadata": {},
   "outputs": [],
   "source": [
    "# инициализация столбца 'rating_category'\n",
    "data['rating_category'] = data['ratings'].apply(rate_category) "
   ]
  },
  {
   "cell_type": "code",
   "execution_count": 93,
   "metadata": {},
   "outputs": [
    {
     "data": {
      "image/png": "[encoded data removed]",
      "text/plain": [
       "<Figure size 640x480 with 1 Axes>"
      ]
     },
     "metadata": {},
     "output_type": "display_data"
    }
   ],
   "source": [
    "# построение визуализации по категориям фильмов\n",
    "data.groupby('rating_category')['box_office'].sum().sort_values(ascending = False).plot(kind = 'bar')\n",
    "plt.title('Суммарные кассовые сборы фильмов по категории оценки', fontsize = 12)\n",
    "plt.xlabel('Категория фильма')\n",
    "plt.ylabel('Величина кассовых сборов')\n",
    "plt.xticks(rotation = 45)\n",
    "plt.show()"
   ]
  },
  {
   "cell_type": "markdown",
   "metadata": {},
   "source": [
    "Как видно, категория фильма (а следовательно, его рейтинг) не имеет прямой зависимости с кассовыми сборами.\n",
    "\n",
    "Если фильм не является шедевром кинематографа, но способен развлечь зрителей, то он соберет хорошую кассу."
   ]
  }
 ],
 "metadata": {
  "kernelspec": {
   "display_name": ".py_env",
   "language": "python",
   "name": "python3"
  },
  "language_info": {
   "codemirror_mode": {
    "name": "ipython",
    "version": 3
   },
   "file_extension": ".py",
   "mimetype": "text/x-python",
   "name": "python",
   "nbconvert_exporter": "python",
   "pygments_lexer": "ipython3",
   "version": "3.12.7"
  }
 },
 "nbformat": 4,
 "nbformat_minor": 2
}
