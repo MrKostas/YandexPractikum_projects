{
 "cells": [
  {
   "cell_type": "markdown",
   "metadata": {},
   "source": [
    "# Сборный проект_Анализ российского кинопроката"
   ]
  },
  {
   "cell_type": "markdown",
   "metadata": {},
   "source": [
    "## Содержание\n",
    "\n",
    "* [Описание проекта](#Описание)\n",
    "* [Импорт библиотек Python и загрузка данных](#Импорт)\n",
    "* [Предобработка данных](#Предобработка)\n",
    "    * [Обработка пустых значений](#Предобработка_пустоты)\n",
    "    * [Преобразование типов данных в столбцах таблицы](#Предобработка_типы)\n",
    "    * [Проверка датасета на наличие дубликатов](#Предобработка_дубликаты)\n",
    "    * [Инициализация новых столбцов в наборе данных](#Предобработка_столбцы)\n",
    "* [Исследовательский анализ данных](#Исследование)\n",
    "* [Вывод](#Вывод)"
   ]
  },
  {
   "cell_type": "markdown",
   "metadata": {},
   "source": [
    "## Описание проекта <a class = 'anchor' id = 'Описание'></a>"
   ]
  },
  {
   "cell_type": "markdown",
   "metadata": {},
   "source": [
    "\n",
    "Заказчик исследования: `Министерство культуры Российской Федерации`.\n",
    "\n",
    "Цель исследования: `Анализ рынка российского кинопроката и выявление текущих трендов`.\n",
    "\n",
    "Задачи исследования:\n",
    "1. Проведение предварительной обработки данных;\n",
    "2. Проведение исследовательского анализа данных;\n",
    "3. Формирование портрета российского кинопроката;\n",
    "4. Подготовка выводов и формирование рекомендаций для принятия решений по развитию отечественного кинопроизводства.\n",
    "\n",
    "Располагаемые данные:\n",
    "* `mkrf_movies` - данные о прокатных удостоверениях;\n",
    "* `mkrf_shows` - данные о прокате в российских кинотеатрах.\n",
    "\n",
    "Датасет `mkrf_movies`:\n",
    "* **title** — название фильма;\n",
    "* **puNumber** — номер прокатного удостоверения;\n",
    "* **show_start_date** — дата премьеры фильма;\n",
    "* **type** — тип фильма;\n",
    "* **film_studio** — студия-производитель;\n",
    "* **production_country** — страна-производитель;\n",
    "* **director** — режиссёр;\n",
    "* **producer** — продюсер;\n",
    "* **age_restriction** — возрастная категория;\n",
    "* **refundable_support** — объём возвратных средств государственной поддержки;\n",
    "* **nonrefundable_support** — объём невозвратных средств государственной поддержки;\n",
    "* **financing_source** — источник государственного финансирования;\n",
    "* **budget** — общий бюджет фильма;\n",
    "* **ratings** — рейтинг фильма на КиноПоиске;\n",
    "* **genres** — жанр фильма.\n",
    "\n",
    "Датасет `mkrf_shows`:\n",
    "* **puNumber** — номер прокатного удостоверения;\n",
    "* **box_office** — сборы в рублях;\n"
   ]
  },
  {
   "cell_type": "markdown",
   "metadata": {},
   "source": [
    "## Импорт библиотек Python и загрузка данных <a class = 'anchor' id = 'Импорт'></a>"
   ]
  },
  {
   "cell_type": "markdown",
   "metadata": {},
   "source": [
    "Данный блок характеризуется следующими последовательными действиями:\n",
    "\n",
    "1. Импорт библиотек Python:\n",
    "    * для манипулирования данными;\n",
    "    * для визуализации данных;\n",
    "2. Загрузка данных в рабочую среду Jupyter Notebook. Инициализация переменных **mkrf_movies** и **mkrf_shows** для хранения загруженных датасетов;\n",
    "3. Вывод на экран параметров датасетов:\n",
    "    * вывод общей структуры набора данных - демонстрация первых 5 строк;\n",
    "    * общей информации о наборе данных;\n",
    "4. Формирование вывода по итогам данного этапа."
   ]
  },
  {
   "cell_type": "code",
   "execution_count": 100,
   "metadata": {},
   "outputs": [],
   "source": [
    "# импорт библиотек Python\n",
    "\n",
    "# для манипулирования данными\n",
    "import pandas as pd\n",
    "import numpy as np\n",
    "import datetime\n",
    "\n",
    "# для визуализации данных\n",
    "import matplotlib.pyplot as plt\n",
    "import seaborn as sns"
   ]
  },
  {
   "cell_type": "code",
   "execution_count": 101,
   "metadata": {},
   "outputs": [
    {
     "data": {
      "text/html": [
       "<div>\n",
       "<style scoped>\n",
       "    .dataframe tbody tr th:only-of-type {\n",
       "        vertical-align: middle;\n",
       "    }\n",
       "\n",
       "    .dataframe tbody tr th {\n",
       "        vertical-align: top;\n",
       "    }\n",
       "\n",
       "    .dataframe thead th {\n",
       "        text-align: right;\n",
       "    }\n",
       "</style>\n",
       "<table border=\"1\" class=\"dataframe\">\n",
       "  <thead>\n",
       "    <tr style=\"text-align: right;\">\n",
       "      <th></th>\n",
       "      <th>title</th>\n",
       "      <th>puNumber</th>\n",
       "      <th>show_start_date</th>\n",
       "      <th>type</th>\n",
       "      <th>film_studio</th>\n",
       "      <th>production_country</th>\n",
       "      <th>director</th>\n",
       "      <th>producer</th>\n",
       "      <th>age_restriction</th>\n",
       "      <th>refundable_support</th>\n",
       "      <th>nonrefundable_support</th>\n",
       "      <th>budget</th>\n",
       "      <th>financing_source</th>\n",
       "      <th>ratings</th>\n",
       "      <th>genres</th>\n",
       "    </tr>\n",
       "  </thead>\n",
       "  <tbody>\n",
       "    <tr>\n",
       "      <th>0</th>\n",
       "      <td>Открытый простор</td>\n",
       "      <td>221048915</td>\n",
       "      <td>2015-11-27T12:00:00.000Z</td>\n",
       "      <td>Художественный</td>\n",
       "      <td>Тачстоун Пикчерз, Кобальт Пикчерз, Бикон Пикче...</td>\n",
       "      <td>США</td>\n",
       "      <td>Кевин Костнер</td>\n",
       "      <td>Дэвид Валдес, Кевин Костнер, Джейк Эбертс</td>\n",
       "      <td>«18+» - запрещено для детей</td>\n",
       "      <td>NaN</td>\n",
       "      <td>NaN</td>\n",
       "      <td>NaN</td>\n",
       "      <td>NaN</td>\n",
       "      <td>7.2</td>\n",
       "      <td>боевик,драма,мелодрама</td>\n",
       "    </tr>\n",
       "    <tr>\n",
       "      <th>1</th>\n",
       "      <td>Особо важное задание</td>\n",
       "      <td>111013716</td>\n",
       "      <td>2016-09-13T12:00:00.000Z</td>\n",
       "      <td>Художественный</td>\n",
       "      <td>Киностудия \"Мосфильм\"</td>\n",
       "      <td>СССР</td>\n",
       "      <td>Е.Матвеев</td>\n",
       "      <td>NaN</td>\n",
       "      <td>«6+» - для детей старше 6 лет</td>\n",
       "      <td>NaN</td>\n",
       "      <td>NaN</td>\n",
       "      <td>NaN</td>\n",
       "      <td>NaN</td>\n",
       "      <td>6.6</td>\n",
       "      <td>драма,военный</td>\n",
       "    </tr>\n",
       "    <tr>\n",
       "      <th>2</th>\n",
       "      <td>Особо опасен</td>\n",
       "      <td>221038416</td>\n",
       "      <td>2016-10-10T12:00:00.000Z</td>\n",
       "      <td>Художественный</td>\n",
       "      <td>Юниверсал Пикчерз, Кикстарт Продакшнз, Марк Пл...</td>\n",
       "      <td>США</td>\n",
       "      <td>Тимур Бекмамбетов</td>\n",
       "      <td>Джим Лемли, Джейсон Нетер, Марк Е.Платт, Яйн Смит</td>\n",
       "      <td>«18+» - запрещено для детей</td>\n",
       "      <td>NaN</td>\n",
       "      <td>NaN</td>\n",
       "      <td>NaN</td>\n",
       "      <td>NaN</td>\n",
       "      <td>6.8</td>\n",
       "      <td>фантастика,боевик,триллер</td>\n",
       "    </tr>\n",
       "    <tr>\n",
       "      <th>3</th>\n",
       "      <td>Особо опасен</td>\n",
       "      <td>221026916</td>\n",
       "      <td>2016-06-10T12:00:00.000Z</td>\n",
       "      <td>Художественный</td>\n",
       "      <td>Юниверсал Пикчерз, Кикстарт Продакшнз, Марк Пл...</td>\n",
       "      <td>США</td>\n",
       "      <td>Тимур Бекмамбетов</td>\n",
       "      <td>Джим Лемли, Джейсон Нетер, Марк Е.Платт, Яйн Смит</td>\n",
       "      <td>«18+» - запрещено для детей</td>\n",
       "      <td>NaN</td>\n",
       "      <td>NaN</td>\n",
       "      <td>NaN</td>\n",
       "      <td>NaN</td>\n",
       "      <td>6.8</td>\n",
       "      <td>фантастика,боевик,триллер</td>\n",
       "    </tr>\n",
       "    <tr>\n",
       "      <th>4</th>\n",
       "      <td>Особо опасен</td>\n",
       "      <td>221030815</td>\n",
       "      <td>2015-07-29T12:00:00.000Z</td>\n",
       "      <td>Художественный</td>\n",
       "      <td>Юниверсал Пикчерз, Кикстарт Продакшнз, Марк Пл...</td>\n",
       "      <td>США</td>\n",
       "      <td>Тимур Бекмамбетов</td>\n",
       "      <td>Джим Лемли, Джейсон Нетер, Марк Е.Платт, Яйн Смит</td>\n",
       "      <td>«18+» - запрещено для детей</td>\n",
       "      <td>NaN</td>\n",
       "      <td>NaN</td>\n",
       "      <td>NaN</td>\n",
       "      <td>NaN</td>\n",
       "      <td>6.8</td>\n",
       "      <td>фантастика,боевик,триллер</td>\n",
       "    </tr>\n",
       "  </tbody>\n",
       "</table>\n",
       "</div>"
      ],
      "text/plain": [
       "                  title   puNumber           show_start_date            type  \\\n",
       "0      Открытый простор  221048915  2015-11-27T12:00:00.000Z  Художественный   \n",
       "1  Особо важное задание  111013716  2016-09-13T12:00:00.000Z  Художественный   \n",
       "2          Особо опасен  221038416  2016-10-10T12:00:00.000Z  Художественный   \n",
       "3          Особо опасен  221026916  2016-06-10T12:00:00.000Z  Художественный   \n",
       "4          Особо опасен  221030815  2015-07-29T12:00:00.000Z  Художественный   \n",
       "\n",
       "                                         film_studio production_country  \\\n",
       "0  Тачстоун Пикчерз, Кобальт Пикчерз, Бикон Пикче...                США   \n",
       "1                              Киностудия \"Мосфильм\"               СССР   \n",
       "2  Юниверсал Пикчерз, Кикстарт Продакшнз, Марк Пл...                США   \n",
       "3  Юниверсал Пикчерз, Кикстарт Продакшнз, Марк Пл...                США   \n",
       "4  Юниверсал Пикчерз, Кикстарт Продакшнз, Марк Пл...                США   \n",
       "\n",
       "            director                                           producer  \\\n",
       "0      Кевин Костнер          Дэвид Валдес, Кевин Костнер, Джейк Эбертс   \n",
       "1          Е.Матвеев                                                NaN   \n",
       "2  Тимур Бекмамбетов  Джим Лемли, Джейсон Нетер, Марк Е.Платт, Яйн Смит   \n",
       "3  Тимур Бекмамбетов  Джим Лемли, Джейсон Нетер, Марк Е.Платт, Яйн Смит   \n",
       "4  Тимур Бекмамбетов  Джим Лемли, Джейсон Нетер, Марк Е.Платт, Яйн Смит   \n",
       "\n",
       "                 age_restriction  refundable_support  nonrefundable_support  \\\n",
       "0    «18+» - запрещено для детей                 NaN                    NaN   \n",
       "1  «6+» - для детей старше 6 лет                 NaN                    NaN   \n",
       "2    «18+» - запрещено для детей                 NaN                    NaN   \n",
       "3    «18+» - запрещено для детей                 NaN                    NaN   \n",
       "4    «18+» - запрещено для детей                 NaN                    NaN   \n",
       "\n",
       "   budget financing_source ratings                     genres  \n",
       "0     NaN              NaN     7.2     боевик,драма,мелодрама  \n",
       "1     NaN              NaN     6.6              драма,военный  \n",
       "2     NaN              NaN     6.8  фантастика,боевик,триллер  \n",
       "3     NaN              NaN     6.8  фантастика,боевик,триллер  \n",
       "4     NaN              NaN     6.8  фантастика,боевик,триллер  "
      ]
     },
     "metadata": {},
     "output_type": "display_data"
    },
    {
     "name": "stdout",
     "output_type": "stream",
     "text": [
      "<class 'pandas.core.frame.DataFrame'>\n",
      "RangeIndex: 7486 entries, 0 to 7485\n",
      "Data columns (total 15 columns):\n",
      " #   Column                 Non-Null Count  Dtype  \n",
      "---  ------                 --------------  -----  \n",
      " 0   title                  7486 non-null   object \n",
      " 1   puNumber               7486 non-null   object \n",
      " 2   show_start_date        7486 non-null   object \n",
      " 3   type                   7486 non-null   object \n",
      " 4   film_studio            7468 non-null   object \n",
      " 5   production_country     7484 non-null   object \n",
      " 6   director               7477 non-null   object \n",
      " 7   producer               6918 non-null   object \n",
      " 8   age_restriction        7486 non-null   object \n",
      " 9   refundable_support     332 non-null    float64\n",
      " 10  nonrefundable_support  332 non-null    float64\n",
      " 11  budget                 332 non-null    float64\n",
      " 12  financing_source       332 non-null    object \n",
      " 13  ratings                6519 non-null   object \n",
      " 14  genres                 6510 non-null   object \n",
      "dtypes: float64(3), object(12)\n",
      "memory usage: 877.4+ KB\n"
     ]
    },
    {
     "data": {
      "text/plain": [
       "None"
      ]
     },
     "metadata": {},
     "output_type": "display_data"
    }
   ],
   "source": [
    "# инициализация переменной mkrf_movies - запись соответствующего набора данных\n",
    "try:\n",
    "    mkrf_movies = pd.read_csv('C:/Users/User/Desktop/YandexPractikum_projects/datasets/mkrf_movies.csv')\n",
    "except:\n",
    "    mkrf_movies = pd.read_csv('/datasets/mkrf_movies.csv')\n",
    "\n",
    "#вывод структуры датасета на экран\n",
    "display(mkrf_movies.head())\n",
    "\n",
    "# вывод на экран общей информации о наборе данных\n",
    "display(mkrf_movies.info())"
   ]
  },
  {
   "cell_type": "code",
   "execution_count": 102,
   "metadata": {},
   "outputs": [
    {
     "data": {
      "text/html": [
       "<div>\n",
       "<style scoped>\n",
       "    .dataframe tbody tr th:only-of-type {\n",
       "        vertical-align: middle;\n",
       "    }\n",
       "\n",
       "    .dataframe tbody tr th {\n",
       "        vertical-align: top;\n",
       "    }\n",
       "\n",
       "    .dataframe thead th {\n",
       "        text-align: right;\n",
       "    }\n",
       "</style>\n",
       "<table border=\"1\" class=\"dataframe\">\n",
       "  <thead>\n",
       "    <tr style=\"text-align: right;\">\n",
       "      <th></th>\n",
       "      <th>puNumber</th>\n",
       "      <th>box_office</th>\n",
       "    </tr>\n",
       "  </thead>\n",
       "  <tbody>\n",
       "    <tr>\n",
       "      <th>0</th>\n",
       "      <td>111000113</td>\n",
       "      <td>2.450000e+03</td>\n",
       "    </tr>\n",
       "    <tr>\n",
       "      <th>1</th>\n",
       "      <td>111000115</td>\n",
       "      <td>6.104000e+04</td>\n",
       "    </tr>\n",
       "    <tr>\n",
       "      <th>2</th>\n",
       "      <td>111000116</td>\n",
       "      <td>1.530300e+08</td>\n",
       "    </tr>\n",
       "    <tr>\n",
       "      <th>3</th>\n",
       "      <td>111000117</td>\n",
       "      <td>1.226096e+07</td>\n",
       "    </tr>\n",
       "    <tr>\n",
       "      <th>4</th>\n",
       "      <td>111000118</td>\n",
       "      <td>1.636841e+08</td>\n",
       "    </tr>\n",
       "  </tbody>\n",
       "</table>\n",
       "</div>"
      ],
      "text/plain": [
       "    puNumber    box_office\n",
       "0  111000113  2.450000e+03\n",
       "1  111000115  6.104000e+04\n",
       "2  111000116  1.530300e+08\n",
       "3  111000117  1.226096e+07\n",
       "4  111000118  1.636841e+08"
      ]
     },
     "metadata": {},
     "output_type": "display_data"
    },
    {
     "name": "stdout",
     "output_type": "stream",
     "text": [
      "<class 'pandas.core.frame.DataFrame'>\n",
      "RangeIndex: 3158 entries, 0 to 3157\n",
      "Data columns (total 2 columns):\n",
      " #   Column      Non-Null Count  Dtype  \n",
      "---  ------      --------------  -----  \n",
      " 0   puNumber    3158 non-null   int64  \n",
      " 1   box_office  3158 non-null   float64\n",
      "dtypes: float64(1), int64(1)\n",
      "memory usage: 49.5 KB\n"
     ]
    },
    {
     "data": {
      "text/plain": [
       "None"
      ]
     },
     "metadata": {},
     "output_type": "display_data"
    }
   ],
   "source": [
    "# инициализация переменной mkrf_shows - запись соответствующего набора данных\n",
    "try:\n",
    "    mkrf_shows = pd.read_csv('C:/Users/User/Desktop/YandexPractikum_projects/datasets/mkrf_shows.csv')\n",
    "except:\n",
    "    mkrf_shows = pd.read_csv('/datasets/mkrf_shows.csv')\n",
    "\n",
    "#вывод структуры датасета на экран\n",
    "display(mkrf_shows.head())\n",
    "\n",
    "# вывод общей информации на экран\n",
    "display(mkrf_shows.info())"
   ]
  },
  {
   "cell_type": "markdown",
   "metadata": {},
   "source": [
    "**Вывод**:\n",
    "\n",
    "1. Импортированы библиотеки Python:\n",
    "    * для манипулирования данными - **pandas** и **numpy**;\n",
    "    * для визуализации данных - **matplotlib.pyplot** и **seaborn**;\n",
    "2. Загружены данные в рабочую среду Jupyter Notebook. Инициализирована переменные **mkrf_shows** и **mkrf_movies** для хранения загруженных датасетов;\n",
    "3. Вывод на экран параметров датасетов:\n",
    "    * вывод общей структуры набора данных - демонстрация первых 5 строк;\n",
    "    * общей информации о наборе данных;\n",
    "4. Наборы данных характеризуется следующими показателями:\n",
    "    * `mkrf_movies`:\n",
    "        * 7 486 - количество строк в датасете;\n",
    "        * 15 - количество показателей, описывающих объект;\n",
    "        * 12 столбцов, имеющих явный тип 'object';\n",
    "        * 3 столбца, имеющих явный тип 'float';\n",
    "        * 332 - самое минимальное количество непустых значений в столбце (признаки 'refundable_support', 'nonrefundable_support', 'budget', 'financing_source');\n",
    "    * `mkrf_shows`:\n",
    "        * 3 158 - количество строк в датасете;\n",
    "        * 2 - количество показателей, описывающих объект;\n",
    "        * 1 столбец, имеющих явный тип 'int';\n",
    "        * 1 столбец, имеющих явный тип 'float';\n",
    "        * набор данных не содержит пустых значений;   "
   ]
  },
  {
   "cell_type": "markdown",
   "metadata": {},
   "source": [
    "## Предобработка данных <a class = 'anchor' id = 'Предобработка'></a>"
   ]
  },
  {
   "cell_type": "markdown",
   "metadata": {},
   "source": [
    "Данный блок характеризуется следующими последовательными действиями:\n",
    "\n",
    "1. Преобразование типов данных в столбцах таблицы;\n",
    "2. Обработка пустых значений в данных;\n",
    "3. Проверка датасета на дубликаты и очистка данных:\n",
    "    * Явные дубликаты;\n",
    "    * Неявные дубликаты;\n",
    "4. Изучение состояния столбцов с количественными значениями:\n",
    "    * Поиск и обработка аномалий в столбцах;\n",
    "    * Поиск и обработка ошибок;\n",
    "5. Инициализация новых столбцов в наборе данных:\n",
    "    * Год проката фильма;\n",
    "    * Имя и фамилия режиссера фильма;\n",
    "    * Основной жанр фильма;\n",
    "    * Доля государственной поддержки от общего бюджета фильма;\n",
    "6. Формирование вывода по итогам данного этапа."
   ]
  },
  {
   "cell_type": "markdown",
   "metadata": {},
   "source": [
    "### Преобразование типов данных в столбцах таблиц <a class = 'anchor' id = 'Преобразование_типы'></a>"
   ]
  },
  {
   "cell_type": "markdown",
   "metadata": {},
   "source": [
    "Необходимо преобразовать типы данных следующих показателей:\n",
    "\n",
    "`mkrf_movies`:\n",
    "* **show_start_date** - дата премьеры фильма;\n",
    "* **ratings** - рейтинг фильма на КиноПоиске;\n",
    "\n",
    "`mkrf_shows`:\n",
    "* **puNumbers** - номер прокатного удостоверения.\n"
   ]
  },
  {
   "cell_type": "code",
   "execution_count": 103,
   "metadata": {},
   "outputs": [],
   "source": [
    "# преобразование типов данных столбцов в датасете 'mkrf_movies'\n",
    "mkrf_movies['show_start_date'] = mkrf_movies['show_start_date'].str.slice(start=0, stop=10)\n",
    "mkrf_movies['show_start_date'] = pd.to_datetime(mkrf_movies['show_start_date'], format = '%Y-%m-%d')\n",
    "mkrf_movies['ratings'] = pd.to_numeric(mkrf_movies['ratings'], errors = 'coerce')\n",
    "\n",
    "# преобразование типов данных столбцов в датасете 'mkrf_shows'\n",
    "mkrf_shows['puNumber'] = mkrf_shows['puNumber'].astype('str')"
   ]
  },
  {
   "cell_type": "code",
   "execution_count": 104,
   "metadata": {},
   "outputs": [
    {
     "name": "stdout",
     "output_type": "stream",
     "text": [
      "Типы данных в датасете mkrf_movies после преобразования:\n"
     ]
    },
    {
     "data": {
      "text/plain": [
       "title                            object\n",
       "puNumber                         object\n",
       "show_start_date          datetime64[ns]\n",
       "type                             object\n",
       "film_studio                      object\n",
       "production_country               object\n",
       "director                         object\n",
       "producer                         object\n",
       "age_restriction                  object\n",
       "refundable_support              float64\n",
       "nonrefundable_support           float64\n",
       "budget                          float64\n",
       "financing_source                 object\n",
       "ratings                         float64\n",
       "genres                           object\n",
       "dtype: object"
      ]
     },
     "metadata": {},
     "output_type": "display_data"
    },
    {
     "name": "stdout",
     "output_type": "stream",
     "text": [
      "\n",
      "Типы данных в датасете mkrf_shows после преобразования:\n"
     ]
    },
    {
     "data": {
      "text/plain": [
       "puNumber       object\n",
       "box_office    float64\n",
       "dtype: object"
      ]
     },
     "metadata": {},
     "output_type": "display_data"
    }
   ],
   "source": [
    "# вывод на экран текущих типов данных в столбцах датасетов\n",
    "print('Типы данных в датасете mkrf_movies после преобразования:')\n",
    "display(mkrf_movies.dtypes)\n",
    "print()\n",
    "print('Типы данных в датасете mkrf_shows после преобразования:')\n",
    "display(mkrf_shows.dtypes)"
   ]
  },
  {
   "cell_type": "markdown",
   "metadata": {},
   "source": [
    "### Обработка пустых значений в данных <a class = 'anchor' id = 'Предобработка_пустоты'></a>"
   ]
  },
  {
   "cell_type": "markdown",
   "metadata": {},
   "source": [
    "Пустые значения имеются в наборе `mkrf_movies`, в то время как в наборе `mkrf_shows` таковых не обнаружено.\n",
    "\n",
    "Работа в этом подразделе направлена на обработку пустот в `mkrf_movies`."
   ]
  },
  {
   "cell_type": "code",
   "execution_count": 105,
   "metadata": {},
   "outputs": [
    {
     "data": {
      "text/html": [
       "<div>\n",
       "<style scoped>\n",
       "    .dataframe tbody tr th:only-of-type {\n",
       "        vertical-align: middle;\n",
       "    }\n",
       "\n",
       "    .dataframe tbody tr th {\n",
       "        vertical-align: top;\n",
       "    }\n",
       "\n",
       "    .dataframe thead th {\n",
       "        text-align: right;\n",
       "    }\n",
       "</style>\n",
       "<table border=\"1\" class=\"dataframe\">\n",
       "  <thead>\n",
       "    <tr style=\"text-align: right;\">\n",
       "      <th></th>\n",
       "      <th>empty_values</th>\n",
       "      <th>%_empty</th>\n",
       "    </tr>\n",
       "  </thead>\n",
       "  <tbody>\n",
       "    <tr>\n",
       "      <th>refundable_support</th>\n",
       "      <td>7154</td>\n",
       "      <td>95.57</td>\n",
       "    </tr>\n",
       "    <tr>\n",
       "      <th>nonrefundable_support</th>\n",
       "      <td>7154</td>\n",
       "      <td>95.57</td>\n",
       "    </tr>\n",
       "    <tr>\n",
       "      <th>budget</th>\n",
       "      <td>7154</td>\n",
       "      <td>95.57</td>\n",
       "    </tr>\n",
       "    <tr>\n",
       "      <th>financing_source</th>\n",
       "      <td>7154</td>\n",
       "      <td>95.57</td>\n",
       "    </tr>\n",
       "    <tr>\n",
       "      <th>ratings</th>\n",
       "      <td>996</td>\n",
       "      <td>13.30</td>\n",
       "    </tr>\n",
       "    <tr>\n",
       "      <th>genres</th>\n",
       "      <td>976</td>\n",
       "      <td>13.04</td>\n",
       "    </tr>\n",
       "    <tr>\n",
       "      <th>producer</th>\n",
       "      <td>568</td>\n",
       "      <td>7.59</td>\n",
       "    </tr>\n",
       "    <tr>\n",
       "      <th>film_studio</th>\n",
       "      <td>18</td>\n",
       "      <td>0.24</td>\n",
       "    </tr>\n",
       "    <tr>\n",
       "      <th>director</th>\n",
       "      <td>9</td>\n",
       "      <td>0.12</td>\n",
       "    </tr>\n",
       "    <tr>\n",
       "      <th>production_country</th>\n",
       "      <td>2</td>\n",
       "      <td>0.03</td>\n",
       "    </tr>\n",
       "    <tr>\n",
       "      <th>title</th>\n",
       "      <td>0</td>\n",
       "      <td>0.00</td>\n",
       "    </tr>\n",
       "    <tr>\n",
       "      <th>puNumber</th>\n",
       "      <td>0</td>\n",
       "      <td>0.00</td>\n",
       "    </tr>\n",
       "    <tr>\n",
       "      <th>show_start_date</th>\n",
       "      <td>0</td>\n",
       "      <td>0.00</td>\n",
       "    </tr>\n",
       "    <tr>\n",
       "      <th>type</th>\n",
       "      <td>0</td>\n",
       "      <td>0.00</td>\n",
       "    </tr>\n",
       "    <tr>\n",
       "      <th>age_restriction</th>\n",
       "      <td>0</td>\n",
       "      <td>0.00</td>\n",
       "    </tr>\n",
       "  </tbody>\n",
       "</table>\n",
       "</div>"
      ],
      "text/plain": [
       "                       empty_values  %_empty\n",
       "refundable_support             7154    95.57\n",
       "nonrefundable_support          7154    95.57\n",
       "budget                         7154    95.57\n",
       "financing_source               7154    95.57\n",
       "ratings                         996    13.30\n",
       "genres                          976    13.04\n",
       "producer                        568     7.59\n",
       "film_studio                      18     0.24\n",
       "director                          9     0.12\n",
       "production_country                2     0.03\n",
       "title                             0     0.00\n",
       "puNumber                          0     0.00\n",
       "show_start_date                   0     0.00\n",
       "type                              0     0.00\n",
       "age_restriction                   0     0.00"
      ]
     },
     "metadata": {},
     "output_type": "display_data"
    },
    {
     "name": "stdout",
     "output_type": "stream",
     "text": [
      "Количество объектов в наборе данных ДО преобразования пустых значений: 7486\n"
     ]
    }
   ],
   "source": [
    "# вывод на экран информации о пропущенных значениях\n",
    "\n",
    "emptyValues_info = (mkrf_movies.isna().sum() # формирование свода о суммарном количестве пустых значений по столбцам\n",
    "                    .to_frame().rename(columns = ({0 : 'empty_values'}))) # преобразование к типу датафрейм и переименование столбца\n",
    "emptyValues_info['%_empty'] = round(emptyValues_info['empty_values'] / len(mkrf_movies) * 100, 2)\n",
    "display(emptyValues_info.sort_values(by = 'empty_values', ascending = False))\n",
    "\n",
    "print(f'Количество объектов в наборе данных ДО преобразования пустых значений:', mkrf_movies.shape[0])"
   ]
  },
  {
   "cell_type": "markdown",
   "metadata": {},
   "source": [
    "**Вывод по итогу построения свода**:\n",
    "\n",
    "1. Количество пустых значений в столбцах **director**, **film_studio**, **production_country**, **title** крайне мало. **Исключение таких объектов из общего набора не повлияет на общую картину**;\n",
    "2.  Пустые значения в категориальных параметрах **genres**, **producer**, **financing_source** можно заменить на значение \"Неизвестно\" - таким образом, мы можем в дальнейшем осуществлять группировку по данной категории;\n",
    "3. Для количественных параметров **refundable_support**, **nonrefundable_support** пустые значения можно заменить на 0.0, так как по вводной от заказчика указано: столбец **budget** уже включает в себя полный объём государственной поддержки. Данные в этом столбце указаны только для тех фильмов, которые получили государственную поддержку. А два других столбца являются производной информацией от данных в показателе **budget**.\n",
    "\n",
    "При этом, сам столбец **budget** заполнять нулевыми значениями неверно, так как отсутствие информации о бюджете не означает, что бюджета как такого у фильма нет."
   ]
  },
  {
   "cell_type": "code",
   "execution_count": 106,
   "metadata": {},
   "outputs": [],
   "source": [
    "# исключим пустые объекты из общего набора по параметрам 'production_country', 'film_studio' и 'director'\n",
    "for feature in ['production_country', 'film_studio', 'director', 'puNumber']:\n",
    "    mkrf_movies = mkrf_movies.dropna(subset = feature)\n",
    "\n",
    "# замена пустых значений в категориальных параметрах 'genres', 'producer', 'financing_source'\n",
    "mkrf_movies[['genres', 'producer', 'financing_source']] = mkrf_movies[['genres', 'producer', 'financing_source']].fillna('Неизвестно')\n",
    "\n",
    "# замена пустых значений в количественных параметрах 'refundable_support', 'nonrefundable_support'\n",
    "mkrf_movies[['refundable_support', 'nonrefundable_support']] = mkrf_movies[['refundable_support', 'nonrefundable_support']].fillna(0.0)"
   ]
  },
  {
   "cell_type": "code",
   "execution_count": 107,
   "metadata": {},
   "outputs": [
    {
     "data": {
      "text/html": [
       "<div>\n",
       "<style scoped>\n",
       "    .dataframe tbody tr th:only-of-type {\n",
       "        vertical-align: middle;\n",
       "    }\n",
       "\n",
       "    .dataframe tbody tr th {\n",
       "        vertical-align: top;\n",
       "    }\n",
       "\n",
       "    .dataframe thead th {\n",
       "        text-align: right;\n",
       "    }\n",
       "</style>\n",
       "<table border=\"1\" class=\"dataframe\">\n",
       "  <thead>\n",
       "    <tr style=\"text-align: right;\">\n",
       "      <th></th>\n",
       "      <th>empty_values</th>\n",
       "    </tr>\n",
       "  </thead>\n",
       "  <tbody>\n",
       "    <tr>\n",
       "      <th>budget</th>\n",
       "      <td>7127</td>\n",
       "    </tr>\n",
       "    <tr>\n",
       "      <th>ratings</th>\n",
       "      <td>977</td>\n",
       "    </tr>\n",
       "    <tr>\n",
       "      <th>title</th>\n",
       "      <td>0</td>\n",
       "    </tr>\n",
       "    <tr>\n",
       "      <th>puNumber</th>\n",
       "      <td>0</td>\n",
       "    </tr>\n",
       "    <tr>\n",
       "      <th>show_start_date</th>\n",
       "      <td>0</td>\n",
       "    </tr>\n",
       "    <tr>\n",
       "      <th>type</th>\n",
       "      <td>0</td>\n",
       "    </tr>\n",
       "    <tr>\n",
       "      <th>film_studio</th>\n",
       "      <td>0</td>\n",
       "    </tr>\n",
       "    <tr>\n",
       "      <th>production_country</th>\n",
       "      <td>0</td>\n",
       "    </tr>\n",
       "    <tr>\n",
       "      <th>director</th>\n",
       "      <td>0</td>\n",
       "    </tr>\n",
       "    <tr>\n",
       "      <th>producer</th>\n",
       "      <td>0</td>\n",
       "    </tr>\n",
       "    <tr>\n",
       "      <th>age_restriction</th>\n",
       "      <td>0</td>\n",
       "    </tr>\n",
       "    <tr>\n",
       "      <th>refundable_support</th>\n",
       "      <td>0</td>\n",
       "    </tr>\n",
       "    <tr>\n",
       "      <th>nonrefundable_support</th>\n",
       "      <td>0</td>\n",
       "    </tr>\n",
       "    <tr>\n",
       "      <th>financing_source</th>\n",
       "      <td>0</td>\n",
       "    </tr>\n",
       "    <tr>\n",
       "      <th>genres</th>\n",
       "      <td>0</td>\n",
       "    </tr>\n",
       "  </tbody>\n",
       "</table>\n",
       "</div>"
      ],
      "text/plain": [
       "                       empty_values\n",
       "budget                         7127\n",
       "ratings                         977\n",
       "title                             0\n",
       "puNumber                          0\n",
       "show_start_date                   0\n",
       "type                              0\n",
       "film_studio                       0\n",
       "production_country                0\n",
       "director                          0\n",
       "producer                          0\n",
       "age_restriction                   0\n",
       "refundable_support                0\n",
       "nonrefundable_support             0\n",
       "financing_source                  0\n",
       "genres                            0"
      ]
     },
     "metadata": {},
     "output_type": "display_data"
    },
    {
     "name": "stdout",
     "output_type": "stream",
     "text": [
      "Количество объектов в наборе данных ПОСЛЕ преобразования пустых значений: 7459\n"
     ]
    }
   ],
   "source": [
    "# вывод на экран статистики после внесения изменений в данные\n",
    "(display(mkrf_movies.isna().sum()\n",
    " .to_frame().rename(columns = ({0 : 'empty_values'})).sort_values(by = 'empty_values', ascending = False)))\n",
    "\n",
    "print(f'Количество объектов в наборе данных ПОСЛЕ преобразования пустых значений:', mkrf_movies.shape[0])"
   ]
  },
  {
   "cell_type": "markdown",
   "metadata": {},
   "source": [
    "### Обработка дубликатов в наборе данных <a class = 'anchor' id = 'Предобработка_дубликаты'></a>"
   ]
  },
  {
   "cell_type": "code",
   "execution_count": 108,
   "metadata": {},
   "outputs": [
    {
     "name": "stdout",
     "output_type": "stream",
     "text": [
      "Количество явных дубликатов в наборе данных mkrf_movies: 0\n",
      "Количество явных дубликатов в наборе данных mkrf_shows: 0\n"
     ]
    }
   ],
   "source": [
    "# вывод на экран информации по явным дубликатам в наборах данных\n",
    "print('Количество явных дубликатов в наборе данных mkrf_movies:', mkrf_movies.duplicated().sum())\n",
    "print('Количество явных дубликатов в наборе данных mkrf_shows:', mkrf_shows.duplicated().sum())"
   ]
  },
  {
   "cell_type": "markdown",
   "metadata": {},
   "source": [
    "**В наборах данных отсутствуют явные дубликаты**.\n",
    "\n",
    "В следующих шагах необходимо детально рассмотреть наборы данных на задвоение значений в столбцах, имеющих категориальные признаки."
   ]
  },
  {
   "cell_type": "code",
   "execution_count": 109,
   "metadata": {},
   "outputs": [
    {
     "name": "stdout",
     "output_type": "stream",
     "text": [
      "Количество дубликатов в столбце puNumber датасете mkrf_shows: 0\n"
     ]
    }
   ],
   "source": [
    "# вывод на экран количества дубликатов в поле с номером прокатного удостоверения - 'puNumber' - в датасете 'mkrf_shows'\n",
    "print('Количество дубликатов в столбце puNumber датасете mkrf_shows:', mkrf_shows['puNumber'].duplicated().sum())"
   ]
  },
  {
   "cell_type": "code",
   "execution_count": 110,
   "metadata": {},
   "outputs": [
    {
     "name": "stdout",
     "output_type": "stream",
     "text": [
      "Количество дубликатов в параметре puNumber: 2\n",
      "Количество дубликатов в параметре title: 713\n"
     ]
    }
   ],
   "source": [
    "# вывод на экран количества дубликатов в полях с номером прокатного удостоверения и названием фильма - 'puNumber' и 'title' - в датасеет 'mkrf_movies'\n",
    "for feature in ['puNumber', 'title']:\n",
    "    print(f'Количество дубликатов в параметре {feature}:', mkrf_movies[feature].duplicated().sum())"
   ]
  },
  {
   "cell_type": "code",
   "execution_count": 111,
   "metadata": {},
   "outputs": [
    {
     "data": {
      "text/html": [
       "<div>\n",
       "<style scoped>\n",
       "    .dataframe tbody tr th:only-of-type {\n",
       "        vertical-align: middle;\n",
       "    }\n",
       "\n",
       "    .dataframe tbody tr th {\n",
       "        vertical-align: top;\n",
       "    }\n",
       "\n",
       "    .dataframe thead th {\n",
       "        text-align: right;\n",
       "    }\n",
       "</style>\n",
       "<table border=\"1\" class=\"dataframe\">\n",
       "  <thead>\n",
       "    <tr style=\"text-align: right;\">\n",
       "      <th></th>\n",
       "      <th>title</th>\n",
       "      <th>puNumber</th>\n",
       "      <th>show_start_date</th>\n",
       "      <th>type</th>\n",
       "      <th>film_studio</th>\n",
       "      <th>production_country</th>\n",
       "      <th>director</th>\n",
       "      <th>producer</th>\n",
       "      <th>age_restriction</th>\n",
       "      <th>refundable_support</th>\n",
       "      <th>nonrefundable_support</th>\n",
       "      <th>budget</th>\n",
       "      <th>financing_source</th>\n",
       "      <th>ratings</th>\n",
       "      <th>genres</th>\n",
       "    </tr>\n",
       "  </thead>\n",
       "  <tbody>\n",
       "    <tr>\n",
       "      <th>4639</th>\n",
       "      <td>Иоанна - женщина на папском престоле /По роман...</td>\n",
       "      <td>221154310</td>\n",
       "      <td>2010-12-17</td>\n",
       "      <td>Художественный</td>\n",
       "      <td>Константин Фильм, А Эр Ди Дегето Фильм, Дюне ...</td>\n",
       "      <td>Германия - Великобритания - Италия - Испания</td>\n",
       "      <td>Зенке Вортманн</td>\n",
       "      <td>Оливер Бербен, Дорис Д.Хайнце, Фарук Элтан</td>\n",
       "      <td>«16+» - для детей старше 16 лет</td>\n",
       "      <td>0.0</td>\n",
       "      <td>0.0</td>\n",
       "      <td>NaN</td>\n",
       "      <td>Неизвестно</td>\n",
       "      <td>7.6</td>\n",
       "      <td>драма,мелодрама,история</td>\n",
       "    </tr>\n",
       "    <tr>\n",
       "      <th>5068</th>\n",
       "      <td>Анализируй то!</td>\n",
       "      <td>221054410</td>\n",
       "      <td>2010-05-25</td>\n",
       "      <td>Художественный</td>\n",
       "      <td>Уорнер Бразерс, Виллидж Роадшоу Пикчерз, Эн-Пи...</td>\n",
       "      <td>США</td>\n",
       "      <td>Гарольд Реймис</td>\n",
       "      <td>Джейн Розенталь, Паул Уэйнстейн</td>\n",
       "      <td>«12+» - для детей старше 12 лет</td>\n",
       "      <td>0.0</td>\n",
       "      <td>0.0</td>\n",
       "      <td>NaN</td>\n",
       "      <td>Неизвестно</td>\n",
       "      <td>6.8</td>\n",
       "      <td>комедия,криминал</td>\n",
       "    </tr>\n",
       "  </tbody>\n",
       "</table>\n",
       "</div>"
      ],
      "text/plain": [
       "                                                  title   puNumber  \\\n",
       "4639  Иоанна - женщина на папском престоле /По роман...  221154310   \n",
       "5068                                     Анализируй то!  221054410   \n",
       "\n",
       "     show_start_date            type  \\\n",
       "4639      2010-12-17  Художественный   \n",
       "5068      2010-05-25  Художественный   \n",
       "\n",
       "                                            film_studio  \\\n",
       "4639   Константин Фильм, А Эр Ди Дегето Фильм, Дюне ...   \n",
       "5068  Уорнер Бразерс, Виллидж Роадшоу Пикчерз, Эн-Пи...   \n",
       "\n",
       "                                production_country        director  \\\n",
       "4639  Германия - Великобритания - Италия - Испания  Зенке Вортманн   \n",
       "5068                                           США  Гарольд Реймис   \n",
       "\n",
       "                                        producer  \\\n",
       "4639  Оливер Бербен, Дорис Д.Хайнце, Фарук Элтан   \n",
       "5068             Джейн Розенталь, Паул Уэйнстейн   \n",
       "\n",
       "                      age_restriction  refundable_support  \\\n",
       "4639  «16+» - для детей старше 16 лет                 0.0   \n",
       "5068  «12+» - для детей старше 12 лет                 0.0   \n",
       "\n",
       "      nonrefundable_support  budget financing_source  ratings  \\\n",
       "4639                    0.0     NaN       Неизвестно      7.6   \n",
       "5068                    0.0     NaN       Неизвестно      6.8   \n",
       "\n",
       "                       genres  \n",
       "4639  драма,мелодрама,история  \n",
       "5068         комедия,криминал  "
      ]
     },
     "metadata": {},
     "output_type": "display_data"
    }
   ],
   "source": [
    "#вывод на экран информации по объектам с одинаковым номером прокатного удостоверения\n",
    "display(mkrf_movies[mkrf_movies['puNumber'].duplicated()])"
   ]
  },
  {
   "cell_type": "markdown",
   "metadata": {},
   "source": [
    "Не совсем понятно, почему разные значения прокатного удостоверения выявлены как дубликаты - возможно, здесь присутствует техническая ошибка в данных.\n",
    "\n",
    "**Исключение данных объектов из общего набора не повлияет на общую картину**.\n",
    "\n",
    "Дубликаты в столбце **title** не являются ошибкой - фильмы с одинаковым названием могут выходить в прокат в разное время в зависимости от выдачи удостоверения прокатчику."
   ]
  },
  {
   "cell_type": "code",
   "execution_count": 112,
   "metadata": {},
   "outputs": [],
   "source": [
    "# исключаем из датасета объекты с дубликатами прокатного удостоверения\n",
    "mkrf_movies = mkrf_movies.drop_duplicates(subset = 'puNumber', keep  = 'first')"
   ]
  },
  {
   "cell_type": "code",
   "execution_count": 113,
   "metadata": {},
   "outputs": [],
   "source": [
    "# инициализация пользовательской функции по формированию свода уникальных значений по столбцу таблицы\n",
    "def unique_values (df: pd.DataFrame, feature: str):\n",
    "    print(f'Уникальные значения столбца {feature}')\n",
    "    display(pd.Series(df[feature].unique()))"
   ]
  },
  {
   "cell_type": "code",
   "execution_count": 114,
   "metadata": {},
   "outputs": [
    {
     "name": "stdout",
     "output_type": "stream",
     "text": [
      "Уникальные значения столбца type\n"
     ]
    },
    {
     "data": {
      "text/plain": [
       "0                Художественный\n",
       "1                  Анимационный\n",
       "2                        Прочие\n",
       "3                Документальный\n",
       "4             Научно-популярный\n",
       "5                Художественный\n",
       "6                  Анимационный\n",
       "7    Музыкально-развлекательный\n",
       "dtype: object"
      ]
     },
     "metadata": {},
     "output_type": "display_data"
    }
   ],
   "source": [
    "# вывод на экран уникальных значений показателя 'type'\n",
    "unique_values(mkrf_movies, 'type')"
   ]
  },
  {
   "cell_type": "markdown",
   "metadata": {},
   "source": [
    "В столбце **type** задвоены значения \"Художественный\" и \"Анимационный\".\n",
    "\n",
    "Скорее всего перед основным значением категории есть невидимые знаки: пробелы или табуляция."
   ]
  },
  {
   "cell_type": "code",
   "execution_count": 115,
   "metadata": {},
   "outputs": [
    {
     "data": {
      "text/plain": [
       "array(['Художественный', 'Анимационный', 'Прочие', 'Документальный',\n",
       "       'Научно-популярный', ' Художественный', ' Анимационный',\n",
       "       'Музыкально-развлекательный'], dtype=object)"
      ]
     },
     "execution_count": 115,
     "metadata": {},
     "output_type": "execute_result"
    }
   ],
   "source": [
    "# вывод на экран уникальных значений столбца 'type' в формате списка\n",
    "mkrf_movies['type'].unique()"
   ]
  },
  {
   "cell_type": "code",
   "execution_count": 116,
   "metadata": {},
   "outputs": [
    {
     "name": "stdout",
     "output_type": "stream",
     "text": [
      "Уникальные значения столбца type\n"
     ]
    },
    {
     "data": {
      "text/plain": [
       "0                Художественный\n",
       "1                  Анимационный\n",
       "2                        Прочие\n",
       "3                Документальный\n",
       "4             Научно-популярный\n",
       "5    Музыкально-развлекательный\n",
       "dtype: object"
      ]
     },
     "metadata": {},
     "output_type": "display_data"
    }
   ],
   "source": [
    "# очистка значений столбца 'type' от невидимых знаков\n",
    "mkrf_movies['type'] = mkrf_movies['type'].str.strip()\n",
    "\n",
    "# вывод на экран уникальных значений показателя 'type'\n",
    "unique_values(mkrf_movies, 'type')"
   ]
  },
  {
   "cell_type": "code",
   "execution_count": 117,
   "metadata": {},
   "outputs": [
    {
     "name": "stdout",
     "output_type": "stream",
     "text": [
      "Уникальные значения столбца age_restriction\n"
     ]
    },
    {
     "data": {
      "text/plain": [
       "0               «18+» - запрещено для детей\n",
       "1             «6+» - для детей старше 6 лет\n",
       "2           «12+» - для детей старше 12 лет\n",
       "3           «16+» - для детей старше 16 лет\n",
       "4    «0+» - для любой зрительской аудитории\n",
       "dtype: object"
      ]
     },
     "metadata": {},
     "output_type": "display_data"
    }
   ],
   "source": [
    "# вывод на экран уникальных значений показателя 'age_restriction'\n",
    "unique_values(mkrf_movies, 'age_restriction')"
   ]
  },
  {
   "cell_type": "markdown",
   "metadata": {},
   "source": [
    "Для показателя **age_restriction** выполним небольшую обработку значений - **извлечем показатель возрастной категории, а остальное описание удалим**."
   ]
  },
  {
   "cell_type": "code",
   "execution_count": 118,
   "metadata": {},
   "outputs": [
    {
     "data": {
      "text/plain": [
       "array(['18+', '6+', '12+', '16+', '0+'], dtype=object)"
      ]
     },
     "execution_count": 118,
     "metadata": {},
     "output_type": "execute_result"
    }
   ],
   "source": [
    "# извлечение значений возрастной категории\n",
    "mkrf_movies['age_restriction'] = mkrf_movies['age_restriction'].str.slice(start = 0, stop = 4)\n",
    "# замена оставшихся символов\n",
    "for symb in ['«', '»']:\n",
    "    mkrf_movies['age_restriction'] = mkrf_movies['age_restriction'].str.replace(symb, '')\n",
    "# вывод на экран обновленных значений\n",
    "mkrf_movies['age_restriction'].unique()"
   ]
  },
  {
   "cell_type": "code",
   "execution_count": 119,
   "metadata": {},
   "outputs": [
    {
     "name": "stdout",
     "output_type": "stream",
     "text": [
      "Уникальные значения столбца financing_source\n"
     ]
    },
    {
     "data": {
      "text/plain": [
       "0                          Неизвестно\n",
       "1               Министерство культуры\n",
       "2                           Фонд кино\n",
       "3    Министерство культуры, Фонд кино\n",
       "dtype: object"
      ]
     },
     "metadata": {},
     "output_type": "display_data"
    }
   ],
   "source": [
    "# вывод на экран уникальных зачений показателя 'financing_source'\n",
    "unique_values(mkrf_movies, 'financing_source')"
   ]
  },
  {
   "cell_type": "markdown",
   "metadata": {},
   "source": [
    "В остальных категориальных столбцах сочетания значений жанров (**genres**), киностудии, выпустившей фильм (**film_studio**), страны производства (**production_country**), продюссеров фильма (**producer**) формируют большое количество уникальных значений и изучить информацию о них на данном шаге не представляется возможным.\n",
    "\n",
    "По столбцу с данными о режиссере фильма (**director**) тоже проблематично изучить уникальные значения имен, так как режиссеров слишком много для вывода их на экран.\n"
   ]
  },
  {
   "cell_type": "markdown",
   "metadata": {},
   "source": [
    "### Изучение состояния столбцов с количественными переменными <a class = 'anchor' id = 'Предобработка_количественные'></a>"
   ]
  },
  {
   "cell_type": "code",
   "execution_count": 120,
   "metadata": {},
   "outputs": [
    {
     "name": "stdout",
     "output_type": "stream",
     "text": [
      "['refundable_support', 'nonrefundable_support', 'budget', 'ratings']\n"
     ]
    }
   ],
   "source": [
    "# формирование списка названий столбцов, содержащих количественные значения\n",
    "num_values = mkrf_movies.select_dtypes(include = ['float', 'int']).columns.to_list()\n",
    "\n",
    "# вывод на экран значений списка\n",
    "print(num_values)"
   ]
  },
  {
   "cell_type": "code",
   "execution_count": 121,
   "metadata": {},
   "outputs": [],
   "source": [
    "# инициализация пользовательской функции по построению гистограмм по передаваемым метрикам\n",
    "def histogram_plotting(data: pd.DataFrame, feature : str, bins: int, x_size: int, y_size: int):\n",
    "    # вычисление статистических метрик для дальнейшей визуализации\n",
    "    q1 = data[feature].quantile(0.25)\n",
    "    q3 = data[feature].quantile(0.75)\n",
    "    upper_bound = q3 + 1.5 * (q3 - q1)\n",
    "    lower_bound = q1 - 1.5 * (q3 - q1)\n",
    "\n",
    "    # построение визуализации\n",
    "    plt.figure(figsize = (x_size, y_size))\n",
    "    plt.hist(data[feature], color = 'blue', edgecolor = 'white', bins = bins)\n",
    "    plt.axvline(upper_bound, c = 'red', ls = '-', label = 'верхняя граница допустимых значений')\n",
    "    plt.axvline(q3, c = 'red', ls = '--', label = '3 квартиль значений')\n",
    "    plt.axvline(q1, c = 'black', ls = '--', label = '1 квартиль значений')\n",
    "    plt.axvline(lower_bound, c = 'black', ls = '-', label = 'нижняя граница допустимых значений')\n",
    "    plt.title(f'Гистограмма распределения значений по метрике: {feature}', fontsize = 10)\n",
    "    plt.xlabel(feature)\n",
    "    plt.ylabel('Количество значений по метрике')\n",
    "    plt.legend()\n",
    "    plt.show()\n",
    "\n",
    "    # расчет доли аномальных значений по метрике\n",
    "    print('Доля значений, выходящих за верхнюю границу: {:.2%}'.format(data[data[feature] > upper_bound].shape[0] / data[feature].shape[0]))\n",
    "    print('Доля значений, выходящих за нижнюю границу: {:.2%}'.format(data[data[feature] < lower_bound].shape[0] / data[feature].shape[0]))\n",
    "\n",
    "    # вывод на экран объектов, с значениями, превышающими верхнюю границу\n",
    "    print('Названия фильмов, значения которых по метрике превышают верхнюю границу')\n",
    "    display(data[data[feature] > upper_bound]['title'].unique())"
   ]
  },
  {
   "cell_type": "markdown",
   "metadata": {},
   "source": [
    "Для построения гистограмм распределения значений финансовой поддержки со стороны государства сформируем отдельную переменную, где **показатели бюджета не будут равны 0**."
   ]
  },
  {
   "cell_type": "code",
   "execution_count": 122,
   "metadata": {},
   "outputs": [],
   "source": [
    "# инициализация переменной 'state_movies' для хранения фильмов получивших государственную поддержку\n",
    "state_movies = mkrf_movies[mkrf_movies['budget'].isna() != True]"
   ]
  },
  {
   "cell_type": "code",
   "execution_count": 123,
   "metadata": {},
   "outputs": [
    {
     "data": {
      "image/png": "[encoded data removed]",
      "text/plain": [
       "<Figure size 1000x500 with 1 Axes>"
      ]
     },
     "metadata": {},
     "output_type": "display_data"
    },
    {
     "name": "stdout",
     "output_type": "stream",
     "text": [
      "Доля значений, выходящих за верхнюю границу: 9.64%\n",
      "Доля значений, выходящих за нижнюю границу: 0.00%\n",
      "Названия фильмов, значения которых по метрике превышают верхнюю границу\n"
     ]
    },
    {
     "data": {
      "text/plain": [
       "array(['Батальонъ', 'Территория', 'Он - Дракон', 'Экипаж .',\n",
       "       'Крякнутые каникулы', 'Время первых (2017)', 'Дуэлянт', 'Ледокол',\n",
       "       'Защитники', 'БОЛЬШОЙ', 'Урфин Джюс и его деревянные солдаты',\n",
       "       'Матильда', 'Салют-7', 'Последний богатырь', 'Легенда о Коловрате',\n",
       "       'Движение вверх', 'Рубеж', 'Тренер', 'СОБИБОР (SOBIBOR)',\n",
       "       'Гурвинек. Волшебная игра', 'Т-34', 'Снежная Королева: Зазеркалье',\n",
       "       'Волки и Овцы: Ход Свиньей', 'Тобол', 'Девятая', 'Одесса',\n",
       "       'Тайна Печати Дракона', 'Грех', 'Урфин Джюс возвращается',\n",
       "       'Лев Яшин. Вратарь моей мечты', 'Союз спасения', 'Вторжение'],\n",
       "      dtype=object)"
      ]
     },
     "metadata": {},
     "output_type": "display_data"
    }
   ],
   "source": [
    "# построение гистограммы распределения значений бюджета\n",
    "histogram_plotting(state_movies, 'budget', 100, 10, 5)"
   ]
  },
  {
   "cell_type": "code",
   "execution_count": 124,
   "metadata": {},
   "outputs": [
    {
     "data": {
      "image/png": "[encoded data removed]",
      "text/plain": [
       "<Figure size 1000x500 with 1 Axes>"
      ]
     },
     "metadata": {},
     "output_type": "display_data"
    },
    {
     "name": "stdout",
     "output_type": "stream",
     "text": [
      "Доля значений, выходящих за верхнюю границу: 14.46%\n",
      "Доля значений, выходящих за нижнюю границу: 2.71%\n",
      "Названия фильмов, значения которых по метрике превышают верхнюю границу\n"
     ]
    },
    {
     "data": {
      "text/plain": [
       "array(['Невидимки', 'А зори здесь тихие..._', 'Призрак_.', 'Дуxless 2',\n",
       "       'Левиафан.', 'Воин (2015)', 'Однажды._',\n",
       "       'Смешарики. Легенда о золотом драконе', 'Савва. Сердце воина',\n",
       "       'Он - Дракон', 'Экипаж .', 'Дама Пик', 'Время первых (2017)',\n",
       "       'Дуэлянт', 'Ледокол', 'Защитники',\n",
       "       'СНЕЖНАЯ КОРОЛЕВА 3. ОГОНЬ И ЛЁД', 'Притяжение (2016)', 'Ёлки 5',\n",
       "       'БОЛЬШОЙ', 'Простая история .', 'Молот',\n",
       "       'Урфин Джюс и его деревянные солдаты', 'Матильда', 'Напарник',\n",
       "       'Салют-7', 'Легенда о Коловрате', 'Движение вверх', 'Рубеж',\n",
       "       'Тренер', 'Черновик', 'Вечная жизнь Александра Христофорова',\n",
       "       'Семь пар нечистых', 'Крымский мост. Сделано с любовью',\n",
       "       'СУПЕРБОБРОВЫ. НАРОДНЫЕ МСТИТЕЛИ', 'Баба Яга', 'Т-34', 'Тобол',\n",
       "       'Большое путешествие', 'Братство', 'Миллиард', 'Девятая', 'Одесса',\n",
       "       'Тайна Печати Дракона', 'Герой', 'Урфин Джюс возвращается',\n",
       "       'Союз спасения', 'Вторжение'], dtype=object)"
      ]
     },
     "metadata": {},
     "output_type": "display_data"
    }
   ],
   "source": [
    "# построение гистограммы распределения значений невозвратных средств\n",
    "histogram_plotting(state_movies, 'nonrefundable_support', 10, 10, 5)"
   ]
  },
  {
   "cell_type": "code",
   "execution_count": 125,
   "metadata": {},
   "outputs": [
    {
     "data": {
      "image/png": "[encoded data removed]",
      "text/plain": [
       "<Figure size 1000x500 with 1 Axes>"
      ]
     },
     "metadata": {},
     "output_type": "display_data"
    },
    {
     "name": "stdout",
     "output_type": "stream",
     "text": [
      "Доля значений, выходящих за верхнюю границу: 12.05%\n",
      "Доля значений, выходящих за нижнюю границу: 0.00%\n",
      "Названия фильмов, значения которых по метрике превышают верхнюю границу\n"
     ]
    },
    {
     "data": {
      "text/plain": [
       "array(['А зори здесь тихие..._', 'Смешарики. Легенда о золотом драконе',\n",
       "       'Савва. Сердце воина', 'Дабл трабл', 'Страна чудес',\n",
       "       'Супербобровы', 'Экипаж .', 'Крякнутые каникулы', 'Герой (2015)',\n",
       "       'Кухня. Последняя битва', 'Время первых (2017)', 'Дуэлянт',\n",
       "       'Вурдалаки', 'Ледокол', 'Защитники', 'Дед Мороз. Битва Магов',\n",
       "       'СНЕЖНАЯ КОРОЛЕВА 3. ОГОНЬ И ЛЁД', 'Ночные стражи', 'Молот',\n",
       "       'Матильда', 'Последний богатырь', 'Легенда о Коловрате',\n",
       "       'Ёлки Новые', 'Три богатыря и принцесса Египта',\n",
       "       'Ну, здравствуй, Оксана Соколова!', 'Черновик',\n",
       "       'Принцесса и дракон', 'СУПЕРБОБРОВЫ. НАРОДНЫЕ МСТИТЕЛИ',\n",
       "       'Три богатыря и наследница престола', 'Ёлки Последние', 'Т-34',\n",
       "       'Снежная Королева: Зазеркалье', 'Волки и Овцы: Ход Свиньей',\n",
       "       'Большое путешествие', 'Тайна Печати Дракона',\n",
       "       'Фиксики против кработов', 'Союз спасения',\n",
       "       'Иван Царевич и Серый Волк 4', 'Вторжение',\n",
       "       '(Не)идеальный мужчина'], dtype=object)"
      ]
     },
     "metadata": {},
     "output_type": "display_data"
    }
   ],
   "source": [
    "# построение гистограммы распределения значений возвратных средств\n",
    "histogram_plotting(state_movies, 'refundable_support', 10, 10, 5)"
   ]
  },
  {
   "cell_type": "code",
   "execution_count": 126,
   "metadata": {},
   "outputs": [
    {
     "data": {
      "image/png": "[encoded data removed]",
      "text/plain": [
       "<Figure size 1000x500 with 1 Axes>"
      ]
     },
     "metadata": {},
     "output_type": "display_data"
    },
    {
     "name": "stdout",
     "output_type": "stream",
     "text": [
      "Доля значений, выходящих за верхнюю границу: 0.01%\n",
      "Доля значений, выходящих за нижнюю границу: 2.39%\n",
      "Названия фильмов, значения которых по метрике превышают верхнюю границу\n"
     ]
    },
    {
     "data": {
      "text/plain": [
       "array(['Друзья друзей'], dtype=object)"
      ]
     },
     "metadata": {},
     "output_type": "display_data"
    }
   ],
   "source": [
    "# построение гистограммы распределения значений рейтинга фильма\n",
    "histogram_plotting(mkrf_movies, 'ratings', 10, 10, 5)"
   ]
  },
  {
   "cell_type": "code",
   "execution_count": 127,
   "metadata": {},
   "outputs": [
    {
     "name": "stdout",
     "output_type": "stream",
     "text": [
      "Максимальное значение рейтинга в наборе данных: 9.2\n",
      "Минимальное значение рейтинга в наборе данных: 1.0\n"
     ]
    }
   ],
   "source": [
    "# вывод на экран минимальных и максимальных значений по показателю 'rating'\n",
    "print('Максимальное значение рейтинга в наборе данных:', mkrf_movies['ratings'].max())\n",
    "print('Минимальное значение рейтинга в наборе данных:', mkrf_movies['ratings'].min())"
   ]
  },
  {
   "cell_type": "markdown",
   "metadata": {},
   "source": [
    "**Вывод по построенной визуализации**:"
   ]
  },
  {
   "cell_type": "markdown",
   "metadata": {},
   "source": [
    "1. Аномальных значений по показателям бюджета и объемам государственной поддержки не обнаружено. Большие дотации от государства получают либо военно-исторические картины (\"Т-34\", \"А зори здесь тихие\"), исторические картины (\"Матильда\", \"Движение вверх\", \"Время первых\", \"Легенда 17\"), либо картины отечественной анимации (\"Снежная королева\", \"Волки и овцы\");\n",
    "2. По показателю рейтинга фильма не обнаружены аномальные значения по критериям:\n",
    "    * Значения рейтинга не могут быть отрицательными;\n",
    "    * Значения рейтинга не могут превышать 10 баллов.\n",
    "\n",
    "Таким образом, количественные данные не требуют дальнейшей обработки от аномальных максимальных и минимальных значений."
   ]
  },
  {
   "cell_type": "markdown",
   "metadata": {},
   "source": [
    "### Инициализация новых столбцов в наборе данных <a class = 'anchor' id = 'Предобработка_новыеСтолбцы'></a>"
   ]
  },
  {
   "cell_type": "code",
   "execution_count": 128,
   "metadata": {},
   "outputs": [],
   "source": [
    "# инициализация столбца 'year' для хранения значений года выхода в прокат\n",
    "mkrf_movies['year'] = mkrf_movies['show_start_date'].dt.year\n",
    "\n",
    "# инициализация столбца с именем и фамилией главного режиссера\n",
    "mkrf_movies['main_director'] = mkrf_movies['director'].str.split(',').str[0]\n",
    "\n",
    "# инициализация столбца с главным жанром фильма\n",
    "mkrf_movies['main_genre'] = mkrf_movies['genres'].str.split(',').str[0]\n",
    "\n",
    "# инициализация столбца с доле государственной поддержки фильма\n",
    "mkrf_movies['%_support'] = round((mkrf_movies['refundable_support'] + mkrf_movies['nonrefundable_support']) / mkrf_movies['budget'] * 100, 2).fillna(0.0)"
   ]
  },
  {
   "cell_type": "code",
   "execution_count": 129,
   "metadata": {},
   "outputs": [
    {
     "data": {
      "text/html": [
       "<div>\n",
       "<style scoped>\n",
       "    .dataframe tbody tr th:only-of-type {\n",
       "        vertical-align: middle;\n",
       "    }\n",
       "\n",
       "    .dataframe tbody tr th {\n",
       "        vertical-align: top;\n",
       "    }\n",
       "\n",
       "    .dataframe thead th {\n",
       "        text-align: right;\n",
       "    }\n",
       "</style>\n",
       "<table border=\"1\" class=\"dataframe\">\n",
       "  <thead>\n",
       "    <tr style=\"text-align: right;\">\n",
       "      <th></th>\n",
       "      <th>title</th>\n",
       "      <th>puNumber</th>\n",
       "      <th>show_start_date</th>\n",
       "      <th>type</th>\n",
       "      <th>film_studio</th>\n",
       "      <th>production_country</th>\n",
       "      <th>director</th>\n",
       "      <th>producer</th>\n",
       "      <th>age_restriction</th>\n",
       "      <th>refundable_support</th>\n",
       "      <th>nonrefundable_support</th>\n",
       "      <th>budget</th>\n",
       "      <th>financing_source</th>\n",
       "      <th>ratings</th>\n",
       "      <th>genres</th>\n",
       "      <th>year</th>\n",
       "      <th>main_director</th>\n",
       "      <th>main_genre</th>\n",
       "      <th>%_support</th>\n",
       "    </tr>\n",
       "  </thead>\n",
       "  <tbody>\n",
       "    <tr>\n",
       "      <th>0</th>\n",
       "      <td>Открытый простор</td>\n",
       "      <td>221048915</td>\n",
       "      <td>2015-11-27</td>\n",
       "      <td>Художественный</td>\n",
       "      <td>Тачстоун Пикчерз, Кобальт Пикчерз, Бикон Пикче...</td>\n",
       "      <td>США</td>\n",
       "      <td>Кевин Костнер</td>\n",
       "      <td>Дэвид Валдес, Кевин Костнер, Джейк Эбертс</td>\n",
       "      <td>18+</td>\n",
       "      <td>0.0</td>\n",
       "      <td>0.0</td>\n",
       "      <td>NaN</td>\n",
       "      <td>Неизвестно</td>\n",
       "      <td>7.2</td>\n",
       "      <td>боевик,драма,мелодрама</td>\n",
       "      <td>2015</td>\n",
       "      <td>Кевин Костнер</td>\n",
       "      <td>боевик</td>\n",
       "      <td>0.0</td>\n",
       "    </tr>\n",
       "    <tr>\n",
       "      <th>1</th>\n",
       "      <td>Особо важное задание</td>\n",
       "      <td>111013716</td>\n",
       "      <td>2016-09-13</td>\n",
       "      <td>Художественный</td>\n",
       "      <td>Киностудия \"Мосфильм\"</td>\n",
       "      <td>СССР</td>\n",
       "      <td>Е.Матвеев</td>\n",
       "      <td>Неизвестно</td>\n",
       "      <td>6+</td>\n",
       "      <td>0.0</td>\n",
       "      <td>0.0</td>\n",
       "      <td>NaN</td>\n",
       "      <td>Неизвестно</td>\n",
       "      <td>6.6</td>\n",
       "      <td>драма,военный</td>\n",
       "      <td>2016</td>\n",
       "      <td>Е.Матвеев</td>\n",
       "      <td>драма</td>\n",
       "      <td>0.0</td>\n",
       "    </tr>\n",
       "    <tr>\n",
       "      <th>2</th>\n",
       "      <td>Особо опасен</td>\n",
       "      <td>221038416</td>\n",
       "      <td>2016-10-10</td>\n",
       "      <td>Художественный</td>\n",
       "      <td>Юниверсал Пикчерз, Кикстарт Продакшнз, Марк Пл...</td>\n",
       "      <td>США</td>\n",
       "      <td>Тимур Бекмамбетов</td>\n",
       "      <td>Джим Лемли, Джейсон Нетер, Марк Е.Платт, Яйн Смит</td>\n",
       "      <td>18+</td>\n",
       "      <td>0.0</td>\n",
       "      <td>0.0</td>\n",
       "      <td>NaN</td>\n",
       "      <td>Неизвестно</td>\n",
       "      <td>6.8</td>\n",
       "      <td>фантастика,боевик,триллер</td>\n",
       "      <td>2016</td>\n",
       "      <td>Тимур Бекмамбетов</td>\n",
       "      <td>фантастика</td>\n",
       "      <td>0.0</td>\n",
       "    </tr>\n",
       "    <tr>\n",
       "      <th>3</th>\n",
       "      <td>Особо опасен</td>\n",
       "      <td>221026916</td>\n",
       "      <td>2016-06-10</td>\n",
       "      <td>Художественный</td>\n",
       "      <td>Юниверсал Пикчерз, Кикстарт Продакшнз, Марк Пл...</td>\n",
       "      <td>США</td>\n",
       "      <td>Тимур Бекмамбетов</td>\n",
       "      <td>Джим Лемли, Джейсон Нетер, Марк Е.Платт, Яйн Смит</td>\n",
       "      <td>18+</td>\n",
       "      <td>0.0</td>\n",
       "      <td>0.0</td>\n",
       "      <td>NaN</td>\n",
       "      <td>Неизвестно</td>\n",
       "      <td>6.8</td>\n",
       "      <td>фантастика,боевик,триллер</td>\n",
       "      <td>2016</td>\n",
       "      <td>Тимур Бекмамбетов</td>\n",
       "      <td>фантастика</td>\n",
       "      <td>0.0</td>\n",
       "    </tr>\n",
       "    <tr>\n",
       "      <th>4</th>\n",
       "      <td>Особо опасен</td>\n",
       "      <td>221030815</td>\n",
       "      <td>2015-07-29</td>\n",
       "      <td>Художественный</td>\n",
       "      <td>Юниверсал Пикчерз, Кикстарт Продакшнз, Марк Пл...</td>\n",
       "      <td>США</td>\n",
       "      <td>Тимур Бекмамбетов</td>\n",
       "      <td>Джим Лемли, Джейсон Нетер, Марк Е.Платт, Яйн Смит</td>\n",
       "      <td>18+</td>\n",
       "      <td>0.0</td>\n",
       "      <td>0.0</td>\n",
       "      <td>NaN</td>\n",
       "      <td>Неизвестно</td>\n",
       "      <td>6.8</td>\n",
       "      <td>фантастика,боевик,триллер</td>\n",
       "      <td>2015</td>\n",
       "      <td>Тимур Бекмамбетов</td>\n",
       "      <td>фантастика</td>\n",
       "      <td>0.0</td>\n",
       "    </tr>\n",
       "  </tbody>\n",
       "</table>\n",
       "</div>"
      ],
      "text/plain": [
       "                  title   puNumber show_start_date            type  \\\n",
       "0      Открытый простор  221048915      2015-11-27  Художественный   \n",
       "1  Особо важное задание  111013716      2016-09-13  Художественный   \n",
       "2          Особо опасен  221038416      2016-10-10  Художественный   \n",
       "3          Особо опасен  221026916      2016-06-10  Художественный   \n",
       "4          Особо опасен  221030815      2015-07-29  Художественный   \n",
       "\n",
       "                                         film_studio production_country  \\\n",
       "0  Тачстоун Пикчерз, Кобальт Пикчерз, Бикон Пикче...                США   \n",
       "1                              Киностудия \"Мосфильм\"               СССР   \n",
       "2  Юниверсал Пикчерз, Кикстарт Продакшнз, Марк Пл...                США   \n",
       "3  Юниверсал Пикчерз, Кикстарт Продакшнз, Марк Пл...                США   \n",
       "4  Юниверсал Пикчерз, Кикстарт Продакшнз, Марк Пл...                США   \n",
       "\n",
       "            director                                           producer  \\\n",
       "0      Кевин Костнер          Дэвид Валдес, Кевин Костнер, Джейк Эбертс   \n",
       "1          Е.Матвеев                                         Неизвестно   \n",
       "2  Тимур Бекмамбетов  Джим Лемли, Джейсон Нетер, Марк Е.Платт, Яйн Смит   \n",
       "3  Тимур Бекмамбетов  Джим Лемли, Джейсон Нетер, Марк Е.Платт, Яйн Смит   \n",
       "4  Тимур Бекмамбетов  Джим Лемли, Джейсон Нетер, Марк Е.Платт, Яйн Смит   \n",
       "\n",
       "  age_restriction  refundable_support  nonrefundable_support  budget  \\\n",
       "0             18+                 0.0                    0.0     NaN   \n",
       "1              6+                 0.0                    0.0     NaN   \n",
       "2             18+                 0.0                    0.0     NaN   \n",
       "3             18+                 0.0                    0.0     NaN   \n",
       "4             18+                 0.0                    0.0     NaN   \n",
       "\n",
       "  financing_source  ratings                     genres  year  \\\n",
       "0       Неизвестно      7.2     боевик,драма,мелодрама  2015   \n",
       "1       Неизвестно      6.6              драма,военный  2016   \n",
       "2       Неизвестно      6.8  фантастика,боевик,триллер  2016   \n",
       "3       Неизвестно      6.8  фантастика,боевик,триллер  2016   \n",
       "4       Неизвестно      6.8  фантастика,боевик,триллер  2015   \n",
       "\n",
       "       main_director  main_genre  %_support  \n",
       "0      Кевин Костнер      боевик        0.0  \n",
       "1          Е.Матвеев       драма        0.0  \n",
       "2  Тимур Бекмамбетов  фантастика        0.0  \n",
       "3  Тимур Бекмамбетов  фантастика        0.0  \n",
       "4  Тимур Бекмамбетов  фантастика        0.0  "
      ]
     },
     "metadata": {},
     "output_type": "display_data"
    }
   ],
   "source": [
    "# вывод на экран структуры обновленного датасета\n",
    "display(mkrf_movies.head())"
   ]
  },
  {
   "cell_type": "markdown",
   "metadata": {},
   "source": [
    "**Вывод:**\n",
    "\n",
    "1. Преобразованы типы данных в столбцах таблицы:\n",
    "    * `mkrf_movies`:\n",
    "        * **show_start_date** - дата премьеры фильма - значения преобразованы к типу datetime;\n",
    "        * **ratings** - рейтинг фильма на КиноПоиске - значения преобразованы к типу float;\n",
    "    * `mkrf_shows`:\n",
    "        * **puNumbers** - номер прокатного удостоверения - значения преобразованы к типу string.\n",
    "2. Проведена обработка пустых значений в данных:\n",
    "    * `mkrf_movies`:\n",
    "        * строки с пустыми значениями в столбцах **director**, **film_studio**, **production_country**, **title** исключены из общего набора;\n",
    "        * пустые значения в категориальных параметрах **genres**, **producer**, **financing_source** заменены на значение \"Неизвестно\";\n",
    "        * пустые значения в количественных параметрах **refundable_support**, **nonrefundable_support** заменены на 0.0;\n",
    "3. Датасеты проверены на дубликаты и произведена очистка данных:\n",
    "    * `mkrf_movies`:\n",
    "        * явные дубликаты отсутствуют;\n",
    "        * очищены неявные дубликаты в столбце **type**;\n",
    "        * исключены строки с дубликатами в столбце **puNumber**;\n",
    "        * обработаны значения в столбце **age_restriction** - извлечены значения возрастной категории;\n",
    "    * `mkrf_shows`:\n",
    "        * явные дубликаты отсутствуют;\n",
    "        * неявные дубликаты отсутствуют;\n",
    "4. Изучено состояние столбцов с количественными значениями:\n",
    "    * аномальные значения не обнаружены;\n",
    "5. Инициализированы новые столбцы в наборе данных:\n",
    "    * Год проката фильма;\n",
    "    * Имя и фамилия режиссера фильма;\n",
    "    * Основной жанр фильма;\n",
    "    * Доля государственной поддержки от общего бюджета фильма;"
   ]
  },
  {
   "cell_type": "markdown",
   "metadata": {},
   "source": [
    "## Исследовательский анализ данных <a class = 'anchor' id = 'Исследование'></a>"
   ]
  },
  {
   "cell_type": "markdown",
   "metadata": {},
   "source": [
    "Данный блок характеризуется следующими последовательными действиями:\n",
    "\n",
    "1. Объединение наборов данных в единый датасет - инициализация переменной **data**;\n",
    "2. Изучение количества фильмов, вышедших в прокат в каждый год. Расчет доли фильмов, для которых указана информация о прокате;\n",
    "3. Изучение динамики сборов фильмов за каждый год;\n",
    "4. Изучение медианного и среднего значения сборов за каждый год;\n",
    "5. Изучение влияния возрастной категории фильма на величину сборов. Изучение данного факта в разрезе 2015 - 2019 гг.\n",
    "6. Формирование вывода по итогам данного этапа."
   ]
  },
  {
   "cell_type": "code",
   "execution_count": 131,
   "metadata": {},
   "outputs": [],
   "source": [
    "# объединение наборов данных - инициализация переменной data\n",
    "data = mkrf_movies.merge(mkrf_shows, on = 'puNumber', how = 'left')"
   ]
  },
  {
   "cell_type": "markdown",
   "metadata": {},
   "source": [
    "### Изучение динамики кинопроката по количеству фильмов <a class = 'anchor' id = 'Исследование_динамика'></a>"
   ]
  },
  {
   "cell_type": "code",
   "execution_count": 141,
   "metadata": {},
   "outputs": [
    {
     "name": "stdout",
     "output_type": "stream",
     "text": [
      "Доля фильмов из набора данных с информацией о результатах проката: 57.69%\n"
     ]
    }
   ],
   "source": [
    "# вывод на экран доли фильмов от общего набора, для которых указан год проката\n",
    "print('Доля фильмов из набора данных с информацией о результатах проката: {:.2%}'.format(data[data['box_office'].isna()].shape[0] / data.shape[0]))"
   ]
  },
  {
   "cell_type": "code",
   "execution_count": null,
   "metadata": {},
   "outputs": [
    {
     "data": {
      "image/png": "[encoded data removed]",
      "text/plain": [
       "<Figure size 640x480 with 1 Axes>"
      ]
     },
     "metadata": {},
     "output_type": "display_data"
    }
   ],
   "source": [
    "# формирование свода по изменению доли фильмов с информацией о результатах проката\n",
    "movies_per_year = (data.groupby('year').agg({'box_office' : 'count', 'title' : 'count'})\n",
    "                       .rename(columns = {'box_office' : 'movies_boxOffice', 'title' : 'total_movies'}))\n",
    "movies_per_year['%_boxOffice_movies'] = round(movies_per_year['movies_boxOffice'] / movies_per_year['total_movies'] * 100, 2)\n",
    "\n",
    "# формирование графика динамики фильмов с известными кассовыми сборами\n",
    "movies_per_year['%_boxOffice_movies'].plot(marker = 'o')\n",
    "plt.title('Динамика доли фильмов с известными данными сборов', fontsize = 12)\n",
    "plt.xlabel('Год проката фильма')\n",
    "plt.ylabel('Доля фильмов с известными данными сборов, %')\n",
    "plt.show()"
   ]
  },
  {
   "cell_type": "markdown",
   "metadata": {},
   "source": [
    "**Вывод по построенной визуализации**:\n",
    "\n",
    "Наиболее полно в имеющихся данных представлен период 2015 - 2019 гг. К моменту 2015 года доля фильмов с известными данными о кассовых сборов достигает порядка 70% и не опускается ниже 50% по ходу 4 последующих лет. "
   ]
  },
  {
   "cell_type": "markdown",
   "metadata": {},
   "source": [
    "### Изучение динамики кинопроката по суммарными кассовым сборам <a class = 'anchor' id = 'Изучение_касса'></a>"
   ]
  },
  {
   "cell_type": "code",
   "execution_count": 149,
   "metadata": {},
   "outputs": [
    {
     "data": {
      "image/png": "[encoded data removed]",
      "text/plain": [
       "<Figure size 640x480 with 1 Axes>"
      ]
     },
     "metadata": {},
     "output_type": "display_data"
    }
   ],
   "source": [
    "# формирование свода по изменению доли фильмов с информацией о результатах проката\n",
    "box_office_per_year = (data.groupby('year').agg({'box_office' : 'sum'})\n",
    "                       .rename(columns = {'box_office' : 'total_value'}))\n",
    "\n",
    "# формирование графика динамики фильмов с известными кассовыми сборами\n",
    "box_office_per_year.plot(marker = 'o')\n",
    "plt.title('Динамика кассовых сборов фильмов', fontsize = 12)\n",
    "plt.xlabel('Год проката фильма')\n",
    "plt.ylabel('Величина кассовых сборов')\n",
    "plt.show()"
   ]
  },
  {
   "cell_type": "markdown",
   "metadata": {},
   "source": [
    "**Вывод по построенной визуализации**:"
   ]
  },
  {
   "cell_type": "markdown",
   "metadata": {},
   "source": [
    "### Изучение медианного и среднего значений кассовых сборов за каждый год <a class = 'anchor' id = 'Исследование_статистика'></a>"
   ]
  },
  {
   "cell_type": "code",
   "execution_count": 151,
   "metadata": {},
   "outputs": [
    {
     "data": {
      "text/html": [
       "<div>\n",
       "<style scoped>\n",
       "    .dataframe tbody tr th:only-of-type {\n",
       "        vertical-align: middle;\n",
       "    }\n",
       "\n",
       "    .dataframe tbody tr th {\n",
       "        vertical-align: top;\n",
       "    }\n",
       "\n",
       "    .dataframe thead th {\n",
       "        text-align: right;\n",
       "    }\n",
       "</style>\n",
       "<table border=\"1\" class=\"dataframe\">\n",
       "  <thead>\n",
       "    <tr style=\"text-align: right;\">\n",
       "      <th></th>\n",
       "      <th>total_value</th>\n",
       "      <th>median</th>\n",
       "      <th>mean</th>\n",
       "      <th>min</th>\n",
       "      <th>max</th>\n",
       "    </tr>\n",
       "    <tr>\n",
       "      <th>year</th>\n",
       "      <th></th>\n",
       "      <th></th>\n",
       "      <th></th>\n",
       "      <th></th>\n",
       "      <th></th>\n",
       "    </tr>\n",
       "  </thead>\n",
       "  <tbody>\n",
       "    <tr>\n",
       "      <th>2010</th>\n",
       "      <td>2.428654e+06</td>\n",
       "      <td>1700.000</td>\n",
       "      <td>2.313004e+04</td>\n",
       "      <td>0.0</td>\n",
       "      <td>1.446400e+06</td>\n",
       "    </tr>\n",
       "    <tr>\n",
       "      <th>2011</th>\n",
       "      <td>1.410276e+07</td>\n",
       "      <td>3000.000</td>\n",
       "      <td>1.293832e+05</td>\n",
       "      <td>125.0</td>\n",
       "      <td>1.161808e+07</td>\n",
       "    </tr>\n",
       "    <tr>\n",
       "      <th>2012</th>\n",
       "      <td>6.911073e+06</td>\n",
       "      <td>5560.000</td>\n",
       "      <td>5.441790e+04</td>\n",
       "      <td>0.0</td>\n",
       "      <td>2.311220e+06</td>\n",
       "    </tr>\n",
       "    <tr>\n",
       "      <th>2013</th>\n",
       "      <td>2.979971e+07</td>\n",
       "      <td>3522.500</td>\n",
       "      <td>1.619549e+05</td>\n",
       "      <td>0.0</td>\n",
       "      <td>1.995703e+07</td>\n",
       "    </tr>\n",
       "    <tr>\n",
       "      <th>2014</th>\n",
       "      <td>7.444952e+09</td>\n",
       "      <td>18160.000</td>\n",
       "      <td>2.668442e+07</td>\n",
       "      <td>0.0</td>\n",
       "      <td>1.016411e+09</td>\n",
       "    </tr>\n",
       "    <tr>\n",
       "      <th>2015</th>\n",
       "      <td>3.949737e+10</td>\n",
       "      <td>4920933.000</td>\n",
       "      <td>8.494057e+07</td>\n",
       "      <td>0.0</td>\n",
       "      <td>1.658861e+09</td>\n",
       "    </tr>\n",
       "    <tr>\n",
       "      <th>2016</th>\n",
       "      <td>4.786611e+10</td>\n",
       "      <td>3915041.020</td>\n",
       "      <td>9.117353e+07</td>\n",
       "      <td>0.0</td>\n",
       "      <td>2.048126e+09</td>\n",
       "    </tr>\n",
       "    <tr>\n",
       "      <th>2017</th>\n",
       "      <td>4.856371e+10</td>\n",
       "      <td>9968340.000</td>\n",
       "      <td>1.360328e+08</td>\n",
       "      <td>7900.0</td>\n",
       "      <td>2.779686e+09</td>\n",
       "    </tr>\n",
       "    <tr>\n",
       "      <th>2018</th>\n",
       "      <td>4.966836e+10</td>\n",
       "      <td>8911533.935</td>\n",
       "      <td>1.047856e+08</td>\n",
       "      <td>42469.0</td>\n",
       "      <td>2.271754e+09</td>\n",
       "    </tr>\n",
       "    <tr>\n",
       "      <th>2019</th>\n",
       "      <td>4.842571e+10</td>\n",
       "      <td>4627798.345</td>\n",
       "      <td>9.136926e+07</td>\n",
       "      <td>4398.4</td>\n",
       "      <td>3.073569e+09</td>\n",
       "    </tr>\n",
       "  </tbody>\n",
       "</table>\n",
       "</div>"
      ],
      "text/plain": [
       "       total_value       median          mean      min           max\n",
       "year                                                                \n",
       "2010  2.428654e+06     1700.000  2.313004e+04      0.0  1.446400e+06\n",
       "2011  1.410276e+07     3000.000  1.293832e+05    125.0  1.161808e+07\n",
       "2012  6.911073e+06     5560.000  5.441790e+04      0.0  2.311220e+06\n",
       "2013  2.979971e+07     3522.500  1.619549e+05      0.0  1.995703e+07\n",
       "2014  7.444952e+09    18160.000  2.668442e+07      0.0  1.016411e+09\n",
       "2015  3.949737e+10  4920933.000  8.494057e+07      0.0  1.658861e+09\n",
       "2016  4.786611e+10  3915041.020  9.117353e+07      0.0  2.048126e+09\n",
       "2017  4.856371e+10  9968340.000  1.360328e+08   7900.0  2.779686e+09\n",
       "2018  4.966836e+10  8911533.935  1.047856e+08  42469.0  2.271754e+09\n",
       "2019  4.842571e+10  4627798.345  9.136926e+07   4398.4  3.073569e+09"
      ]
     },
     "execution_count": 151,
     "metadata": {},
     "output_type": "execute_result"
    }
   ],
   "source": [
    "# формирование свода с основными статистическими метриками по каждому году - инициализация переменной 'box_office_stat'\n",
    "box_office_stat = data.pivot_table(index = 'year',\n",
    "                                   values = 'box_office',\n",
    "                                   aggfunc = ['sum', 'median', 'mean', 'min', 'max'])\n",
    "box_office_stat.columns = ['total_value', 'median', 'mean', 'min', 'max']\n",
    "box_office_stat"
   ]
  },
  {
   "cell_type": "code",
   "execution_count": null,
   "metadata": {},
   "outputs": [],
   "source": []
  }
 ],
 "metadata": {
  "kernelspec": {
   "display_name": "Python 3",
   "language": "python",
   "name": "python3"
  },
  "language_info": {
   "codemirror_mode": {
    "name": "ipython",
    "version": 3
   },
   "file_extension": ".py",
   "mimetype": "text/x-python",
   "name": "python",
   "nbconvert_exporter": "python",
   "pygments_lexer": "ipython3",
   "version": "3.10.0"
  }
 },
 "nbformat": 4,
 "nbformat_minor": 2
}
