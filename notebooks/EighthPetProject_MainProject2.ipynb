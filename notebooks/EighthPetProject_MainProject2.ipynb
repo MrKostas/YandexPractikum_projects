{
 "cells": [
  {
   "cell_type": "markdown",
   "metadata": {},
   "source": [
    "# Учебный проект 8_HR-аналитика удовлетворенности персонала"
   ]
  },
  {
   "cell_type": "markdown",
   "metadata": {},
   "source": [
    "## Содержание\n",
    "\n",
    "* [Описание проекта](#описание-проекта)\n",
    "* [Импорт библиотек Python](#импорт-библиотек-python)\n",
    "* [Задача 1_Предсказание уровня удовлетворенности сотрудника](#задача-1_предсказание-уровня-удовлетворенности-сотрудника)\n",
    "    * [Загрузка данных](#загрузка-данных)"
   ]
  },
  {
   "cell_type": "markdown",
   "metadata": {},
   "source": [
    "## Описание проекта <a class = 'anchor' id = 'Описание'></a>"
   ]
  },
  {
   "cell_type": "markdown",
   "metadata": {},
   "source": [
    "На исследовании находятся данные с `показателями анкетирования сотрудников компании`, которые были предоставлены руководством компании \"Работа с заботой\".\n",
    "\n",
    "---\n",
    "\n",
    "`Задача`\n",
    "\n",
    "Разработать модели машинного обучения для:\n",
    "1. **предсказания уровней удовлетворенности сотрудников**;\n",
    "2. **предсказания увольнения сотрудников из компании**;\n",
    "\n",
    "---\n",
    "\n",
    "`Путь решения`\n",
    "\n",
    "1. Собрать данные по сотрудникам в следующем ключе:\n",
    "    * Данные о сотрудниках и их удовлетворенности работой в компании по результатам анкетирования:\n",
    "        * Данные для обучения моделей;\n",
    "        * Данные для тестирования качества моделей.\n",
    "    * Данные о сотрудниках и их показателе ухода из компании:\n",
    "        * Данные для обучения моделей;\n",
    "        * Данные для тестирования качества моделей.\n",
    "2. Провести предобработку значений в наборах данных; Провести исследовательский анализ данных для выявления закономерностей, применимых к последующей настройке моделей МО;\n",
    "3. Построить модель, которая `предскажет уровень удовлетворенности сотрудников` (задача может решаться как моделями регрессии, так и моделями классификации);\n",
    "4. Построить модель, которая `предскажет вероятность ухода сотрудника из компании` (задача может решаться моделями классификации);\n",
    "5. Оценить качество моделей на метриках (это могут быть как стандартные метрики, так и собственные - например, SMAPE);\n",
    "6. Сформировать вывод о подготовленных решениях. Предложить заказчику лучшие модели для решения обозначенных задач.\n",
    "\n",
    "---\n",
    "\n",
    "`Располагаемые данные`\n",
    "\n",
    "**Данные обучающей выборки (характеристики работников и оценка удовлетворенности работников работой в компании) - train_data**\n",
    "\n",
    "* id - уникальный идентификатор сотрудника;\n",
    "* dept — отдел, в котором работает сотрудник;\n",
    "* level — уровень занимаемой должности;\n",
    "* workload — уровень загруженности сотрудника;\n",
    "* employment_years — длительность работы в компании (в годах);\n",
    "* last_year_promo — показывает, было ли повышение за последний год;\n",
    "* last_year_violations — показывает, нарушал ли сотрудник трудовой договор за последний год;\n",
    "* supervisor_evaluation — оценка качества работы сотрудника, которую дал руководитель;\n",
    "* salary — ежемесячная зарплата сотрудника;\n",
    "* job_satisfaction_rate — уровень удовлетворенности сотрудника работой в компании, целевой признак.\n",
    "\n",
    "**Признаки тестовой выборки (характеристики работников) - test_features**\n",
    "\n",
    "* id - уникальный идентификатор сотрудника;\n",
    "* dept — отдел, в котором работает сотрудник;\n",
    "* level — уровень занимаемой должности;\n",
    "* workload — уровень загруженности сотрудника;\n",
    "* employment_years — длительность работы в компании (в годах);\n",
    "* last_year_promo — показывает, было ли повышение за последний год;\n",
    "* last_year_violations — показывает, нарушал ли сотрудник трудовой договор за последний год;\n",
    "* supervisor_evaluation — оценка качества работы сотрудника, которую дал руководитель;\n",
    "* salary — ежемесячная зарплата сотрудника.\n",
    "\n",
    "**Целевая переменная тестовой выборки (оценка удовлетворенности работников работой в компании) - test_target**\n",
    "\n",
    "* id - уникальный идентификатор сотрудника;\n",
    "* job_satisfaction_rate — уровень удовлетворенности сотрудника работой в компании, целевой признак.\n",
    "\n",
    "**Данные обучающей выборки (характеристики работников и показатель ухода сотрудников из компании) - train_quit**\n",
    "* id - уникальный идентификатор сотрудника;\n",
    "* dept — отдел, в котором работает сотрудник;\n",
    "* level — уровень занимаемой должности;\n",
    "* workload — уровень загруженности сотрудника;\n",
    "* employment_years — длительность работы в компании (в годах);\n",
    "* last_year_promo — показывает, было ли повышение за последний год;\n",
    "* last_year_violations — показывает, нарушал ли сотрудник трудовой договор за последний год;\n",
    "* supervisor_evaluation — оценка качества работы сотрудника, которую дал руководитель;\n",
    "* salary — ежемесячная зарплата сотрудника;\n",
    "* quit — зафиксирован уход сотрудника.\n",
    "\n",
    "**Целевая переменная тестовой выборки (показатель ухода сотрудников из компании) - test_target_quit**\n",
    "\n",
    "* id - уникальный идентификатор сотрудника;\n",
    "* quit — зафиксирован уход сотрудника."
   ]
  },
  {
   "cell_type": "markdown",
   "metadata": {},
   "source": [
    "## Импорт библиотек Python <a class = 'anchor' id = 'Импорт'></a>"
   ]
  },
  {
   "cell_type": "markdown",
   "metadata": {},
   "source": [
    "1. Импорт библиотек Python:\n",
    "    * для манипулирования данными;\n",
    "    * для визуализации данных;\n",
    "    * для решения задач машинного обучения:\n",
    "        * модели классификации;\n",
    "        * метрики оценки эффективности моделей;\n",
    "        * механизмы отбора данных и подбора параметров моделей;\n",
    "        * механизмы подготовки данных;\n",
    "        * механизмы построения пайплайнов;\n",
    "        * механизм заполнения пустых значений;\n",
    "        * механизм анализха влияния признаков.\n",
    "2. Формирование вывода по итогам данного этапа."
   ]
  },
  {
   "cell_type": "code",
   "execution_count": 1,
   "metadata": {},
   "outputs": [
    {
     "name": "stderr",
     "output_type": "stream",
     "text": [
      "c:\\Users\\k.storozhuk\\Desktop\\YandexPraktikum_projects\\.py_env\\Lib\\site-packages\\tqdm\\auto.py:21: TqdmWarning: IProgress not found. Please update jupyter and ipywidgets. See https://ipywidgets.readthedocs.io/en/stable/user_install.html\n",
      "  from .autonotebook import tqdm as notebook_tqdm\n"
     ]
    }
   ],
   "source": [
    "# импорт библиотек python\n",
    "\n",
    "# для манипулирования данными\n",
    "import pandas as pd\n",
    "import numpy as np\n",
    "\n",
    "# для визуализации данных\n",
    "import matplotlib.pyplot as plt\n",
    "import seaborn as sns\n",
    "# установка размеров для последующих графиков в проекте\n",
    "plt.rcParams['figure.figsize'] = (10, 5)\n",
    "\n",
    "\n",
    "# модели классификации\n",
    "from sklearn.linear_model import LogisticRegression\n",
    "from sklearn.neighbors import KNeighborsClassifier\n",
    "from sklearn.svm import SVC\n",
    "from sklearn.tree import DecisionTreeClassifier\n",
    "\n",
    "# метрики оценки эффективности моделей\n",
    "from sklearn.metrics import (recall_score,\n",
    "                             precision_score,\n",
    "                             confusion_matrix,\n",
    "                             fbeta_score,\n",
    "                             roc_auc_score)\n",
    "\n",
    "# механизмы отбора данных и подбора параметров моделей\n",
    "from sklearn.model_selection import train_test_split, GridSearchCV\n",
    "\n",
    "# механизмы подготовки данных\n",
    "from sklearn.preprocessing import (StandardScaler,\n",
    "                                   MinMaxScaler,\n",
    "                                   OneHotEncoder,\n",
    "                                   LabelEncoder)\n",
    "\n",
    "# механизмы построения пайплайнов\n",
    "from sklearn.pipeline import Pipeline\n",
    "from sklearn.compose import ColumnTransformer\n",
    "\n",
    "# механизм заполнения пустых значений\n",
    "from sklearn.impute import SimpleImputer\n",
    "\n",
    "# механизм анализха влияния признаков\n",
    "import shap"
   ]
  },
  {
   "cell_type": "markdown",
   "metadata": {},
   "source": [
    "**Вывод**\n",
    "\n",
    "1. Импортированы библиотеки Python:\n",
    "    * для манипулирования данными:\n",
    "        * pandas;\n",
    "        * numpy.\n",
    "    * для визуализации данных:\n",
    "        * matplotlib.pyplot;\n",
    "        * seaborn.\n",
    "    * для решения задач машинного обучения:\n",
    "        * LogisticRegression - модель логистической регрессии;\n",
    "        * KNeighborsClassifier - модель k-ближайших соседей;\n",
    "        * SVC - машина опорных векторов;\n",
    "        * DecisionTreeClassifier - модель дерева принятия решений;\n",
    "        * метрики оценки эффективности моделей классификации;\n",
    "        * train_test_split - механизм разделения данных;\n",
    "        * GridSearchCV - механизм поиска гиперпараметров с перебором по \"сетке\";\n",
    "        * StandardScaler - стандартизация данных;\n",
    "        * MinMaxScaler - нормализация данных;\n",
    "        * OneHotEncoder - one-hot кодирование категориальных признаков;\n",
    "        * LabelEncoder - кодирование значений целевой переменной;\n",
    "        * Pipeline - механизм построения пайплайнов;\n",
    "        * ColumnTransformer - механизм объединения шагов пайплайна;\n",
    "        * SimpleImputer - механизм заполнения пустых значений;\n",
    "        * SHAP - механизм анализа важности признаков."
   ]
  },
  {
   "cell_type": "markdown",
   "metadata": {},
   "source": [
    "## Задача 1_Предсказание уровня удовлетворенности сотрудника <a class = 'anchor' id = 'Задача1'></a>"
   ]
  },
  {
   "cell_type": "markdown",
   "metadata": {},
   "source": [
    "### Загрузка данных <a class = 'anchor' id = 'Задача1_Загрузка'></a>"
   ]
  },
  {
   "cell_type": "markdown",
   "metadata": {},
   "source": [
    "Данный блок характеризуется следующими последовательными действиями:\n",
    "\n",
    "1. Загрузка данных в рабочую среду Jupyter Notebook. Инициализация переменных в соответствие с названиями загружаемых датасетов:\n",
    "    * **train_data**;\n",
    "    * **test_features**;\n",
    "    * **test_target**.\n",
    "2. Вывод на экран параметров датасетов:\n",
    "    * вывод общей структуры набора данных - демонстрация первых 5 строк;\n",
    "    * общей информации о наборе данных;\n",
    "    * визуализация распределений количественных показателей.\n",
    "3. Формирование вывода по итогам данного этапа."
   ]
  },
  {
   "cell_type": "code",
   "execution_count": 2,
   "metadata": {},
   "outputs": [],
   "source": [
    "# загрузка данных в рабочую среду\n",
    "\n",
    "try:\n",
    "    train_data = pd.read_csv('~/Desktop/YandexPraktikum_projects/datasets/train_job_satisfaction_rate.csv') # тренировочная выборка\n",
    "    test_features = pd.read_csv('~/Desktop/YandexPraktikum_projects/datasets/test_features.csv') # входные признаки тестовой выборки\n",
    "    test_target = pd.read_csv('~/Desktop/YandexPraktikum_projects/datasets/test_target_job_satisfaction_rate.csv') # целевой признак тестовой выборки\n",
    "except:\n",
    "    train_data = pd.read_csv('/datasets/train_job_satisfaction_rate.csv')\n",
    "    test_features = pd.read_csv('/datasets/test_features.csv')\n",
    "    test_target = pd.read_csv('/datasets/test_target_job_satisfaction_rate.csv')"
   ]
  },
  {
   "cell_type": "code",
   "execution_count": 3,
   "metadata": {},
   "outputs": [],
   "source": [
    "# инициализация пользовательской функции для первичного изучения содержимого наборов данных\n",
    "def  first_meeting (df : pd.DataFrame, df_name : str) -> None:\n",
    "    print(f'Структура набора данных {df_name}')\n",
    "    display(df.head())\n",
    "    print('Общая информация о наборе')\n",
    "    print(df.info())\n",
    "    print()"
   ]
  },
  {
   "cell_type": "code",
   "execution_count": 4,
   "metadata": {},
   "outputs": [],
   "source": [
    "# инициализация пользовательской функции построения распределений количественных непрерывных показателей\n",
    "def num_distribution(df : pd.DataFrame, column : str, bins : int):\n",
    "    plt.subplot(1, 2, 1)\n",
    "    plt.xlabel(f'Значения признака {column}')\n",
    "    plt.ylabel(f'Частота значений признака')\n",
    "    plt.title(f'Гистограмма значений {column}', fontsize = 10)\n",
    "    sns.histplot(df, x = column, bins = bins)\n",
    "    plt.subplot(1, 2, 2)\n",
    "    plt.xlabel(f'Значения признака {column}')\n",
    "    plt.title(f'Диаграмма размаха значений {column}', fontsize = 10)\n",
    "    sns.boxplot(df, x = column)\n",
    "    plt.grid(False)\n",
    "    plt.show()"
   ]
  },
  {
   "cell_type": "code",
   "execution_count": 5,
   "metadata": {},
   "outputs": [],
   "source": [
    "# инициализация пользовательской функции построения диаграмм количественных дискретных показателей\n",
    "def num_countplot(df : pd.DataFrame, column : str):\n",
    "    sns.countplot(df, x = column)\n",
    "    plt.title(f'Столбчатая диаграмма значений признака {column}', fontsize = 12)\n",
    "    plt.xlabel(f'Признак {column}')\n",
    "    plt.ylabel(f'Количество значений признака')\n",
    "    plt.show()"
   ]
  },
  {
   "cell_type": "code",
   "execution_count": 6,
   "metadata": {},
   "outputs": [
    {
     "name": "stdout",
     "output_type": "stream",
     "text": [
      "Структура набора данных train_data\n"
     ]
    },
    {
     "data": {
      "application/vnd.microsoft.datawrangler.viewer.v0+json": {
       "columns": [
        {
         "name": "index",
         "rawType": "int64",
         "type": "integer"
        },
        {
         "name": "id",
         "rawType": "int64",
         "type": "integer"
        },
        {
         "name": "dept",
         "rawType": "object",
         "type": "string"
        },
        {
         "name": "level",
         "rawType": "object",
         "type": "string"
        },
        {
         "name": "workload",
         "rawType": "object",
         "type": "string"
        },
        {
         "name": "employment_years",
         "rawType": "int64",
         "type": "integer"
        },
        {
         "name": "last_year_promo",
         "rawType": "object",
         "type": "string"
        },
        {
         "name": "last_year_violations",
         "rawType": "object",
         "type": "string"
        },
        {
         "name": "supervisor_evaluation",
         "rawType": "int64",
         "type": "integer"
        },
        {
         "name": "salary",
         "rawType": "int64",
         "type": "integer"
        },
        {
         "name": "job_satisfaction_rate",
         "rawType": "float64",
         "type": "float"
        }
       ],
       "conversionMethod": "pd.DataFrame",
       "ref": "4cd7c75c-0ba5-4291-af9c-c109b752b00e",
       "rows": [
        [
         "0",
         "155278",
         "sales",
         "junior",
         "medium",
         "2",
         "no",
         "no",
         "1",
         "24000",
         "0.58"
        ],
        [
         "1",
         "653870",
         "hr",
         "junior",
         "high",
         "2",
         "no",
         "no",
         "5",
         "38400",
         "0.76"
        ],
        [
         "2",
         "184592",
         "sales",
         "junior",
         "low",
         "1",
         "no",
         "no",
         "2",
         "12000",
         "0.11"
        ],
        [
         "3",
         "171431",
         "technology",
         "junior",
         "low",
         "4",
         "no",
         "no",
         "2",
         "18000",
         "0.37"
        ],
        [
         "4",
         "693419",
         "hr",
         "junior",
         "medium",
         "1",
         "no",
         "no",
         "3",
         "22800",
         "0.2"
        ]
       ],
       "shape": {
        "columns": 10,
        "rows": 5
       }
      },
      "text/html": [
       "<div>\n",
       "<style scoped>\n",
       "    .dataframe tbody tr th:only-of-type {\n",
       "        vertical-align: middle;\n",
       "    }\n",
       "\n",
       "    .dataframe tbody tr th {\n",
       "        vertical-align: top;\n",
       "    }\n",
       "\n",
       "    .dataframe thead th {\n",
       "        text-align: right;\n",
       "    }\n",
       "</style>\n",
       "<table border=\"1\" class=\"dataframe\">\n",
       "  <thead>\n",
       "    <tr style=\"text-align: right;\">\n",
       "      <th></th>\n",
       "      <th>id</th>\n",
       "      <th>dept</th>\n",
       "      <th>level</th>\n",
       "      <th>workload</th>\n",
       "      <th>employment_years</th>\n",
       "      <th>last_year_promo</th>\n",
       "      <th>last_year_violations</th>\n",
       "      <th>supervisor_evaluation</th>\n",
       "      <th>salary</th>\n",
       "      <th>job_satisfaction_rate</th>\n",
       "    </tr>\n",
       "  </thead>\n",
       "  <tbody>\n",
       "    <tr>\n",
       "      <th>0</th>\n",
       "      <td>155278</td>\n",
       "      <td>sales</td>\n",
       "      <td>junior</td>\n",
       "      <td>medium</td>\n",
       "      <td>2</td>\n",
       "      <td>no</td>\n",
       "      <td>no</td>\n",
       "      <td>1</td>\n",
       "      <td>24000</td>\n",
       "      <td>0.58</td>\n",
       "    </tr>\n",
       "    <tr>\n",
       "      <th>1</th>\n",
       "      <td>653870</td>\n",
       "      <td>hr</td>\n",
       "      <td>junior</td>\n",
       "      <td>high</td>\n",
       "      <td>2</td>\n",
       "      <td>no</td>\n",
       "      <td>no</td>\n",
       "      <td>5</td>\n",
       "      <td>38400</td>\n",
       "      <td>0.76</td>\n",
       "    </tr>\n",
       "    <tr>\n",
       "      <th>2</th>\n",
       "      <td>184592</td>\n",
       "      <td>sales</td>\n",
       "      <td>junior</td>\n",
       "      <td>low</td>\n",
       "      <td>1</td>\n",
       "      <td>no</td>\n",
       "      <td>no</td>\n",
       "      <td>2</td>\n",
       "      <td>12000</td>\n",
       "      <td>0.11</td>\n",
       "    </tr>\n",
       "    <tr>\n",
       "      <th>3</th>\n",
       "      <td>171431</td>\n",
       "      <td>technology</td>\n",
       "      <td>junior</td>\n",
       "      <td>low</td>\n",
       "      <td>4</td>\n",
       "      <td>no</td>\n",
       "      <td>no</td>\n",
       "      <td>2</td>\n",
       "      <td>18000</td>\n",
       "      <td>0.37</td>\n",
       "    </tr>\n",
       "    <tr>\n",
       "      <th>4</th>\n",
       "      <td>693419</td>\n",
       "      <td>hr</td>\n",
       "      <td>junior</td>\n",
       "      <td>medium</td>\n",
       "      <td>1</td>\n",
       "      <td>no</td>\n",
       "      <td>no</td>\n",
       "      <td>3</td>\n",
       "      <td>22800</td>\n",
       "      <td>0.20</td>\n",
       "    </tr>\n",
       "  </tbody>\n",
       "</table>\n",
       "</div>"
      ],
      "text/plain": [
       "       id        dept   level workload  employment_years last_year_promo  \\\n",
       "0  155278       sales  junior   medium                 2              no   \n",
       "1  653870          hr  junior     high                 2              no   \n",
       "2  184592       sales  junior      low                 1              no   \n",
       "3  171431  technology  junior      low                 4              no   \n",
       "4  693419          hr  junior   medium                 1              no   \n",
       "\n",
       "  last_year_violations  supervisor_evaluation  salary  job_satisfaction_rate  \n",
       "0                   no                      1   24000                   0.58  \n",
       "1                   no                      5   38400                   0.76  \n",
       "2                   no                      2   12000                   0.11  \n",
       "3                   no                      2   18000                   0.37  \n",
       "4                   no                      3   22800                   0.20  "
      ]
     },
     "metadata": {},
     "output_type": "display_data"
    },
    {
     "name": "stdout",
     "output_type": "stream",
     "text": [
      "Общая информация о наборе\n",
      "<class 'pandas.core.frame.DataFrame'>\n",
      "RangeIndex: 4000 entries, 0 to 3999\n",
      "Data columns (total 10 columns):\n",
      " #   Column                 Non-Null Count  Dtype  \n",
      "---  ------                 --------------  -----  \n",
      " 0   id                     4000 non-null   int64  \n",
      " 1   dept                   3994 non-null   object \n",
      " 2   level                  3996 non-null   object \n",
      " 3   workload               4000 non-null   object \n",
      " 4   employment_years       4000 non-null   int64  \n",
      " 5   last_year_promo        4000 non-null   object \n",
      " 6   last_year_violations   4000 non-null   object \n",
      " 7   supervisor_evaluation  4000 non-null   int64  \n",
      " 8   salary                 4000 non-null   int64  \n",
      " 9   job_satisfaction_rate  4000 non-null   float64\n",
      "dtypes: float64(1), int64(4), object(5)\n",
      "memory usage: 312.6+ KB\n",
      "None\n",
      "\n"
     ]
    },
    {
     "data": {
      "image/png": "[encoded data removed]",
      "text/plain": [
       "<Figure size 1000x500 with 1 Axes>"
      ]
     },
     "metadata": {},
     "output_type": "display_data"
    },
    {
     "data": {
      "image/png": "[encoded data removed]",
      "text/plain": [
       "<Figure size 1000x500 with 1 Axes>"
      ]
     },
     "metadata": {},
     "output_type": "display_data"
    },
    {
     "data": {
      "image/png": "[encoded data removed]",
      "text/plain": [
       "<Figure size 1000x500 with 2 Axes>"
      ]
     },
     "metadata": {},
     "output_type": "display_data"
    },
    {
     "data": {
      "image/png": "[encoded data removed]",
      "text/plain": [
       "<Figure size 1000x500 with 2 Axes>"
      ]
     },
     "metadata": {},
     "output_type": "display_data"
    }
   ],
   "source": [
    "# вывод на экран параметров датасета 'train_data'\n",
    "first_meeting(train_data, 'train_data')\n",
    "\n",
    "# вывод на экран графиков дискретных количественных величин по набору 'train_data'\n",
    "for col in ['employment_years', 'supervisor_evaluation']:\n",
    "    num_countplot(train_data, col)\n",
    "\n",
    "# вывод на экран графиков непрерывных количественных величин по набору 'train_data'\n",
    "for col in ['salary', 'job_satisfaction_rate']:\n",
    "    num_distribution(train_data, col, 20)"
   ]
  },
  {
   "cell_type": "code",
   "execution_count": 7,
   "metadata": {},
   "outputs": [
    {
     "name": "stdout",
     "output_type": "stream",
     "text": [
      "Структура набора данных test_features\n"
     ]
    },
    {
     "data": {
      "application/vnd.microsoft.datawrangler.viewer.v0+json": {
       "columns": [
        {
         "name": "index",
         "rawType": "int64",
         "type": "integer"
        },
        {
         "name": "id",
         "rawType": "int64",
         "type": "integer"
        },
        {
         "name": "dept",
         "rawType": "object",
         "type": "string"
        },
        {
         "name": "level",
         "rawType": "object",
         "type": "string"
        },
        {
         "name": "workload",
         "rawType": "object",
         "type": "string"
        },
        {
         "name": "employment_years",
         "rawType": "int64",
         "type": "integer"
        },
        {
         "name": "last_year_promo",
         "rawType": "object",
         "type": "string"
        },
        {
         "name": "last_year_violations",
         "rawType": "object",
         "type": "string"
        },
        {
         "name": "supervisor_evaluation",
         "rawType": "int64",
         "type": "integer"
        },
        {
         "name": "salary",
         "rawType": "int64",
         "type": "integer"
        }
       ],
       "conversionMethod": "pd.DataFrame",
       "ref": "5c09e5b0-a77a-4b99-a898-de8a7f15b1f1",
       "rows": [
        [
         "0",
         "485046",
         "marketing",
         "junior",
         "medium",
         "2",
         "no",
         "no",
         "5",
         "28800"
        ],
        [
         "1",
         "686555",
         "hr",
         "junior",
         "medium",
         "1",
         "no",
         "no",
         "4",
         "30000"
        ],
        [
         "2",
         "467458",
         "sales",
         "middle",
         "low",
         "5",
         "no",
         "no",
         "4",
         "19200"
        ],
        [
         "3",
         "418655",
         "sales",
         "middle",
         "low",
         "6",
         "no",
         "no",
         "4",
         "19200"
        ],
        [
         "4",
         "789145",
         "hr",
         "middle",
         "medium",
         "5",
         "no",
         "no",
         "5",
         "40800"
        ]
       ],
       "shape": {
        "columns": 9,
        "rows": 5
       }
      },
      "text/html": [
       "<div>\n",
       "<style scoped>\n",
       "    .dataframe tbody tr th:only-of-type {\n",
       "        vertical-align: middle;\n",
       "    }\n",
       "\n",
       "    .dataframe tbody tr th {\n",
       "        vertical-align: top;\n",
       "    }\n",
       "\n",
       "    .dataframe thead th {\n",
       "        text-align: right;\n",
       "    }\n",
       "</style>\n",
       "<table border=\"1\" class=\"dataframe\">\n",
       "  <thead>\n",
       "    <tr style=\"text-align: right;\">\n",
       "      <th></th>\n",
       "      <th>id</th>\n",
       "      <th>dept</th>\n",
       "      <th>level</th>\n",
       "      <th>workload</th>\n",
       "      <th>employment_years</th>\n",
       "      <th>last_year_promo</th>\n",
       "      <th>last_year_violations</th>\n",
       "      <th>supervisor_evaluation</th>\n",
       "      <th>salary</th>\n",
       "    </tr>\n",
       "  </thead>\n",
       "  <tbody>\n",
       "    <tr>\n",
       "      <th>0</th>\n",
       "      <td>485046</td>\n",
       "      <td>marketing</td>\n",
       "      <td>junior</td>\n",
       "      <td>medium</td>\n",
       "      <td>2</td>\n",
       "      <td>no</td>\n",
       "      <td>no</td>\n",
       "      <td>5</td>\n",
       "      <td>28800</td>\n",
       "    </tr>\n",
       "    <tr>\n",
       "      <th>1</th>\n",
       "      <td>686555</td>\n",
       "      <td>hr</td>\n",
       "      <td>junior</td>\n",
       "      <td>medium</td>\n",
       "      <td>1</td>\n",
       "      <td>no</td>\n",
       "      <td>no</td>\n",
       "      <td>4</td>\n",
       "      <td>30000</td>\n",
       "    </tr>\n",
       "    <tr>\n",
       "      <th>2</th>\n",
       "      <td>467458</td>\n",
       "      <td>sales</td>\n",
       "      <td>middle</td>\n",
       "      <td>low</td>\n",
       "      <td>5</td>\n",
       "      <td>no</td>\n",
       "      <td>no</td>\n",
       "      <td>4</td>\n",
       "      <td>19200</td>\n",
       "    </tr>\n",
       "    <tr>\n",
       "      <th>3</th>\n",
       "      <td>418655</td>\n",
       "      <td>sales</td>\n",
       "      <td>middle</td>\n",
       "      <td>low</td>\n",
       "      <td>6</td>\n",
       "      <td>no</td>\n",
       "      <td>no</td>\n",
       "      <td>4</td>\n",
       "      <td>19200</td>\n",
       "    </tr>\n",
       "    <tr>\n",
       "      <th>4</th>\n",
       "      <td>789145</td>\n",
       "      <td>hr</td>\n",
       "      <td>middle</td>\n",
       "      <td>medium</td>\n",
       "      <td>5</td>\n",
       "      <td>no</td>\n",
       "      <td>no</td>\n",
       "      <td>5</td>\n",
       "      <td>40800</td>\n",
       "    </tr>\n",
       "  </tbody>\n",
       "</table>\n",
       "</div>"
      ],
      "text/plain": [
       "       id       dept   level workload  employment_years last_year_promo  \\\n",
       "0  485046  marketing  junior   medium                 2              no   \n",
       "1  686555         hr  junior   medium                 1              no   \n",
       "2  467458      sales  middle      low                 5              no   \n",
       "3  418655      sales  middle      low                 6              no   \n",
       "4  789145         hr  middle   medium                 5              no   \n",
       "\n",
       "  last_year_violations  supervisor_evaluation  salary  \n",
       "0                   no                      5   28800  \n",
       "1                   no                      4   30000  \n",
       "2                   no                      4   19200  \n",
       "3                   no                      4   19200  \n",
       "4                   no                      5   40800  "
      ]
     },
     "metadata": {},
     "output_type": "display_data"
    },
    {
     "name": "stdout",
     "output_type": "stream",
     "text": [
      "Общая информация о наборе\n",
      "<class 'pandas.core.frame.DataFrame'>\n",
      "RangeIndex: 2000 entries, 0 to 1999\n",
      "Data columns (total 9 columns):\n",
      " #   Column                 Non-Null Count  Dtype \n",
      "---  ------                 --------------  ----- \n",
      " 0   id                     2000 non-null   int64 \n",
      " 1   dept                   1998 non-null   object\n",
      " 2   level                  1999 non-null   object\n",
      " 3   workload               2000 non-null   object\n",
      " 4   employment_years       2000 non-null   int64 \n",
      " 5   last_year_promo        2000 non-null   object\n",
      " 6   last_year_violations   2000 non-null   object\n",
      " 7   supervisor_evaluation  2000 non-null   int64 \n",
      " 8   salary                 2000 non-null   int64 \n",
      "dtypes: int64(4), object(5)\n",
      "memory usage: 140.8+ KB\n",
      "None\n",
      "\n"
     ]
    },
    {
     "data": {
      "image/png": "[encoded data removed]",
      "text/plain": [
       "<Figure size 1000x500 with 1 Axes>"
      ]
     },
     "metadata": {},
     "output_type": "display_data"
    },
    {
     "data": {
      "image/png": "[encoded data removed]",
      "text/plain": [
       "<Figure size 1000x500 with 1 Axes>"
      ]
     },
     "metadata": {},
     "output_type": "display_data"
    },
    {
     "data": {
      "image/png": "[encoded data removed]",
      "text/plain": [
       "<Figure size 1000x500 with 2 Axes>"
      ]
     },
     "metadata": {},
     "output_type": "display_data"
    }
   ],
   "source": [
    "# вывод на экран параметров датасета 'test_features'\n",
    "first_meeting(test_features, 'test_features')\n",
    "\n",
    "# вывод на экран графиков дискретных количественных величин по набору 'test_features'\n",
    "for col in ['employment_years', 'supervisor_evaluation']:\n",
    "    num_countplot(test_features, col)\n",
    "\n",
    "# вывод на экран графиков непрерывных количественных величин по набору 'test_features'\n",
    "num_distribution(test_features, 'salary', 20)"
   ]
  },
  {
   "cell_type": "code",
   "execution_count": 8,
   "metadata": {},
   "outputs": [
    {
     "name": "stdout",
     "output_type": "stream",
     "text": [
      "Структура набора данных test_target\n"
     ]
    },
    {
     "data": {
      "application/vnd.microsoft.datawrangler.viewer.v0+json": {
       "columns": [
        {
         "name": "index",
         "rawType": "int64",
         "type": "integer"
        },
        {
         "name": "id",
         "rawType": "int64",
         "type": "integer"
        },
        {
         "name": "job_satisfaction_rate",
         "rawType": "float64",
         "type": "float"
        }
       ],
       "conversionMethod": "pd.DataFrame",
       "ref": "08d05d80-8683-4c4c-93cd-2853a4f6de24",
       "rows": [
        [
         "0",
         "130604",
         "0.74"
        ],
        [
         "1",
         "825977",
         "0.75"
        ],
        [
         "2",
         "418490",
         "0.6"
        ],
        [
         "3",
         "555320",
         "0.72"
        ],
        [
         "4",
         "826430",
         "0.08"
        ]
       ],
       "shape": {
        "columns": 2,
        "rows": 5
       }
      },
      "text/html": [
       "<div>\n",
       "<style scoped>\n",
       "    .dataframe tbody tr th:only-of-type {\n",
       "        vertical-align: middle;\n",
       "    }\n",
       "\n",
       "    .dataframe tbody tr th {\n",
       "        vertical-align: top;\n",
       "    }\n",
       "\n",
       "    .dataframe thead th {\n",
       "        text-align: right;\n",
       "    }\n",
       "</style>\n",
       "<table border=\"1\" class=\"dataframe\">\n",
       "  <thead>\n",
       "    <tr style=\"text-align: right;\">\n",
       "      <th></th>\n",
       "      <th>id</th>\n",
       "      <th>job_satisfaction_rate</th>\n",
       "    </tr>\n",
       "  </thead>\n",
       "  <tbody>\n",
       "    <tr>\n",
       "      <th>0</th>\n",
       "      <td>130604</td>\n",
       "      <td>0.74</td>\n",
       "    </tr>\n",
       "    <tr>\n",
       "      <th>1</th>\n",
       "      <td>825977</td>\n",
       "      <td>0.75</td>\n",
       "    </tr>\n",
       "    <tr>\n",
       "      <th>2</th>\n",
       "      <td>418490</td>\n",
       "      <td>0.60</td>\n",
       "    </tr>\n",
       "    <tr>\n",
       "      <th>3</th>\n",
       "      <td>555320</td>\n",
       "      <td>0.72</td>\n",
       "    </tr>\n",
       "    <tr>\n",
       "      <th>4</th>\n",
       "      <td>826430</td>\n",
       "      <td>0.08</td>\n",
       "    </tr>\n",
       "  </tbody>\n",
       "</table>\n",
       "</div>"
      ],
      "text/plain": [
       "       id  job_satisfaction_rate\n",
       "0  130604                   0.74\n",
       "1  825977                   0.75\n",
       "2  418490                   0.60\n",
       "3  555320                   0.72\n",
       "4  826430                   0.08"
      ]
     },
     "metadata": {},
     "output_type": "display_data"
    },
    {
     "name": "stdout",
     "output_type": "stream",
     "text": [
      "Общая информация о наборе\n",
      "<class 'pandas.core.frame.DataFrame'>\n",
      "RangeIndex: 2000 entries, 0 to 1999\n",
      "Data columns (total 2 columns):\n",
      " #   Column                 Non-Null Count  Dtype  \n",
      "---  ------                 --------------  -----  \n",
      " 0   id                     2000 non-null   int64  \n",
      " 1   job_satisfaction_rate  2000 non-null   float64\n",
      "dtypes: float64(1), int64(1)\n",
      "memory usage: 31.4 KB\n",
      "None\n",
      "\n"
     ]
    },
    {
     "data": {
      "image/png": "[encoded data removed]",
      "text/plain": [
       "<Figure size 1000x500 with 2 Axes>"
      ]
     },
     "metadata": {},
     "output_type": "display_data"
    }
   ],
   "source": [
    "# вывод на экран параметров датасета 'test_target'\n",
    "first_meeting(test_target, 'test_target')\n",
    "\n",
    "# вывод на экран графиков непрерывных количественных величин по набору 'test_target'\n",
    "num_distribution(test_target, 'job_satisfaction_rate', 20)"
   ]
  },
  {
   "cell_type": "markdown",
   "metadata": {},
   "source": [
    "**Вывод**\n",
    "\n",
    "1. Произведена загрузка данных в рабочую среду Jupyter Notebook. Инициализированы переменные в соответствие с названиями загружаемых датасетов:\n",
    "    * `train_data`;\n",
    "    * `test_features`;\n",
    "    * `test_target`.\n",
    "2. Выведены на экран параметры датасетов:\n",
    "    * `train_data`\n",
    "        * В наборе данных **имеются пустые значения**:\n",
    "            * 6 значений - в признаке **dept**;\n",
    "            * 4 значения - в признаке **level**.\n",
    "        * Типы данных **соответствуют сущностям значений**, приведенным в столбцах;\n",
    "        * Названия столбцов **соответствуют формату snake_case**;\n",
    "        * Наблюдаются выбросы по признаку **salary** - необходимо изучить данные случаи на этапе исследовательского анализа;\n",
    "        * Аномальные значения по признаку **job_satisfaction_rate** не наблюдаются - все значения лежат в диапазоне от 0 до 1.\n",
    "    * `test_features`\n",
    "        * В наборе данных **имеются пустые значения**:\n",
    "            * 2 значения - в признаке **dept**;\n",
    "            * 1 значение - в признаке **level**.\n",
    "        * Типы данных **соответствуют сущностям значений**, приведенным в столбцах;\n",
    "        * Названия столбцов **соответствуют формату snake_case**;\n",
    "        * Наблюдаются выбросы по признаку **salary** - необходимо изучить данные случаи на этапе исследовательского анализа.\n",
    "    * `test_target`\n",
    "        * В наборе данных **отсутствуют пустые значения**;\n",
    "        * Типы данных соответствуют сущностям значений, приведенным в столбцах;\n",
    "        * Названия столбцов **соответствуют формату snake_case**;\n",
    "        * Аномальные значения по признаку **job_satisfaction_rate** не наблюдаются - все значения лежат в диапазоне от 0 до 1."
   ]
  },
  {
   "cell_type": "markdown",
   "metadata": {},
   "source": [
    "### Предобработка данных <a class = 'anchor' id = 'Задача1_Предобработка'></a>"
   ]
  },
  {
   "cell_type": "markdown",
   "metadata": {},
   "source": [
    "Данный блок характеризуется следующими последовательными действиями:\n",
    "\n",
    "1. Проверка датасетов на дубликаты:\n",
    "    * Явные дубликаты;\n",
    "    * Неявные дубликаты.\n",
    "2. Формирование вывода по итогам данного этапа."
   ]
  },
  {
   "cell_type": "code",
   "execution_count": 9,
   "metadata": {},
   "outputs": [],
   "source": [
    "# инициализация пользовательской функции проверки уникальных значений по столбцам датасета\n",
    "def unique_values(df : pd.DataFrame):\n",
    "    df = df.select_dtypes(exclude = 'number')\n",
    "    for column in df.columns:\n",
    "        print(f'Столбец {column}: {list(df[column].unique())}')"
   ]
  },
  {
   "cell_type": "code",
   "execution_count": 10,
   "metadata": {},
   "outputs": [],
   "source": [
    "# инициализация пользовательской функции по замене значений в категориальных столбцах\n",
    "def replace_values(df : pd.DataFrame, column : str, old_value : str, new_value : str):\n",
    "    df.loc[df[column] == old_value, column] = new_value"
   ]
  },
  {
   "cell_type": "code",
   "execution_count": 11,
   "metadata": {},
   "outputs": [
    {
     "name": "stdout",
     "output_type": "stream",
     "text": [
      "Уникальные значения по категориальным столбцам train_data\n",
      "Столбец dept: ['sales', 'hr', 'technology', 'purchasing', 'marketing', nan]\n",
      "Столбец level: ['junior', 'middle', 'sinior', nan]\n",
      "Столбец workload: ['medium', 'high', 'low']\n",
      "Столбец last_year_promo: ['no', 'yes']\n",
      "Столбец last_year_violations: ['no', 'yes']\n"
     ]
    }
   ],
   "source": [
    "# проверка набора 'train_data' на уникальные значения\n",
    "print('Уникальные значения по категориальным столбцам train_data')\n",
    "unique_values(train_data)"
   ]
  },
  {
   "cell_type": "code",
   "execution_count": 12,
   "metadata": {},
   "outputs": [
    {
     "name": "stdout",
     "output_type": "stream",
     "text": [
      "Уникальные значения по категориальным столбцам test_features\n",
      "Столбец dept: ['marketing', 'hr', 'sales', 'purchasing', 'technology', nan, ' ']\n",
      "Столбец level: ['junior', 'middle', 'sinior', nan]\n",
      "Столбец workload: ['medium', 'low', 'high', ' ']\n",
      "Столбец last_year_promo: ['no', 'yes']\n",
      "Столбец last_year_violations: ['no', 'yes']\n"
     ]
    }
   ],
   "source": [
    "# проверка набора 'test_features' на уникальные значения\n",
    "print('Уникальные значения по категориальным столбцам test_features')\n",
    "unique_values(test_features)"
   ]
  },
  {
   "cell_type": "code",
   "execution_count": 13,
   "metadata": {},
   "outputs": [],
   "source": [
    "# замена значений в датасетах\n",
    "replace_values(train_data, 'level', 'sinior', 'senior')\n",
    "replace_values(test_features, 'level', 'sinior', 'senior')\n",
    "replace_values(test_features, 'dept', ' ', np.nan)\n",
    "replace_values(test_features, 'workload', ' ', np.nan)"
   ]
  },
  {
   "cell_type": "code",
   "execution_count": 15,
   "metadata": {},
   "outputs": [],
   "source": [
    "# инициализация переменных 'data_names_list' и 'data_list' для хранения списка названий наборов данных и самих наборов данных\n",
    "data_names_list = ['train_data', 'test_features', 'test_target']\n",
    "data_list = [train_data, test_features, test_target]"
   ]
  },
  {
   "cell_type": "code",
   "execution_count": 16,
   "metadata": {},
   "outputs": [
    {
     "name": "stdout",
     "output_type": "stream",
     "text": [
      "Проверка на наличие явных дубликатов\n",
      "Число явных дубликатов в train_data: 0\n",
      "Число явных дубликатов в test_features: 0\n",
      "Число явных дубликатов в test_target: 0\n"
     ]
    }
   ],
   "source": [
    "# проверка на наличие явных дубликатов\n",
    "counter = 0\n",
    "\n",
    "print('Проверка на наличие явных дубликатов')\n",
    "for df in data_list:\n",
    "    print(f'Число явных дубликатов в {data_names_list[counter]}: {df.duplicated().sum()}')\n",
    "    counter += 1"
   ]
  },
  {
   "cell_type": "markdown",
   "metadata": {},
   "source": [
    "**Вывод по промежуточному этапу**\n",
    "\n",
    "Явных дубликатов по строкам наборов данных не обнарежно (при полном сравнении строк). Однако необходимо проверить наличие явных дубликатов по набору столбцов.\n",
    "\n",
    "**По определению, не может быть двух одинаковых id сотрудников в компании**. Можно проверить наличие дубликатов по следующим условиям:\n",
    "* id сотрудника;\n",
    "* id сотрудника и департамент;\n",
    "* id сотрудника, департамент и уровень квалификации.\n",
    "\n",
    "Эти данные точно позволят идентифицировать сотрудника компании и проверить, есть ли среди объектов дублирующиеся"
   ]
  },
  {
   "cell_type": "code",
   "execution_count": 19,
   "metadata": {},
   "outputs": [],
   "source": [
    "# инициализация пользовательской функции дополнительной проверки на дубликаты\n",
    "def duplicates_checking(df : pd.DataFrame):\n",
    "    if df.duplicated(subset = ['id']).sum() > 0 or df.duplicated(subset = ['id', 'dept']).sum() > 0 or df.duplicated(subset = ['id', 'dept', 'level']).sum() > 0:\n",
    "        print('Первоначальная проверка не пройдена. В наборе есть дубликаты')\n",
    "    else:\n",
    "        print('Проверка на дубликаты пройдена. Дублирующиеся значения отсутствуют')"
   ]
  },
  {
   "cell_type": "code",
   "execution_count": 20,
   "metadata": {},
   "outputs": [
    {
     "name": "stdout",
     "output_type": "stream",
     "text": [
      "Проверка на дубликаты пройдена. Дублирующиеся значения отсутствуют\n",
      "Проверка на дубликаты пройдена. Дублирующиеся значения отсутствуют\n"
     ]
    }
   ],
   "source": [
    "# повторная проверка на дубликаты\n",
    "duplicates_checking(train_data)\n",
    "duplicates_checking(test_features)"
   ]
  },
  {
   "cell_type": "markdown",
   "metadata": {},
   "source": [
    "**Вывод**\n",
    "\n",
    "1. Выполнена проверка наборов данных на дубликаты:\n",
    "    * **Явные дубликаты** - явные дубликаты **не обнаружены**; \n",
    "    * Неявные дубликаты:\n",
    "        * Столбец **level** в наборе `train_data` - преобразованы значения \"sinior\" на \"senior\";\n",
    "        * Столбец **level** в наборе `test_features` - преобразованы значения \"sinior\" на \"senior\";\n",
    "        * Столбец **workload** в наборе `market_time` - преобразованы значения \" \" на \"np.nan\";\n",
    "        * Столбец **dept** в наборе `market_time` - преобразованы значения \" \" на \"np.nan\";\n",
    "2. Данные прошли этап предобработки и готовы к исследовательскому анализу."
   ]
  },
  {
   "cell_type": "markdown",
   "metadata": {},
   "source": [
    "### Исследовательский анализ данных <a class = 'anchor' id = 'Задача1_Исследование'></a>"
   ]
  },
  {
   "cell_type": "markdown",
   "metadata": {},
   "source": [
    "Данный блок характеризуется следующими последовательными действиями:\n",
    "\n",
    "1. Вывод на экран основной статистической информации по текущим версиям наборов данных;\n",
    "2. Исследование соотношения количества значений качественных показателей;\n",
    "3. Исследование распределения количественных показателей наборов. Построение **гистограмм распределения значений**;\n",
    "4. Формирование вывода по итогам этапа."
   ]
  },
  {
   "cell_type": "code",
   "execution_count": 22,
   "metadata": {},
   "outputs": [
    {
     "name": "stdout",
     "output_type": "stream",
     "text": [
      "Основная статистическая информация по набору train_data\n"
     ]
    },
    {
     "data": {
      "application/vnd.microsoft.datawrangler.viewer.v0+json": {
       "columns": [
        {
         "name": "index",
         "rawType": "object",
         "type": "string"
        },
        {
         "name": "employment_years",
         "rawType": "float64",
         "type": "float"
        },
        {
         "name": "supervisor_evaluation",
         "rawType": "float64",
         "type": "float"
        },
        {
         "name": "salary",
         "rawType": "float64",
         "type": "float"
        },
        {
         "name": "job_satisfaction_rate",
         "rawType": "float64",
         "type": "float"
        }
       ],
       "conversionMethod": "pd.DataFrame",
       "ref": "0906f4f4-240e-4428-95c5-5862f1f13435",
       "rows": [
        [
         "count",
         "4000.0",
         "4000.0",
         "4000.0",
         "4000.0"
        ],
        [
         "mean",
         "3.7185",
         "3.4765",
         "33926.7",
         "0.5339950000000001"
        ],
        [
         "std",
         "2.5425132926812526",
         "1.0088122598104594",
         "14900.703837527724",
         "0.22532716893056762"
        ],
        [
         "min",
         "1.0",
         "1.0",
         "12000.0",
         "0.03"
        ],
        [
         "25%",
         "2.0",
         "3.0",
         "22800.0",
         "0.36"
        ],
        [
         "50%",
         "3.0",
         "4.0",
         "30000.0",
         "0.56"
        ],
        [
         "75%",
         "6.0",
         "4.0",
         "43200.0",
         "0.71"
        ],
        [
         "max",
         "10.0",
         "5.0",
         "98400.0",
         "1.0"
        ]
       ],
       "shape": {
        "columns": 4,
        "rows": 8
       }
      },
      "text/html": [
       "<div>\n",
       "<style scoped>\n",
       "    .dataframe tbody tr th:only-of-type {\n",
       "        vertical-align: middle;\n",
       "    }\n",
       "\n",
       "    .dataframe tbody tr th {\n",
       "        vertical-align: top;\n",
       "    }\n",
       "\n",
       "    .dataframe thead th {\n",
       "        text-align: right;\n",
       "    }\n",
       "</style>\n",
       "<table border=\"1\" class=\"dataframe\">\n",
       "  <thead>\n",
       "    <tr style=\"text-align: right;\">\n",
       "      <th></th>\n",
       "      <th>employment_years</th>\n",
       "      <th>supervisor_evaluation</th>\n",
       "      <th>salary</th>\n",
       "      <th>job_satisfaction_rate</th>\n",
       "    </tr>\n",
       "  </thead>\n",
       "  <tbody>\n",
       "    <tr>\n",
       "      <th>count</th>\n",
       "      <td>4000.000000</td>\n",
       "      <td>4000.000000</td>\n",
       "      <td>4000.000000</td>\n",
       "      <td>4000.000000</td>\n",
       "    </tr>\n",
       "    <tr>\n",
       "      <th>mean</th>\n",
       "      <td>3.718500</td>\n",
       "      <td>3.476500</td>\n",
       "      <td>33926.700000</td>\n",
       "      <td>0.533995</td>\n",
       "    </tr>\n",
       "    <tr>\n",
       "      <th>std</th>\n",
       "      <td>2.542513</td>\n",
       "      <td>1.008812</td>\n",
       "      <td>14900.703838</td>\n",
       "      <td>0.225327</td>\n",
       "    </tr>\n",
       "    <tr>\n",
       "      <th>min</th>\n",
       "      <td>1.000000</td>\n",
       "      <td>1.000000</td>\n",
       "      <td>12000.000000</td>\n",
       "      <td>0.030000</td>\n",
       "    </tr>\n",
       "    <tr>\n",
       "      <th>25%</th>\n",
       "      <td>2.000000</td>\n",
       "      <td>3.000000</td>\n",
       "      <td>22800.000000</td>\n",
       "      <td>0.360000</td>\n",
       "    </tr>\n",
       "    <tr>\n",
       "      <th>50%</th>\n",
       "      <td>3.000000</td>\n",
       "      <td>4.000000</td>\n",
       "      <td>30000.000000</td>\n",
       "      <td>0.560000</td>\n",
       "    </tr>\n",
       "    <tr>\n",
       "      <th>75%</th>\n",
       "      <td>6.000000</td>\n",
       "      <td>4.000000</td>\n",
       "      <td>43200.000000</td>\n",
       "      <td>0.710000</td>\n",
       "    </tr>\n",
       "    <tr>\n",
       "      <th>max</th>\n",
       "      <td>10.000000</td>\n",
       "      <td>5.000000</td>\n",
       "      <td>98400.000000</td>\n",
       "      <td>1.000000</td>\n",
       "    </tr>\n",
       "  </tbody>\n",
       "</table>\n",
       "</div>"
      ],
      "text/plain": [
       "       employment_years  supervisor_evaluation        salary  \\\n",
       "count       4000.000000            4000.000000   4000.000000   \n",
       "mean           3.718500               3.476500  33926.700000   \n",
       "std            2.542513               1.008812  14900.703838   \n",
       "min            1.000000               1.000000  12000.000000   \n",
       "25%            2.000000               3.000000  22800.000000   \n",
       "50%            3.000000               4.000000  30000.000000   \n",
       "75%            6.000000               4.000000  43200.000000   \n",
       "max           10.000000               5.000000  98400.000000   \n",
       "\n",
       "       job_satisfaction_rate  \n",
       "count            4000.000000  \n",
       "mean                0.533995  \n",
       "std                 0.225327  \n",
       "min                 0.030000  \n",
       "25%                 0.360000  \n",
       "50%                 0.560000  \n",
       "75%                 0.710000  \n",
       "max                 1.000000  "
      ]
     },
     "metadata": {},
     "output_type": "display_data"
    },
    {
     "name": "stdout",
     "output_type": "stream",
     "text": [
      "\n",
      "Основная статистическая информация по набору test_features\n"
     ]
    },
    {
     "data": {
      "application/vnd.microsoft.datawrangler.viewer.v0+json": {
       "columns": [
        {
         "name": "index",
         "rawType": "object",
         "type": "string"
        },
        {
         "name": "employment_years",
         "rawType": "float64",
         "type": "float"
        },
        {
         "name": "supervisor_evaluation",
         "rawType": "float64",
         "type": "float"
        },
        {
         "name": "salary",
         "rawType": "float64",
         "type": "float"
        }
       ],
       "conversionMethod": "pd.DataFrame",
       "ref": "15f75ef2-7bd6-4476-ba46-d357fdde5bd8",
       "rows": [
        [
         "count",
         "2000.0",
         "2000.0",
         "2000.0"
        ],
        [
         "mean",
         "3.6665",
         "3.5265",
         "34066.8"
        ],
        [
         "std",
         "2.5372222011974284",
         "0.996892495369316",
         "15398.436728669682"
        ],
        [
         "min",
         "1.0",
         "1.0",
         "12000.0"
        ],
        [
         "25%",
         "1.0",
         "3.0",
         "22800.0"
        ],
        [
         "50%",
         "3.0",
         "4.0",
         "30000.0"
        ],
        [
         "75%",
         "6.0",
         "4.0",
         "43200.0"
        ],
        [
         "max",
         "10.0",
         "5.0",
         "96000.0"
        ]
       ],
       "shape": {
        "columns": 3,
        "rows": 8
       }
      },
      "text/html": [
       "<div>\n",
       "<style scoped>\n",
       "    .dataframe tbody tr th:only-of-type {\n",
       "        vertical-align: middle;\n",
       "    }\n",
       "\n",
       "    .dataframe tbody tr th {\n",
       "        vertical-align: top;\n",
       "    }\n",
       "\n",
       "    .dataframe thead th {\n",
       "        text-align: right;\n",
       "    }\n",
       "</style>\n",
       "<table border=\"1\" class=\"dataframe\">\n",
       "  <thead>\n",
       "    <tr style=\"text-align: right;\">\n",
       "      <th></th>\n",
       "      <th>employment_years</th>\n",
       "      <th>supervisor_evaluation</th>\n",
       "      <th>salary</th>\n",
       "    </tr>\n",
       "  </thead>\n",
       "  <tbody>\n",
       "    <tr>\n",
       "      <th>count</th>\n",
       "      <td>2000.000000</td>\n",
       "      <td>2000.000000</td>\n",
       "      <td>2000.000000</td>\n",
       "    </tr>\n",
       "    <tr>\n",
       "      <th>mean</th>\n",
       "      <td>3.666500</td>\n",
       "      <td>3.526500</td>\n",
       "      <td>34066.800000</td>\n",
       "    </tr>\n",
       "    <tr>\n",
       "      <th>std</th>\n",
       "      <td>2.537222</td>\n",
       "      <td>0.996892</td>\n",
       "      <td>15398.436729</td>\n",
       "    </tr>\n",
       "    <tr>\n",
       "      <th>min</th>\n",
       "      <td>1.000000</td>\n",
       "      <td>1.000000</td>\n",
       "      <td>12000.000000</td>\n",
       "    </tr>\n",
       "    <tr>\n",
       "      <th>25%</th>\n",
       "      <td>1.000000</td>\n",
       "      <td>3.000000</td>\n",
       "      <td>22800.000000</td>\n",
       "    </tr>\n",
       "    <tr>\n",
       "      <th>50%</th>\n",
       "      <td>3.000000</td>\n",
       "      <td>4.000000</td>\n",
       "      <td>30000.000000</td>\n",
       "    </tr>\n",
       "    <tr>\n",
       "      <th>75%</th>\n",
       "      <td>6.000000</td>\n",
       "      <td>4.000000</td>\n",
       "      <td>43200.000000</td>\n",
       "    </tr>\n",
       "    <tr>\n",
       "      <th>max</th>\n",
       "      <td>10.000000</td>\n",
       "      <td>5.000000</td>\n",
       "      <td>96000.000000</td>\n",
       "    </tr>\n",
       "  </tbody>\n",
       "</table>\n",
       "</div>"
      ],
      "text/plain": [
       "       employment_years  supervisor_evaluation        salary\n",
       "count       2000.000000            2000.000000   2000.000000\n",
       "mean           3.666500               3.526500  34066.800000\n",
       "std            2.537222               0.996892  15398.436729\n",
       "min            1.000000               1.000000  12000.000000\n",
       "25%            1.000000               3.000000  22800.000000\n",
       "50%            3.000000               4.000000  30000.000000\n",
       "75%            6.000000               4.000000  43200.000000\n",
       "max           10.000000               5.000000  96000.000000"
      ]
     },
     "metadata": {},
     "output_type": "display_data"
    },
    {
     "name": "stdout",
     "output_type": "stream",
     "text": [
      "\n",
      "Основная статистическая информация по набору test_target\n"
     ]
    },
    {
     "data": {
      "application/vnd.microsoft.datawrangler.viewer.v0+json": {
       "columns": [
        {
         "name": "index",
         "rawType": "object",
         "type": "string"
        },
        {
         "name": "job_satisfaction_rate",
         "rawType": "float64",
         "type": "float"
        }
       ],
       "conversionMethod": "pd.DataFrame",
       "ref": "b5d3bdee-25f8-4e28-be7c-99e9c0c15adc",
       "rows": [
        [
         "count",
         "2000.0"
        ],
        [
         "mean",
         "0.5487799999999999"
        ],
        [
         "std",
         "0.22010959933146698"
        ],
        [
         "min",
         "0.03"
        ],
        [
         "25%",
         "0.38"
        ],
        [
         "50%",
         "0.58"
        ],
        [
         "75%",
         "0.72"
        ],
        [
         "max",
         "1.0"
        ]
       ],
       "shape": {
        "columns": 1,
        "rows": 8
       }
      },
      "text/html": [
       "<div>\n",
       "<style scoped>\n",
       "    .dataframe tbody tr th:only-of-type {\n",
       "        vertical-align: middle;\n",
       "    }\n",
       "\n",
       "    .dataframe tbody tr th {\n",
       "        vertical-align: top;\n",
       "    }\n",
       "\n",
       "    .dataframe thead th {\n",
       "        text-align: right;\n",
       "    }\n",
       "</style>\n",
       "<table border=\"1\" class=\"dataframe\">\n",
       "  <thead>\n",
       "    <tr style=\"text-align: right;\">\n",
       "      <th></th>\n",
       "      <th>job_satisfaction_rate</th>\n",
       "    </tr>\n",
       "  </thead>\n",
       "  <tbody>\n",
       "    <tr>\n",
       "      <th>count</th>\n",
       "      <td>2000.00000</td>\n",
       "    </tr>\n",
       "    <tr>\n",
       "      <th>mean</th>\n",
       "      <td>0.54878</td>\n",
       "    </tr>\n",
       "    <tr>\n",
       "      <th>std</th>\n",
       "      <td>0.22011</td>\n",
       "    </tr>\n",
       "    <tr>\n",
       "      <th>min</th>\n",
       "      <td>0.03000</td>\n",
       "    </tr>\n",
       "    <tr>\n",
       "      <th>25%</th>\n",
       "      <td>0.38000</td>\n",
       "    </tr>\n",
       "    <tr>\n",
       "      <th>50%</th>\n",
       "      <td>0.58000</td>\n",
       "    </tr>\n",
       "    <tr>\n",
       "      <th>75%</th>\n",
       "      <td>0.72000</td>\n",
       "    </tr>\n",
       "    <tr>\n",
       "      <th>max</th>\n",
       "      <td>1.00000</td>\n",
       "    </tr>\n",
       "  </tbody>\n",
       "</table>\n",
       "</div>"
      ],
      "text/plain": [
       "       job_satisfaction_rate\n",
       "count             2000.00000\n",
       "mean                 0.54878\n",
       "std                  0.22011\n",
       "min                  0.03000\n",
       "25%                  0.38000\n",
       "50%                  0.58000\n",
       "75%                  0.72000\n",
       "max                  1.00000"
      ]
     },
     "metadata": {},
     "output_type": "display_data"
    },
    {
     "name": "stdout",
     "output_type": "stream",
     "text": [
      "\n"
     ]
    }
   ],
   "source": [
    "# вывод на экран основных статистик по наборам данных\n",
    "counter = 0\n",
    "\n",
    "for df in data_list:\n",
    "    print(f'Основная статистическая информация по набору {data_names_list[counter]}')\n",
    "    display(df.iloc[:, 1:].describe())\n",
    "    counter += 1\n",
    "    print()"
   ]
  },
  {
   "cell_type": "markdown",
   "metadata": {},
   "source": [
    "**Вывод по промежуточному этапу**:\n",
    "\n",
    "Набор `train_data` характеризуется следующими статистическими показателями:\n",
    "\n",
    "* **employment_years - длительность работы в компании (в годах)**:\n",
    "    * Среднее значение - 3.7;\n",
    "    * Минимальное значение - 1.0;\n",
    "    * Максимальное значение - 10.0;\n",
    "    * Стандартное отклонение - 2.5.\n",
    "* **supervisor_evaluation - оценка качества работы сотрудника, которую дал руководитель**:\n",
    "    * Среднее значение - 3.5;\n",
    "    * Минимальное значение - 1.0;\n",
    "    * Максимальное значение - 5.0;\n",
    "    * Стандартное отклонение - 1.0.\n",
    "* **salary - ежемесячная зарплата сотрудника**:\n",
    "    * Среднее значение - 33 926.7;\n",
    "    * Минимальное значение - 12 000.0;\n",
    "    * Максимальное значение - 98 400.0;\n",
    "    * Стандартное отклонение - 14 900.7. **Данные достаточно вариативны** - необходимо изучить, каким отделам принадлежат те или иные уровни зарплат.\n",
    "* **job_satisfaction_rate - уровень удовлетворенности сотрудника работой в компании**:\n",
    "    * Среднее значение - 0.53;\n",
    "    * Минимальное значение - 0.03;\n",
    "    * Максимальное значение - 1.0;\n",
    "    * Стандартное отклонение - 0.23."
   ]
  },
  {
   "cell_type": "markdown",
   "metadata": {},
   "source": [
    "Набор `test_features` характеризуется следующими статистическими показателями:\n",
    "\n",
    "* **employment_years - длительность работы в компании (в годах)**:\n",
    "    * Среднее значение - 3.67;\n",
    "    * Минимальное значение - 1.0;\n",
    "    * Максимальное значение - 10.0;\n",
    "    * Стандартное отклонение - 2.5.\n",
    "* **supervisor_evaluation - оценка качества работы сотрудника, которую дал руководитель**:\n",
    "    * Среднее значение - 3.5;\n",
    "    * Минимальное значение - 1.0;\n",
    "    * Максимальное значение - 5.0;\n",
    "    * Стандартное отклонение - 1.0.\n",
    "* **salary - ежемесячная зарплата сотрудника**:\n",
    "    * Среднее значение - 34 066.8;\n",
    "    * Минимальное значение - 12 000.0;\n",
    "    * Максимальное значение - 96 000.0;\n",
    "    * Стандартное отклонение - 15 398.4. **Данные достаточно вариативны** - необходимо изучить, каким отделам принадлежат те или иные уровни зарплат."
   ]
  },
  {
   "cell_type": "markdown",
   "metadata": {},
   "source": [
    "Набор `test_target` характеризуется следующими статистическими показателями:\n",
    "\n",
    "* **job_satisfaction_rate - уровень удовлетворенности сотрудника работой в компании**:\n",
    "    * Среднее значение - 0.55;\n",
    "    * Минимальное значение - 0.03;\n",
    "    * Максимальное значение - 1.0;\n",
    "    * Стандартное отклонение - 0.22."
   ]
  },
  {
   "cell_type": "code",
   "execution_count": null,
   "metadata": {},
   "outputs": [],
   "source": [
    "# инициализация пользовательской функции по формированию вывода информации\n",
    "\n",
    "def display_info(df: pd.DataFrame, column_name: str, title: str, xlabel: str, kind_of_plot : str):\n",
    "# построение визуализации по выбранной метрике\n",
    "    plt.title(title, fontsize = 12)\n",
    "    if kind_of_plot == 'pie':\n",
    "        (df[column_name]\n",
    "         .value_counts()\n",
    "         .sort_values(ascending=True)\n",
    "         .plot(kind = kind_of_plot, figsize = (8, 5), autopct='%1.0f%%'))\n",
    "    else:\n",
    "        (df[column_name]\n",
    "         .value_counts()\n",
    "         .sort_values(ascending=True)\n",
    "         .plot(kind = kind_of_plot, figsize = (8, 5)))\n",
    "    ax = plt.gca()\n",
    "    ax.axes.yaxis.set_visible(False)\n",
    "    plt.xlabel(xlabel)\n",
    "    plt.show()\n",
    "\n",
    "# построение сводной таблицы по выбранной метрике\n",
    "    pivot_data = (df[column_name]\n",
    "                  .value_counts()\n",
    "                  .sort_values(ascending=False)\n",
    "                  .to_frame())\n",
    "    pivot_data['share_of_employers'] = round(pivot_data['count'] / pivot_data['count'].sum() * 100, 2)\n",
    "    pivot_data.columns = ['count_of_employers', 'share_of_employers']\n",
    "    display(pivot_data)"
   ]
  },
  {
   "cell_type": "code",
   "execution_count": null,
   "metadata": {},
   "outputs": [
    {
     "data": {
      "image/png": "[encoded data removed]",
      "text/plain": [
       "<Figure size 800x500 with 1 Axes>"
      ]
     },
     "metadata": {},
     "output_type": "display_data"
    },
    {
     "data": {
      "application/vnd.microsoft.datawrangler.viewer.v0+json": {
       "columns": [
        {
         "name": "dept",
         "rawType": "object",
         "type": "string"
        },
        {
         "name": "count_of_users",
         "rawType": "int64",
         "type": "integer"
        },
        {
         "name": "share_of_users",
         "rawType": "float64",
         "type": "float"
        }
       ],
       "conversionMethod": "pd.DataFrame",
       "ref": "845eb38d-a675-4dbc-a35d-01345d2a662d",
       "rows": [
        [
         "sales",
         "1512",
         "37.86"
        ],
        [
         "technology",
         "866",
         "21.68"
        ],
        [
         "purchasing",
         "610",
         "15.27"
        ],
        [
         "marketing",
         "550",
         "13.77"
        ],
        [
         "hr",
         "456",
         "11.42"
        ]
       ],
       "shape": {
        "columns": 2,
        "rows": 5
       }
      },
      "text/html": [
       "<div>\n",
       "<style scoped>\n",
       "    .dataframe tbody tr th:only-of-type {\n",
       "        vertical-align: middle;\n",
       "    }\n",
       "\n",
       "    .dataframe tbody tr th {\n",
       "        vertical-align: top;\n",
       "    }\n",
       "\n",
       "    .dataframe thead th {\n",
       "        text-align: right;\n",
       "    }\n",
       "</style>\n",
       "<table border=\"1\" class=\"dataframe\">\n",
       "  <thead>\n",
       "    <tr style=\"text-align: right;\">\n",
       "      <th></th>\n",
       "      <th>count_of_users</th>\n",
       "      <th>share_of_users</th>\n",
       "    </tr>\n",
       "    <tr>\n",
       "      <th>dept</th>\n",
       "      <th></th>\n",
       "      <th></th>\n",
       "    </tr>\n",
       "  </thead>\n",
       "  <tbody>\n",
       "    <tr>\n",
       "      <th>sales</th>\n",
       "      <td>1512</td>\n",
       "      <td>37.86</td>\n",
       "    </tr>\n",
       "    <tr>\n",
       "      <th>technology</th>\n",
       "      <td>866</td>\n",
       "      <td>21.68</td>\n",
       "    </tr>\n",
       "    <tr>\n",
       "      <th>purchasing</th>\n",
       "      <td>610</td>\n",
       "      <td>15.27</td>\n",
       "    </tr>\n",
       "    <tr>\n",
       "      <th>marketing</th>\n",
       "      <td>550</td>\n",
       "      <td>13.77</td>\n",
       "    </tr>\n",
       "    <tr>\n",
       "      <th>hr</th>\n",
       "      <td>456</td>\n",
       "      <td>11.42</td>\n",
       "    </tr>\n",
       "  </tbody>\n",
       "</table>\n",
       "</div>"
      ],
      "text/plain": [
       "            count_of_users  share_of_users\n",
       "dept                                      \n",
       "sales                 1512           37.86\n",
       "technology             866           21.68\n",
       "purchasing             610           15.27\n",
       "marketing              550           13.77\n",
       "hr                     456           11.42"
      ]
     },
     "metadata": {},
     "output_type": "display_data"
    }
   ],
   "source": [
    "# построение пай-чарта по соотношению сотрудников в контексте отделов\n",
    "display_info(train_data, 'dept', 'Соотношение сотрудников по отделам', 'Отделы компании', 'pie')"
   ]
  },
  {
   "cell_type": "code",
   "execution_count": null,
   "metadata": {},
   "outputs": [
    {
     "data": {
      "image/png": "[encoded data removed]",
      "text/plain": [
       "<Figure size 800x500 with 1 Axes>"
      ]
     },
     "metadata": {},
     "output_type": "display_data"
    },
    {
     "data": {
      "application/vnd.microsoft.datawrangler.viewer.v0+json": {
       "columns": [
        {
         "name": "level",
         "rawType": "object",
         "type": "string"
        },
        {
         "name": "count_of_users",
         "rawType": "int64",
         "type": "integer"
        },
        {
         "name": "share_of_users",
         "rawType": "float64",
         "type": "float"
        }
       ],
       "conversionMethod": "pd.DataFrame",
       "ref": "02bb18cf-05ca-4a41-8feb-2b1d60fed107",
       "rows": [
        [
         "junior",
         "1894",
         "47.4"
        ],
        [
         "middle",
         "1744",
         "43.64"
        ],
        [
         "senior",
         "358",
         "8.96"
        ]
       ],
       "shape": {
        "columns": 2,
        "rows": 3
       }
      },
      "text/html": [
       "<div>\n",
       "<style scoped>\n",
       "    .dataframe tbody tr th:only-of-type {\n",
       "        vertical-align: middle;\n",
       "    }\n",
       "\n",
       "    .dataframe tbody tr th {\n",
       "        vertical-align: top;\n",
       "    }\n",
       "\n",
       "    .dataframe thead th {\n",
       "        text-align: right;\n",
       "    }\n",
       "</style>\n",
       "<table border=\"1\" class=\"dataframe\">\n",
       "  <thead>\n",
       "    <tr style=\"text-align: right;\">\n",
       "      <th></th>\n",
       "      <th>count_of_users</th>\n",
       "      <th>share_of_users</th>\n",
       "    </tr>\n",
       "    <tr>\n",
       "      <th>level</th>\n",
       "      <th></th>\n",
       "      <th></th>\n",
       "    </tr>\n",
       "  </thead>\n",
       "  <tbody>\n",
       "    <tr>\n",
       "      <th>junior</th>\n",
       "      <td>1894</td>\n",
       "      <td>47.40</td>\n",
       "    </tr>\n",
       "    <tr>\n",
       "      <th>middle</th>\n",
       "      <td>1744</td>\n",
       "      <td>43.64</td>\n",
       "    </tr>\n",
       "    <tr>\n",
       "      <th>senior</th>\n",
       "      <td>358</td>\n",
       "      <td>8.96</td>\n",
       "    </tr>\n",
       "  </tbody>\n",
       "</table>\n",
       "</div>"
      ],
      "text/plain": [
       "        count_of_users  share_of_users\n",
       "level                                 \n",
       "junior            1894           47.40\n",
       "middle            1744           43.64\n",
       "senior             358            8.96"
      ]
     },
     "metadata": {},
     "output_type": "display_data"
    }
   ],
   "source": [
    "# построение пай-чарта по соотношению сотрудников в контексте занимаемой должности\n",
    "display_info(train_data, 'level', 'Соотношение сотрудников по уровням занимаемой должности', 'Уровень должности', 'pie')"
   ]
  },
  {
   "cell_type": "code",
   "execution_count": 26,
   "metadata": {},
   "outputs": [
    {
     "data": {
      "image/png": "[encoded data removed]",
      "text/plain": [
       "<Figure size 800x500 with 1 Axes>"
      ]
     },
     "metadata": {},
     "output_type": "display_data"
    },
    {
     "data": {
      "application/vnd.microsoft.datawrangler.viewer.v0+json": {
       "columns": [
        {
         "name": "workload",
         "rawType": "object",
         "type": "string"
        },
        {
         "name": "count_of_users",
         "rawType": "int64",
         "type": "integer"
        },
        {
         "name": "share_of_users",
         "rawType": "float64",
         "type": "float"
        }
       ],
       "conversionMethod": "pd.DataFrame",
       "ref": "6567ac95-b956-4a23-b9fb-fc3703a2acfd",
       "rows": [
        [
         "medium",
         "2066",
         "51.65"
        ],
        [
         "low",
         "1200",
         "30.0"
        ],
        [
         "high",
         "734",
         "18.35"
        ]
       ],
       "shape": {
        "columns": 2,
        "rows": 3
       }
      },
      "text/html": [
       "<div>\n",
       "<style scoped>\n",
       "    .dataframe tbody tr th:only-of-type {\n",
       "        vertical-align: middle;\n",
       "    }\n",
       "\n",
       "    .dataframe tbody tr th {\n",
       "        vertical-align: top;\n",
       "    }\n",
       "\n",
       "    .dataframe thead th {\n",
       "        text-align: right;\n",
       "    }\n",
       "</style>\n",
       "<table border=\"1\" class=\"dataframe\">\n",
       "  <thead>\n",
       "    <tr style=\"text-align: right;\">\n",
       "      <th></th>\n",
       "      <th>count_of_users</th>\n",
       "      <th>share_of_users</th>\n",
       "    </tr>\n",
       "    <tr>\n",
       "      <th>workload</th>\n",
       "      <th></th>\n",
       "      <th></th>\n",
       "    </tr>\n",
       "  </thead>\n",
       "  <tbody>\n",
       "    <tr>\n",
       "      <th>medium</th>\n",
       "      <td>2066</td>\n",
       "      <td>51.65</td>\n",
       "    </tr>\n",
       "    <tr>\n",
       "      <th>low</th>\n",
       "      <td>1200</td>\n",
       "      <td>30.00</td>\n",
       "    </tr>\n",
       "    <tr>\n",
       "      <th>high</th>\n",
       "      <td>734</td>\n",
       "      <td>18.35</td>\n",
       "    </tr>\n",
       "  </tbody>\n",
       "</table>\n",
       "</div>"
      ],
      "text/plain": [
       "          count_of_users  share_of_users\n",
       "workload                                \n",
       "medium              2066           51.65\n",
       "low                 1200           30.00\n",
       "high                 734           18.35"
      ]
     },
     "metadata": {},
     "output_type": "display_data"
    }
   ],
   "source": [
    "# построение пай-чарта по соотношению сотрудников в контексте занимаемой должности\n",
    "display_info(train_data, 'workload', 'Соотношение сотрудников по уровню загруженности работника', 'Уровень загруженности', 'pie')"
   ]
  },
  {
   "cell_type": "code",
   "execution_count": 27,
   "metadata": {},
   "outputs": [
    {
     "data": {
      "image/png": "[encoded data removed]",
      "text/plain": [
       "<Figure size 800x500 with 1 Axes>"
      ]
     },
     "metadata": {},
     "output_type": "display_data"
    },
    {
     "data": {
      "application/vnd.microsoft.datawrangler.viewer.v0+json": {
       "columns": [
        {
         "name": "last_year_promo",
         "rawType": "object",
         "type": "string"
        },
        {
         "name": "count_of_users",
         "rawType": "int64",
         "type": "integer"
        },
        {
         "name": "share_of_users",
         "rawType": "float64",
         "type": "float"
        }
       ],
       "conversionMethod": "pd.DataFrame",
       "ref": "751055d9-fa2b-4be3-8f7e-1cc3372243f7",
       "rows": [
        [
         "no",
         "3880",
         "97.0"
        ],
        [
         "yes",
         "120",
         "3.0"
        ]
       ],
       "shape": {
        "columns": 2,
        "rows": 2
       }
      },
      "text/html": [
       "<div>\n",
       "<style scoped>\n",
       "    .dataframe tbody tr th:only-of-type {\n",
       "        vertical-align: middle;\n",
       "    }\n",
       "\n",
       "    .dataframe tbody tr th {\n",
       "        vertical-align: top;\n",
       "    }\n",
       "\n",
       "    .dataframe thead th {\n",
       "        text-align: right;\n",
       "    }\n",
       "</style>\n",
       "<table border=\"1\" class=\"dataframe\">\n",
       "  <thead>\n",
       "    <tr style=\"text-align: right;\">\n",
       "      <th></th>\n",
       "      <th>count_of_users</th>\n",
       "      <th>share_of_users</th>\n",
       "    </tr>\n",
       "    <tr>\n",
       "      <th>last_year_promo</th>\n",
       "      <th></th>\n",
       "      <th></th>\n",
       "    </tr>\n",
       "  </thead>\n",
       "  <tbody>\n",
       "    <tr>\n",
       "      <th>no</th>\n",
       "      <td>3880</td>\n",
       "      <td>97.0</td>\n",
       "    </tr>\n",
       "    <tr>\n",
       "      <th>yes</th>\n",
       "      <td>120</td>\n",
       "      <td>3.0</td>\n",
       "    </tr>\n",
       "  </tbody>\n",
       "</table>\n",
       "</div>"
      ],
      "text/plain": [
       "                 count_of_users  share_of_users\n",
       "last_year_promo                                \n",
       "no                         3880            97.0\n",
       "yes                         120             3.0"
      ]
     },
     "metadata": {},
     "output_type": "display_data"
    }
   ],
   "source": [
    "# построение пай-чарта по соотношению сотрудников в контексте занимаемой должности\n",
    "display_info(train_data, 'last_year_promo', 'Соотношение сотрудников по факту повышения', 'Факт повышения', 'pie')"
   ]
  },
  {
   "cell_type": "code",
   "execution_count": 28,
   "metadata": {},
   "outputs": [
    {
     "data": {
      "image/png": "[encoded data removed]",
      "text/plain": [
       "<Figure size 800x500 with 1 Axes>"
      ]
     },
     "metadata": {},
     "output_type": "display_data"
    },
    {
     "data": {
      "application/vnd.microsoft.datawrangler.viewer.v0+json": {
       "columns": [
        {
         "name": "last_year_violations",
         "rawType": "object",
         "type": "string"
        },
        {
         "name": "count_of_users",
         "rawType": "int64",
         "type": "integer"
        },
        {
         "name": "share_of_users",
         "rawType": "float64",
         "type": "float"
        }
       ],
       "conversionMethod": "pd.DataFrame",
       "ref": "5fd01d34-c068-4fa7-8e8d-e64ee27b76ac",
       "rows": [
        [
         "no",
         "3441",
         "86.02"
        ],
        [
         "yes",
         "559",
         "13.98"
        ]
       ],
       "shape": {
        "columns": 2,
        "rows": 2
       }
      },
      "text/html": [
       "<div>\n",
       "<style scoped>\n",
       "    .dataframe tbody tr th:only-of-type {\n",
       "        vertical-align: middle;\n",
       "    }\n",
       "\n",
       "    .dataframe tbody tr th {\n",
       "        vertical-align: top;\n",
       "    }\n",
       "\n",
       "    .dataframe thead th {\n",
       "        text-align: right;\n",
       "    }\n",
       "</style>\n",
       "<table border=\"1\" class=\"dataframe\">\n",
       "  <thead>\n",
       "    <tr style=\"text-align: right;\">\n",
       "      <th></th>\n",
       "      <th>count_of_users</th>\n",
       "      <th>share_of_users</th>\n",
       "    </tr>\n",
       "    <tr>\n",
       "      <th>last_year_violations</th>\n",
       "      <th></th>\n",
       "      <th></th>\n",
       "    </tr>\n",
       "  </thead>\n",
       "  <tbody>\n",
       "    <tr>\n",
       "      <th>no</th>\n",
       "      <td>3441</td>\n",
       "      <td>86.02</td>\n",
       "    </tr>\n",
       "    <tr>\n",
       "      <th>yes</th>\n",
       "      <td>559</td>\n",
       "      <td>13.98</td>\n",
       "    </tr>\n",
       "  </tbody>\n",
       "</table>\n",
       "</div>"
      ],
      "text/plain": [
       "                      count_of_users  share_of_users\n",
       "last_year_violations                                \n",
       "no                              3441           86.02\n",
       "yes                              559           13.98"
      ]
     },
     "metadata": {},
     "output_type": "display_data"
    }
   ],
   "source": [
    "# построение пай-чарта по соотношению сотрудников в контексте занимаемой должности\n",
    "display_info(train_data, 'last_year_violations', 'Соотношение сотрудников по факту нарушений', 'Факт нарушений', 'pie')"
   ]
  },
  {
   "cell_type": "markdown",
   "metadata": {},
   "source": [
    "**Вывод по промежуточному этапу**\n",
    "\n",
    "`train_data`\n",
    "\n",
    "* Большая часть сотрудников (60%) работает в отделах **sales** и **technology**: 38% и 22%, соответственно;\n",
    "* Наиболее часто встречающиеся должности: **junior** и **middle** - 47% и 44%, соответственно;\n",
    "* Большая часть сотрудников имеет **среднюю загруженность** - 52%;\n",
    "* 97% сотрудников **не получили** повышение за прошлый год;\n",
    "* 86% сотрудников **не нарушали** правила компании за прошлый год."
   ]
  },
  {
   "cell_type": "code",
   "execution_count": 29,
   "metadata": {},
   "outputs": [
    {
     "data": {
      "application/vnd.microsoft.datawrangler.viewer.v0+json": {
       "columns": [
        {
         "name": "index",
         "rawType": "int64",
         "type": "integer"
        },
        {
         "name": "id",
         "rawType": "int64",
         "type": "integer"
        },
        {
         "name": "dept",
         "rawType": "object",
         "type": "unknown"
        },
        {
         "name": "level",
         "rawType": "object",
         "type": "string"
        },
        {
         "name": "workload",
         "rawType": "object",
         "type": "string"
        },
        {
         "name": "employment_years",
         "rawType": "int64",
         "type": "integer"
        },
        {
         "name": "last_year_promo",
         "rawType": "object",
         "type": "string"
        },
        {
         "name": "last_year_violations",
         "rawType": "object",
         "type": "string"
        },
        {
         "name": "supervisor_evaluation",
         "rawType": "int64",
         "type": "integer"
        },
        {
         "name": "salary",
         "rawType": "int64",
         "type": "integer"
        },
        {
         "name": "job_satisfaction_rate",
         "rawType": "float64",
         "type": "float"
        }
       ],
       "conversionMethod": "pd.DataFrame",
       "ref": "a3d65a56-6088-4c1c-9c2c-01ea260291ad",
       "rows": [
        [
         "1526",
         "694746",
         null,
         "junior",
         "medium",
         "5",
         "no",
         "no",
         "4",
         "21600",
         "0.62"
        ],
        [
         "1630",
         "814624",
         null,
         "junior",
         "medium",
         "3",
         "no",
         "no",
         "4",
         "24000",
         "0.88"
        ],
        [
         "1633",
         "475114",
         null,
         "junior",
         "high",
         "4",
         "no",
         "no",
         "4",
         "31200",
         "0.63"
        ],
        [
         "2781",
         "497243",
         null,
         "junior",
         "medium",
         "1",
         "no",
         "no",
         "3",
         "26400",
         "0.28"
        ],
        [
         "2975",
         "168668",
         null,
         "junior",
         "low",
         "3",
         "no",
         "no",
         "4",
         "18000",
         "0.88"
        ],
        [
         "3866",
         "641150",
         null,
         "junior",
         "low",
         "3",
         "no",
         "yes",
         "4",
         "12000",
         "0.54"
        ]
       ],
       "shape": {
        "columns": 10,
        "rows": 6
       }
      },
      "text/html": [
       "<div>\n",
       "<style scoped>\n",
       "    .dataframe tbody tr th:only-of-type {\n",
       "        vertical-align: middle;\n",
       "    }\n",
       "\n",
       "    .dataframe tbody tr th {\n",
       "        vertical-align: top;\n",
       "    }\n",
       "\n",
       "    .dataframe thead th {\n",
       "        text-align: right;\n",
       "    }\n",
       "</style>\n",
       "<table border=\"1\" class=\"dataframe\">\n",
       "  <thead>\n",
       "    <tr style=\"text-align: right;\">\n",
       "      <th></th>\n",
       "      <th>id</th>\n",
       "      <th>dept</th>\n",
       "      <th>level</th>\n",
       "      <th>workload</th>\n",
       "      <th>employment_years</th>\n",
       "      <th>last_year_promo</th>\n",
       "      <th>last_year_violations</th>\n",
       "      <th>supervisor_evaluation</th>\n",
       "      <th>salary</th>\n",
       "      <th>job_satisfaction_rate</th>\n",
       "    </tr>\n",
       "  </thead>\n",
       "  <tbody>\n",
       "    <tr>\n",
       "      <th>1526</th>\n",
       "      <td>694746</td>\n",
       "      <td>NaN</td>\n",
       "      <td>junior</td>\n",
       "      <td>medium</td>\n",
       "      <td>5</td>\n",
       "      <td>no</td>\n",
       "      <td>no</td>\n",
       "      <td>4</td>\n",
       "      <td>21600</td>\n",
       "      <td>0.62</td>\n",
       "    </tr>\n",
       "    <tr>\n",
       "      <th>1630</th>\n",
       "      <td>814624</td>\n",
       "      <td>NaN</td>\n",
       "      <td>junior</td>\n",
       "      <td>medium</td>\n",
       "      <td>3</td>\n",
       "      <td>no</td>\n",
       "      <td>no</td>\n",
       "      <td>4</td>\n",
       "      <td>24000</td>\n",
       "      <td>0.88</td>\n",
       "    </tr>\n",
       "    <tr>\n",
       "      <th>1633</th>\n",
       "      <td>475114</td>\n",
       "      <td>NaN</td>\n",
       "      <td>junior</td>\n",
       "      <td>high</td>\n",
       "      <td>4</td>\n",
       "      <td>no</td>\n",
       "      <td>no</td>\n",
       "      <td>4</td>\n",
       "      <td>31200</td>\n",
       "      <td>0.63</td>\n",
       "    </tr>\n",
       "    <tr>\n",
       "      <th>2781</th>\n",
       "      <td>497243</td>\n",
       "      <td>NaN</td>\n",
       "      <td>junior</td>\n",
       "      <td>medium</td>\n",
       "      <td>1</td>\n",
       "      <td>no</td>\n",
       "      <td>no</td>\n",
       "      <td>3</td>\n",
       "      <td>26400</td>\n",
       "      <td>0.28</td>\n",
       "    </tr>\n",
       "    <tr>\n",
       "      <th>2975</th>\n",
       "      <td>168668</td>\n",
       "      <td>NaN</td>\n",
       "      <td>junior</td>\n",
       "      <td>low</td>\n",
       "      <td>3</td>\n",
       "      <td>no</td>\n",
       "      <td>no</td>\n",
       "      <td>4</td>\n",
       "      <td>18000</td>\n",
       "      <td>0.88</td>\n",
       "    </tr>\n",
       "    <tr>\n",
       "      <th>3866</th>\n",
       "      <td>641150</td>\n",
       "      <td>NaN</td>\n",
       "      <td>junior</td>\n",
       "      <td>low</td>\n",
       "      <td>3</td>\n",
       "      <td>no</td>\n",
       "      <td>yes</td>\n",
       "      <td>4</td>\n",
       "      <td>12000</td>\n",
       "      <td>0.54</td>\n",
       "    </tr>\n",
       "  </tbody>\n",
       "</table>\n",
       "</div>"
      ],
      "text/plain": [
       "          id dept   level workload  employment_years last_year_promo  \\\n",
       "1526  694746  NaN  junior   medium                 5              no   \n",
       "1630  814624  NaN  junior   medium                 3              no   \n",
       "1633  475114  NaN  junior     high                 4              no   \n",
       "2781  497243  NaN  junior   medium                 1              no   \n",
       "2975  168668  NaN  junior      low                 3              no   \n",
       "3866  641150  NaN  junior      low                 3              no   \n",
       "\n",
       "     last_year_violations  supervisor_evaluation  salary  \\\n",
       "1526                   no                      4   21600   \n",
       "1630                   no                      4   24000   \n",
       "1633                   no                      4   31200   \n",
       "2781                   no                      3   26400   \n",
       "2975                   no                      4   18000   \n",
       "3866                  yes                      4   12000   \n",
       "\n",
       "      job_satisfaction_rate  \n",
       "1526                   0.62  \n",
       "1630                   0.88  \n",
       "1633                   0.63  \n",
       "2781                   0.28  \n",
       "2975                   0.88  \n",
       "3866                   0.54  "
      ]
     },
     "execution_count": 29,
     "metadata": {},
     "output_type": "execute_result"
    }
   ],
   "source": [
    "# вывод на экран строк с пропущенными значениями по признаку 'dept'\n",
    "train_data[train_data['dept'].isna()]"
   ]
  },
  {
   "cell_type": "code",
   "execution_count": 30,
   "metadata": {},
   "outputs": [
    {
     "data": {
      "application/vnd.microsoft.datawrangler.viewer.v0+json": {
       "columns": [
        {
         "name": "index",
         "rawType": "int64",
         "type": "integer"
        },
        {
         "name": "id",
         "rawType": "int64",
         "type": "integer"
        },
        {
         "name": "dept",
         "rawType": "object",
         "type": "string"
        },
        {
         "name": "level",
         "rawType": "object",
         "type": "unknown"
        },
        {
         "name": "workload",
         "rawType": "object",
         "type": "string"
        },
        {
         "name": "employment_years",
         "rawType": "int64",
         "type": "integer"
        },
        {
         "name": "last_year_promo",
         "rawType": "object",
         "type": "string"
        },
        {
         "name": "last_year_violations",
         "rawType": "object",
         "type": "string"
        },
        {
         "name": "supervisor_evaluation",
         "rawType": "int64",
         "type": "integer"
        },
        {
         "name": "salary",
         "rawType": "int64",
         "type": "integer"
        },
        {
         "name": "job_satisfaction_rate",
         "rawType": "float64",
         "type": "float"
        }
       ],
       "conversionMethod": "pd.DataFrame",
       "ref": "0520cda2-48ba-44b7-8f59-40022bff002f",
       "rows": [
        [
         "1209",
         "631073",
         "sales",
         null,
         "medium",
         "1",
         "no",
         "no",
         "4",
         "27600",
         "0.66"
        ],
        [
         "1469",
         "416327",
         "sales",
         null,
         "low",
         "1",
         "no",
         "no",
         "5",
         "18000",
         "0.73"
        ],
        [
         "1745",
         "135043",
         "sales",
         null,
         "medium",
         "1",
         "no",
         "no",
         "3",
         "26400",
         "0.3"
        ],
        [
         "2522",
         "998838",
         "sales",
         null,
         "medium",
         "1",
         "no",
         "no",
         "5",
         "27600",
         "0.71"
        ]
       ],
       "shape": {
        "columns": 10,
        "rows": 4
       }
      },
      "text/html": [
       "<div>\n",
       "<style scoped>\n",
       "    .dataframe tbody tr th:only-of-type {\n",
       "        vertical-align: middle;\n",
       "    }\n",
       "\n",
       "    .dataframe tbody tr th {\n",
       "        vertical-align: top;\n",
       "    }\n",
       "\n",
       "    .dataframe thead th {\n",
       "        text-align: right;\n",
       "    }\n",
       "</style>\n",
       "<table border=\"1\" class=\"dataframe\">\n",
       "  <thead>\n",
       "    <tr style=\"text-align: right;\">\n",
       "      <th></th>\n",
       "      <th>id</th>\n",
       "      <th>dept</th>\n",
       "      <th>level</th>\n",
       "      <th>workload</th>\n",
       "      <th>employment_years</th>\n",
       "      <th>last_year_promo</th>\n",
       "      <th>last_year_violations</th>\n",
       "      <th>supervisor_evaluation</th>\n",
       "      <th>salary</th>\n",
       "      <th>job_satisfaction_rate</th>\n",
       "    </tr>\n",
       "  </thead>\n",
       "  <tbody>\n",
       "    <tr>\n",
       "      <th>1209</th>\n",
       "      <td>631073</td>\n",
       "      <td>sales</td>\n",
       "      <td>NaN</td>\n",
       "      <td>medium</td>\n",
       "      <td>1</td>\n",
       "      <td>no</td>\n",
       "      <td>no</td>\n",
       "      <td>4</td>\n",
       "      <td>27600</td>\n",
       "      <td>0.66</td>\n",
       "    </tr>\n",
       "    <tr>\n",
       "      <th>1469</th>\n",
       "      <td>416327</td>\n",
       "      <td>sales</td>\n",
       "      <td>NaN</td>\n",
       "      <td>low</td>\n",
       "      <td>1</td>\n",
       "      <td>no</td>\n",
       "      <td>no</td>\n",
       "      <td>5</td>\n",
       "      <td>18000</td>\n",
       "      <td>0.73</td>\n",
       "    </tr>\n",
       "    <tr>\n",
       "      <th>1745</th>\n",
       "      <td>135043</td>\n",
       "      <td>sales</td>\n",
       "      <td>NaN</td>\n",
       "      <td>medium</td>\n",
       "      <td>1</td>\n",
       "      <td>no</td>\n",
       "      <td>no</td>\n",
       "      <td>3</td>\n",
       "      <td>26400</td>\n",
       "      <td>0.30</td>\n",
       "    </tr>\n",
       "    <tr>\n",
       "      <th>2522</th>\n",
       "      <td>998838</td>\n",
       "      <td>sales</td>\n",
       "      <td>NaN</td>\n",
       "      <td>medium</td>\n",
       "      <td>1</td>\n",
       "      <td>no</td>\n",
       "      <td>no</td>\n",
       "      <td>5</td>\n",
       "      <td>27600</td>\n",
       "      <td>0.71</td>\n",
       "    </tr>\n",
       "  </tbody>\n",
       "</table>\n",
       "</div>"
      ],
      "text/plain": [
       "          id   dept level workload  employment_years last_year_promo  \\\n",
       "1209  631073  sales   NaN   medium                 1              no   \n",
       "1469  416327  sales   NaN      low                 1              no   \n",
       "1745  135043  sales   NaN   medium                 1              no   \n",
       "2522  998838  sales   NaN   medium                 1              no   \n",
       "\n",
       "     last_year_violations  supervisor_evaluation  salary  \\\n",
       "1209                   no                      4   27600   \n",
       "1469                   no                      5   18000   \n",
       "1745                   no                      3   26400   \n",
       "2522                   no                      5   27600   \n",
       "\n",
       "      job_satisfaction_rate  \n",
       "1209                   0.66  \n",
       "1469                   0.73  \n",
       "1745                   0.30  \n",
       "2522                   0.71  "
      ]
     },
     "execution_count": 30,
     "metadata": {},
     "output_type": "execute_result"
    }
   ],
   "source": [
    "# вывод на экран строк с пропущенными значениями по признаку 'dept'\n",
    "train_data[train_data['level'].isna()]"
   ]
  },
  {
   "cell_type": "code",
   "execution_count": null,
   "metadata": {},
   "outputs": [
    {
     "data": {
      "image/png": "[encoded data removed]",
      "text/plain": [
       "<Figure size 1000x500 with 1 Axes>"
      ]
     },
     "metadata": {},
     "output_type": "display_data"
    },
    {
     "name": "stdout",
     "output_type": "stream",
     "text": [
      "Стандартные отклонения зарплат в зависимости от уровня занимаемой должности\n",
      "level\n",
      "junior     6282.59\n",
      "middle    11232.94\n",
      "senior    13447.40\n",
      "Name: salary, dtype: float64\n"
     ]
    }
   ],
   "source": [
    "# визуализация средних зарплат по отделу 'sales' по уровням занимаемой должности\n",
    "sns.barplot(data = train_data.query('dept == \"sales\"'), order = ['senior', 'middle', 'junior'], x = 'level', y = 'salary', estimator='mean', errorbar='ci')\n",
    "plt.title('Средние зарплаты по отделу \"sales\" по уровням занимаемой должности', fontsize = 12)\n",
    "plt.xlabel('Уровень должности')\n",
    "plt.ylabel('Уровень зарплаты')\n",
    "plt.show()\n",
    "\n",
    "print('Стандартные отклонения зарплат в зависимости от уровня занимаемой должности')\n",
    "print(round(train_data.query('dept == \"sales\"').groupby('level')['salary'].std(),2))"
   ]
  },
  {
   "cell_type": "code",
   "execution_count": 48,
   "metadata": {},
   "outputs": [
    {
     "data": {
      "image/png": "[encoded data removed]",
      "text/plain": [
       "<Figure size 1000x500 with 1 Axes>"
      ]
     },
     "metadata": {},
     "output_type": "display_data"
    },
    {
     "name": "stdout",
     "output_type": "stream",
     "text": [
      "Стандартные отклонения зарплат в зависимости от уровня занимаемой должности\n",
      "dept\n",
      "hr            6302.18\n",
      "marketing     6943.51\n",
      "purchasing    6513.12\n",
      "sales         6282.59\n",
      "technology    8202.76\n",
      "Name: salary, dtype: float64\n"
     ]
    }
   ],
   "source": [
    "# визуализация средних зарплат по уровню 'junior' по отделам компании\n",
    "sns.barplot(data = train_data[(train_data['level'] == \"junior\") & (train_data['employment_years'] <= 5)], x = 'dept', y = 'salary', estimator='mean', errorbar='ci')\n",
    "plt.title('Средние зарплаты по отделу \"sales\" по уровням занимаемой должности', fontsize = 12)\n",
    "plt.show()\n",
    "\n",
    "print('Стандартные отклонения зарплат в зависимости от уровня занимаемой должности')\n",
    "print(round(train_data[(train_data['level'] == \"junior\") & (train_data['employment_years'] <= 5)].groupby('dept')['salary'].std(),2))"
   ]
  },
  {
   "cell_type": "markdown",
   "metadata": {},
   "source": [
    "**Вывод по промежуточному этапу**\n",
    "\n",
    "Анализ пропущенных значений по набору `train_data` показал, что:\n",
    "1. Пропущенные значения по признаку **level** можно заменить на 'junior'. Уровень зарплат - **salary** - и стаж работы - **employment years** - формируют картину, что представленные сотрудники имеют уровень 'junior'. Анализ стандартных отклонений зарплат в разрезе уровней так же подтверждает эту догадку;\n",
    "2. Заполнение пустых значений по признаку **dept** представляется более сложной задачей, так как здесь стоит о вопрос о точечном заполнении (часть строк - один отдел, строка - другой отдел и т.д.). Подобное ручное заполнение не подходит под вводную о том, что обработку пустых значений необходимо выполнить в пайплайне, поэтому предлагается далее заменить пустоты на значение 'unknown'."
   ]
  },
  {
   "cell_type": "markdown",
   "metadata": {},
   "source": []
  }
 ],
 "metadata": {
  "kernelspec": {
   "display_name": ".py_env",
   "language": "python",
   "name": "python3"
  },
  "language_info": {
   "codemirror_mode": {
    "name": "ipython",
    "version": 3
   },
   "file_extension": ".py",
   "mimetype": "text/x-python",
   "name": "python",
   "nbconvert_exporter": "python",
   "pygments_lexer": "ipython3",
   "version": "3.12.9"
  }
 },
 "nbformat": 4,
 "nbformat_minor": 2
}
