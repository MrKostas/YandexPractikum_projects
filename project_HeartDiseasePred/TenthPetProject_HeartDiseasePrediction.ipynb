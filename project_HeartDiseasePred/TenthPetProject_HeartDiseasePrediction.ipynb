{
 "cells": [
  {
   "cell_type": "markdown",
   "id": "917e0c99",
   "metadata": {},
   "source": [
    "# Учебный проект 10_Прогноз заболевания сердца у пациентов"
   ]
  },
  {
   "cell_type": "markdown",
   "id": "b31cfe30",
   "metadata": {},
   "source": [
    "## Содержание\n",
    "\n",
    "* [Описание проекта](#Описание)\n",
    "* [Импорт библиотек Python](#Импорт)\n",
    "* [Загрузка данных](#Загрузка)\n",
    "* [Предобработка данных](#Предобработка)\n",
    "* [Исследовательский анализ данных](#Исследование)\n",
    "* [Корреляционный анализ данных](#Корреляция)\n",
    "* [Построение моделей классификации данных](#Моделирование)\n",
    "    * [Подготовка данных и построение пайплайна МО](#Моделирование_пайплайн)\n",
    "    * [Выбор оптимальной модели](#Моделирование_обучение)\n",
    "    * [Прогноз риска болезни сердца на тестовом наборе](#Моделирование_Прогноз)\n",
    "* [Общий вывод](#ОбщийВывод)"
   ]
  },
  {
   "cell_type": "markdown",
   "id": "5acac063",
   "metadata": {},
   "source": [
    "На исследовании находятся данные с `информацией о пациентах клиники и наличием у них заболеваний сердца`, которые были взяты из открытого источника Kaggle.\n",
    "\n",
    "\n",
    "---\n",
    "\n",
    "`Задача`\n",
    "\n",
    "1. Разработать и выбрать лучшую модель машинного обучения для **прогноза у пациента высокого или низкого риска поражения сердца**;\n",
    "2. Разработать **приложение для автоматизированного прогнозирования риска поражения сердца на FastAPI**.\n",
    "\n",
    "---\n",
    "\n",
    "`Путь решения`\n",
    "\n",
    "1. Собрать данные по сотрудникам в следующем ключе:\n",
    "    * Данные о пациентах клиники - конкретно об их физиологических показателях и образе жизни:\n",
    "        * Данные для обучения моделей классификации;\n",
    "        * Данные для тестирования качества моделей.\n",
    "2. Исследовать датасеты на предмет лучшего понимания сути данных;\n",
    "3. Провести предобработку значений в наборах данных;\n",
    "4. Провести исследовательский анализ данных для выявления закономерностей, применимых к последующей настройке моделей МО;\n",
    "5. Построить и выбрать лучшую модель, которая `выполнит прогноз высокого или низкого риска поражения сердца` (задача может решаться моделями классификации);\n",
    "6. Оценить качество моделей на метриках. Оценить важность признаков для получения результатов прогноза;\n",
    "7. Сформировать вывод о подготовленных решениях. Предложить заказчику лучшую модели для решения обозначенной задачи;\n",
    "8. Подготовить скрипты и библиотеки для автоматизированной обработки данных и построения прогноза в приложении.\n",
    "\n",
    "---\n",
    "\n",
    "`Располагаемые данные`\n",
    "\n",
    "**Данные обучающей и тестовой выборок (медицинские показатели и другая информация о пациентах) - train_data и test_features**\n",
    "\n",
    "Нормализованные количественные признаки: \n",
    "* Age - возраст пациента;\n",
    "* Cholesterol — содержание холестерина в крови пациента;\n",
    "* Heart rate — частота сердечных сокращений пациента;\n",
    "* Exercise Hours Per Week - количество часов физической активности;\n",
    "* Sedentary Hours Per Day - количество часов в сидячем положении;\n",
    "* Income - доход пациента;\n",
    "* BMI - индекс массы тела пациента;\n",
    "* Sleep Hours Per Day - количество часов сна в день;\n",
    "* Triglycerides - содержание жиров в теле пациента;\n",
    "* Blood sugar - содержание сахара в крови;\n",
    "* CK-MB - содержание креатинкиназы в крови;\n",
    "* Troponin - содержание тропонина;\n",
    "* Systolic blood pressure - систолическое кровяное давление;\n",
    "* Diastolic blood pressure - диастолическое кровяное давление;\n",
    "\n",
    "Бинарные признаки:\n",
    "* Diabetes — наличие диабета у пациента;\n",
    "* Family History — наличие семейной истории сердечных заболеваний у пациента;\n",
    "* Smoking — наличие привычки курения у пациента;\n",
    "* Obesity — наличие ожирения у пациента;\n",
    "* Alcohol Consumption — потребляет ли пациент алкоголь;\n",
    "* Previous Heart Problems - наличие у пациента прошлых проблем с сердцем;\n",
    "* Medication use - принимает ли пациент медицинские препараты;\n",
    "* Gender - пол пациента;\n",
    "* Heart Attack Risk (Binary) - наличие риска сердечного заболевания (целевой признак);\n",
    "\n",
    "Категориальные признаки:\n",
    "* Diet — тип питания пациента;\n",
    "* Stress Level - уровень стресса пациента;\n",
    "* Physical Activity Days Per Week - количество дней физической активности в неделю;\n",
    "\n",
    "Прочие показатели:\n",
    "* id - уникальный идентификатор пациента;"
   ]
  },
  {
   "cell_type": "markdown",
   "id": "5cf65612",
   "metadata": {},
   "source": [
    "## Импорт библиотек Python <a class = 'anchor' id = 'Импорт'></a>"
   ]
  },
  {
   "cell_type": "markdown",
   "id": "24a755a2",
   "metadata": {},
   "source": [
    "1. Импорт библиотек Python:\n",
    "    * для манипулирования данными;\n",
    "    * для визуализации данных;\n",
    "    * для решения задач машинного обучения:\n",
    "        * модели классификации;\n",
    "        * метрики оценки эффективности моделей;\n",
    "        * механизмы отбора данных и подбора параметров моделей;\n",
    "        * механизмы подготовки данных;\n",
    "        * механизмы построения пайплайнов;\n",
    "        * механизм заполнения пустых значений;\n",
    "        * механизм анализха влияния признаков.\n",
    "2. Инициализация переменных-констант для последующего использования на этапе построения моделей МО;\n",
    "3. Формирование вывода по итогам данного этапа."
   ]
  },
  {
   "cell_type": "code",
   "execution_count": null,
   "id": "31f6fc23",
   "metadata": {},
   "outputs": [],
   "source": [
    "# импорт библиотек python\n",
    "\n",
    "# для манипулирования данными\n",
    "import pandas as pd\n",
    "# установка параметров для отображения табличных данных\n",
    "pd.set_option('display.max_columns', 30)\n",
    "pd.set_option('display.max_info_columns', 30)\n",
    "pd.set_option('display.max_rows', 5)\n",
    "pd.set_option('display.max_colwidth', 100)\n",
    "# установка параметров для отображения числовых значений\n",
    "pd.set_option('display.float_format', '{:.2f}'.format)\n",
    "\n",
    "# для визуализации данных\n",
    "import matplotlib.pyplot as plt\n",
    "import seaborn as sns\n",
    "# установка размеров для последующих графиков в проекте\n",
    "plt.rcParams['figure.figsize'] = (10, 5)\n",
    "\n",
    "# для решения задач машинного обучения\n",
    "# модели классификации\n",
    "from sklearn.linear_model import LogisticRegression\n",
    "from sklearn.neighbors import KNeighborsClassifier\n",
    "from sklearn.svm import SVC\n",
    "from sklearn.tree import DecisionTreeClassifier\n",
    "from sklearn.ensemble import AdaBoostClassifier\n",
    "from catboost import CatBoostClassifier\n",
    "\n",
    "# метрики оценки эффективности моделей\n",
    "from sklearn.metrics import (recall_score,\n",
    "                             precision_score,\n",
    "                             confusion_matrix,\n",
    "                             roc_auc_score)\n",
    "\n",
    "# механизмы отбора данных и подбора параметров моделей\n",
    "from sklearn.model_selection import train_test_split, GridSearchCV\n",
    "\n",
    "# механизмы построения пайплайнов\n",
    "from sklearn.pipeline import Pipeline"
   ]
  },
  {
   "cell_type": "code",
   "execution_count": null,
   "id": "3b6f9994",
   "metadata": {},
   "outputs": [],
   "source": [
    "# инициализация констант для дальнейшего использования в проекте\n",
    "# инициализация переменной RANDOM_STATE для фиксирования \"случайности\"\n",
    "RANDOM_STATE = 42\n",
    "TEST_SIZE = 0.25"
   ]
  },
  {
   "cell_type": "markdown",
   "id": "be223567",
   "metadata": {},
   "source": [
    "**Вывод**\n",
    "\n",
    "1. Импортированы библиотеки Python:\n",
    "    * для манипулирования данными:\n",
    "        * pandas;\n",
    "        * numpy.\n",
    "    * для визуализации данных:\n",
    "        * matplotlib.pyplot;\n",
    "        * seaborn.\n",
    "    * для решения задач машинного обучения:\n",
    "        * LogisticRegression - модель логистической регрессии;\n",
    "        * KNeighborsClassifier - модель k-ближайших соседей;\n",
    "        * SVC - машина опорных векторов;\n",
    "        * DecisionTreeClassifier - модель дерева принятия решений для классификации данных;\n",
    "        * AdaBoostClassifier - модель градиентного бустинга на деревьях решений;\n",
    "        * CatBoostClassifier - модель градиентного бустинга на деревьях решений;\n",
    "        * recall_score, precision_score, confusion_matrix, roc_auc_score - метрики оценки эффективности моделей;\n",
    "        * train_test_split - механизм разделения данных;\n",
    "        * GridSearchCV - механизм поиска гиперпараметров с перебором по \"сетке\";\n",
    "        * Pipeline - механизм построения пайплайнов.\n",
    "2. Инициализированы переменные **RANDOM_STATE** и **TEST_SIZE** для фиксирования \"случайности\" и установки размера валидационной выборки."
   ]
  },
  {
   "cell_type": "markdown",
   "id": "7e752638",
   "metadata": {},
   "source": [
    "## Загрузка данных <a class = 'anchor' id = 'Загрузка'></a>"
   ]
  },
  {
   "cell_type": "markdown",
   "id": "b3f8dc6a",
   "metadata": {},
   "source": [
    "Данный блок характеризуется следующими последовательными действиями:\n",
    "\n",
    "1. Загрузка данных в рабочую среду Jupyter Notebook. Инициализация переменных в соответствие с названиями загружаемых датасетов:\n",
    "    * **train_data**;\n",
    "    * **test_features**.\n",
    "2. Вывод на экран параметров датасетов:\n",
    "    * вывод общей структуры набора данных - демонстрация первых 5 строк;\n",
    "    * общей информации о наборе данных;\n",
    "    * визуализация распределений количественных показателей.\n",
    "3. Формирование вывода по итогам данного этапа."
   ]
  },
  {
   "cell_type": "code",
   "execution_count": null,
   "id": "d56dcc3f",
   "metadata": {},
   "outputs": [],
   "source": [
    "# загрузка данных в рабочую среду\n",
    "\n",
    "try:\n",
    "    train_data = pd.read_csv('~/Desktop/YandexPraktikum_projects/datasets/heart_train.csv') # тренировочная выборка\n",
    "    test_features = pd.read_csv('~/Desktop/YandexPraktikum_projects/datasets/heart_test.csv') # входные признаки тестовой выборки\n",
    "except:\n",
    "    train_data = pd.read_csv('/datasets/heart_train.csv')\n",
    "    test_features = pd.read_csv('/datasets/heart_test.csv')"
   ]
  },
  {
   "cell_type": "code",
   "execution_count": null,
   "id": "643c8956",
   "metadata": {},
   "outputs": [],
   "source": [
    "# инициализация пользовательской функции для первичного изучения содержимого наборов данных\n",
    "def  first_meeting (df : pd.DataFrame, df_name : str) -> None:\n",
    "    print(f'Структура набора данных {df_name}')\n",
    "    display(df.head())\n",
    "    print('Общая информация о наборе')\n",
    "    print(df.info())\n",
    "    print()"
   ]
  },
  {
   "cell_type": "code",
   "execution_count": null,
   "id": "97c7d2d7",
   "metadata": {},
   "outputs": [],
   "source": [
    "# инициализация пользовательской функции построения распределений количественных непрерывных показателей\n",
    "def num_distribution(df : pd.DataFrame, column : str, bins : int):\n",
    "    plt.subplot(1, 2, 1)\n",
    "    plt.xlabel(f'Значения признака {column}')\n",
    "    plt.ylabel(f'Частота значений признака')\n",
    "    plt.title(f'Гистограмма значений {column}', fontsize = 10)\n",
    "    sns.histplot(df, x = column, bins = bins)\n",
    "    plt.subplot(1, 2, 2)\n",
    "    plt.xlabel(f'Значения признака {column}')\n",
    "    plt.title(f'Диаграмма размаха значений {column}', fontsize = 10)\n",
    "    sns.boxplot(df, x = column)\n",
    "    plt.grid(False)\n",
    "    plt.show()"
   ]
  },
  {
   "cell_type": "code",
   "execution_count": null,
   "id": "c655cced",
   "metadata": {},
   "outputs": [],
   "source": [
    "# инициализация пользовательской функции построения диаграмм количественных дискретных показателей\n",
    "def num_countplot(df : pd.DataFrame, column : str):\n",
    "    sns.countplot(df, x = column)\n",
    "    plt.title(f'Столбчатая диаграмма значений признака {column}', fontsize = 12)\n",
    "    plt.xlabel(f'Признак {column}')\n",
    "    plt.ylabel(f'Количество значений признака')\n",
    "    plt.show()"
   ]
  },
  {
   "cell_type": "code",
   "execution_count": null,
   "id": "a5db2ddd",
   "metadata": {},
   "outputs": [],
   "source": [
    "# вывод на экран параметров датасета 'train_data'\n",
    "first_meeting(train_data, 'train_data')\n",
    "\n",
    "# формирование множества дискретных количественных показателей\n",
    "num_discrete = {'Diabetes', 'Family History', 'Smoking', 'Obesity', 'Medication Use', 'Alcohol Consumption',\n",
    "            'Diet', 'Previous Heart Problems', 'Medication Use', 'Stress Level', 'Physical Activity Days Per Week', 'Heart Attack Risk (Binary)', 'Gender'}\n",
    "\n",
    "# вывод на экран графиков дискретных количественных величин по набору 'train_data'\n",
    "for col in num_discrete:\n",
    "    num_countplot(train_data, col)\n",
    "\n",
    "# вывод на экран графиков непрерывных количественных величин по набору 'train_data'\n",
    "for col in set(train_data.drop(['Unnamed: 0', 'id'], axis = 1).columns).difference(num_discrete):\n",
    "    num_distribution(train_data, col, 20)"
   ]
  },
  {
   "cell_type": "code",
   "execution_count": null,
   "id": "b747d007",
   "metadata": {},
   "outputs": [],
   "source": [
    "# проверка соответствия названий столбцов в 'train_data' и 'test_features'\n",
    "print('Отсутствующие столбцы в test_features по сравнению с train_data:', set(train_data.columns.str.upper()).difference(test_features.columns.str.upper()))"
   ]
  },
  {
   "cell_type": "code",
   "execution_count": null,
   "id": "1af5ec18",
   "metadata": {},
   "outputs": [],
   "source": [
    "# удаление из переменной 'num_descrete' таргета\n",
    "num_discrete.discard('Heart Attack Risk (Binary)')\n",
    "\n",
    "# вывод на экран параметров датасета 'test_features'\n",
    "first_meeting(test_features, 'test_features')\n",
    "\n",
    "# вывод на экран графиков дискретных количественных величин по набору 'test_features'\n",
    "for col in num_discrete:\n",
    "    num_countplot(test_features, col)\n",
    "\n",
    "# вывод на экран графиков непрерывных количественных величин по набору 'test_features'\n",
    "for col in set(test_features.drop(['Unnamed: 0', 'id'], axis = 1).columns).difference(num_discrete):\n",
    "    num_distribution(test_features, col, 20)"
   ]
  },
  {
   "cell_type": "markdown",
   "id": "2cc3d8f7",
   "metadata": {},
   "source": [
    "**Вывод**\n",
    "\n",
    "1. Произведена загрузка данных в рабочую среду Jupyter Notebook. Инициализированы переменные в соответствие с названиями загружаемых датасетов:\n",
    "    * `train_data`;\n",
    "    * `test_features`.\n",
    "2. Выведены на экран параметры датасетов:\n",
    "    * `train_data`\n",
    "        * В наборе данных **имеются пустые значения** по признакам:\n",
    "            * **Diabetes**;\n",
    "            * **Family History**;\n",
    "            * **Smoking**;\n",
    "            * **Obesity**;\n",
    "            * **Alcohol Consumption**;\n",
    "            * **Previous Heart Problems**;\n",
    "            * **Medication Use**;\n",
    "            * **Stress level**;\n",
    "            * **Physical Activity Days Per Week**.\n",
    "        * Признаки нуждаются в предобработке. Типы данных не соответствуют содержанию:\n",
    "            * **Дискретные признаки необходимо привести к целочисленному типу**;\n",
    "            * Бинарные признаки необходимо привести к единому типу - целочисленному (например, **Gender**)\n",
    "        * Названия столбцов **не соответствуют формату snake_case**;\n",
    "        * Наблюдаются выбросы по признакам:\n",
    "            * **Heart rate**;\n",
    "            * **Troponin**;\n",
    "            * **Blood sugar**;\n",
    "            * **CK-MB**\n",
    "            \n",
    "            Необходимо изучить данные случаи на этапе исследовательского анализа;\n",
    "    \n",
    "    * `test_features`\n",
    "        * В наборе данных **имеются пустые значения** по признакам:\n",
    "            * **Diabetes**;\n",
    "            * **Family History**;\n",
    "            * **Smoking**;\n",
    "            * **Obesity**;\n",
    "            * **Alcohol Consumption**;\n",
    "            * **Previous Heart Problems**;\n",
    "            * **Medication Use**;\n",
    "            * **Stress level**;\n",
    "            * **Physical Activity Days Per Week**.\n",
    "        * Признаки нуждаются в предобработке. Типы данных не соответствуют содержанию:\n",
    "            * **Дискретные признаки необходимо привести к целочисленному типу**;\n",
    "            * Бинарные признаки необходимо привести к единому типу - целочисленному (например, **Gender**)\n",
    "        * Названия столбцов **не соответствуют формату snake_case**;\n",
    "        * Наблюдаются выбросы по признакам:\n",
    "            * **Heart rate**;\n",
    "            * **Troponin**;\n",
    "            * **Blood sugar**;\n",
    "            * **CK-MB**\n",
    "            \n",
    "            Необходимо изучить данные случаи на этапе исследовательского анализа."
   ]
  },
  {
   "cell_type": "markdown",
   "id": "faf71074",
   "metadata": {},
   "source": [
    "## Предобработка данных <a class = 'anchor' id = 'Предобработка'></a>"
   ]
  },
  {
   "cell_type": "markdown",
   "id": "358d40a4",
   "metadata": {},
   "source": [
    "Данный блок характеризуется следующими последовательными действиями:\n",
    "\n",
    "1. Приведение заголовков наборов данных к стилю написания 'snake_case';\n",
    "2. Явное приведение данных к соответствующим типам;\n",
    "3. Обработка пустых значений наборов данных;\n",
    "4. Проверка датасетов на дубликаты:\n",
    "    * Явные дубликаты;\n",
    "    * Неявные дубликаты.\n",
    "5. Формирование вывода по итогам данного этапа."
   ]
  },
  {
   "cell_type": "code",
   "execution_count": null,
   "id": "71e2e31a",
   "metadata": {},
   "outputs": [],
   "source": [
    "# инициализация пользовательской функции преобразования признаков к целочисленному типу\n",
    "def float_to_int(df : pd.DataFrame, cols_list : list) -> pd.DataFrame:\n",
    "    for col in cols_list:\n",
    "        df[col] = df[col].astype('Int64')\n",
    "    return df"
   ]
  },
  {
   "cell_type": "code",
   "execution_count": null,
   "id": "56ff6b3c",
   "metadata": {},
   "outputs": [],
   "source": [
    "# замена значений в столбце 'gender' на числовые\n",
    "train_data['Gender'] = train_data['Gender'].map({'Male' : 1, 'Female' : 0})\n",
    "test_features['Gender'] = test_features['Gender'].map({'Male' : 1, 'Female' : 0})\n",
    "\n",
    "\n",
    "# преобразование столбцов к целочисленному типу\n",
    "train_data = float_to_int(train_data, num_discrete)\n",
    "test_features = float_to_int(test_features, num_discrete)\n",
    "\n",
    "display(train_data[list(num_discrete)].info())\n",
    "print()\n",
    "display(test_features[list(num_discrete)].info())"
   ]
  },
  {
   "cell_type": "code",
   "execution_count": null,
   "id": "79f5d97f",
   "metadata": {},
   "outputs": [],
   "source": [
    "# инициализация пользовательской функции преобразования названий столбцов к формату 'snake_case'\n",
    "def snake_case_transformation(df : pd.DataFrame) -> pd.DataFrame:\n",
    "    new_columns = []\n",
    "    for column in df.columns:\n",
    "        new_columns.append(column.lower().replace(' ', '_'))\n",
    "    df.columns = new_columns\n",
    "    return df\n",
    "\n",
    "# приведение названий столбцов к формату 'snake_case'\n",
    "train_data = snake_case_transformation(train_data)\n",
    "test_features = snake_case_transformation(test_features)\n",
    "\n",
    "# удаление неинформативных столбцов из наборов данных\n",
    "train_data = train_data.drop('unnamed:_0', axis = 1)\n",
    "test_features = test_features.drop('unnamed:_0', axis = 1)\n",
    "\n",
    "# вывод на экран измененных названий столбцов\n",
    "print('Названия столбцов train_data после преобразования:')\n",
    "print(train_data.columns)\n",
    "print()\n",
    "print('Названия столбцов test_features после преобразования:')\n",
    "print(test_features.columns)"
   ]
  },
  {
   "cell_type": "code",
   "execution_count": null,
   "id": "af90f21a",
   "metadata": {},
   "outputs": [],
   "source": [
    "# инициализация пользовательской функции построения сводной таблицы пустых значений в наборах данных\n",
    "def isna_pivot(df : pd.DataFrame):\n",
    "    df_pivot = df.isna().sum().to_frame().rename(columns = {0 : 'missing_values'})\n",
    "    df_pivot = df_pivot[df_pivot['missing_values'] > 0]\n",
    "    df_pivot['%_share'] = (df_pivot['missing_values'] / df.shape[0] * 100).round(2)\n",
    "    return df_pivot\n",
    "\n",
    "# запись фреймов в отдельные переменные\n",
    "train_data_missValues = isna_pivot(train_data)\n",
    "test_features_missValues = isna_pivot(test_features)\n",
    "\n",
    "# вывод на экран сводной таблицы пустых значений train_data\n",
    "print('Сводная таблица пустых значений в train_data')\n",
    "display(train_data_missValues.sort_values(by = 'missing_values', ascending = False))\n",
    "print()\n",
    "# вывод на экран сводной таблицы пустых значений test_features\n",
    "print('Сводная таблица пустых значений в test_features')\n",
    "display(test_features_missValues.sort_values(by = 'missing_values', ascending = False))"
   ]
  },
  {
   "cell_type": "markdown",
   "id": "3b36ee38",
   "metadata": {},
   "source": [
    "**Вывод по промежуточному этапу**\n",
    "\n",
    "Пропущенные значения представлены в **дискретных категориальных признаках**. При этом, **большая часть признаков - бинарные**.\n",
    "\n",
    "Пропуски в бинарных признаках возможно по той причине, что человек решил явно не указывать информацию о себе: если пациент не употребяет алкоголь (к примеру), нет смысла явно обозначать потребление \"0\", а можно пропустить вопрос в анкете. Подобные случаи можно заменить на \"0\".\n",
    "\n",
    "Пропущенные значения в признаке **physical_activity_days_per_week** (количество дней физической активности в неделю) можно заменить на \"0\". Человек явно не стал указывать, что он не занимается физнагрузками в неделю.\n",
    "\n",
    "Пропущенные значения в признаке **gender** (пол) можно заменить на \"0\" - пациент женского пола.\n",
    "\n",
    "Пропущенные значения в признаке **stress_level** не получится заменить на \"0\". Предлагается заменить пропущенные значения на медианное по датасету."
   ]
  },
  {
   "cell_type": "code",
   "execution_count": null,
   "id": "f30f32e7",
   "metadata": {},
   "outputs": [],
   "source": [
    "# инициализация пользовательской функции по замене пропущенных значений в признаках датасетов\n",
    "def fill_miss_values(df : pd.DataFrame, cols_list : list, fill_value) -> pd.DataFrame:\n",
    "    for col in cols_list:\n",
    "        df[col] = df[col].fillna(fill_value)\n",
    "    return  df"
   ]
  },
  {
   "cell_type": "code",
   "execution_count": null,
   "id": "9bb18d74",
   "metadata": {},
   "outputs": [],
   "source": [
    "# список столбцов с пропущенными значениями с исключением признака 'stress_level'\n",
    "missValue_cols = test_features_missValues.index.to_list()\n",
    "missValue_cols.remove('stress_level')\n",
    "\n",
    "# замена пропущенных значений в наборах данных\n",
    "train_data = fill_miss_values(train_data, missValue_cols, 0)\n",
    "test_features = fill_miss_values(test_features, missValue_cols, 0)\n",
    "\n",
    "# замена пропущенных значений в признаке 'stress_level'\n",
    "train_data['stress_level'] = train_data['stress_level'].fillna(train_data['stress_level'].median())\n",
    "test_features['stress_level'] = test_features['stress_level'].fillna(test_features['stress_level'].median())"
   ]
  },
  {
   "cell_type": "code",
   "execution_count": null,
   "id": "0953b2ac",
   "metadata": {},
   "outputs": [],
   "source": [
    "# проверка датасетов на явные дубликаты\n",
    "print('Количество явных дубликатов в train_data:', train_data.duplicated().sum())\n",
    "print('Количество явных дубликатов в test_features:', test_features.duplicated().sum())\n",
    "print()\n",
    "# дополнительная проверка на дубликаты по столбцу 'id'\n",
    "print('Количество явных дубликатов в train_data при проверке признака id:', train_data['id'].duplicated().sum())\n",
    "print('Количество явных дубликатов в test_features при проверке признака id:', test_features['id'].duplicated().sum())"
   ]
  },
  {
   "cell_type": "markdown",
   "id": "f3081bc8",
   "metadata": {},
   "source": [
    "**Вывод по промежуточному этапу**\n",
    "\n",
    "**В датасетах отсутствуют явные дубликаты** - проверка строк целиком и признака **id** подтвердила это, все пациенты уникальны.\n",
    "\n",
    "**Неявных дубликатов в датасетах нет** - характер и типы данных не предполагает их наличия."
   ]
  },
  {
   "cell_type": "markdown",
   "id": "46801e1e",
   "metadata": {},
   "source": [
    "**Вывод**\n",
    "\n",
    "1. Заголовки наборов данных **приведены к стилю написания 'snake_case'**;\n",
    "2. Проведено преобразование типов данных. Дискретные количественнные признаки преобразованы к целочисленному типу;\n",
    "3. Проведена обработка пропущенных значений в столбцах наборов данных. Большая часть пропусков была заменена на \"0\" по причине того, что пациент решил явно не указывать о себе информацию в анкете. Пропущенные значения по признаку **stress_rate** были заменены на медианное значение по датасету;\n",
    "4. Выполнена проверка наборов данных на дубликаты:\n",
    "    * **Явные дубликаты** - явные дубликаты **не обнаружены**; \n",
    "    * **Неявные дубликаты** - неявные дубликаты **не обнаружены**. \n",
    "5. Данные прошли этап предобработки и готовы к исследовательскому анализу."
   ]
  },
  {
   "cell_type": "markdown",
   "id": "d8bc6086",
   "metadata": {},
   "source": [
    "## Исследовательский анализ данных <a class = 'anchor' id = 'Исследование'></a>"
   ]
  },
  {
   "cell_type": "markdown",
   "id": "2d7e4726",
   "metadata": {},
   "source": [
    "Данный блок характеризуется следующими последовательными действиями:\n",
    "\n",
    "1. Исследование соотношения количества значений категориальных показателей в наборе `train_data`;\n",
    "2. Исследование распределения количественных показателей набора `train_data`. Построение **гистограмм распределения значений**;\n",
    "3. Формирование вывода по итогам этапа."
   ]
  },
  {
   "cell_type": "markdown",
   "id": "0cdb9b1e",
   "metadata": {},
   "source": [
    "### Исследование категориальных признаков <a class = 'anchor' id = 'Исследование_категория'></a>"
   ]
  },
  {
   "cell_type": "code",
   "execution_count": null,
   "id": "8dcd7be2",
   "metadata": {},
   "outputs": [],
   "source": [
    "# инициализация пользовательской функции по формированию вывода информации\n",
    "\n",
    "def display_info(df: pd.DataFrame, column_name: str, title: str, xlabel: str, kind_of_plot : str):\n",
    "# построение визуализации по выбранной метрике\n",
    "    plt.title(title, fontsize = 12)\n",
    "    if kind_of_plot == 'pie':\n",
    "        (df[column_name]\n",
    "         .value_counts()\n",
    "         .sort_values(ascending=True)\n",
    "         .plot(kind = kind_of_plot, figsize = (8, 5), autopct='%1.0f%%'))\n",
    "    else:\n",
    "        (df[column_name]\n",
    "         .value_counts()\n",
    "         .sort_values(ascending=True)\n",
    "         .plot(kind = kind_of_plot, figsize = (8, 5)))\n",
    "    ax = plt.gca()\n",
    "    ax.axes.yaxis.set_visible(False)\n",
    "    plt.xlabel(xlabel)\n",
    "    plt.show()\n",
    "\n",
    "# построение сводной таблицы по выбранной метрике\n",
    "    pivot_data = (df[column_name]\n",
    "                  .value_counts()\n",
    "                  .sort_values(ascending=False)\n",
    "                  .to_frame())\n",
    "    pivot_data['share_of_patients'] = round(pivot_data['count'] / pivot_data['count'].sum() * 100, 2)\n",
    "    pivot_data.columns = ['count_of_patients', 'share_of_patients']\n",
    "    display(pivot_data)"
   ]
  },
  {
   "cell_type": "code",
   "execution_count": null,
   "id": "f5201cd4",
   "metadata": {},
   "outputs": [],
   "source": [
    "# инициализация пользовательской функции по построению гистограмм по передаваемым метрикам\n",
    "def histogram_plotting(data: pd.DataFrame, feature : str, bins: int, x_size: int, y_size: int, feature_xlabel : str):\n",
    "    # вычисление статистических метрик для дальнейшей визуализации\n",
    "    q1 = data[feature].quantile(0.25)\n",
    "    q3 = data[feature].quantile(0.75)\n",
    "    upper_bound = q3 + 1.5 * (q3 - q1)\n",
    "    lower_bound = q1 - 1.5 * (q3 - q1)\n",
    "\n",
    "    # построение визуализации\n",
    "    plt.figure(figsize = (x_size, y_size))\n",
    "    plt.hist(data[feature], color = 'blue', edgecolor = 'white', bins = bins)\n",
    "    plt.axvline(upper_bound, c = 'red', ls = '-', label = 'верхняя граница допустимых значений')\n",
    "    plt.axvline(q3, c = 'red', ls = '--', label = '3 квартиль значений')\n",
    "    plt.axvline(q1, c = 'black', ls = '--', label = '1 квартиль значений')\n",
    "    plt.axvline(lower_bound, c = 'black', ls = '-', label = 'нижняя граница допустимых значений')\n",
    "    plt.title(f'Гистограмма распределения значений по метрике: {feature_xlabel}', fontsize = 10)\n",
    "    plt.xlabel(feature_xlabel)\n",
    "    plt.ylabel('Количество значений по метрике')\n",
    "    plt.legend(bbox_to_anchor = (1, 0.6))\n",
    "    plt.show()\n",
    "\n",
    "    # вывод статистических метрик на экран\n",
    "    print('Верхняя допустимая граница значений:', upper_bound)\n",
    "    print('Нижняя допустимая граница значений:', lower_bound)\n",
    "    print('Медианное значение:', data[feature].median())\n",
    "    print('Среднее значение:', round(data[feature].mean(), 2))\n",
    "\n",
    "    # расчет доли аномальных значений по метрике\n",
    "    print('Доля значений, выходящих за верхнюю границу: {:.2%}'.format(data[data[feature] > upper_bound].shape[0] / data[feature].shape[0]))\n",
    "    print('Доля значений, выходящих за нижнюю границу: {:.2%}'.format(data[data[feature] < lower_bound].shape[0] / data[feature].shape[0]))"
   ]
  },
  {
   "cell_type": "code",
   "execution_count": null,
   "id": "b5d81250",
   "metadata": {},
   "outputs": [],
   "source": [
    "# построение пай-чарта по соотношению пациентов в контексте наличия диабета\n",
    "display_info(train_data, 'diabetes', 'Соотношение пациентов по наличию диабета', 'Наличие диабета', 'pie')"
   ]
  },
  {
   "cell_type": "code",
   "execution_count": null,
   "id": "12e723c5",
   "metadata": {},
   "outputs": [],
   "source": [
    "# построение пай-чарта по соотношению пациентов в контексте наличия семейной истории\n",
    "display_info(train_data, 'family_history', 'Соотношение пациентов по наличию семейной истории', 'Наличие семейной истории', 'pie')"
   ]
  },
  {
   "cell_type": "code",
   "execution_count": null,
   "id": "68d7233f",
   "metadata": {},
   "outputs": [],
   "source": [
    "# построение пай-чарта по соотношению пациентов в контексте наличия привычки курения\n",
    "display_info(train_data, 'smoking', 'Соотношение пациентов по наличию привычки курения', 'Наличие привычки курения', 'pie')"
   ]
  },
  {
   "cell_type": "code",
   "execution_count": null,
   "id": "137d4b45",
   "metadata": {},
   "outputs": [],
   "source": [
    "# построение пай-чарта по соотношению пациентов в контексте наличия ожирения\n",
    "display_info(train_data, 'obesity', 'Соотношение пациентов по наличию ожирения', 'Наличие ожирения', 'pie')"
   ]
  },
  {
   "cell_type": "code",
   "execution_count": null,
   "id": "017c32a3",
   "metadata": {},
   "outputs": [],
   "source": [
    "# построение пай-чарта по соотношению пациентов в контексте потребления алкоголя\n",
    "display_info(train_data, 'alcohol_consumption', 'Соотношение пациентов по потреблению алкоголя', 'Потребление алкоголя', 'pie')"
   ]
  },
  {
   "cell_type": "code",
   "execution_count": null,
   "id": "d9945b90",
   "metadata": {},
   "outputs": [],
   "source": [
    "# построение пай-чарта по соотношению пациентов в контексте наличия предыдущих заболеваний сердца\n",
    "display_info(train_data, 'previous_heart_problems', 'Соотношение пациентов по наличию предыдущих заболеваний', 'Наличие предыдущих заболеваний', 'pie')"
   ]
  },
  {
   "cell_type": "code",
   "execution_count": null,
   "id": "ba1f4c6c",
   "metadata": {},
   "outputs": [],
   "source": [
    "# построение пай-чарта по соотношению пациентов в контексте применения препаратов\n",
    "display_info(train_data, 'medication_use', 'Соотношение пациентов по применению препаратов', 'Применение препаратов', 'pie')"
   ]
  },
  {
   "cell_type": "code",
   "execution_count": null,
   "id": "4ec97e5f",
   "metadata": {},
   "outputs": [],
   "source": [
    "# построение пай-чарта по соотношению пациентов в контексте пола\n",
    "display_info(train_data, 'gender', 'Соотношение пациентов по полу', 'Пол', 'pie')\n"
   ]
  },
  {
   "cell_type": "code",
   "execution_count": null,
   "id": "57a08f51",
   "metadata": {},
   "outputs": [],
   "source": [
    "# построение пай-чарта по соотношению пациентов в контексте риска развития заболеваний сердца\n",
    "display_info(train_data, 'heart_attack_risk_(binary)', 'Соотношение пациентов по риску развития заболеваний сердца', 'Риск развития заболеваний сердца', 'pie')"
   ]
  },
  {
   "cell_type": "code",
   "execution_count": null,
   "id": "e8421027",
   "metadata": {},
   "outputs": [],
   "source": [
    "# построение пай-чарта по соотношению пациентов в контексте типов питания пациентов\n",
    "display_info(train_data, 'diet', 'Соотношение пациентов по типу питания', 'Тип питания', 'pie')"
   ]
  },
  {
   "cell_type": "code",
   "execution_count": null,
   "id": "e92f3b6b",
   "metadata": {},
   "outputs": [],
   "source": [
    "# построение пай-чарта по соотношению пациентов в контексте уровня стресса\n",
    "display_info(train_data, 'stress_level', 'Соотношение пациентов по уровню стресса', 'Уровень стресса', 'pie')"
   ]
  },
  {
   "cell_type": "code",
   "execution_count": null,
   "id": "25e5b789",
   "metadata": {},
   "outputs": [],
   "source": [
    "# построение пай-чарта по соотношению пациентов в контексте уровня физической активности\n",
    "display_info(train_data, 'physical_activity_days_per_week', 'Соотношение пациентов по уровню физической активности', 'Уровень физической активности', 'pie')"
   ]
  },
  {
   "cell_type": "markdown",
   "id": "718b9cd9",
   "metadata": {},
   "source": [
    "**Вывод по промежуточному этапу**\n",
    "\n",
    "В целом, значения категориальных признаков в наборе `train_data` соотнесены в равных пропорциях.\n",
    "\n",
    "Явный дисбаланс значений наблюдается в следующих признаках:\n",
    "* **gender** - соотношение пациентов по полу: **68% мужчин и 32% женщин**;\n",
    "* **diabetes** - соотношение пациентов по наличию диабета: **63% с диабетом и 37% без**;\n",
    "* **smoking** - соотношение пациентов по привычке курения: **88% курящих и 12% не курящих**;\n",
    "* **diet** - соотношение пациентов по типу диеты: **3 типа диеты придерживаются только 3% пациентов, остальные 97% - распределены по другим типам диет**;\n",
    "* **heart_attack_risk_(binary)** - соотношение пациентов по риску развития заболеваний сердца: **65% пациентов подвержены риску заболевания и 35% - нет**.\n",
    "\n",
    "Таким образом, подобное соотношение значений в признаках и целевой переменной накладывает определенные ограничения на выбор моделей классификации данных и метрик их оценки:\n",
    "* ROC-AUC;\n",
    "* F1-мера;\n",
    "* Confusion Matrix;"
   ]
  },
  {
   "cell_type": "markdown",
   "id": "43a90cda",
   "metadata": {},
   "source": [
    "### Исследование количественных признаков <a class = 'anchor' id = 'Исследование_количество'></a>"
   ]
  },
  {
   "cell_type": "code",
   "execution_count": null,
   "id": "f340ba56",
   "metadata": {},
   "outputs": [],
   "source": [
    "# построение  гистограммы распределения значений по признаку 'age'\n",
    "histogram_plotting(train_data, 'age', 20, 10, 5, 'Возраст пациента')"
   ]
  },
  {
   "cell_type": "code",
   "execution_count": null,
   "id": "04c14aac",
   "metadata": {},
   "outputs": [],
   "source": [
    "# построение  гистограммы распределения значений по признаку 'cholesterol'\n",
    "histogram_plotting(train_data, 'cholesterol', 20, 10, 5, 'Содержание холестерина в крови')"
   ]
  },
  {
   "cell_type": "code",
   "execution_count": null,
   "id": "7d8478be",
   "metadata": {},
   "outputs": [],
   "source": [
    "# построение  гистограммы распределения значений по признаку 'heart_rate'\n",
    "histogram_plotting(train_data, 'heart_rate', 20, 10, 5, 'Пульс пациента')"
   ]
  },
  {
   "cell_type": "code",
   "execution_count": null,
   "id": "70722ed2",
   "metadata": {},
   "outputs": [],
   "source": [
    "# построение  гистограммы распределения значений по признаку 'exercise_hours_per_week'\n",
    "histogram_plotting(train_data, 'exercise_hours_per_week', 20, 10, 5, 'Количество часов тренировок в неделю')"
   ]
  },
  {
   "cell_type": "code",
   "execution_count": null,
   "id": "d01d3e32",
   "metadata": {},
   "outputs": [],
   "source": [
    "# построение  гистограммы распределения значений по признаку 'sedentary_hours_per_day'\n",
    "histogram_plotting(train_data, 'sedentary_hours_per_day', 20, 10, 5, 'Количество часов в сидячем положении')"
   ]
  },
  {
   "cell_type": "code",
   "execution_count": null,
   "id": "4acfb0ff",
   "metadata": {},
   "outputs": [],
   "source": [
    "# построение  гистограммы распределения значений по признаку 'income'\n",
    "histogram_plotting(train_data, 'income', 20, 10, 5, 'Доход пациента')"
   ]
  },
  {
   "cell_type": "code",
   "execution_count": null,
   "id": "90ff10c7",
   "metadata": {},
   "outputs": [],
   "source": [
    "# построение  гистограммы распределения значений по признаку 'bmi'\n",
    "histogram_plotting(train_data, 'bmi', 20, 10, 5, 'Индекс массы тела')"
   ]
  },
  {
   "cell_type": "code",
   "execution_count": null,
   "id": "14d30c54",
   "metadata": {},
   "outputs": [],
   "source": [
    "# построение  гистограммы распределения значений по признаку 'sleep_hours_per_day'\n",
    "histogram_plotting(train_data, 'sleep_hours_per_day', 20, 10, 5, 'Количество часов сна в день')"
   ]
  },
  {
   "cell_type": "code",
   "execution_count": null,
   "id": "cd440a4e",
   "metadata": {},
   "outputs": [],
   "source": [
    "# построение  гистограммы распределения значений по признаку 'triglycerides'\n",
    "histogram_plotting(train_data, 'triglycerides', 20, 10, 5, 'Содержание жиров в теле пациента')"
   ]
  },
  {
   "cell_type": "code",
   "execution_count": null,
   "id": "9358be54",
   "metadata": {},
   "outputs": [],
   "source": [
    "# построение  гистограммы распределения значений по признаку 'blood_sugar'\n",
    "histogram_plotting(train_data, 'blood_sugar', 20, 10, 5, 'Уровень сахара в крови')"
   ]
  },
  {
   "cell_type": "code",
   "execution_count": null,
   "id": "4b5af5e2",
   "metadata": {},
   "outputs": [],
   "source": [
    "# построение  гистограммы распределения значений по признаку 'ck-mb'\n",
    "histogram_plotting(train_data, 'ck-mb', 20, 10, 5, 'Содержание креатинкиназы в крови')"
   ]
  },
  {
   "cell_type": "code",
   "execution_count": null,
   "id": "0576c2cd",
   "metadata": {},
   "outputs": [],
   "source": [
    "# построение  гистограммы распределения значений по признаку 'troponin'\n",
    "histogram_plotting(train_data, 'troponin', 20, 10, 5, 'Уровень тропонина')"
   ]
  },
  {
   "cell_type": "code",
   "execution_count": null,
   "id": "f5473055",
   "metadata": {},
   "outputs": [],
   "source": [
    "# построение  гистограммы распределения значений по признаку 'systolic_blood_pressure'\n",
    "histogram_plotting(train_data, 'systolic_blood_pressure', 20, 10, 5, 'Систолическое давление')"
   ]
  },
  {
   "cell_type": "code",
   "execution_count": null,
   "id": "82a7c21f",
   "metadata": {},
   "outputs": [],
   "source": [
    "# построение  гистограммы распределения значений по признаку 'diastolic_blood_pressure'\n",
    "histogram_plotting(train_data, 'diastolic_blood_pressure', 20, 10, 5, 'Диастолическое давление')"
   ]
  },
  {
   "cell_type": "markdown",
   "id": "4dc6dea8",
   "metadata": {},
   "source": [
    "**Вывод по промежуточному этапу**\n",
    "\n",
    "В целом, нормализованные количественные показатели находятся в границах допустимых значений.\n",
    "\n",
    "Аномально большие или минимальные значения наблюдаются в следующих признаках:\n",
    "* **heart_rate** - доля значений, **выходящих за верхнюю границу: 0.02%**;\n",
    "* **blood_sugar** - доля значений, **выходящих за нижнюю границу: 16.34%**. Доля значений, **выходящих за верхнюю границу: 8.23%**;\n",
    "* **ck-mb** - доля значений, **выходящих за нижнюю границу: 21.21%**. Доля значений, **выходящих за верхнюю границу: 3.36%**;\n",
    "* **troponin** - доля значений, **выходящих за нижнюю границу: 20.29%**. Доля значений, **выходящих за верхнюю границу: 4.28%**;\n",
    "\n",
    "Необходимо исключить аномально большие значения признаков из набора данных: в признаках **ck-mb** и **heart_rate**, где наблюдаются особо сильные отклонения от общей массы. Значения признаков, выходящих за нижнюю границу, можно оставить. Скорее всего, они являются результатом индивидуальных особенностей организма пациента.\n",
    "\n",
    "**Дополнительных преобразований количественных значений не требуется**"
   ]
  },
  {
   "cell_type": "code",
   "execution_count": null,
   "id": "8d41b8a8",
   "metadata": {},
   "outputs": [],
   "source": [
    "# фильтрация набора данных от аномально больших значений\n",
    "train_data = train_data[train_data['heart_rate'] <= 0.2]\n",
    "train_data = train_data[train_data['ck-mb'] < 1.0]\n"
   ]
  },
  {
   "cell_type": "markdown",
   "id": "555b5bba",
   "metadata": {},
   "source": [
    "**Вывод**\n",
    "\n",
    "1. Исследование соотношения количества значений качественных показателей\n",
    "    \n",
    "    В целом, значения категориальных признаков в наборе `train_data` соотнесены в равных пропорциях.\n",
    "\n",
    "    Явный дисбаланс значений наблюдается в следующих признаках:\n",
    "    * **gender** - соотношение пациентов по полу: **68% мужчин и 32% женщин**;\n",
    "    * **diabetes** - соотношение пациентов по наличию диабета: **63% с диабетом и 37% без**;\n",
    "    * **smoking** - соотношение пациентов по привычке курения: **88% курящих и 12% не курящих**;\n",
    "    * **diet** - соотношение пациентов по типу диеты: **3 типа диеты придерживаются только 3% пациентов, остальные 97% - распределены по другим типам диет**;\n",
    "    * **heart_attack_risk_(binary)** - соотношение пациентов по риску развития заболеваний сердца: **65% пациентов подвержены риску заболевания и 35% - нет**.\n",
    "\n",
    "    Таким образом, подобное соотношение значений в признаках и целевой переменной накладывает определенные ограничения на выбор моделей классификации данных и метрик их оценки:\n",
    "    * ROC-AUC;\n",
    "    * F1-мера;\n",
    "    * Confusion Matrix;\n",
    "2. Исследование распределения количественных показателей наборов. Построение **гистограмм распределения значений**:\n",
    "    В целом, нормализованные количественные показатели находятся в границах допустимых значений.\n",
    "\n",
    "    Аномально большие или минимальные значения наблюдаются в следующих признаках:\n",
    "    * **heart_rate** - доля значений, **выходящих за верхнюю границу: 0.02%**;\n",
    "    * **blood_sugar** - доля значений, **выходящих за нижнюю границу: 16.34%**. Доля значений, **выходящих за верхнюю границу: 8.23%**;\n",
    "    * **ck-mb** - доля значений, **выходящих за нижнюю границу: 21.21%**. Доля значений, **выходящих за верхнюю границу: 3.36%**;\n",
    "    * **troponin** - доля значений, **выходящих за нижнюю границу: 20.29%**. Доля значений, **выходящих за верхнюю границу: 4.28%**;\n",
    "\n",
    "    **Дополнительных преобразований количественных значений не требуется**\n",
    "3. Произведена фильтрация набора данных `train_data` - исключены аномально большие значения."
   ]
  },
  {
   "cell_type": "markdown",
   "id": "1c8954c1",
   "metadata": {},
   "source": [
    "## Корреляционный анализ данных <a class = 'anchor' id = 'Корреляция'></a>"
   ]
  },
  {
   "cell_type": "markdown",
   "id": "88590441",
   "metadata": {},
   "source": [
    "Данный блок характеризуется следующими последовательными действиями:\n",
    "\n",
    "1. Построение матрицы корреляции - поиск признаков высокой взаимосвязи показателей объектов;\n",
    "2. Проведение отбора признаков для последующего построения моделей машинного обучения;\n",
    "3. Формирование вывода по итогам данного этапа."
   ]
  },
  {
   "cell_type": "code",
   "execution_count": null,
   "id": "4b3d8256",
   "metadata": {},
   "outputs": [],
   "source": [
    "# построение матрицы корреляции и поиск сильных взаимосвязей\n",
    "plt.figure(figsize=(25, 8))\n",
    "sns.heatmap(train_data.drop('id', axis = 1).corr(method = 'spearman').round(2), annot = True)\n",
    "plt.title('Матрица корреляции Спирмана между количественными показателями набора данных', fontsize = 12)\n",
    "plt.show()"
   ]
  },
  {
   "cell_type": "code",
   "execution_count": null,
   "id": "297fe41b",
   "metadata": {},
   "outputs": [],
   "source": [
    "# исключение из наборов данных показателей 'troponin' и 'gender'\n",
    "train_data = train_data.drop(['troponin', 'gender'], axis = 1)\n",
    "test_features = test_features.drop(['troponin', 'gender', 'id'], axis = 1)"
   ]
  },
  {
   "cell_type": "markdown",
   "id": "c023729e",
   "metadata": {},
   "source": [
    "**Вывод:**\n",
    "\n",
    "1. Построена матрица корреляции Спирмана между признаками набора данных и целевой переменной;\n",
    "2. Обнаружена умеренная взаимосвязь между признаками:\n",
    "    * **gender** и **smoking** - 0.54;\n",
    "    * **troponin** и **ck-mb** - 0.45\n",
    "\n",
    "Из набора исключены признаки **troponin** и **gender**.\n",
    "\n",
    "3. Сильно коррелирующих признаков между собой и целевой переменной **не обнаружено**. Набор данных готов к последующему использованию в алгоритмах моделей машинного обучения."
   ]
  },
  {
   "cell_type": "markdown",
   "id": "63796ced",
   "metadata": {},
   "source": [
    "## Построение моделей классификации данных <a class = 'anchor' id = 'Моделирование'></a>"
   ]
  },
  {
   "cell_type": "markdown",
   "id": "0016dcc9",
   "metadata": {},
   "source": [
    "### Подготовка данных и построение пайплайна МО <a class = 'anchor' id = 'Моделирование_пайплайн'></a>"
   ]
  },
  {
   "cell_type": "markdown",
   "id": "871401b5",
   "metadata": {},
   "source": [
    "Данный блок характеризуется следующими последовательными действиями:\n",
    "\n",
    "1. Разделение исходного набора - `train_data` - на область признаков и вектор целевой переменной - инициализация переменных **X** и **y** соответственно;\n",
    "2. Формирование обучающей и тестовой выборок в соотношении **75:25** - инициализация переменных **X_train**, **X_test**, **y_train**, **y_valid**;\n",
    "3. Формирование пайплайна обработки данных и обучения моделей классификации данных;\n",
    "4. Инициализация переменной **param_distributions** для хранения моделей и их гиперпараметров для последующего выбора лучшей;\n",
    "5. Формирование вывода по итогам данного этапа."
   ]
  },
  {
   "cell_type": "code",
   "execution_count": null,
   "id": "e6d21032",
   "metadata": {},
   "outputs": [],
   "source": [
    "# формирование области признаков и вектора целевой переменной\n",
    "X = train_data.drop(['id', 'heart_attack_risk_(binary)'], axis = 1)\n",
    "y = train_data['heart_attack_risk_(binary)']"
   ]
  },
  {
   "cell_type": "code",
   "execution_count": null,
   "id": "f2f36b3a",
   "metadata": {},
   "outputs": [],
   "source": [
    "# формирование обучающей и тестовой выборок\n",
    "X_train, X_valid, y_train, y_valid = train_test_split(\n",
    "    X,\n",
    "    y,\n",
    "    random_state = RANDOM_STATE,\n",
    "    test_size = TEST_SIZE,\n",
    "    stratify = y\n",
    ")"
   ]
  },
  {
   "cell_type": "code",
   "execution_count": null,
   "id": "4132735a",
   "metadata": {},
   "outputs": [],
   "source": [
    "# проверка размерности получившихся наборов\n",
    "if X_train.shape[1] == X_valid.shape[1]:\n",
    "    print(f'Количество столбцов {X_train.shape[1]}. Потери признаков при разделении исходного набора не произошло')\n",
    "else:\n",
    "    print(f'Произведено неверное разделение данных. Зафиксирована утечка признаков')\n",
    "    \n",
    "if round(X_valid.shape[0] / X.shape[0], 2) == 0.25:\n",
    "    print(f'Соотношение размера тестовой выборки к исходному набору - 0.25. Соблюдено верное соотношение разделения данных')\n",
    "else:\n",
    "    print(f'Произведено неверное разделение данных. Зафиксирована утечка строк')"
   ]
  },
  {
   "cell_type": "code",
   "execution_count": null,
   "id": "a1a967f5",
   "metadata": {},
   "outputs": [],
   "source": [
    "# формирование пайплайна подготовки данных и обучения модели - используется модель DecisionTreeClassifier\n",
    "final_pipeline = Pipeline(\n",
    "    [\n",
    "        ('models', DecisionTreeClassifier(random_state = RANDOM_STATE))\n",
    "    ]\n",
    ")"
   ]
  },
  {
   "cell_type": "code",
   "execution_count": null,
   "id": "19957990",
   "metadata": {},
   "outputs": [],
   "source": [
    "# инициализация переменной 'param_grid' для поиска оптимальной модели\n",
    "param_grid = {\n",
    "    'models' : [DecisionTreeClassifier(random_state = RANDOM_STATE),\n",
    "                KNeighborsClassifier(),\n",
    "                SVC(random_state = RANDOM_STATE),\n",
    "                LogisticRegression(random_state = RANDOM_STATE),\n",
    "                AdaBoostClassifier(random_state = RANDOM_STATE),\n",
    "                CatBoostClassifier(random_state = RANDOM_STATE)]\n",
    "}"
   ]
  },
  {
   "cell_type": "code",
   "execution_count": null,
   "id": "df88e81e",
   "metadata": {},
   "outputs": [],
   "source": [
    "# инициализация переменной 'param_distributions' для хранения распределения значений гиперпараметров\n",
    "param_distributions = [\n",
    "    {\n",
    "        'models' : [KNeighborsClassifier()],\n",
    "        'models__n_neighbors' : range(1, 20)\n",
    "    },\n",
    "    {\n",
    "        'models' : [DecisionTreeClassifier(random_state = RANDOM_STATE)],\n",
    "        'models__max_depth' : range(2, 11),\n",
    "        'models__min_samples_split' : range(2, 6),\n",
    "        'models__min_samples_leaf' : range(2, 6)\n",
    "    },\n",
    "    {\n",
    "        'models' : [SVC(random_state = RANDOM_STATE, probability = True)]\n",
    "    },\n",
    "    {\n",
    "        'models' : [LogisticRegression(random_state = RANDOM_STATE)]\n",
    "    },\n",
    "    {\n",
    "        'models' : [AdaBoostClassifier(random_state = RANDOM_STATE)],\n",
    "        'models__n_estimators' : range(40, 50)\n",
    "    },\n",
    "    {\n",
    "        'models' : [CatBoostClassifier(random_state = RANDOM_STATE)],\n",
    "        'models__depth' : range(5, 10)\n",
    "    }\n",
    "    \n",
    "]"
   ]
  },
  {
   "cell_type": "markdown",
   "id": "b2b7cd3b",
   "metadata": {},
   "source": [
    "Данный блок характеризуется следующими последовательными действиями:\n",
    "\n",
    "1. Проведено разделение исходного набора - `train_data` - на область признаков и вектор целевой переменной - инициализация переменных **X** и **y** соответственно;\n",
    "2. Сформированы обучающая и валидационная выборки в соотношении **75:25** - инициализация переменных **X_train**, **X_valid**, **y_train**, **y_valid**;\n",
    "3. Проведено формирование пайплайна обработки данных и обучения моделей классификации данных. Инициализирована переменная **final_pipeline**;\n",
    "4. Инициализирована переменная **param_distributions** для хранения моделей и их гиперпараметров для последующего выбора лучшей."
   ]
  },
  {
   "cell_type": "markdown",
   "id": "7f34bccd",
   "metadata": {},
   "source": [
    "### Выбор оптимальной модели <a class = 'anchor' id = 'Моделирование_обучение'></a>"
   ]
  },
  {
   "cell_type": "markdown",
   "id": "b28d1cd8",
   "metadata": {},
   "source": [
    "Данный блок характеризуется следующими последовательными действиями:\n",
    "\n",
    "1. Выбор оптимальной модели из набора с перебором параметров и поиском по сетке - **GridSearchCV**. Вывод на экран наименования лучшей модели и значения метрики качества;\n",
    "2. Построение матрицы ошибок для оценки эффективности модели;\n",
    "3. Формирование вывода по итогам данного этапа."
   ]
  },
  {
   "cell_type": "code",
   "execution_count": null,
   "id": "cd9e2a6e",
   "metadata": {},
   "outputs": [],
   "source": [
    "grid_withParams = GridSearchCV(\n",
    "    final_pipeline,\n",
    "    param_grid = param_distributions,\n",
    "    cv = 5,\n",
    "    scoring = 'recall',\n",
    "    n_jobs = -1\n",
    ")\n",
    "\n",
    "# обучение модели на тренировочном наборе\n",
    "grid_withParams.fit(X_train, y_train)\n",
    "\n",
    "# вывод лучшей модели на экран\n",
    "print('Лучшая модель классификации и ее параметры')\n",
    "print(grid_withParams.best_params_)\n",
    "print()\n",
    "print('Метрика RECALL для лучшей модели')\n",
    "print(round(grid_withParams.best_score_, 2))"
   ]
  },
  {
   "cell_type": "code",
   "execution_count": null,
   "id": "73687377",
   "metadata": {},
   "outputs": [],
   "source": [
    "# проверка качества модели на валидационной выборке\n",
    "y_pred = grid_withParams.predict_proba(X_valid)\n",
    "print('Метрика RECALL для лучшей модели на ВАЛИДАЦИОННОЙ выборке:', round(recall_score(y_valid, y_pred[:, 1]), 2))\n",
    "print('Метрика ROC_AUC для лучшей модели на ВАЛИДАЦИОННОЙ выборке:', round(roc_auc_score(y_valid, y_pred[:, 1]), 2))"
   ]
  },
  {
   "cell_type": "code",
   "execution_count": null,
   "id": "7ee69196",
   "metadata": {},
   "outputs": [],
   "source": [
    "# построение матрицы ошибок\n",
    "cm = confusion_matrix(y_valid, grid_withParams.predict(X_valid))\n",
    "\n",
    "print('Метрика Precision для результатов модели K-ближайших соседей:', round(precision_score(y_valid, grid_withParams.predict(X_valid)), 2))\n",
    "print('Метрика Recall для результатов модели K-ближайших соседей:', round(recall_score(y_valid, grid_withParams.predict(X_valid)), 2))\n",
    "\n",
    "\n",
    "sns.heatmap(cm, annot = True, fmt= 'd', cmap = 'Blues_r')\n",
    "plt.ylabel('Истинные значения')\n",
    "plt.xlabel('Прогнозные значения')\n",
    "plt.title('Матрица ошибок результатов модели K-ближайших соседей')\n",
    "plt.show()"
   ]
  },
  {
   "cell_type": "markdown",
   "id": "7494d914",
   "metadata": {},
   "source": [
    "**Вывод**\n",
    "\n",
    "1. Произведен выбор оптимальной модели из набора С перебором параметров и поиском по сетке - **GridSearchCV**. Лучшая модель и ее параметры:\n",
    "    * **KNeighborsClassifier**;\n",
    "    * **n_neighbors = 1**.\n",
    "2. Построена матрица ошибок для оценки эффективности модели:\n",
    "    * Значения TP - 325;\n",
    "    * Значения TN - 979;\n",
    "    * Значения FP - 434;\n",
    "    * Значения FN - 426;\n",
    "    * Всего значений в выборке - 2 164.\n",
    "3. Произведена оценка качества работы модели KNeighborsClassifier на тестовой выборке:\n",
    "    * Precision - 0.43;\n",
    "    * Recall - 0.43;\n",
    "    * ROC-AUC - 0.56.\n",
    "\n",
    "\n",
    "При выборе в качестве метрики оптимизации и поиска лучшей модели классификации **RECALL** лучшей моделью **определяется поиск K-ближайших соседей**.\n",
    "\n",
    "Модель примерно в одинаковой степени раздает метки наличия и отсутствия у пациентов сердечных заболеваний на основании схожести их медицинских показателей.\n",
    "\n",
    "При этом, перед обучением моделей из набора данных были исключены признаки:\n",
    "* **troponin**, имевший заметную корреляцию с признаком **ck-mb**;\n",
    "* **gender**, имевший заметную корреляцию с признаком **smoking**.\n",
    "\n",
    "Исключение показателя **gender** было призвано исключить привязку модели к полу пациента, так как большинство представленных пациентов в наборе - это мужчины; и большинство курящих пациентов - это так же, мужчины.\n",
    "\n",
    "----\n",
    "\n",
    "При этом, альтернативным вариантом выбора лучшей модели была оптимизация **метрики ROC_AUC**. В данном случае лучшей моделью выбиралась **CatBoost**.\n",
    "\n",
    "Данный вариант имел отличные показатели по классификации ИСТИННО ЛОЖНЫХ результатов, однако данная модель давала плохие результаты по выявлению болезни сердца у пациента - выдавала ложно отрицательные результаты, когда на самом деле пациент имел проблемы с сердцем.\n",
    "\n",
    "Понимая, что от подобных результатов модели классификации зависят жизни пациентов, было принято отказаться от модели **CatBoost**, несмотря на удовлетворительные статистические показатели."
   ]
  },
  {
   "cell_type": "markdown",
   "id": "5123194f",
   "metadata": {},
   "source": [
    "### Прогноз риска болезни сердца на тестовом наборе <a class = 'anchor' id = 'Моделирование_Прогноз'></a>"
   ]
  },
  {
   "cell_type": "markdown",
   "id": "4ed7cc18",
   "metadata": {},
   "source": [
    "Данный блок характеризуется следующими последовательными действиями:\n",
    "\n",
    "1. Построение прогноза риска развития сердечных заболеваний на наборе `test_features` с помощью лучшей модели, выбранной на GridSearch. Инициализация переменной **predictions**;\n",
    "2. Выгрузка прогнозных значений в директорию проекта в формате .csv"
   ]
  },
  {
   "cell_type": "code",
   "execution_count": null,
   "id": "7ad92343",
   "metadata": {},
   "outputs": [],
   "source": [
    "# построение прогноза на тестовой выборке\n",
    "predictions = grid_withParams.predict(test_features)\n",
    "\n",
    "# сохранение получившегося прогноза в файл .csv\n",
    "np.savetxt('heart_attack_risk.csv', predictions , delimiter = ',')"
   ]
  },
  {
   "cell_type": "markdown",
   "id": "b6d0cb63",
   "metadata": {},
   "source": [
    "**Вывод**\n",
    "\n",
    "1. Построен прогноз риска развития сердечных заболеваний на наборе `test_features` с помощью лучшей модели, выбранной на GridSearch;\n",
    "2. Произведена выгрузка прогнозных значений в директорию проекта в формате .csv"
   ]
  },
  {
   "cell_type": "markdown",
   "id": "ff1117e2",
   "metadata": {},
   "source": [
    "## Общий вывод <a class = 'anchor' id = 'Вывод'></a>"
   ]
  },
  {
   "cell_type": "markdown",
   "id": "61f87200",
   "metadata": {},
   "source": [
    "1. Импортированы библиотеки Python:\n",
    "    * для манипулирования данными:\n",
    "        * pandas;\n",
    "        * numpy.\n",
    "    * для визуализации данных:\n",
    "        * matplotlib.pyplot;\n",
    "        * seaborn.\n",
    "    * для решения задач машинного обучения:\n",
    "        * LogisticRegression - модель логистической регрессии;\n",
    "        * KNeighborsClassifier - модель k-ближайших соседей;\n",
    "        * SVC - машина опорных векторов;\n",
    "        * DecisionTreeClassifier - модель дерева принятия решений для классификации данных;\n",
    "        * AdaBoostClassifier - модель градиентного бустинга на деревьях решений;\n",
    "        * CatBoostClassifier - модель градиентного бустинга на деревьях решений;\n",
    "        * recall_score, precision_score, confusion_matrix, roc_auc_score - метрики оценки эффективности моделей;\n",
    "        * train_test_split - механизм разделения данных;\n",
    "        * GridSearchCV - механизм поиска гиперпараметров с перебором по \"сетке\";\n",
    "        * Pipeline - механизм построения пайплайнов.\n",
    "2. Инициализированы переменные **RANDOM_STATE** и **TEST_SIZE** для фиксирования \"случайности\" и установки размера валидационной выборки;\n",
    "3. Произведена загрузка данных в рабочую среду Jupyter Notebook. Инициализированы переменные в соответствие с названиями загружаемых датасетов:\n",
    "    * `train_data`;\n",
    "    * `test_features`.\n",
    "4. Выведены на экран параметры датасетов:\n",
    "    * `train_data`\n",
    "        * В наборе данных **имеются пустые значения** по признакам:\n",
    "            * **Diabetes**;\n",
    "            * **Family History**;\n",
    "            * **Smoking**;\n",
    "            * **Obesity**;\n",
    "            * **Alcohol Consumption**;\n",
    "            * **Previous Heart Problems**;\n",
    "            * **Medication Use**;\n",
    "            * **Stress level**;\n",
    "            * **Physical Activity Days Per Week**.\n",
    "        * Признаки нуждаются в предобработке. Типы данных не соответствуют содержанию:\n",
    "            * **Дискретные признаки необходимо привести к целочисленному типу**;\n",
    "            * Бинарные признаки необходимо привести к единому типу - целочисленному (например, **Gender**)\n",
    "        * Названия столбцов **не соответствуют формату snake_case**;\n",
    "        * Наблюдаются выбросы по признакам:\n",
    "            * **Heart rate**;\n",
    "            * **Troponin**;\n",
    "            * **Blood sugar**;\n",
    "            * **CK-MB**.\n",
    "    * `test_features`\n",
    "        * В наборе данных **имеются пустые значения** по признакам:\n",
    "            * **Diabetes**;\n",
    "            * **Family History**;\n",
    "            * **Smoking**;\n",
    "            * **Obesity**;\n",
    "            * **Alcohol Consumption**;\n",
    "            * **Previous Heart Problems**;\n",
    "            * **Medication Use**;\n",
    "            * **Stress level**;\n",
    "            * **Physical Activity Days Per Week**.\n",
    "        * Признаки нуждаются в предобработке. Типы данных не соответствуют содержанию:\n",
    "            * **Дискретные признаки необходимо привести к целочисленному типу**;\n",
    "            * Бинарные признаки необходимо привести к единому типу - целочисленному (например, **Gender**)\n",
    "        * Названия столбцов **не соответствуют формату snake_case**;\n",
    "        * Наблюдаются выбросы по признакам:\n",
    "            * **Heart rate**;\n",
    "            * **Troponin**;\n",
    "            * **Blood sugar**;\n",
    "            * **CK-MB**.\n",
    "5. Заголовки наборов данных **приведены к стилю написания 'snake_case'**;\n",
    "6. Проведено преобразование типов данных. Дискретные количественнные признаки преобразованы к целочисленному типу;\n",
    "7. Проведена обработка пропущенных значений в столбцах наборов данных. Большая часть пропусков была заменена на \"0\" по причине того, что пациент решил явно не указывать о себе информацию в анкете. Пропущенные значения по признаку **stress_rate** были заменены на медианное значение по датасету;\n",
    "8. Выполнена проверка наборов данных на дубликаты:\n",
    "    * **Явные дубликаты** - явные дубликаты **не обнаружены**; \n",
    "    * **Неявные дубликаты** - неявные дубликаты **не обнаружены**.\n",
    "9. Исследование соотношения количества значений качественных показателей\n",
    "    \n",
    "    В целом, значения категориальных признаков в наборе `train_data` соотнесены в равных пропорциях.\n",
    "\n",
    "    Явный дисбаланс значений наблюдается в следующих признаках:\n",
    "    * **gender** - соотношение пациентов по полу: **68% мужчин и 32% женщин**;\n",
    "    * **diabetes** - соотношение пациентов по наличию диабета: **63% с диабетом и 37% без**;\n",
    "    * **smoking** - соотношение пациентов по привычке курения: **88% курящих и 12% не курящих**;\n",
    "    * **diet** - соотношение пациентов по типу диеты: **3 типа диеты придерживаются только 3% пациентов, остальные 97% - распределены по другим типам диет**;\n",
    "    * **heart_attack_risk_(binary)** - соотношение пациентов по риску развития заболеваний сердца: **65% пациентов подвержены риску заболевания и 35% - нет**.\n",
    "\n",
    "    Таким образом, подобное соотношение значений в признаках и целевой переменной накладывает определенные ограничения на выбор моделей классификации данных и метрик их оценки:\n",
    "    * ROC-AUC;\n",
    "    * F1-мера;\n",
    "    * Confusion Matrix;\n",
    "10. Исследование распределения количественных показателей наборов. Построение **гистограмм распределения значений**:\n",
    "    В целом, нормализованные количественные показатели находятся в границах допустимых значений.\n",
    "\n",
    "    Аномально большие или минимальные значения наблюдаются в следующих признаках:\n",
    "    * **heart_rate** - доля значений, **выходящих за верхнюю границу: 0.02%**;\n",
    "    * **blood_sugar** - доля значений, **выходящих за нижнюю границу: 16.34%**. Доля значений, **выходящих за верхнюю границу: 8.23%**;\n",
    "    * **ck-mb** - доля значений, **выходящих за нижнюю границу: 21.21%**. Доля значений, **выходящих за верхнюю границу: 3.36%**;\n",
    "    * **troponin** - доля значений, **выходящих за нижнюю границу: 20.29%**. Доля значений, **выходящих за верхнюю границу: 4.28%**;\n",
    "\n",
    "    **Дополнительных преобразований количественных значений не требуется**\n",
    "11. Произведена фильтрация набора данных `train_data` - исключены аномально большие значения;\n",
    "12. Построена матрица корреляции Спирмана между признаками набора данных и целевой переменной;\n",
    "13. Обнаружена умеренная взаимосвязь между признаками:\n",
    "    * **gender** и **smoking** - 0.54;\n",
    "    * **troponin** и **ck-mb** - 0.45\n",
    "\n",
    "Из набора исключены признаки **troponin** и **gender**.\n",
    "\n",
    "14. Сильно коррелирующих признаков между собой и целевой переменной **не обнаружено**. Набор данных подготовлен к последующему использованию в алгоритмах моделей машинного обучения.\n",
    "15. Проведено разделение исходного набора - `train_data` - на область признаков и вектор целевой переменной - инициализация переменных **X** и **y** соответственно;\n",
    "16. Сформированы обучающая и валидационная выборки в соотношении **75:25** - инициализация переменных **X_train**, **X_valid**, **y_train**, **y_valid**;\n",
    "17. Проведено формирование пайплайна обработки данных и обучения моделей классификации данных. Инициализирована переменная **final_pipeline**;\n",
    "18. Инициализирована переменная **param_distributions** для хранения моделей и их гиперпараметров для последующего выбора лучшей;\n",
    "19. Произведен выбор оптимальной модели из набора С перебором параметров и поиском по сетке - **GridSearchCV**. Лучшая модель и ее параметры:\n",
    "    * **KNeighborsClassifier**;\n",
    "    * **n_neighbors = 1**.\n",
    "20. Построена матрица ошибок для оценки эффективности модели:\n",
    "    * Значения TP - 325;\n",
    "    * Значения TN - 979;\n",
    "    * Значения FP - 434;\n",
    "    * Значения FN - 426;\n",
    "    * Всего значений в выборке - 2 164.\n",
    "21. Произведена оценка качества работы модели KNeighborsClassifier на тестовой выборке:\n",
    "    * Precision - 0.43;\n",
    "    * Recall - 0.43;\n",
    "    * ROC-AUC - 0.56.\n",
    "22. Произведена выгрузка результатов прогнозирования риска заболеваний сердца на наборе `test_features`.\n"
   ]
  }
 ],
 "metadata": {
  "kernelspec": {
   "display_name": ".py_env",
   "language": "python",
   "name": "python3"
  },
  "language_info": {
   "codemirror_mode": {
    "name": "ipython",
    "version": 3
   },
   "file_extension": ".py",
   "mimetype": "text/x-python",
   "name": "python",
   "nbconvert_exporter": "python",
   "pygments_lexer": "ipython3",
   "version": "3.12.10"
  }
 },
 "nbformat": 4,
 "nbformat_minor": 5
}
